{
 "cells": [
  {
   "cell_type": "code",
   "execution_count": 69,
   "metadata": {},
   "outputs": [],
   "source": [
    "import pandas as pd"
   ]
  },
  {
   "cell_type": "code",
   "execution_count": 70,
   "metadata": {},
   "outputs": [],
   "source": [
    "dtype_dict = {'bathrooms':float, 'waterfront':int, 'sqft_above':int, 'sqft_living15':float, 'grade':int, 'yr_renovated':int, 'price':float, 'bedrooms':float, 'zipcode':str, 'long':float, 'sqft_lot15':float, 'sqft_living':float, 'floors':float, 'condition':int, 'lat':float, 'date':str, 'sqft_basement':int, 'yr_built':int, 'id':str, 'sqft_lot':int, 'view':int}\n",
    "\n",
    "sales = pd.read_csv('kc_house_data.csv', dtype=dtype_dict)"
   ]
  },
  {
   "cell_type": "code",
   "execution_count": 71,
   "metadata": {},
   "outputs": [],
   "source": [
    "from math import log, sqrt"
   ]
  },
  {
   "cell_type": "code",
   "execution_count": 72,
   "metadata": {},
   "outputs": [],
   "source": [
    "sales['sqft_living_sqrt'] = sales['sqft_living'].apply(sqrt)\n",
    "sales['sqft_lot_sqrt'] = sales['sqft_lot'].apply(sqrt)\n",
    "sales['bedrooms_square'] = sales['bedrooms']*sales['bedrooms']\n",
    "sales['floors_square'] = sales['floors']*sales['floors']"
   ]
  },
  {
   "cell_type": "code",
   "execution_count": 73,
   "metadata": {},
   "outputs": [
    {
     "data": {
      "text/plain": [
       "Index(['id', 'date', 'price', 'bedrooms', 'bathrooms', 'sqft_living',\n",
       "       'sqft_lot', 'floors', 'waterfront', 'view', 'condition', 'grade',\n",
       "       'sqft_above', 'sqft_basement', 'yr_built', 'yr_renovated', 'zipcode',\n",
       "       'lat', 'long', 'sqft_living15', 'sqft_lot15', 'sqft_living_sqrt',\n",
       "       'sqft_lot_sqrt', 'bedrooms_square', 'floors_square'],\n",
       "      dtype='object')"
      ]
     },
     "execution_count": 73,
     "metadata": {},
     "output_type": "execute_result"
    }
   ],
   "source": [
    "sales.columns"
   ]
  },
  {
   "cell_type": "code",
   "execution_count": 74,
   "metadata": {},
   "outputs": [],
   "source": [
    "from sklearn import linear_model"
   ]
  },
  {
   "cell_type": "code",
   "execution_count": 75,
   "metadata": {},
   "outputs": [],
   "source": [
    "import numpy as np"
   ]
  },
  {
   "cell_type": "code",
   "execution_count": 76,
   "metadata": {},
   "outputs": [],
   "source": [
    "all_features = ['bedrooms', 'bedrooms_square',\n",
    "            'bathrooms',\n",
    "            'sqft_living', 'sqft_living_sqrt',\n",
    "            'sqft_lot', 'sqft_lot_sqrt',\n",
    "            'floors', 'floors_square',\n",
    "            'waterfront', 'view', 'condition', 'grade',\n",
    "            'sqft_above',\n",
    "            'sqft_basement',\n",
    "            'yr_built', 'yr_renovated']\n"
   ]
  },
  {
   "cell_type": "code",
   "execution_count": 77,
   "metadata": {},
   "outputs": [],
   "source": [
    "model_all = linear_model.Lasso(alpha=5e2, normalize=True)"
   ]
  },
  {
   "cell_type": "code",
   "execution_count": 78,
   "metadata": {},
   "outputs": [
    {
     "data": {
      "text/plain": [
       "Lasso(alpha=500.0, copy_X=True, fit_intercept=True, max_iter=1000,\n",
       "      normalize=True, positive=False, precompute=False, random_state=None,\n",
       "      selection='cyclic', tol=0.0001, warm_start=False)"
      ]
     },
     "execution_count": 78,
     "metadata": {},
     "output_type": "execute_result"
    }
   ],
   "source": [
    "model_all.fit(sales[all_features], sales['price'])"
   ]
  },
  {
   "cell_type": "code",
   "execution_count": 79,
   "metadata": {},
   "outputs": [],
   "source": [
    "predicted = model_all.predict(sales[all_features])"
   ]
  },
  {
   "cell_type": "code",
   "execution_count": 80,
   "metadata": {},
   "outputs": [],
   "source": [
    "errors = predicted - sales['price']"
   ]
  },
  {
   "cell_type": "code",
   "execution_count": 81,
   "metadata": {},
   "outputs": [
    {
     "data": {
      "text/plain": [
       "1439386143411746.0"
      ]
     },
     "execution_count": 81,
     "metadata": {},
     "output_type": "execute_result"
    }
   ],
   "source": [
    "rss_train = np.sum(errors * errors)\n",
    "rss_train"
   ]
  },
  {
   "cell_type": "markdown",
   "metadata": {},
   "source": [
    "### Quiz Question: Which features have been chosen by LASSO, i.e. which features were assigned nonzero weights?"
   ]
  },
  {
   "cell_type": "code",
   "execution_count": 82,
   "metadata": {},
   "outputs": [
    {
     "data": {
      "text/plain": [
       "array([    0.        ,     0.        ,     0.        ,   134.43931396,\n",
       "           0.        ,     0.        ,     0.        ,     0.        ,\n",
       "           0.        ,     0.        , 24750.00458561,     0.        ,\n",
       "       61749.10309071,     0.        ,     0.        ,    -0.        ,\n",
       "           0.        ])"
      ]
     },
     "execution_count": 82,
     "metadata": {},
     "output_type": "execute_result"
    }
   ],
   "source": [
    "model_all.coef_"
   ]
  },
  {
   "cell_type": "code",
   "execution_count": 83,
   "metadata": {},
   "outputs": [],
   "source": [
    "non_zeros_features = [(all_features[i], model_all.coef_[i]) \n",
    "                      for i in range(len(all_features)) if model_all.coef_[i] != 0.0]"
   ]
  },
  {
   "cell_type": "code",
   "execution_count": 84,
   "metadata": {},
   "outputs": [
    {
     "data": {
      "text/plain": [
       "[('sqft_living', 134.43931395541435),\n",
       " ('view', 24750.004585609502),\n",
       " ('grade', 61749.10309070815)]"
      ]
     },
     "execution_count": 84,
     "metadata": {},
     "output_type": "execute_result"
    }
   ],
   "source": [
    "non_zeros_features"
   ]
  },
  {
   "cell_type": "code",
   "execution_count": 85,
   "metadata": {},
   "outputs": [],
   "source": [
    "def add_more_features(dataset):\n",
    "    dataset['sqft_living_sqrt'] = dataset['sqft_living'].apply(sqrt)\n",
    "    dataset['sqft_lot_sqrt'] = dataset['sqft_lot'].apply(sqrt)\n",
    "    dataset['bedrooms_square'] = dataset['bedrooms']*dataset['bedrooms']\n",
    "    dataset['floors_square'] = dataset['floors']*dataset['floors']"
   ]
  },
  {
   "cell_type": "code",
   "execution_count": 86,
   "metadata": {},
   "outputs": [],
   "source": [
    "testing = pd.read_csv('wk3_kc_house_test_data.csv', dtype=dtype_dict)\n",
    "training = pd.read_csv('wk3_kc_house_train_data.csv', dtype=dtype_dict)\n",
    "validation = pd.read_csv('wk3_kc_house_valid_data.csv', dtype=dtype_dict)"
   ]
  },
  {
   "cell_type": "code",
   "execution_count": 87,
   "metadata": {},
   "outputs": [],
   "source": [
    "add_more_features(testing)\n",
    "add_more_features(training)\n",
    "add_more_features(validation)"
   ]
  },
  {
   "cell_type": "code",
   "execution_count": 88,
   "metadata": {},
   "outputs": [
    {
     "data": {
      "text/plain": [
       "Index(['id', 'date', 'price', 'bedrooms', 'bathrooms', 'sqft_living',\n",
       "       'sqft_lot', 'floors', 'waterfront', 'view', 'condition', 'grade',\n",
       "       'sqft_above', 'sqft_basement', 'yr_built', 'yr_renovated', 'zipcode',\n",
       "       'lat', 'long', 'sqft_living15', 'sqft_lot15', 'sqft_living_sqrt',\n",
       "       'sqft_lot_sqrt', 'bedrooms_square', 'floors_square'],\n",
       "      dtype='object')"
      ]
     },
     "execution_count": 88,
     "metadata": {},
     "output_type": "execute_result"
    }
   ],
   "source": [
    "validation.columns"
   ]
  },
  {
   "cell_type": "markdown",
   "metadata": {},
   "source": [
    "### Quiz Question: Which was the best value for the l1_penalty, i.e. which value of l1_penalty produced the lowest RSS on VALIDATION data?"
   ]
  },
  {
   "cell_type": "code",
   "execution_count": 89,
   "metadata": {},
   "outputs": [
    {
     "name": "stdout",
     "output_type": "stream",
     "text": [
      "l1_penalty =        10.00, rss_errors = 398213327300135\n",
      "l1_penalty =        31.62, rss_errors = 399041900253347\n",
      "l1_penalty =       100.00, rss_errors = 429791604072560\n",
      "l1_penalty =       316.23, rss_errors = 463739831045121\n",
      "l1_penalty =      1000.00, rss_errors = 645898733633801\n",
      "l1_penalty =      3162.28, rss_errors = 1222506859427163\n",
      "l1_penalty =     10000.00, rss_errors = 1222506859427163\n",
      "l1_penalty =     31622.78, rss_errors = 1222506859427163\n",
      "l1_penalty =    100000.00, rss_errors = 1222506859427163\n",
      "l1_penalty =    316227.77, rss_errors = 1222506859427163\n",
      "l1_penalty =   1000000.00, rss_errors = 1222506859427163\n",
      "l1_penalty =   3162277.66, rss_errors = 1222506859427163\n",
      "l1_penalty =  10000000.00, rss_errors = 1222506859427163\n",
      "Best l1_penalty =        10.00, min rss_errors = 398213327300135\n"
     ]
    }
   ],
   "source": [
    "best_l1_penalty = None\n",
    "min_rss_errors = None\n",
    "\n",
    "for l1_penalty in np.logspace(1, 7, num=13):\n",
    "    cur_model = linear_model.Lasso(alpha=l1_penalty, normalize=True)\n",
    "    cur_model.fit(training[all_features], training['price'])\n",
    "    validation_prediction = cur_model.predict(validation[all_features])\n",
    "    validation_errors = validation_prediction - validation['price']\n",
    "    rss_errors = np.sum(validation_errors * validation_errors)\n",
    "    if (min_rss_errors == None or min_rss_errors > rss_errors):\n",
    "        min_rss_errors = rss_errors\n",
    "        best_l1_penalty = l1_penalty\n",
    "    print (\"l1_penalty = %12.2f, rss_errors = %015.0f\" % (l1_penalty, rss_errors))\n",
    "    \n",
    "print (\"Best l1_penalty = %12.2f, min rss_errors = %15.0f\" % (best_l1_penalty, min_rss_errors))"
   ]
  },
  {
   "cell_type": "markdown",
   "metadata": {},
   "source": [
    "### Rss with best l1 penalty on test set"
   ]
  },
  {
   "cell_type": "code",
   "execution_count": 90,
   "metadata": {},
   "outputs": [],
   "source": [
    "model = linear_model.Lasso(alpha=best_l1_penalty, normalize=True)"
   ]
  },
  {
   "cell_type": "code",
   "execution_count": 91,
   "metadata": {},
   "outputs": [
    {
     "data": {
      "text/plain": [
       "Lasso(alpha=10.0, copy_X=True, fit_intercept=True, max_iter=1000,\n",
       "      normalize=True, positive=False, precompute=False, random_state=None,\n",
       "      selection='cyclic', tol=0.0001, warm_start=False)"
      ]
     },
     "execution_count": 91,
     "metadata": {},
     "output_type": "execute_result"
    }
   ],
   "source": [
    "model.fit(training[all_features], training['price'])"
   ]
  },
  {
   "cell_type": "code",
   "execution_count": 92,
   "metadata": {},
   "outputs": [
    {
     "data": {
      "text/plain": [
       "98467402552698.78"
      ]
     },
     "execution_count": 92,
     "metadata": {},
     "output_type": "execute_result"
    }
   ],
   "source": [
    "test_prediction = model.predict(testing[all_features])\n",
    "test_errors = test_prediction - testing['price']\n",
    "rss_test = np.sum(test_errors * test_errors)\n",
    "rss_test"
   ]
  },
  {
   "cell_type": "markdown",
   "metadata": {},
   "source": [
    "### 8. Quiz Question: Using the best L1 penalty, how many nonzero weights do you have? Count the number of nonzero coefficients first, and add 1 if the intercept is also nonzero. A succinct way to do this is\n",
    "\n"
   ]
  },
  {
   "cell_type": "code",
   "execution_count": 93,
   "metadata": {},
   "outputs": [
    {
     "data": {
      "text/plain": [
       "15"
      ]
     },
     "execution_count": 93,
     "metadata": {},
     "output_type": "execute_result"
    }
   ],
   "source": [
    "np.count_nonzero(model.coef_) + np.count_nonzero(model.intercept_)"
   ]
  },
  {
   "cell_type": "code",
   "execution_count": 94,
   "metadata": {},
   "outputs": [
    {
     "data": {
      "text/plain": [
       "17"
      ]
     },
     "execution_count": 94,
     "metadata": {},
     "output_type": "execute_result"
    }
   ],
   "source": [
    "len(all_features)"
   ]
  },
  {
   "cell_type": "markdown",
   "metadata": {},
   "source": [
    "### Limit to 7 features"
   ]
  },
  {
   "cell_type": "code",
   "execution_count": 95,
   "metadata": {},
   "outputs": [],
   "source": [
    "max_nonzeros = 7"
   ]
  },
  {
   "cell_type": "code",
   "execution_count": 96,
   "metadata": {},
   "outputs": [],
   "source": [
    "penalty_and_nrs = []\n",
    "\n",
    "for l1_penalty in np.logspace(1, 4, num=20):\n",
    "    cur_model = linear_model.Lasso(alpha=l1_penalty, normalize=True)\n",
    "    cur_model.fit(training[all_features], training['price'])\n",
    "    nonzeros = np.count_nonzero(cur_model.coef_) + np.count_nonzero(cur_model.intercept_)\n",
    "    penalty_and_nrs += [(l1_penalty, nonzeros)]\n",
    "    "
   ]
  },
  {
   "cell_type": "code",
   "execution_count": 97,
   "metadata": {},
   "outputs": [
    {
     "data": {
      "text/plain": [
       "[(10.0, 15),\n",
       " (14.38449888287663, 15),\n",
       " (20.6913808111479, 15),\n",
       " (29.76351441631318, 15),\n",
       " (42.81332398719393, 13),\n",
       " (61.58482110660264, 12),\n",
       " (88.58667904100822, 11),\n",
       " (127.42749857031335, 10),\n",
       " (183.29807108324357, 7),\n",
       " (263.6650898730358, 6),\n",
       " (379.26901907322497, 6),\n",
       " (545.5594781168514, 6),\n",
       " (784.7599703514607, 5),\n",
       " (1128.8378916846884, 3),\n",
       " (1623.776739188721, 3),\n",
       " (2335.7214690901214, 2),\n",
       " (3359.818286283781, 1),\n",
       " (4832.930238571752, 1),\n",
       " (6951.927961775606, 1),\n",
       " (10000.0, 1)]"
      ]
     },
     "execution_count": 97,
     "metadata": {},
     "output_type": "execute_result"
    }
   ],
   "source": [
    "penalty_and_nrs"
   ]
  },
  {
   "cell_type": "markdown",
   "metadata": {},
   "source": [
    "### Quiz Question: What values did you find for l1_penalty_min and l1_penalty_max?\n"
   ]
  },
  {
   "cell_type": "code",
   "execution_count": 98,
   "metadata": {},
   "outputs": [
    {
     "data": {
      "text/plain": [
       "127.42749857031335"
      ]
     },
     "execution_count": 98,
     "metadata": {},
     "output_type": "execute_result"
    }
   ],
   "source": [
    "l1_penalty_min = max(s[0] for s in penalty_and_nrs if s[1] > max_nonzeros)\n",
    "l1_penalty_min"
   ]
  },
  {
   "cell_type": "code",
   "execution_count": 99,
   "metadata": {},
   "outputs": [
    {
     "data": {
      "text/plain": [
       "263.6650898730358"
      ]
     },
     "execution_count": 99,
     "metadata": {},
     "output_type": "execute_result"
    }
   ],
   "source": [
    "l1_penalty_max = min(s[0] for s in penalty_and_nrs if s[1] < max_nonzeros)\n",
    "l1_penalty_max"
   ]
  },
  {
   "cell_type": "markdown",
   "metadata": {},
   "source": [
    "### Find the model that the lowest RSS on the VALIDATION set and has sparsity equal to ‘max_nonzeros’. (Again, take account of the intercept when counting the number of nonzeros.)\n",
    "\n",
    " Quiz Question: What value of l1_penalty in our narrow range has the lowest RSS on the VALIDATION set and has sparsity equal to ‘max_nonzeros’?"
   ]
  },
  {
   "cell_type": "code",
   "execution_count": 100,
   "metadata": {},
   "outputs": [
    {
     "name": "stdout",
     "output_type": "stream",
     "text": [
      "L1 penalty = 127.43, total non zeros = 10\n",
      "L1 penalty = 134.60, total non zeros = 10\n",
      "L1 penalty = 141.77, total non zeros = 8\n",
      "L1 penalty = 148.94, total non zeros = 8\n",
      "L1 penalty = 156.11, total non zeros = 7\n",
      "Rss errors: 440037365263317\n",
      "L1 penalty = 163.28, total non zeros = 7\n",
      "Rss errors: 440777489641605\n",
      "L1 penalty = 170.45, total non zeros = 7\n",
      "Rss errors: 441566698090140\n",
      "L1 penalty = 177.62, total non zeros = 7\n",
      "Rss errors: 442406413188666\n",
      "L1 penalty = 184.79, total non zeros = 7\n",
      "Rss errors: 443296716874315\n",
      "L1 penalty = 191.96, total non zeros = 7\n",
      "Rss errors: 444239780526142\n",
      "L1 penalty = 199.13, total non zeros = 7\n",
      "Rss errors: 445230739842614\n",
      "L1 penalty = 206.30, total non zeros = 6\n",
      "L1 penalty = 213.47, total non zeros = 6\n",
      "L1 penalty = 220.64, total non zeros = 6\n",
      "L1 penalty = 227.81, total non zeros = 6\n",
      "L1 penalty = 234.98, total non zeros = 6\n",
      "L1 penalty = 242.15, total non zeros = 6\n",
      "L1 penalty = 249.32, total non zeros = 6\n",
      "L1 penalty = 256.49, total non zeros = 6\n",
      "L1 penalty = 263.67, total non zeros = 6\n",
      "best l1_penalty: 156.109097, best_rss errors 440037365263316.562500\n"
     ]
    }
   ],
   "source": [
    "cur_best_l1_penalty = None\n",
    "cur_best_rss_errors = None\n",
    "\n",
    "for l1_penalty in np.linspace(l1_penalty_min, l1_penalty_max, num=20):\n",
    "    cur_model = linear_model.Lasso(alpha=l1_penalty, normalize=True)\n",
    "    cur_model.fit(training[all_features], training['price'])\n",
    "    total_nonzeros = np.count_nonzero(cur_model.coef_) + np.count_nonzero(cur_model.intercept_)\n",
    "    print (\"L1 penalty = %.2f, total non zeros = %d\" % (l1_penalty, total_nonzeros))\n",
    "    \n",
    "    if total_nonzeros == max_nonzeros:\n",
    "        valid_prediction = cur_model.predict(validation[all_features])\n",
    "        valid_errors = valid_prediction - validation['price']\n",
    "        rss_errors = np.sum(valid_errors * valid_errors)\n",
    "        print (\"Rss errors: %15.0f\" % rss_errors)\n",
    "        if (cur_best_rss_errors == None or rss_errors < cur_best_rss_errors):\n",
    "            cur_best_rss_errors = rss_errors\n",
    "            cur_best_l1_penalty = l1_penalty\n",
    "\n",
    "print (\"best l1_penalty: %f, best_rss errors %f\" % (cur_best_l1_penalty, cur_best_rss_errors))"
   ]
  },
  {
   "cell_type": "code",
   "execution_count": 101,
   "metadata": {},
   "outputs": [
    {
     "data": {
      "text/plain": [
       "Lasso(alpha=156.10909673930755, copy_X=True, fit_intercept=True, max_iter=1000,\n",
       "      normalize=True, positive=False, precompute=False, random_state=None,\n",
       "      selection='cyclic', tol=0.0001, warm_start=False)"
      ]
     },
     "execution_count": 101,
     "metadata": {},
     "output_type": "execute_result"
    }
   ],
   "source": [
    "best_fit_model = linear_model.Lasso(cur_best_l1_penalty, normalize=True)\n",
    "best_fit_model.fit(training[all_features], training['price'])"
   ]
  },
  {
   "cell_type": "code",
   "execution_count": 104,
   "metadata": {},
   "outputs": [
    {
     "data": {
      "text/plain": [
       "[('bathrooms', 10610.890284398287),\n",
       " ('sqft_living', 163.3802516476289),\n",
       " ('waterfront', 506451.68711484916),\n",
       " ('view', 41960.04355485288),\n",
       " ('grade', 116253.55369970747),\n",
       " ('yr_built', -2612.234880357487)]"
      ]
     },
     "execution_count": 104,
     "metadata": {},
     "output_type": "execute_result"
    }
   ],
   "source": [
    "non_zeros_features = [(all_features[i], best_fit_model.coef_[i]) \n",
    "                      for i in range(len(all_features)) if best_fit_model.coef_[i] != 0.0]\n",
    "non_zeros_features"
   ]
  },
  {
   "cell_type": "code",
   "execution_count": null,
   "metadata": {},
   "outputs": [],
   "source": []
  }
 ],
 "metadata": {
  "kernelspec": {
   "display_name": "Python [conda env:ds-env] *",
   "language": "python",
   "name": "conda-env-ds-env-py"
  },
  "language_info": {
   "codemirror_mode": {
    "name": "ipython",
    "version": 3
   },
   "file_extension": ".py",
   "mimetype": "text/x-python",
   "name": "python",
   "nbconvert_exporter": "python",
   "pygments_lexer": "ipython3",
   "version": "3.7.3"
  }
 },
 "nbformat": 4,
 "nbformat_minor": 2
}
