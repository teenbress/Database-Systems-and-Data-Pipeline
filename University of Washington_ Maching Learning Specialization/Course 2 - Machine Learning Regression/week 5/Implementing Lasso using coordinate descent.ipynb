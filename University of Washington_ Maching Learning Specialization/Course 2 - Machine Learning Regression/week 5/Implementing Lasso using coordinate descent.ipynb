{
 "cells": [
  {
   "cell_type": "code",
   "execution_count": 375,
   "metadata": {},
   "outputs": [],
   "source": [
    "import pandas as pd\n",
    "import numpy as np\n",
    "import math"
   ]
  },
  {
   "cell_type": "code",
   "execution_count": 376,
   "metadata": {},
   "outputs": [],
   "source": [
    "def get_numpy_data(data_frame, features, output):\n",
    "    selected_data_frame = data_frame[features]\n",
    "    output_array = data_frame[output].to_numpy()\n",
    "    np_selected_data_frame = selected_data_frame.to_numpy()\n",
    "    total_row = np_selected_data_frame.shape[0]\n",
    "    np_ones = np.ones(total_row, dtype=int).reshape(total_row, 1)\n",
    "    \n",
    "    features_array = np.append(np_ones, np_selected_data_frame, axis=1)\n",
    "    \n",
    "    return (features_array, output_array)"
   ]
  },
  {
   "cell_type": "code",
   "execution_count": 377,
   "metadata": {},
   "outputs": [],
   "source": [
    "def predict_outcome(feature_matrix, weights):\n",
    "    return np.dot(feature_matrix, weights)"
   ]
  },
  {
   "cell_type": "code",
   "execution_count": 378,
   "metadata": {},
   "outputs": [],
   "source": [
    "def normalize_features(features):\n",
    "    norms = np.linalg.norm(features, axis=0)\n",
    "    return (features/norms, norms)"
   ]
  },
  {
   "cell_type": "code",
   "execution_count": 379,
   "metadata": {},
   "outputs": [],
   "source": [
    "def lasso_coordinate_descent_step(i, feature_matrix, output, weights, l1_penalty):\n",
    "    # compute prediction\n",
    "    prediction = predict_outcome(feature_matrix, weights)\n",
    "    \n",
    "    # compute ro[i] = SUM[ [feature_i]*(output - prediction + weight[i]*[feature_i]) ]\n",
    "    ro_i = np.sum(feature_matrix[:, i] * (output - prediction + weights[i] * feature_matrix[:, i]))\n",
    "    \n",
    "    if i == 0: # intercept -- do not regularize\n",
    "        new_weight_i = ro_i\n",
    "    elif ro_i < -l1_penalty/2.:\n",
    "        new_weight_i = ro_i + l1_penalty/2\n",
    "    elif ro_i > l1_penalty/2.:\n",
    "        new_weight_i = ro_i - l1_penalty/2\n",
    "    else:\n",
    "        new_weight_i = 0.\n",
    "    \n",
    "    return new_weight_i"
   ]
  },
  {
   "cell_type": "markdown",
   "metadata": {},
   "source": [
    "## Effect of L1 penalty"
   ]
  },
  {
   "cell_type": "markdown",
   "metadata": {},
   "source": [
    "Consider a simple model with 2 features: ‘sqft_living’ and ‘bedrooms’. The output is ‘price’.\n",
    "\n",
    "First, run get_numpy_data() (or equivalent) to obtain a feature matrix with 3 columns (constant column added).\n",
    "- Use the entire ‘sales’ dataset for now.\n",
    "- Normalize columns of the feature matrix. \n",
    "- Save the norms of original features as ‘norms’.\n",
    "- Set initial weights to [1,4,1].\n",
    "- Make predictions with feature matrix and initial weights.\n",
    "- Compute values of ro[i], where\n",
    "\n",
    "```python\n",
    "ro[i] = SUM[ [feature_i]*(output - prediction + w[i]*[feature_i]) ]\n",
    "```\n"
   ]
  },
  {
   "cell_type": "code",
   "execution_count": 423,
   "metadata": {},
   "outputs": [],
   "source": [
    "dtype_dict = {'bathrooms':float, 'waterfront':int, 'sqft_above':int, 'sqft_living15':float, 'grade':int, 'yr_renovated':int, 'price':float, 'bedrooms':float, 'zipcode':str, 'long':float, 'sqft_lot15':float, 'sqft_living':float, 'floors':float, 'condition':int, 'lat':float, 'date':str, 'sqft_basement':int, 'yr_built':int, 'id':str, 'sqft_lot':int, 'view':int}\n",
    "\n",
    "sales = pd.read_csv('kc_house_data.csv', dtype=dtype_dict)\n",
    "\n",
    "(feature_matrix, output) = get_numpy_data(sales, ['sqft_living', 'bedrooms'], 'price')"
   ]
  },
  {
   "cell_type": "code",
   "execution_count": 424,
   "metadata": {},
   "outputs": [],
   "source": [
    "initial_weights = np.array([1.0, 4.0, 1.0])"
   ]
  },
  {
   "cell_type": "code",
   "execution_count": 425,
   "metadata": {},
   "outputs": [],
   "source": [
    "normalized_feature_matrix, norms = normalize_features(feature_matrix)"
   ]
  },
  {
   "cell_type": "code",
   "execution_count": 426,
   "metadata": {},
   "outputs": [],
   "source": [
    "prediction = predict_outcome(normalized_feature_matrix, initial_weights)"
   ]
  },
  {
   "cell_type": "code",
   "execution_count": 427,
   "metadata": {},
   "outputs": [
    {
     "name": "stdout",
     "output_type": "stream",
     "text": [
      "ro_1: 87939471, 2*ro_1: 175878942\n"
     ]
    }
   ],
   "source": [
    "ro_1 = np.sum(normalized_feature_matrix[:, 1] * \n",
    "              (output - prediction + initial_weights[1] * normalized_feature_matrix[:, 1]))\n",
    "print (\"ro_1: %.0f, 2*ro_1: %.0f\" % ( ro_1, 2 * ro_1))"
   ]
  },
  {
   "cell_type": "code",
   "execution_count": 428,
   "metadata": {},
   "outputs": [
    {
     "name": "stdout",
     "output_type": "stream",
     "text": [
      "ro_2: 80966699, 2*ro_2: 161933397\n"
     ]
    }
   ],
   "source": [
    "ro_2 = np.sum(normalized_feature_matrix[:, 2] * \n",
    "              (output - prediction + initial_weights[2] * normalized_feature_matrix[:, 2]))\n",
    "print (\"ro_2: %.0f, 2*ro_2: %.0f\" % ( ro_2, 2 * ro_2))"
   ]
  },
  {
   "cell_type": "code",
   "execution_count": 429,
   "metadata": {},
   "outputs": [
    {
     "name": "stdout",
     "output_type": "stream",
     "text": [
      "0.4255588466910251\n"
     ]
    }
   ],
   "source": [
    "# should print 0.425558846691\n",
    "import math\n",
    "print(lasso_coordinate_descent_step(1, np.array([[3./math.sqrt(13),1./math.sqrt(10)],\n",
    "                   [2./math.sqrt(13),3./math.sqrt(10)]]), np.array([1., 1.]), np.array([1., 4.]), 0.1))"
   ]
  },
  {
   "cell_type": "markdown",
   "metadata": {},
   "source": [
    "### Cyclical coordinate descent\n",
    "\n",
    "Now that we have a function that optimizes the cost function over a single coordinate, let us implement cyclical coordinate descent where we optimize coordinates 0, 1, ..., (d-1) in order and repeat.\n",
    "\n",
    "When do we know to stop? Each time we scan all the coordinates (features) once, we measure the change in weight for each coordinate. If no coordinate changes by more than a specified threshold, we stop.\n",
    "\n",
    "For each iteration:\n",
    "\n",
    "As you loop over features in order and perform coordinate descent, measure how much each coordinate changes.\n",
    "After the loop, if the maximum change across all coordinates is falls below the tolerance, stop. Otherwise, go back to the previous step.\n",
    "Return weights\n",
    "\n",
    "The function should accept the following parameters:\n",
    "\n",
    "Feature matrix\n",
    "Output array\n",
    "Initial weights\n",
    "L1 penalty\n",
    "Tolerance\n",
    "e.g. in Python:"
   ]
  },
  {
   "cell_type": "code",
   "execution_count": 387,
   "metadata": {},
   "outputs": [],
   "source": [
    "def lasso_cyclical_coordinate_descent(feature_matrix, output, initial_weights, l1_penalty, tolerance):\n",
    "    weights = initial_weights.copy()\n",
    "    should_continue = True\n",
    "    iter_cnt = 0\n",
    "    \n",
    "    while should_continue:\n",
    "        max_change = 0.0\n",
    "        for i in range(len(weights)):\n",
    "            old_weight_i = weights[i]\n",
    "            weights[i] = lasso_coordinate_descent_step(i, feature_matrix, output, \n",
    "                                                       weights, l1_penalty)\n",
    "            max_change = max(max_change, abs(weights[i] - old_weight_i))\n",
    "        \n",
    "        iter_cnt += 1\n",
    "        should_continue = max_change >= tolerance\n",
    "        print (\"iter # %d, max_change = %f\" % (iter_cnt, max_change))\n",
    "\n",
    "    return weights"
   ]
  },
  {
   "cell_type": "markdown",
   "metadata": {},
   "source": [
    "Let us now go back to the simple model with 2 features: `sqft_living` and `bedrooms`. Using `get_numpy_data` (or equivalent), extract the feature matrix and the output array from from the house dataframe. Then normalize the feature matrix using `normalized_features()` function.\n",
    "\n",
    "Using the following parameters, learn the weights on the sales dataset.\n",
    "\n",
    "- Initial weights = all zeros\n",
    "- L1 penalty = 1e7\n",
    "- Tolerance = 1.0"
   ]
  },
  {
   "cell_type": "code",
   "execution_count": null,
   "metadata": {},
   "outputs": [],
   "source": []
  },
  {
   "cell_type": "code",
   "execution_count": 388,
   "metadata": {},
   "outputs": [
    {
     "data": {
      "text/plain": [
       "array([[1.00e+00, 1.18e+03, 3.00e+00],\n",
       "       [1.00e+00, 2.57e+03, 3.00e+00],\n",
       "       [1.00e+00, 7.70e+02, 2.00e+00],\n",
       "       ...,\n",
       "       [1.00e+00, 1.02e+03, 2.00e+00],\n",
       "       [1.00e+00, 1.60e+03, 3.00e+00],\n",
       "       [1.00e+00, 1.02e+03, 2.00e+00]])"
      ]
     },
     "execution_count": 388,
     "metadata": {},
     "output_type": "execute_result"
    }
   ],
   "source": [
    "feature_matrix"
   ]
  },
  {
   "cell_type": "code",
   "execution_count": 389,
   "metadata": {},
   "outputs": [],
   "source": [
    "normalized_feature_matrix, _ = normalize_features(feature_matrix)"
   ]
  },
  {
   "cell_type": "code",
   "execution_count": 390,
   "metadata": {},
   "outputs": [],
   "source": [
    "initial_weights = np.zeros(normalized_feature_matrix.shape[1])\n",
    "l1_penalty = 1e7\n",
    "tolerance = 1.0"
   ]
  },
  {
   "cell_type": "code",
   "execution_count": 391,
   "metadata": {
    "scrolled": true
   },
   "outputs": [
    {
     "name": "stdout",
     "output_type": "stream",
     "text": [
      "iter # 1, max_change = 79400304.637645\n",
      "iter # 2, max_change = 9138168.376428\n",
      "iter # 3, max_change = 8194809.518383\n",
      "iter # 4, max_change = 6598905.081920\n",
      "iter # 5, max_change = 5522173.230820\n",
      "iter # 6, max_change = 4621129.840878\n",
      "iter # 7, max_change = 3867108.131826\n",
      "iter # 8, max_change = 3236118.832011\n",
      "iter # 9, max_change = 2708086.957463\n",
      "iter # 10, max_change = 2266213.124388\n",
      "iter # 11, max_change = 1896439.075191\n",
      "iter # 12, max_change = 1587000.413689\n",
      "iter # 13, max_change = 1328052.319738\n",
      "iter # 14, max_change = 1111356.335353\n",
      "iter # 15, max_change = 930018.257393\n",
      "iter # 16, max_change = 778268.797837\n",
      "iter # 17, max_change = 651280.033346\n",
      "iter # 18, max_change = 545011.804423\n",
      "iter # 19, max_change = 456083.177361\n",
      "iter # 20, max_change = 381664.879519\n",
      "iter # 21, max_change = 319389.285747\n",
      "iter # 22, max_change = 267275.092165\n",
      "iter # 23, max_change = 223664.280801\n",
      "iter # 24, max_change = 187169.369584\n",
      "iter # 25, max_change = 156629.269480\n",
      "iter # 26, max_change = 131072.344328\n",
      "iter # 27, max_change = 109685.498149\n",
      "iter # 28, max_change = 91788.306419\n",
      "iter # 29, max_change = 76811.368297\n",
      "iter # 30, max_change = 64278.191089\n",
      "iter # 31, max_change = 53790.030581\n",
      "iter # 32, max_change = 45013.204959\n",
      "iter # 33, max_change = 37668.478691\n",
      "iter # 34, max_change = 31522.178617\n",
      "iter # 35, max_change = 26378.759624\n",
      "iter # 36, max_change = 22074.583351\n",
      "iter # 37, max_change = 18472.712026\n",
      "iter # 38, max_change = 15458.551772\n",
      "iter # 39, max_change = 12936.206799\n",
      "iter # 40, max_change = 10825.428462\n",
      "iter # 41, max_change = 9059.062151\n",
      "iter # 42, max_change = 7580.910755\n",
      "iter # 43, max_change = 6343.946748\n",
      "iter # 44, max_change = 5308.816004\n",
      "iter # 45, max_change = 4442.585742\n",
      "iter # 46, max_change = 3717.696762\n",
      "iter # 47, max_change = 3111.086655\n",
      "iter # 48, max_change = 2603.456063\n",
      "iter # 49, max_change = 2178.654671\n",
      "iter # 50, max_change = 1823.167382\n",
      "iter # 51, max_change = 1525.684335\n",
      "iter # 52, max_change = 1276.741079\n",
      "iter # 53, max_change = 1068.417461\n",
      "iter # 54, max_change = 894.085644\n",
      "iter # 55, max_change = 748.199246\n",
      "iter # 56, max_change = 626.116878\n",
      "iter # 57, max_change = 523.954478\n",
      "iter # 58, max_change = 438.461738\n",
      "iter # 59, max_change = 366.918700\n",
      "iter # 60, max_change = 307.049214\n",
      "iter # 61, max_change = 256.948529\n",
      "iter # 62, max_change = 215.022685\n",
      "iter # 63, max_change = 179.937808\n",
      "iter # 64, max_change = 150.577669\n",
      "iter # 65, max_change = 126.008173\n",
      "iter # 66, max_change = 105.447639\n",
      "iter # 67, max_change = 88.241931\n",
      "iter # 68, max_change = 73.843649\n",
      "iter # 69, max_change = 61.794709\n",
      "iter # 70, max_change = 51.711774\n",
      "iter # 71, max_change = 43.274054\n",
      "iter # 72, max_change = 36.213102\n",
      "iter # 73, max_change = 30.304273\n",
      "iter # 74, max_change = 25.359578\n",
      "iter # 75, max_change = 21.221700\n",
      "iter # 76, max_change = 17.758992\n",
      "iter # 77, max_change = 14.861288\n",
      "iter # 78, max_change = 12.436398\n",
      "iter # 79, max_change = 10.407172\n",
      "iter # 80, max_change = 8.709052\n",
      "iter # 81, max_change = 7.288011\n",
      "iter # 82, max_change = 6.098839\n",
      "iter # 83, max_change = 5.103702\n",
      "iter # 84, max_change = 4.270940\n",
      "iter # 85, max_change = 3.574058\n",
      "iter # 86, max_change = 2.990885\n",
      "iter # 87, max_change = 2.502868\n",
      "iter # 88, max_change = 2.094479\n",
      "iter # 89, max_change = 1.752727\n",
      "iter # 90, max_change = 1.466737\n",
      "iter # 91, max_change = 1.227412\n",
      "iter # 92, max_change = 1.027138\n",
      "iter # 93, max_change = 0.859541\n"
     ]
    }
   ],
   "source": [
    "weight_learned_by_lasso = lasso_cyclical_coordinate_descent(normalized_feature_matrix,\n",
    "                                                            output,\n",
    "                                                            initial_weights,\n",
    "                                                            l1_penalty,\n",
    "                                                            tolerance\n",
    "                                                           )"
   ]
  },
  {
   "cell_type": "code",
   "execution_count": 392,
   "metadata": {},
   "outputs": [
    {
     "data": {
      "text/plain": [
       "array([21624997.9595191 , 63157247.20788956,        0.        ])"
      ]
     },
     "execution_count": 392,
     "metadata": {},
     "output_type": "execute_result"
    }
   ],
   "source": [
    "weight_learned_by_lasso"
   ]
  },
  {
   "cell_type": "markdown",
   "metadata": {},
   "source": [
    "### Quiz Question: What is the RSS of the learned model on the normalized dataset?\n",
    "\n",
    "\n",
    "\n"
   ]
  },
  {
   "cell_type": "code",
   "execution_count": 393,
   "metadata": {},
   "outputs": [],
   "source": [
    "prediction = predict_outcome(normalized_feature_matrix, weight_learned_by_lasso)\n",
    "errors = prediction - output"
   ]
  },
  {
   "cell_type": "code",
   "execution_count": 394,
   "metadata": {},
   "outputs": [
    {
     "data": {
      "text/plain": [
       "1630492476715386.5"
      ]
     },
     "execution_count": 394,
     "metadata": {},
     "output_type": "execute_result"
    }
   ],
   "source": [
    "rss_normalized_dataset = np.sum(errors * errors)\n",
    "rss_normalized_dataset"
   ]
  },
  {
   "cell_type": "markdown",
   "metadata": {},
   "source": [
    "### 16. Quiz Question: Which features had weight zero at convergence?"
   ]
  },
  {
   "cell_type": "markdown",
   "metadata": {},
   "source": [
    "'bedrooms'"
   ]
  },
  {
   "cell_type": "markdown",
   "metadata": {},
   "source": [
    "## Evaluating LASSO fit with more features"
   ]
  },
  {
   "cell_type": "code",
   "execution_count": 395,
   "metadata": {},
   "outputs": [],
   "source": [
    "train = pd.read_csv('kc_house_train_data.csv', dtype=dtype_dict)\n",
    "test = pd.read_csv('kc_house_test_data.csv', dtype=dtype_dict)"
   ]
  },
  {
   "cell_type": "markdown",
   "metadata": {},
   "source": [
    "Create a normalized feature matrix from the TRAINING data with the following set of features.\n",
    "\n",
    "[bedrooms, bathrooms, sqft_living, sqft_lot, floors, waterfront, view, condition, grade, sqft_above, sqft_basement, yr_built, yr_renovated]\n",
    "- Make sure you store the norms for the normalization, since we’ll use them later."
   ]
  },
  {
   "cell_type": "code",
   "execution_count": 396,
   "metadata": {},
   "outputs": [],
   "source": [
    "all_features = ['bedrooms', 'bathrooms', 'sqft_living', 'sqft_lot', \n",
    "                'floors', 'waterfront', 'view', 'condition', 'grade',\n",
    "                'sqft_above', 'sqft_basement', 'yr_built', 'yr_renovated']\n"
   ]
  },
  {
   "cell_type": "code",
   "execution_count": 397,
   "metadata": {},
   "outputs": [],
   "source": [
    "(training_feature_matrix, training_output) = get_numpy_data(train, all_features, 'price')"
   ]
  },
  {
   "cell_type": "code",
   "execution_count": 398,
   "metadata": {},
   "outputs": [],
   "source": [
    "normalized_training_feature_matrix, features_norms = normalize_features(training_feature_matrix)"
   ]
  },
  {
   "cell_type": "code",
   "execution_count": 399,
   "metadata": {},
   "outputs": [
    {
     "data": {
      "text/plain": [
       "array([[0.00758447, 0.00652117, 0.0033687 , ..., 0.        , 0.00752148,\n",
       "        0.        ],\n",
       "       [0.00758447, 0.00652117, 0.00757957, ..., 0.0057043 , 0.0075061 ,\n",
       "        0.03707954],\n",
       "       [0.00758447, 0.00434745, 0.0033687 , ..., 0.        , 0.00743684,\n",
       "        0.        ],\n",
       "       ...,\n",
       "       [0.00758447, 0.00652117, 0.00842175, ..., 0.        , 0.00772924,\n",
       "        0.        ],\n",
       "       [0.00758447, 0.00652117, 0.00842175, ..., 0.        , 0.00771   ,\n",
       "        0.        ],\n",
       "       [0.00758447, 0.00434745, 0.00252652, ..., 0.        , 0.00772539,\n",
       "        0.        ]])"
      ]
     },
     "execution_count": 399,
     "metadata": {},
     "output_type": "execute_result"
    }
   ],
   "source": [
    "normalized_training_feature_matrix"
   ]
  },
  {
   "cell_type": "code",
   "execution_count": null,
   "metadata": {},
   "outputs": [],
   "source": []
  },
  {
   "cell_type": "markdown",
   "metadata": {},
   "source": [
    " First, learn the weights with `l1_penalty=1e7`, on the training data. \n",
    " Initialize weights to all zeros, and set the `tolerance=1`. \n",
    " Call resulting weights `weights1e7`, you will need them later."
   ]
  },
  {
   "cell_type": "code",
   "execution_count": 400,
   "metadata": {},
   "outputs": [],
   "source": [
    "l1_penalty = 1e7\n",
    "initial_weights = np.zeros(1 + len(all_features))\n",
    "tolerance = 1.0"
   ]
  },
  {
   "cell_type": "code",
   "execution_count": 401,
   "metadata": {},
   "outputs": [
    {
     "name": "stdout",
     "output_type": "stream",
     "text": [
      "iter # 1, max_change = 71114625.714887\n",
      "iter # 2, max_change = 5024356.370547\n",
      "iter # 3, max_change = 5012324.915982\n",
      "iter # 4, max_change = 5000676.422621\n",
      "iter # 5, max_change = 4991243.174673\n",
      "iter # 6, max_change = 4984361.344820\n",
      "iter # 7, max_change = 4979504.930990\n",
      "iter # 8, max_change = 4973806.566812\n",
      "iter # 9, max_change = 2879223.018989\n",
      "iter # 10, max_change = 2706150.775285\n",
      "iter # 11, max_change = 2532295.658295\n",
      "iter # 12, max_change = 2368316.587067\n",
      "iter # 13, max_change = 2213124.359407\n",
      "iter # 14, max_change = 1552443.881222\n",
      "iter # 15, max_change = 507838.022651\n",
      "iter # 16, max_change = 438814.364292\n",
      "iter # 17, max_change = 371479.617658\n",
      "iter # 18, max_change = 313415.101470\n",
      "iter # 19, max_change = 264244.828686\n",
      "iter # 20, max_change = 222753.857891\n",
      "iter # 21, max_change = 187770.664855\n",
      "iter # 22, max_change = 158280.091291\n",
      "iter # 23, max_change = 133420.899865\n",
      "iter # 24, max_change = 112465.986828\n",
      "iter # 25, max_change = 94802.212214\n",
      "iter # 26, max_change = 79912.686407\n",
      "iter # 27, max_change = 67361.691740\n",
      "iter # 28, max_change = 56781.941751\n",
      "iter # 29, max_change = 47863.835127\n",
      "iter # 30, max_change = 40346.396093\n",
      "iter # 31, max_change = 34009.637408\n",
      "iter # 32, max_change = 28668.122772\n",
      "iter # 33, max_change = 24165.540298\n",
      "iter # 34, max_change = 20370.128261\n",
      "iter # 35, max_change = 17170.819285\n",
      "iter # 36, max_change = 14473.990106\n",
      "iter # 37, max_change = 12200.721824\n",
      "iter # 38, max_change = 10284.490451\n",
      "iter # 39, max_change = 8669.220179\n",
      "iter # 40, max_change = 7307.642403\n",
      "iter # 41, max_change = 6159.912471\n",
      "iter # 42, max_change = 5192.443685\n",
      "iter # 43, max_change = 4376.924436\n",
      "iter # 44, max_change = 3689.489705\n",
      "iter # 45, max_change = 3110.022685\n",
      "iter # 46, max_change = 2621.566090\n",
      "iter # 47, max_change = 2209.825927\n",
      "iter # 48, max_change = 1862.753202\n",
      "iter # 49, max_change = 1570.191321\n",
      "iter # 50, max_change = 1323.578874\n",
      "iter # 51, max_change = 1115.699094\n",
      "iter # 52, max_change = 940.468674\n",
      "iter # 53, max_change = 792.759743\n",
      "iter # 54, max_change = 668.249807\n",
      "iter # 55, max_change = 563.295259\n",
      "iter # 56, max_change = 474.824752\n",
      "iter # 57, max_change = 400.249321\n",
      "iter # 58, max_change = 337.386622\n",
      "iter # 59, max_change = 284.397066\n",
      "iter # 60, max_change = 239.729989\n",
      "iter # 61, max_change = 202.078272\n",
      "iter # 62, max_change = 170.340091\n",
      "iter # 63, max_change = 143.586671\n",
      "iter # 64, max_change = 121.035113\n",
      "iter # 65, max_change = 102.025477\n",
      "iter # 66, max_change = 86.001473\n",
      "iter # 67, max_change = 72.494180\n",
      "iter # 68, max_change = 61.108327\n",
      "iter # 69, max_change = 51.510724\n",
      "iter # 70, max_change = 43.420509\n",
      "iter # 71, max_change = 36.600933\n",
      "iter # 72, max_change = 30.852433\n",
      "iter # 73, max_change = 26.006785\n",
      "iter # 74, max_change = 21.922189\n",
      "iter # 75, max_change = 18.479115\n",
      "iter # 76, max_change = 15.576807\n",
      "iter # 77, max_change = 13.130331\n",
      "iter # 78, max_change = 11.068096\n",
      "iter # 79, max_change = 9.329754\n",
      "iter # 80, max_change = 7.864434\n",
      "iter # 81, max_change = 6.629255\n",
      "iter # 82, max_change = 5.588071\n",
      "iter # 83, max_change = 4.710415\n",
      "iter # 84, max_change = 3.970603\n",
      "iter # 85, max_change = 3.346985\n",
      "iter # 86, max_change = 2.821311\n",
      "iter # 87, max_change = 2.378199\n",
      "iter # 88, max_change = 2.004682\n",
      "iter # 89, max_change = 1.689829\n",
      "iter # 90, max_change = 1.424426\n",
      "iter # 91, max_change = 1.200708\n",
      "iter # 92, max_change = 1.012126\n",
      "iter # 93, max_change = 0.853162\n"
     ]
    },
    {
     "data": {
      "text/plain": [
       "array([24429600.23440313,        0.        ,        0.        ,\n",
       "       48389174.77154895,        0.        ,        0.        ,\n",
       "        3317511.21492166,  7329961.81171426,        0.        ,\n",
       "              0.        ,        0.        ,        0.        ,\n",
       "              0.        ,        0.        ])"
      ]
     },
     "execution_count": 401,
     "metadata": {},
     "output_type": "execute_result"
    }
   ],
   "source": [
    "weights1e7 = lasso_cyclical_coordinate_descent(normalized_training_feature_matrix, \n",
    "                                                        training_output, \n",
    "                                                     initial_weights,\n",
    "                                                     l1_penalty,\n",
    "                                                     tolerance\n",
    "                                                    )\n",
    "\n",
    "weights1e7"
   ]
  },
  {
   "cell_type": "markdown",
   "metadata": {},
   "source": [
    "### Quiz Question: What features had non-zero weight in this case?"
   ]
  },
  {
   "cell_type": "code",
   "execution_count": 402,
   "metadata": {},
   "outputs": [
    {
     "data": {
      "text/plain": [
       "['constant', 'sqft_living', 'waterfront', 'view']"
      ]
     },
     "execution_count": 402,
     "metadata": {},
     "output_type": "execute_result"
    }
   ],
   "source": [
    "intercept_with_features = ['constant'] + all_features\n",
    "nonzeros_features = [intercept_with_features[i] for i in range(len(intercept_with_features))\n",
    "                     if (weights1e7[i] != 0)]\n",
    "nonzeros_features"
   ]
  },
  {
   "cell_type": "markdown",
   "metadata": {},
   "source": [
    "Next, learn the weights with `l1_penalty=1e8`, on the training data. \n",
    "Initialize weights to all zeros, and set the `tolerance=1`.\n",
    "Call resulting weights `weights1e8`, you will need them later.\n",
    "\n"
   ]
  },
  {
   "cell_type": "code",
   "execution_count": 403,
   "metadata": {},
   "outputs": [
    {
     "name": "stdout",
     "output_type": "stream",
     "text": [
      "iter # 1, max_change = 71114625.714887\n",
      "iter # 2, max_change = 0.000000\n"
     ]
    }
   ],
   "source": [
    "l1_penalty= 1e8\n",
    "tolerance = 1.\n",
    "initial_weights=np.zeros(1 + len(all_features))\n",
    "\n",
    "weights1e8 = lasso_cyclical_coordinate_descent(\n",
    "    normalized_training_feature_matrix,\n",
    "    training_output,\n",
    "    initial_weights,\n",
    "    l1_penalty,\n",
    "    tolerance\n",
    ")"
   ]
  },
  {
   "cell_type": "code",
   "execution_count": 404,
   "metadata": {},
   "outputs": [
    {
     "data": {
      "text/plain": [
       "array([71114625.71488702,        0.        ,        0.        ,\n",
       "              0.        ,        0.        ,        0.        ,\n",
       "              0.        ,        0.        ,        0.        ,\n",
       "              0.        ,        0.        ,        0.        ,\n",
       "              0.        ,        0.        ])"
      ]
     },
     "execution_count": 404,
     "metadata": {},
     "output_type": "execute_result"
    }
   ],
   "source": [
    "weights1e8"
   ]
  },
  {
   "cell_type": "markdown",
   "metadata": {},
   "source": [
    "### Quiz Question: What features had non-zero weight in this case?"
   ]
  },
  {
   "cell_type": "code",
   "execution_count": 405,
   "metadata": {},
   "outputs": [],
   "source": [
    "# Constant"
   ]
  },
  {
   "cell_type": "markdown",
   "metadata": {},
   "source": [
    "Finally, learn the weights with `l1_penalty=1e4`, on the training data. \n",
    "Initialize weights to all zeros, and set the `tolerance=5e5`. \n",
    "Call resulting weights `weights1e4`, you will need them later. \n",
    "(This case will take quite a bit longer to converge than the others above.)\n"
   ]
  },
  {
   "cell_type": "code",
   "execution_count": 406,
   "metadata": {},
   "outputs": [
    {
     "name": "stdout",
     "output_type": "stream",
     "text": [
      "iter # 1, max_change = 71114625.714887\n",
      "iter # 2, max_change = 8441276.045842\n",
      "iter # 3, max_change = 6789873.036988\n",
      "iter # 4, max_change = 5538914.174014\n",
      "iter # 5, max_change = 4527797.915308\n",
      "iter # 6, max_change = 3700363.669842\n",
      "iter # 7, max_change = 3022494.096842\n",
      "iter # 8, max_change = 2468071.048076\n",
      "iter # 9, max_change = 2015787.324400\n",
      "iter # 10, max_change = 1647983.509669\n",
      "iter # 11, max_change = 1389754.619568\n",
      "iter # 12, max_change = 1334787.182747\n",
      "iter # 13, max_change = 1293147.731587\n",
      "iter # 14, max_change = 1261718.382102\n",
      "iter # 15, max_change = 1238001.623368\n",
      "iter # 16, max_change = 1220007.877715\n",
      "iter # 17, max_change = 1206162.336051\n",
      "iter # 18, max_change = 1194973.111592\n",
      "iter # 19, max_change = 1185736.490952\n",
      "iter # 20, max_change = 1177721.687410\n",
      "iter # 21, max_change = 1170366.252274\n",
      "iter # 22, max_change = 1163250.460227\n",
      "iter # 23, max_change = 1156068.165101\n",
      "iter # 24, max_change = 1148603.014891\n",
      "iter # 25, max_change = 1140709.161491\n",
      "iter # 26, max_change = 1132295.632727\n",
      "iter # 27, max_change = 1123313.703355\n",
      "iter # 28, max_change = 1113746.726323\n",
      "iter # 29, max_change = 1103601.981529\n",
      "iter # 30, max_change = 1092904.176356\n",
      "iter # 31, max_change = 1081690.295495\n",
      "iter # 32, max_change = 1070005.549944\n",
      "iter # 33, max_change = 1057900.218637\n",
      "iter # 34, max_change = 1045427.212378\n",
      "iter # 35, max_change = 1032640.219927\n",
      "iter # 36, max_change = 1019592.321106\n",
      "iter # 37, max_change = 1006334.972633\n",
      "iter # 38, max_change = 992917.289591\n",
      "iter # 39, max_change = 979385.559719\n",
      "iter # 40, max_change = 965782.939528\n",
      "iter # 41, max_change = 952149.290902\n",
      "iter # 42, max_change = 938521.124915\n",
      "iter # 43, max_change = 924931.626120\n",
      "iter # 44, max_change = 911410.735974\n",
      "iter # 45, max_change = 897985.278445\n",
      "iter # 46, max_change = 884679.114461\n",
      "iter # 47, max_change = 871513.314746\n",
      "iter # 48, max_change = 858506.342974\n",
      "iter # 49, max_change = 845674.243049\n",
      "iter # 50, max_change = 832351.900783\n",
      "iter # 51, max_change = 819797.442794\n",
      "iter # 52, max_change = 807538.842879\n",
      "iter # 53, max_change = 795521.533845\n",
      "iter # 54, max_change = 783737.361340\n",
      "iter # 55, max_change = 772186.095367\n",
      "iter # 56, max_change = 760869.275860\n",
      "iter # 57, max_change = 749788.565369\n",
      "iter # 58, max_change = 738945.194942\n",
      "iter # 59, max_change = 728135.701593\n",
      "iter # 60, max_change = 717338.920630\n",
      "iter # 61, max_change = 706809.150037\n",
      "iter # 62, max_change = 696567.851442\n",
      "iter # 63, max_change = 686510.702433\n",
      "iter # 64, max_change = 676751.245437\n",
      "iter # 65, max_change = 667273.195760\n",
      "iter # 66, max_change = 658063.631554\n",
      "iter # 67, max_change = 649110.862998\n",
      "iter # 68, max_change = 640404.413606\n",
      "iter # 69, max_change = 631934.929698\n",
      "iter # 70, max_change = 623694.021642\n",
      "iter # 71, max_change = 615674.097659\n",
      "iter # 72, max_change = 607868.215245\n",
      "iter # 73, max_change = 600269.956318\n",
      "iter # 74, max_change = 592873.325184\n",
      "iter # 75, max_change = 585672.666388\n",
      "iter # 76, max_change = 578662.599247\n",
      "iter # 77, max_change = 571837.966119\n",
      "iter # 78, max_change = 565193.791879\n",
      "iter # 79, max_change = 558725.252497\n",
      "iter # 80, max_change = 552427.650931\n",
      "iter # 81, max_change = 546296.398913\n",
      "iter # 82, max_change = 540327.003410\n",
      "iter # 83, max_change = 534515.056796\n",
      "iter # 84, max_change = 528856.229936\n",
      "iter # 85, max_change = 523346.267526\n",
      "iter # 86, max_change = 517980.985171\n",
      "iter # 87, max_change = 512756.267774\n",
      "iter # 88, max_change = 507668.068893\n",
      "iter # 89, max_change = 502712.410795\n",
      "iter # 90, max_change = 497885.384996\n",
      "iter # 91, max_change = 493183.153111\n",
      "iter # 92, max_change = 488601.947878\n",
      "iter # 93, max_change = 484138.074270\n",
      "iter # 94, max_change = 479787.910600\n",
      "iter # 95, max_change = 475547.909570\n",
      "iter # 96, max_change = 471414.599224\n",
      "iter # 97, max_change = 467384.583768\n",
      "iter # 98, max_change = 463454.544251\n",
      "iter # 99, max_change = 459621.239078\n",
      "iter # 100, max_change = 455881.504364\n",
      "iter # 101, max_change = 452232.254129\n",
      "iter # 102, max_change = 448670.480325\n",
      "iter # 103, max_change = 445193.252705\n",
      "iter # 104, max_change = 442702.367316\n",
      "iter # 105, max_change = 441839.821372\n",
      "iter # 106, max_change = 440953.164552\n",
      "iter # 107, max_change = 440043.485367\n",
      "iter # 108, max_change = 439111.839207\n",
      "iter # 109, max_change = 438159.248974\n",
      "iter # 110, max_change = 437186.705730\n",
      "iter # 111, max_change = 436195.169367\n",
      "iter # 112, max_change = 435185.569287\n",
      "iter # 113, max_change = 434158.805090\n",
      "iter # 114, max_change = 433115.747262\n",
      "iter # 115, max_change = 432057.237861\n",
      "iter # 116, max_change = 430984.091201\n",
      "iter # 117, max_change = 429897.094531\n",
      "iter # 118, max_change = 428797.008707\n",
      "iter # 119, max_change = 427684.568851\n",
      "iter # 120, max_change = 426560.485010\n",
      "iter # 121, max_change = 425425.442801\n",
      "iter # 122, max_change = 424280.104046\n",
      "iter # 123, max_change = 423125.107398\n",
      "iter # 124, max_change = 421961.068958\n",
      "iter # 125, max_change = 420788.582882\n",
      "iter # 126, max_change = 419608.221979\n",
      "iter # 127, max_change = 418420.538292\n",
      "iter # 128, max_change = 417226.063678\n",
      "iter # 129, max_change = 416025.310375\n",
      "iter # 130, max_change = 414818.771555\n",
      "iter # 131, max_change = 413606.921870\n",
      "iter # 132, max_change = 412390.217988\n",
      "iter # 133, max_change = 411169.099122\n",
      "iter # 134, max_change = 409943.987538\n",
      "iter # 135, max_change = 408715.289067\n",
      "iter # 136, max_change = 407483.393598\n",
      "iter # 137, max_change = 406248.675562\n",
      "iter # 138, max_change = 405011.494411\n",
      "iter # 139, max_change = 403772.195079\n",
      "iter # 140, max_change = 402531.108441\n",
      "iter # 141, max_change = 401288.551757\n",
      "iter # 142, max_change = 400044.829106\n",
      "iter # 143, max_change = 398800.231818\n",
      "iter # 144, max_change = 397555.038883\n",
      "iter # 145, max_change = 396309.517362\n",
      "iter # 146, max_change = 395063.922781\n",
      "iter # 147, max_change = 393818.499521\n",
      "iter # 148, max_change = 392573.481194\n",
      "iter # 149, max_change = 391329.091012\n",
      "iter # 150, max_change = 390085.542146\n",
      "iter # 151, max_change = 388843.038074\n",
      "iter # 152, max_change = 387601.772924\n",
      "iter # 153, max_change = 386361.931805\n",
      "iter # 154, max_change = 385123.691128\n",
      "iter # 155, max_change = 383887.218923\n",
      "iter # 156, max_change = 382652.675138\n",
      "iter # 157, max_change = 381420.211942\n",
      "iter # 158, max_change = 380189.974012\n",
      "iter # 159, max_change = 378962.098807\n",
      "iter # 160, max_change = 377736.716847\n",
      "iter # 161, max_change = 376513.951970\n",
      "iter # 162, max_change = 375293.921593\n",
      "iter # 163, max_change = 374076.736957\n",
      "iter # 164, max_change = 372862.503366\n",
      "iter # 165, max_change = 371651.320421\n",
      "iter # 166, max_change = 370443.282247\n",
      "iter # 167, max_change = 369238.477710\n",
      "iter # 168, max_change = 368036.990624\n",
      "iter # 169, max_change = 366838.899964\n",
      "iter # 170, max_change = 365644.280056\n",
      "iter # 171, max_change = 364453.200771\n",
      "iter # 172, max_change = 363265.727709\n",
      "iter # 173, max_change = 362081.922379\n",
      "iter # 174, max_change = 360901.842369\n",
      "iter # 175, max_change = 359725.541515\n",
      "iter # 176, max_change = 358553.070057\n",
      "iter # 177, max_change = 357384.474800\n",
      "iter # 178, max_change = 356219.799258\n",
      "iter # 179, max_change = 355059.083803\n",
      "iter # 180, max_change = 353902.365798\n",
      "iter # 181, max_change = 352749.679737\n",
      "iter # 182, max_change = 351601.057369\n",
      "iter # 183, max_change = 350456.527825\n",
      "iter # 184, max_change = 349316.117737\n",
      "iter # 185, max_change = 348179.851351\n",
      "iter # 186, max_change = 347047.750641\n",
      "iter # 187, max_change = 345919.835412\n",
      "iter # 188, max_change = 344796.123405\n",
      "iter # 189, max_change = 343676.630395\n",
      "iter # 190, max_change = 342561.370282\n",
      "iter # 191, max_change = 341450.355187\n",
      "iter # 192, max_change = 340343.595536\n",
      "iter # 193, max_change = 339241.100142\n",
      "iter # 194, max_change = 338142.876290\n",
      "iter # 195, max_change = 337048.929810\n",
      "iter # 196, max_change = 335959.265152\n",
      "iter # 197, max_change = 334873.885457\n",
      "iter # 198, max_change = 333792.792627\n",
      "iter # 199, max_change = 332715.987383\n",
      "iter # 200, max_change = 331643.469335\n",
      "iter # 201, max_change = 330575.237039\n",
      "iter # 202, max_change = 329511.288051\n",
      "iter # 203, max_change = 328451.618986\n",
      "iter # 204, max_change = 327396.225567\n",
      "iter # 205, max_change = 326345.102676\n",
      "iter # 206, max_change = 325298.244403\n",
      "iter # 207, max_change = 324255.644088\n",
      "iter # 208, max_change = 323217.294368\n",
      "iter # 209, max_change = 322183.187217\n",
      "iter # 210, max_change = 321153.313987\n",
      "iter # 211, max_change = 320127.665441\n",
      "iter # 212, max_change = 319106.231798\n",
      "iter # 213, max_change = 318089.002758\n"
     ]
    },
    {
     "name": "stdout",
     "output_type": "stream",
     "text": [
      "iter # 214, max_change = 317075.967540\n",
      "iter # 215, max_change = 316067.114912\n",
      "iter # 216, max_change = 315062.433221\n",
      "iter # 217, max_change = 314061.910422\n",
      "iter # 218, max_change = 313065.534102\n",
      "iter # 219, max_change = 312073.291509\n",
      "iter # 220, max_change = 311085.169574\n",
      "iter # 221, max_change = 310101.154936\n",
      "iter # 222, max_change = 309121.233962\n",
      "iter # 223, max_change = 308145.392769\n",
      "iter # 224, max_change = 307173.617245\n",
      "iter # 225, max_change = 306205.893065\n",
      "iter # 226, max_change = 305242.205710\n",
      "iter # 227, max_change = 304282.540485\n",
      "iter # 228, max_change = 303326.882533\n",
      "iter # 229, max_change = 302375.216852\n",
      "iter # 230, max_change = 301427.528309\n",
      "iter # 231, max_change = 300483.801652\n",
      "iter # 232, max_change = 299544.021522\n",
      "iter # 233, max_change = 298608.172471\n",
      "iter # 234, max_change = 297676.238966\n",
      "iter # 235, max_change = 296748.205404\n",
      "iter # 236, max_change = 295824.056120\n",
      "iter # 237, max_change = 294903.775400\n",
      "iter # 238, max_change = 293987.347485\n",
      "iter # 239, max_change = 293074.756584\n",
      "iter # 240, max_change = 292165.986879\n",
      "iter # 241, max_change = 291261.022533\n",
      "iter # 242, max_change = 290359.847699\n",
      "iter # 243, max_change = 289462.446524\n",
      "iter # 244, max_change = 288568.803155\n",
      "iter # 245, max_change = 287678.901749\n",
      "iter # 246, max_change = 286792.726472\n",
      "iter # 247, max_change = 285910.261509\n",
      "iter # 248, max_change = 285031.491067\n",
      "iter # 249, max_change = 284156.399378\n",
      "iter # 250, max_change = 283284.970706\n",
      "iter # 251, max_change = 282417.189349\n",
      "iter # 252, max_change = 281553.039641\n",
      "iter # 253, max_change = 280692.505959\n",
      "iter # 254, max_change = 279835.572722\n",
      "iter # 255, max_change = 278982.224397\n",
      "iter # 256, max_change = 278132.445499\n",
      "iter # 257, max_change = 277286.220596\n",
      "iter # 258, max_change = 276443.534308\n",
      "iter # 259, max_change = 275604.371312\n",
      "iter # 260, max_change = 274768.716340\n",
      "iter # 261, max_change = 273936.554187\n",
      "iter # 262, max_change = 273107.869704\n",
      "iter # 263, max_change = 272282.647808\n",
      "iter # 264, max_change = 271460.873475\n",
      "iter # 265, max_change = 270642.531748\n",
      "iter # 266, max_change = 269827.607733\n",
      "iter # 267, max_change = 269016.086604\n",
      "iter # 268, max_change = 268207.953598\n",
      "iter # 269, max_change = 267403.194024\n",
      "iter # 270, max_change = 266601.793254\n",
      "iter # 271, max_change = 265803.736730\n",
      "iter # 272, max_change = 265009.009963\n",
      "iter # 273, max_change = 264217.598533\n",
      "iter # 274, max_change = 263429.488086\n",
      "iter # 275, max_change = 262644.664342\n",
      "iter # 276, max_change = 261863.113086\n",
      "iter # 277, max_change = 261084.820173\n",
      "iter # 278, max_change = 260309.771530\n",
      "iter # 279, max_change = 259537.953150\n",
      "iter # 280, max_change = 258769.351096\n",
      "iter # 281, max_change = 258003.951501\n",
      "iter # 282, max_change = 257241.740565\n",
      "iter # 283, max_change = 256482.704558\n",
      "iter # 284, max_change = 255726.829817\n",
      "iter # 285, max_change = 254974.102748\n",
      "iter # 286, max_change = 254224.509825\n",
      "iter # 287, max_change = 253478.037587\n",
      "iter # 288, max_change = 252734.672643\n",
      "iter # 289, max_change = 251994.401667\n",
      "iter # 290, max_change = 251257.211399\n",
      "iter # 291, max_change = 250523.088645\n",
      "iter # 292, max_change = 249792.020278\n",
      "iter # 293, max_change = 249063.993234\n",
      "iter # 294, max_change = 248338.994513\n",
      "iter # 295, max_change = 247617.011183\n",
      "iter # 296, max_change = 246898.030370\n",
      "iter # 297, max_change = 246182.039269\n",
      "iter # 298, max_change = 245469.025133\n",
      "iter # 299, max_change = 244758.975279\n",
      "iter # 300, max_change = 244051.877087\n",
      "iter # 301, max_change = 243347.717997\n",
      "iter # 302, max_change = 242646.485510\n",
      "iter # 303, max_change = 241948.167187\n",
      "iter # 304, max_change = 241252.750649\n",
      "iter # 305, max_change = 240560.223578\n",
      "iter # 306, max_change = 239870.573712\n",
      "iter # 307, max_change = 239183.788850\n",
      "iter # 308, max_change = 238499.856848\n",
      "iter # 309, max_change = 237818.765618\n",
      "iter # 310, max_change = 237140.503133\n",
      "iter # 311, max_change = 236465.057418\n",
      "iter # 312, max_change = 235792.416557\n",
      "iter # 313, max_change = 235122.568690\n",
      "iter # 314, max_change = 234455.502010\n",
      "iter # 315, max_change = 233791.204766\n",
      "iter # 316, max_change = 233129.665261\n",
      "iter # 317, max_change = 232470.871854\n",
      "iter # 318, max_change = 231814.812954\n",
      "iter # 319, max_change = 231161.477026\n",
      "iter # 320, max_change = 230510.852587\n",
      "iter # 321, max_change = 229862.928204\n",
      "iter # 322, max_change = 229217.692499\n",
      "iter # 323, max_change = 228575.134144\n",
      "iter # 324, max_change = 227935.241862\n",
      "iter # 325, max_change = 227298.004428\n",
      "iter # 326, max_change = 226663.410665\n",
      "iter # 327, max_change = 226031.449449\n",
      "iter # 328, max_change = 225402.109702\n",
      "iter # 329, max_change = 224775.380398\n",
      "iter # 330, max_change = 224151.250559\n",
      "iter # 331, max_change = 223529.709256\n",
      "iter # 332, max_change = 222910.745607\n",
      "iter # 333, max_change = 222294.348780\n",
      "iter # 334, max_change = 221680.507987\n",
      "iter # 335, max_change = 221069.212492\n",
      "iter # 336, max_change = 220460.451601\n",
      "iter # 337, max_change = 219854.214670\n",
      "iter # 338, max_change = 219250.491101\n",
      "iter # 339, max_change = 218649.270339\n",
      "iter # 340, max_change = 218050.541880\n",
      "iter # 341, max_change = 217454.295259\n",
      "iter # 342, max_change = 216860.520062\n",
      "iter # 343, max_change = 216269.205916\n",
      "iter # 344, max_change = 215680.342495\n",
      "iter # 345, max_change = 215093.919514\n",
      "iter # 346, max_change = 214509.926736\n",
      "iter # 347, max_change = 213928.353966\n",
      "iter # 348, max_change = 213349.191051\n",
      "iter # 349, max_change = 212772.427884\n",
      "iter # 350, max_change = 212198.054400\n",
      "iter # 351, max_change = 211626.060575\n",
      "iter # 352, max_change = 211056.436430\n",
      "iter # 353, max_change = 210489.172028\n",
      "iter # 354, max_change = 209924.257472\n",
      "iter # 355, max_change = 209361.682909\n",
      "iter # 356, max_change = 208801.438527\n",
      "iter # 357, max_change = 208243.514556\n",
      "iter # 358, max_change = 207687.901265\n",
      "iter # 359, max_change = 207134.588966\n",
      "iter # 360, max_change = 206583.568011\n",
      "iter # 361, max_change = 206034.828793\n",
      "iter # 362, max_change = 205488.361745\n",
      "iter # 363, max_change = 204944.157340\n",
      "iter # 364, max_change = 204402.206092\n",
      "iter # 365, max_change = 203862.498553\n",
      "iter # 366, max_change = 203325.025316\n",
      "iter # 367, max_change = 202789.777012\n",
      "iter # 368, max_change = 202256.744312\n",
      "iter # 369, max_change = 201725.917927\n",
      "iter # 370, max_change = 201197.288605\n",
      "iter # 371, max_change = 200670.847134\n",
      "iter # 372, max_change = 200146.584339\n",
      "iter # 373, max_change = 199624.491085\n",
      "iter # 374, max_change = 199104.558273\n",
      "iter # 375, max_change = 198586.776844\n",
      "iter # 376, max_change = 198071.137776\n",
      "iter # 377, max_change = 197557.632084\n",
      "iter # 378, max_change = 197046.250820\n",
      "iter # 379, max_change = 196536.985076\n",
      "iter # 380, max_change = 196029.825977\n",
      "iter # 381, max_change = 195524.764689\n",
      "iter # 382, max_change = 195021.792411\n",
      "iter # 383, max_change = 194520.900382\n",
      "iter # 384, max_change = 194022.079876\n",
      "iter # 385, max_change = 193525.322202\n",
      "iter # 386, max_change = 193030.618706\n",
      "iter # 387, max_change = 192537.960771\n",
      "iter # 388, max_change = 192047.339816\n",
      "iter # 389, max_change = 191558.747293\n",
      "iter # 390, max_change = 191072.174692\n",
      "iter # 391, max_change = 190587.613538\n",
      "iter # 392, max_change = 190105.055391\n",
      "iter # 393, max_change = 189624.491845\n",
      "iter # 394, max_change = 189145.914530\n",
      "iter # 395, max_change = 188669.315111\n",
      "iter # 396, max_change = 188194.685287\n",
      "iter # 397, max_change = 187722.016793\n",
      "iter # 398, max_change = 187251.301396\n",
      "iter # 399, max_change = 186782.530898\n",
      "iter # 400, max_change = 186315.697137\n",
      "iter # 401, max_change = 185850.791982\n",
      "iter # 402, max_change = 185387.807338\n",
      "iter # 403, max_change = 184926.735142\n",
      "iter # 404, max_change = 184467.567366\n",
      "iter # 405, max_change = 184010.296015\n",
      "iter # 406, max_change = 183554.913127\n",
      "iter # 407, max_change = 183101.410773\n",
      "iter # 408, max_change = 182649.781057\n",
      "iter # 409, max_change = 182200.016116\n",
      "iter # 410, max_change = 181752.108120\n",
      "iter # 411, max_change = 181306.049271\n",
      "iter # 412, max_change = 180861.831804\n",
      "iter # 413, max_change = 180419.447986\n",
      "iter # 414, max_change = 179978.890116\n",
      "iter # 415, max_change = 179540.150526\n",
      "iter # 416, max_change = 179103.221579\n",
      "iter # 417, max_change = 178668.095671\n",
      "iter # 418, max_change = 178234.765227\n",
      "iter # 419, max_change = 177803.222707\n",
      "iter # 420, max_change = 177373.460600\n",
      "iter # 421, max_change = 176945.471427\n",
      "iter # 422, max_change = 176519.247741\n",
      "iter # 423, max_change = 176094.782124\n",
      "iter # 424, max_change = 175672.067192\n",
      "iter # 425, max_change = 175251.095590\n",
      "iter # 426, max_change = 174831.859992\n",
      "iter # 427, max_change = 174414.353106\n",
      "iter # 428, max_change = 173998.567668\n",
      "iter # 429, max_change = 173584.496445\n",
      "iter # 430, max_change = 173172.132234\n"
     ]
    },
    {
     "name": "stdout",
     "output_type": "stream",
     "text": [
      "iter # 431, max_change = 172761.467864\n",
      "iter # 432, max_change = 172352.496190\n",
      "iter # 433, max_change = 171945.210101\n",
      "iter # 434, max_change = 171539.602513\n",
      "iter # 435, max_change = 171135.666372\n",
      "iter # 436, max_change = 170733.394655\n",
      "iter # 437, max_change = 170332.780366\n",
      "iter # 438, max_change = 169933.816540\n",
      "iter # 439, max_change = 169536.496241\n",
      "iter # 440, max_change = 169140.812561\n",
      "iter # 441, max_change = 168746.758622\n",
      "iter # 442, max_change = 168354.327574\n",
      "iter # 443, max_change = 167963.512596\n",
      "iter # 444, max_change = 167574.306895\n",
      "iter # 445, max_change = 167186.703707\n",
      "iter # 446, max_change = 166800.696297\n",
      "iter # 447, max_change = 166416.277956\n",
      "iter # 448, max_change = 166033.442005\n",
      "iter # 449, max_change = 165652.181792\n",
      "iter # 450, max_change = 165272.490694\n",
      "iter # 451, max_change = 164894.362114\n",
      "iter # 452, max_change = 164517.789485\n",
      "iter # 453, max_change = 164142.766264\n",
      "iter # 454, max_change = 163769.285939\n",
      "iter # 455, max_change = 163397.342024\n",
      "iter # 456, max_change = 163026.928058\n",
      "iter # 457, max_change = 162658.037611\n",
      "iter # 458, max_change = 162290.664277\n",
      "iter # 459, max_change = 161924.801677\n",
      "iter # 460, max_change = 161560.443462\n",
      "iter # 461, max_change = 161197.583304\n",
      "iter # 462, max_change = 160836.214907\n",
      "iter # 463, max_change = 160476.331998\n",
      "iter # 464, max_change = 160117.928332\n",
      "iter # 465, max_change = 159760.997689\n",
      "iter # 466, max_change = 159405.533876\n",
      "iter # 467, max_change = 159051.530725\n",
      "iter # 468, max_change = 158698.982094\n",
      "iter # 469, max_change = 158347.881869\n",
      "iter # 470, max_change = 157998.223959\n",
      "iter # 471, max_change = 157650.002299\n",
      "iter # 472, max_change = 157303.210851\n",
      "iter # 473, max_change = 156957.843600\n",
      "iter # 474, max_change = 156613.894558\n",
      "iter # 475, max_change = 156271.357761\n",
      "iter # 476, max_change = 155930.227272\n",
      "iter # 477, max_change = 155590.497176\n",
      "iter # 478, max_change = 155252.161586\n",
      "iter # 479, max_change = 154915.214637\n",
      "iter # 480, max_change = 154579.650489\n",
      "iter # 481, max_change = 154245.463329\n",
      "iter # 482, max_change = 153912.647366\n",
      "iter # 483, max_change = 153581.196834\n",
      "iter # 484, max_change = 153251.105990\n",
      "iter # 485, max_change = 152922.369118\n",
      "iter # 486, max_change = 152594.980524\n",
      "iter # 487, max_change = 152268.934538\n",
      "iter # 488, max_change = 151944.225513\n",
      "iter # 489, max_change = 151620.847828\n",
      "iter # 490, max_change = 151298.795884\n",
      "iter # 491, max_change = 150978.064106\n",
      "iter # 492, max_change = 150658.646943\n",
      "iter # 493, max_change = 150340.538865\n",
      "iter # 494, max_change = 150023.734369\n",
      "iter # 495, max_change = 149708.227971\n",
      "iter # 496, max_change = 149394.014214\n",
      "iter # 497, max_change = 149081.087660\n",
      "iter # 498, max_change = 148769.442897\n",
      "iter # 499, max_change = 148459.074534\n",
      "iter # 500, max_change = 148149.977205\n",
      "iter # 501, max_change = 147842.145562\n",
      "iter # 502, max_change = 147535.574285\n",
      "iter # 503, max_change = 147230.258072\n",
      "iter # 504, max_change = 146926.191645\n",
      "iter # 505, max_change = 146623.369749\n",
      "iter # 506, max_change = 146321.787149\n",
      "iter # 507, max_change = 146021.438635\n",
      "iter # 508, max_change = 145722.319016\n",
      "iter # 509, max_change = 145424.423123\n",
      "iter # 510, max_change = 145127.745812\n",
      "iter # 511, max_change = 144832.281957\n",
      "iter # 512, max_change = 144538.026454\n",
      "iter # 513, max_change = 144244.974223\n",
      "iter # 514, max_change = 143953.120203\n",
      "iter # 515, max_change = 143662.459355\n",
      "iter # 516, max_change = 143372.986662\n",
      "iter # 517, max_change = 143084.697126\n",
      "iter # 518, max_change = 142797.585771\n",
      "iter # 519, max_change = 142511.647644\n",
      "iter # 520, max_change = 142226.877810\n",
      "iter # 521, max_change = 141943.271355\n",
      "iter # 522, max_change = 141660.823388\n",
      "iter # 523, max_change = 141379.529037\n",
      "iter # 524, max_change = 141099.383449\n",
      "iter # 525, max_change = 140820.381795\n",
      "iter # 526, max_change = 140542.519262\n",
      "iter # 527, max_change = 140265.791061\n",
      "iter # 528, max_change = 139990.192422\n",
      "iter # 529, max_change = 139715.718594\n",
      "iter # 530, max_change = 139442.364847\n",
      "iter # 531, max_change = 139170.126470\n",
      "iter # 532, max_change = 138898.998773\n",
      "iter # 533, max_change = 138628.977085\n",
      "iter # 534, max_change = 138360.056754\n",
      "iter # 535, max_change = 138092.233150\n",
      "iter # 536, max_change = 137825.501661\n",
      "iter # 537, max_change = 137559.857692\n",
      "iter # 538, max_change = 137295.296671\n",
      "iter # 539, max_change = 137031.814045\n",
      "iter # 540, max_change = 136769.405277\n",
      "iter # 541, max_change = 136508.065851\n",
      "iter # 542, max_change = 136247.791272\n",
      "iter # 543, max_change = 135986.099552\n",
      "iter # 544, max_change = 135613.401473\n",
      "iter # 545, max_change = 135497.798930\n",
      "iter # 546, max_change = 135375.474379\n",
      "iter # 547, max_change = 135224.932060\n",
      "iter # 548, max_change = 135049.120705\n",
      "iter # 549, max_change = 134853.682020\n",
      "iter # 550, max_change = 134643.395549\n",
      "iter # 551, max_change = 134421.936073\n",
      "iter # 552, max_change = 134192.101950\n",
      "iter # 553, max_change = 133956.032571\n",
      "iter # 554, max_change = 133715.370013\n",
      "iter # 555, max_change = 133471.377870\n",
      "iter # 556, max_change = 133225.030137\n",
      "iter # 557, max_change = 132977.078578\n",
      "iter # 558, max_change = 132728.104146\n",
      "iter # 559, max_change = 132478.556370\n",
      "iter # 560, max_change = 132228.783575\n",
      "iter # 561, max_change = 131979.056077\n",
      "iter # 562, max_change = 131729.584015\n",
      "iter # 563, max_change = 131480.531046\n",
      "iter # 564, max_change = 131232.024881\n",
      "iter # 565, max_change = 130984.165386\n",
      "iter # 566, max_change = 130737.030817\n",
      "iter # 567, max_change = 130490.682623\n",
      "iter # 568, max_change = 130245.169148\n",
      "iter # 569, max_change = 130000.528479\n",
      "iter # 570, max_change = 129756.790660\n",
      "iter # 571, max_change = 129513.979386\n",
      "iter # 572, max_change = 129272.113329\n",
      "iter # 573, max_change = 129031.207162\n",
      "iter # 574, max_change = 128791.272349\n",
      "iter # 575, max_change = 128552.317776\n",
      "iter # 576, max_change = 128314.350228\n",
      "iter # 577, max_change = 128077.374774\n",
      "iter # 578, max_change = 127841.395067\n",
      "iter # 579, max_change = 127606.413587\n",
      "iter # 580, max_change = 127372.431822\n",
      "iter # 581, max_change = 127139.450431\n",
      "iter # 582, max_change = 126907.469358\n",
      "iter # 583, max_change = 126676.487940\n",
      "iter # 584, max_change = 126446.504985\n",
      "iter # 585, max_change = 126217.518845\n",
      "iter # 586, max_change = 125989.527467\n",
      "iter # 587, max_change = 125762.528448\n",
      "iter # 588, max_change = 125536.519073\n",
      "iter # 589, max_change = 125311.496351\n",
      "iter # 590, max_change = 125087.457049\n",
      "iter # 591, max_change = 124864.397714\n",
      "iter # 592, max_change = 124645.034371\n",
      "iter # 593, max_change = 124426.746712\n",
      "iter # 594, max_change = 124202.062706\n",
      "iter # 595, max_change = 123972.445506\n",
      "iter # 596, max_change = 123739.598598\n",
      "iter # 597, max_change = 123504.931942\n",
      "iter # 598, max_change = 123269.551082\n",
      "iter # 599, max_change = 123034.309164\n",
      "iter # 600, max_change = 122799.856566\n",
      "iter # 601, max_change = 122566.681356\n",
      "iter # 602, max_change = 122335.141935\n",
      "iter # 603, max_change = 122105.493505\n",
      "iter # 604, max_change = 121877.909590\n",
      "iter # 605, max_change = 121652.499533\n",
      "iter # 606, max_change = 121429.322706\n",
      "iter # 607, max_change = 121208.399995\n",
      "iter # 608, max_change = 120989.723069\n",
      "iter # 609, max_change = 120773.261810\n",
      "iter # 610, max_change = 120558.970251\n",
      "iter # 611, max_change = 120346.791282\n",
      "iter # 612, max_change = 120136.660367\n",
      "iter # 613, max_change = 119928.508438\n",
      "iter # 614, max_change = 119722.264138\n",
      "iter # 615, max_change = 119517.855535\n",
      "iter # 616, max_change = 119315.211404\n",
      "iter # 617, max_change = 119114.262178\n",
      "iter # 618, max_change = 118914.940617\n",
      "iter # 619, max_change = 118717.182274\n",
      "iter # 620, max_change = 118520.925790\n",
      "iter # 621, max_change = 118326.113057\n",
      "iter # 622, max_change = 118132.689286\n",
      "iter # 623, max_change = 117940.603001\n",
      "iter # 624, max_change = 117749.805971\n",
      "iter # 625, max_change = 117560.253109\n",
      "iter # 626, max_change = 117371.902342\n",
      "iter # 627, max_change = 117184.714461\n",
      "iter # 628, max_change = 116998.652961\n",
      "iter # 629, max_change = 116813.683879\n",
      "iter # 630, max_change = 116629.775623\n",
      "iter # 631, max_change = 116446.898817\n",
      "iter # 632, max_change = 116265.026138\n",
      "iter # 633, max_change = 116084.132167\n",
      "iter # 634, max_change = 115904.193245\n",
      "iter # 635, max_change = 115725.187338\n",
      "iter # 636, max_change = 115547.093908\n",
      "iter # 637, max_change = 115369.893799\n",
      "iter # 638, max_change = 115193.569122\n",
      "iter # 639, max_change = 115018.103158\n",
      "iter # 640, max_change = 114843.480261\n",
      "iter # 641, max_change = 114669.685774\n",
      "iter # 642, max_change = 114496.705948\n",
      "iter # 643, max_change = 114324.527871\n",
      "iter # 644, max_change = 114153.139400\n",
      "iter # 645, max_change = 113982.529101\n",
      "iter # 646, max_change = 113812.686195\n",
      "iter # 647, max_change = 113643.600504\n"
     ]
    },
    {
     "name": "stdout",
     "output_type": "stream",
     "text": [
      "iter # 648, max_change = 113475.262406\n",
      "iter # 649, max_change = 113307.662792\n",
      "iter # 650, max_change = 113140.793032\n",
      "iter # 651, max_change = 112974.644930\n",
      "iter # 652, max_change = 112809.210702\n",
      "iter # 653, max_change = 112644.482940\n",
      "iter # 654, max_change = 112480.454585\n",
      "iter # 655, max_change = 112317.118905\n",
      "iter # 656, max_change = 112154.469472\n",
      "iter # 657, max_change = 111992.500139\n",
      "iter # 658, max_change = 111831.205020\n",
      "iter # 659, max_change = 111670.578478\n",
      "iter # 660, max_change = 111510.615100\n",
      "iter # 661, max_change = 111351.309691\n",
      "iter # 662, max_change = 111192.657252\n",
      "iter # 663, max_change = 111034.652974\n",
      "iter # 664, max_change = 110877.292220\n",
      "iter # 665, max_change = 110720.570520\n",
      "iter # 666, max_change = 110564.483556\n",
      "iter # 667, max_change = 110409.027152\n",
      "iter # 668, max_change = 110254.197272\n",
      "iter # 669, max_change = 110099.990002\n",
      "iter # 670, max_change = 109946.401551\n",
      "iter # 671, max_change = 109793.428238\n",
      "iter # 672, max_change = 109641.066487\n",
      "iter # 673, max_change = 109489.312823\n",
      "iter # 674, max_change = 109338.163862\n",
      "iter # 675, max_change = 109187.616308\n",
      "iter # 676, max_change = 109037.666947\n",
      "iter # 677, max_change = 108888.312645\n",
      "iter # 678, max_change = 108739.550337\n",
      "iter # 679, max_change = 108591.377029\n",
      "iter # 680, max_change = 108443.789792\n",
      "iter # 681, max_change = 108296.785755\n",
      "iter # 682, max_change = 108150.362108\n",
      "iter # 683, max_change = 108004.516092\n",
      "iter # 684, max_change = 107859.244999\n",
      "iter # 685, max_change = 107714.546171\n",
      "iter # 686, max_change = 107570.416992\n",
      "iter # 687, max_change = 107426.854890\n",
      "iter # 688, max_change = 107283.857332\n",
      "iter # 689, max_change = 107141.421823\n",
      "iter # 690, max_change = 106999.545904\n",
      "iter # 691, max_change = 106858.227148\n",
      "iter # 692, max_change = 106717.463159\n",
      "iter # 693, max_change = 106577.251573\n",
      "iter # 694, max_change = 106437.590051\n",
      "iter # 695, max_change = 106298.476281\n",
      "iter # 696, max_change = 106159.907976\n",
      "iter # 697, max_change = 106021.882873\n",
      "iter # 698, max_change = 105884.398729\n",
      "iter # 699, max_change = 105747.453323\n",
      "iter # 700, max_change = 105611.044454\n",
      "iter # 701, max_change = 105475.169937\n",
      "iter # 702, max_change = 105339.827608\n",
      "iter # 703, max_change = 105205.015315\n",
      "iter # 704, max_change = 105070.730925\n",
      "iter # 705, max_change = 104936.972319\n",
      "iter # 706, max_change = 104803.737391\n",
      "iter # 707, max_change = 104671.024048\n",
      "iter # 708, max_change = 104538.830211\n",
      "iter # 709, max_change = 104407.153811\n",
      "iter # 710, max_change = 104275.992791\n",
      "iter # 711, max_change = 104145.345106\n",
      "iter # 712, max_change = 104015.208718\n",
      "iter # 713, max_change = 103885.581603\n",
      "iter # 714, max_change = 103756.461742\n",
      "iter # 715, max_change = 103627.847128\n",
      "iter # 716, max_change = 103499.735760\n",
      "iter # 717, max_change = 103372.125648\n",
      "iter # 718, max_change = 103245.014808\n",
      "iter # 719, max_change = 103118.401264\n",
      "iter # 720, max_change = 102992.283047\n",
      "iter # 721, max_change = 102866.658195\n",
      "iter # 722, max_change = 102741.524753\n",
      "iter # 723, max_change = 102616.880774\n",
      "iter # 724, max_change = 102492.724314\n",
      "iter # 725, max_change = 102369.053440\n",
      "iter # 726, max_change = 102245.866221\n",
      "iter # 727, max_change = 102123.160735\n",
      "iter # 728, max_change = 102000.935063\n",
      "iter # 729, max_change = 101879.187293\n",
      "iter # 730, max_change = 101757.915521\n",
      "iter # 731, max_change = 101637.117846\n",
      "iter # 732, max_change = 101516.792372\n",
      "iter # 733, max_change = 101396.937210\n",
      "iter # 734, max_change = 101277.550477\n",
      "iter # 735, max_change = 101158.630294\n",
      "iter # 736, max_change = 101040.174788\n",
      "iter # 737, max_change = 100922.182090\n",
      "iter # 738, max_change = 100804.650338\n",
      "iter # 739, max_change = 100687.577676\n",
      "iter # 740, max_change = 100570.962250\n",
      "iter # 741, max_change = 100454.802214\n",
      "iter # 742, max_change = 100339.095727\n",
      "iter # 743, max_change = 100223.840952\n",
      "iter # 744, max_change = 100109.036059\n",
      "iter # 745, max_change = 99994.679221\n"
     ]
    }
   ],
   "source": [
    "l1_penalty= 1e4\n",
    "tolerance = 1e5\n",
    "initial_weights=np.zeros(1 + len(all_features))\n",
    "\n",
    "weights1e4 = lasso_cyclical_coordinate_descent(\n",
    "    normalized_training_feature_matrix,\n",
    "    training_output,\n",
    "    initial_weights,\n",
    "    l1_penalty,\n",
    "    tolerance\n",
    ")\n"
   ]
  },
  {
   "cell_type": "code",
   "execution_count": 407,
   "metadata": {},
   "outputs": [
    {
     "data": {
      "text/plain": [
       "array([ 1.28874098e+08, -1.80658455e+07,  1.61398374e+05,  1.87035801e+08,\n",
       "       -1.62304457e+06,  2.35166532e+05,  6.75281534e+06,  5.54075037e+06,\n",
       "        2.07452320e+07,  1.08623137e+08, -1.12704447e+08, -2.89135400e+07,\n",
       "       -2.23652499e+08,  3.03702632e+06])"
      ]
     },
     "execution_count": 407,
     "metadata": {},
     "output_type": "execute_result"
    }
   ],
   "source": [
    "weights1e4"
   ]
  },
  {
   "cell_type": "markdown",
   "metadata": {},
   "source": [
    "### 4. Quiz Question: What features had non-zero weight in this case?"
   ]
  },
  {
   "cell_type": "code",
   "execution_count": 408,
   "metadata": {},
   "outputs": [
    {
     "data": {
      "text/plain": [
       "['constant',\n",
       " 'bedrooms',\n",
       " 'bathrooms',\n",
       " 'sqft_living',\n",
       " 'sqft_lot',\n",
       " 'floors',\n",
       " 'waterfront',\n",
       " 'view',\n",
       " 'condition',\n",
       " 'grade',\n",
       " 'sqft_above',\n",
       " 'sqft_basement',\n",
       " 'yr_built',\n",
       " 'yr_renovated']"
      ]
     },
     "execution_count": 408,
     "metadata": {},
     "output_type": "execute_result"
    }
   ],
   "source": [
    "intercept_with_features = ['constant'] + all_features\n",
    "nonzeros_features = [intercept_with_features[i] for i in range(len(intercept_with_features))\n",
    "                     if (weights1e4[i] != 0)]\n",
    "nonzeros_features"
   ]
  },
  {
   "cell_type": "markdown",
   "metadata": {},
   "source": [
    "## Rescaling learned weights"
   ]
  },
  {
   "cell_type": "markdown",
   "metadata": {},
   "source": [
    "Create a normalized version of each of the weights learned above. (‘weights1e4’, ‘weights1e7’, ‘weights1e8’). \n",
    "To check your results, if you call ‘normalized_weights1e7’ the normalized version of ‘weights1e7’, then\n",
    "```python\n",
    "print normalized_weights1e7[3]\n",
    "```\n",
    "should print `161.31745624837794.`"
   ]
  },
  {
   "cell_type": "code",
   "execution_count": 409,
   "metadata": {},
   "outputs": [],
   "source": [
    "normalized_weights1e4, normalized_weights1e7, normalized_weights1e8 = weights1e4/features_norms, weights1e7/features_norms, weights1e8/features_norms"
   ]
  },
  {
   "cell_type": "code",
   "execution_count": 410,
   "metadata": {},
   "outputs": [
    {
     "data": {
      "text/plain": [
       "161.3174576461176"
      ]
     },
     "execution_count": 410,
     "metadata": {},
     "output_type": "execute_result"
    }
   ],
   "source": [
    "normalized_weights1e7[3]"
   ]
  },
  {
   "cell_type": "markdown",
   "metadata": {},
   "source": [
    "### compute rss on test set"
   ]
  },
  {
   "cell_type": "code",
   "execution_count": 411,
   "metadata": {},
   "outputs": [],
   "source": [
    "test_feature_matrix, test_output = get_numpy_data(test, all_features, 'price')"
   ]
  },
  {
   "cell_type": "code",
   "execution_count": 412,
   "metadata": {},
   "outputs": [
    {
     "data": {
      "text/plain": [
       "205525047738808.38"
      ]
     },
     "execution_count": 412,
     "metadata": {},
     "output_type": "execute_result"
    }
   ],
   "source": [
    "predicted_test_1e4 = predict_outcome(test_feature_matrix, normalized_weights1e4)\n",
    "errors_1e4 = predicted_test_1e4 - test_output\n",
    "rss_test_1e4 = np.sum(errors_1e4 * errors_1e4)\n",
    "rss_test_1e4"
   ]
  },
  {
   "cell_type": "code",
   "execution_count": 413,
   "metadata": {},
   "outputs": [
    {
     "data": {
      "text/plain": [
       "275962075920366.8"
      ]
     },
     "execution_count": 413,
     "metadata": {},
     "output_type": "execute_result"
    }
   ],
   "source": [
    "predicted_test_1e7 = predict_outcome(test_feature_matrix, normalized_weights1e7)\n",
    "errors_1e7 = predicted_test_1e7 - test_output\n",
    "rss_test_1e7 = np.sum(errors_1e7 * errors_1e7)\n",
    "rss_test_1e7"
   ]
  },
  {
   "cell_type": "code",
   "execution_count": 414,
   "metadata": {},
   "outputs": [
    {
     "data": {
      "text/plain": [
       "537166151497322.75"
      ]
     },
     "execution_count": 414,
     "metadata": {},
     "output_type": "execute_result"
    }
   ],
   "source": [
    "predicted_test_1e8 = predict_outcome(test_feature_matrix, normalized_weights1e8)\n",
    "errors_1e8 = predicted_test_1e8 - test_output\n",
    "rss_test_1e8 = np.sum(errors_1e8 * errors_1e8)\n",
    "rss_test_1e8"
   ]
  },
  {
   "cell_type": "markdown",
   "metadata": {},
   "source": [
    "### Quiz Question: Which model performed best on the test data?"
   ]
  },
  {
   "cell_type": "code",
   "execution_count": 415,
   "metadata": {},
   "outputs": [
    {
     "data": {
      "text/plain": [
       "205525047738808.38"
      ]
     },
     "execution_count": 415,
     "metadata": {},
     "output_type": "execute_result"
    }
   ],
   "source": [
    "min(rss_test_1e4, rss_test_1e7, rss_test_1e8)\n",
    "# rss_test_1e4"
   ]
  },
  {
   "cell_type": "code",
   "execution_count": null,
   "metadata": {},
   "outputs": [],
   "source": []
  }
 ],
 "metadata": {
  "kernelspec": {
   "display_name": "Python [conda env:ds-env] *",
   "language": "python",
   "name": "conda-env-ds-env-py"
  },
  "language_info": {
   "codemirror_mode": {
    "name": "ipython",
    "version": 3
   },
   "file_extension": ".py",
   "mimetype": "text/x-python",
   "name": "python",
   "nbconvert_exporter": "python",
   "pygments_lexer": "ipython3",
   "version": "3.7.3"
  }
 },
 "nbformat": 4,
 "nbformat_minor": 2
}
