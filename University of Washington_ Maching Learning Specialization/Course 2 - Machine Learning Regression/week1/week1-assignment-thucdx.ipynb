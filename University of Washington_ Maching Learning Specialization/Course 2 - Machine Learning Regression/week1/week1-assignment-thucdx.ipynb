{
 "cells": [
  {
   "cell_type": "code",
   "execution_count": 114,
   "metadata": {},
   "outputs": [],
   "source": [
    "import pandas as pd\n",
    "\n",
    "import numpy as np\n",
    "import sklearn"
   ]
  },
  {
   "cell_type": "code",
   "execution_count": 115,
   "metadata": {},
   "outputs": [
    {
     "name": "stdout",
     "output_type": "stream",
     "text": [
      "0.21.2\n",
      "0.24.2\n",
      "1.16.4\n"
     ]
    }
   ],
   "source": [
    "print(sklearn.__version__)\n",
    "\n",
    "print(pd.__version__)\n",
    "\n",
    "print(np.__version__)"
   ]
  },
  {
   "cell_type": "code",
   "execution_count": 116,
   "metadata": {},
   "outputs": [],
   "source": [
    "from sklearn.model_selection import train_test_split"
   ]
  },
  {
   "cell_type": "code",
   "execution_count": 117,
   "metadata": {},
   "outputs": [],
   "source": [
    "import matplotlib "
   ]
  },
  {
   "cell_type": "code",
   "execution_count": 149,
   "metadata": {},
   "outputs": [],
   "source": [
    "sales = pd.read_csv('kc_house_data.csv')"
   ]
  },
  {
   "cell_type": "code",
   "execution_count": 150,
   "metadata": {},
   "outputs": [
    {
     "data": {
      "text/plain": [
       "Index(['id', 'date', 'price', 'bedrooms', 'bathrooms', 'sqft_living',\n",
       "       'sqft_lot', 'floors', 'waterfront', 'view', 'condition', 'grade',\n",
       "       'sqft_above', 'sqft_basement', 'yr_built', 'yr_renovated', 'zipcode',\n",
       "       'lat', 'long', 'sqft_living15', 'sqft_lot15'],\n",
       "      dtype='object')"
      ]
     },
     "execution_count": 150,
     "metadata": {},
     "output_type": "execute_result"
    }
   ],
   "source": [
    "sales.columns"
   ]
  },
  {
   "cell_type": "code",
   "execution_count": 158,
   "metadata": {},
   "outputs": [],
   "source": [
    "# Use mask to split random\n",
    "msk = np.random.rand(len(sales)) < 0.8\n",
    "\n",
    "train_data, test_data = sales[msk], sales[~msk]"
   ]
  },
  {
   "cell_type": "code",
   "execution_count": 159,
   "metadata": {},
   "outputs": [],
   "source": [
    "train_data = pd.read_csv('kc_house_train_data.csv')\n",
    "test_data = pd.read_csv('kc_house_test_data.csv')\n"
   ]
  },
  {
   "cell_type": "code",
   "execution_count": 160,
   "metadata": {},
   "outputs": [],
   "source": [
    "#train_data, test_data = train_test_split(sales, test_size=0.2, random_state=0, shuffle=False)"
   ]
  },
  {
   "cell_type": "code",
   "execution_count": 161,
   "metadata": {},
   "outputs": [
    {
     "name": "stdout",
     "output_type": "stream",
     "text": [
      "Total sample in training data and test data is: 17384, 4229\n"
     ]
    }
   ],
   "source": [
    "print('Total sample in training data and test data is: %s, %s'\n",
    "     % (len(train_data), len(test_data)))"
   ]
  },
  {
   "cell_type": "markdown",
   "metadata": {},
   "source": [
    "### Closed-form solution to calculate the slope and intercept"
   ]
  },
  {
   "cell_type": "code",
   "execution_count": 162,
   "metadata": {},
   "outputs": [],
   "source": [
    "def simple_linear_regression(input_feature, output):\n",
    "    intercept, slope = 0, 0\n",
    "    mean_xy = (input_feature * output).mean()\n",
    "    mean_x = input_feature.mean()\n",
    "    mean_y = output.mean()\n",
    "    mean_xx = (input_feature * input_feature).mean()\n",
    "    \n",
    "    slope = (mean_xy - mean_x * mean_y) / (mean_xx - mean_x * mean_x)\n",
    "    intercept = mean_y - slope * mean_x\n",
    "    \n",
    "    return (intercept, slope)"
   ]
  },
  {
   "cell_type": "code",
   "execution_count": 163,
   "metadata": {},
   "outputs": [],
   "source": [
    "def simple_linear_regression_2(input_feature, output):\n",
    "    intercept, slope = 0, 0\n",
    "    mean_xy = (input_feature * output).mean()\n",
    "    mean_x = input_feature.mean()\n",
    "    mean_y = output.mean()\n",
    "    mean_xx = (input_feature * input_feature).mean()\n",
    "\n",
    "    tmp = input_feature - mean_x\n",
    "    slope = (tmp * (output - mean_y)).sum() / (tmp * tmp).sum()\n",
    "    intercept = mean_y - slope * mean_x\n",
    "    \n",
    "    return (intercept, slope)"
   ]
  },
  {
   "cell_type": "code",
   "execution_count": 164,
   "metadata": {},
   "outputs": [],
   "source": [
    "input_feature = train_data['sqft_living']\n",
    "output = train_data['price']"
   ]
  },
  {
   "cell_type": "code",
   "execution_count": 165,
   "metadata": {},
   "outputs": [
    {
     "name": "stdout",
     "output_type": "stream",
     "text": [
      "-47116.07907289488 281.95883963034294\n"
     ]
    }
   ],
   "source": [
    "sqft_intercept, sqft_slope = simple_linear_regression(input_feature, output)\n",
    "print (sqft_intercept, sqft_slope)"
   ]
  },
  {
   "cell_type": "code",
   "execution_count": 166,
   "metadata": {},
   "outputs": [
    {
     "name": "stdout",
     "output_type": "stream",
     "text": [
      "-47116.07907289371 281.95883963034237\n"
     ]
    }
   ],
   "source": [
    "sqft_intercept, sqft_slope = simple_linear_regression_2(input_feature, output)\n",
    "print (sqft_intercept, sqft_slope)"
   ]
  },
  {
   "cell_type": "markdown",
   "metadata": {},
   "source": [
    "### Predicted output"
   ]
  },
  {
   "cell_type": "code",
   "execution_count": 167,
   "metadata": {},
   "outputs": [],
   "source": [
    "def get_regression_predictions(input_feature, intercept, slope):\n",
    "    predicted_output = input_feature * slope + intercept\n",
    "    return predicted_output"
   ]
  },
  {
   "cell_type": "code",
   "execution_count": 168,
   "metadata": {},
   "outputs": [],
   "source": [
    "sample_feature = pd.DataFrame([2650])"
   ]
  },
  {
   "cell_type": "code",
   "execution_count": 169,
   "metadata": {},
   "outputs": [
    {
     "name": "stdout",
     "output_type": "stream",
     "text": [
      "Predicted price for a particular house: 700074.8459475136\n"
     ]
    }
   ],
   "source": [
    "print('Predicted price for a particular house: %s' % get_regression_predictions(sample_feature, sqft_intercept, sqft_slope)[0][0])"
   ]
  },
  {
   "cell_type": "markdown",
   "metadata": {},
   "source": [
    "### Calculate Residual Sum of Squares (RSS)"
   ]
  },
  {
   "cell_type": "code",
   "execution_count": 170,
   "metadata": {},
   "outputs": [],
   "source": [
    "def get_residual_sum_of_squares(input_feature, output, intercept, slope):\n",
    "    predicted_output = get_regression_predictions(input_feature, intercept, slope)\n",
    "    diff = output - predicted_output\n",
    "    return (diff * diff).sum()"
   ]
  },
  {
   "cell_type": "code",
   "execution_count": 171,
   "metadata": {},
   "outputs": [
    {
     "name": "stdout",
     "output_type": "stream",
     "text": [
      "1201918354177283.2\n"
     ]
    }
   ],
   "source": [
    "sqft_rss = get_residual_sum_of_squares(input_feature, output, sqft_intercept, sqft_slope)\n",
    "print (sqft_rss)"
   ]
  },
  {
   "cell_type": "markdown",
   "metadata": {},
   "source": [
    "### Inverse regression predictions"
   ]
  },
  {
   "cell_type": "code",
   "execution_count": 172,
   "metadata": {},
   "outputs": [],
   "source": [
    "def inverse_regression_predictions(output, intercept, slope):\n",
    "    return (output - intercept) / slope"
   ]
  },
  {
   "cell_type": "code",
   "execution_count": 173,
   "metadata": {},
   "outputs": [],
   "source": [
    "housing_cost = pd.DataFrame([800000])"
   ]
  },
  {
   "cell_type": "code",
   "execution_count": 174,
   "metadata": {},
   "outputs": [
    {
     "name": "stdout",
     "output_type": "stream",
     "text": [
      "             0\n",
      "0  3004.396245\n"
     ]
    }
   ],
   "source": [
    "estimated_sqft_living = inverse_regression_predictions(housing_cost,\n",
    "                                                       sqft_intercept,sqft_slope)\n",
    "print (estimated_sqft_living)"
   ]
  },
  {
   "cell_type": "code",
   "execution_count": 137,
   "metadata": {},
   "outputs": [],
   "source": [
    "bedroom_feature = train_data['bedrooms']"
   ]
  },
  {
   "cell_type": "code",
   "execution_count": 138,
   "metadata": {},
   "outputs": [],
   "source": [
    "(bedroom_intercept, bedroom_slope) = simple_linear_regression(bedroom_feature,\n",
    "                                                             output)"
   ]
  },
  {
   "cell_type": "code",
   "execution_count": 139,
   "metadata": {},
   "outputs": [
    {
     "name": "stdout",
     "output_type": "stream",
     "text": [
      "146052.87236618437 116771.26739926598\n"
     ]
    }
   ],
   "source": [
    "print (bedroom_intercept, bedroom_slope)"
   ]
  },
  {
   "cell_type": "code",
   "execution_count": 140,
   "metadata": {},
   "outputs": [
    {
     "name": "stdout",
     "output_type": "stream",
     "text": [
      "2109512992748517.8\n"
     ]
    }
   ],
   "source": [
    "bedroom_rss = get_residual_sum_of_squares(bedroom_feature, output,\n",
    "                            bedroom_intercept, bedroom_slope)\n",
    "print (bedroom_rss)"
   ]
  },
  {
   "cell_type": "code",
   "execution_count": 141,
   "metadata": {},
   "outputs": [
    {
     "data": {
      "text/plain": [
       "True"
      ]
     },
     "execution_count": 141,
     "metadata": {},
     "output_type": "execute_result"
    }
   ],
   "source": [
    "sqft_rss < bedroom_rss"
   ]
  },
  {
   "cell_type": "markdown",
   "metadata": {},
   "source": [
    "### Compare on test data"
   ]
  },
  {
   "cell_type": "code",
   "execution_count": 142,
   "metadata": {},
   "outputs": [],
   "source": [
    "sqft_living_test = test_data['sqft_living']\n",
    "price_test = test_data['price']\n",
    "bedrooms_test = test_data['bedrooms']"
   ]
  },
  {
   "cell_type": "code",
   "execution_count": 143,
   "metadata": {},
   "outputs": [
    {
     "name": "stdout",
     "output_type": "stream",
     "text": [
      "-46961.947796835215 281.627548678143\n"
     ]
    }
   ],
   "source": [
    "(sqft_test_intercept, sqft_test_slope) = simple_linear_regression(sqft_living_test,\n",
    "                                                                 price_test)\n",
    "print (sqft_test_intercept, sqft_test_slope)"
   ]
  },
  {
   "cell_type": "code",
   "execution_count": 144,
   "metadata": {},
   "outputs": [
    {
     "name": "stdout",
     "output_type": "stream",
     "text": [
      "62348.88438127545 142209.06161986655\n"
     ]
    }
   ],
   "source": [
    "(bedrooms_test_intercept, bedrooms_test_slope) = simple_linear_regression(\n",
    "    bedrooms_test, price_test)\n",
    "print (bedrooms_test_intercept, bedrooms_test_slope)"
   ]
  },
  {
   "cell_type": "code",
   "execution_count": 145,
   "metadata": {},
   "outputs": [
    {
     "name": "stdout",
     "output_type": "stream",
     "text": [
      "289775338497663.2\n"
     ]
    }
   ],
   "source": [
    "sqft_test_rss = get_residual_sum_of_squares(sqft_living_test, price_test, \n",
    "                                            sqft_test_intercept,\n",
    "                                            sqft_test_slope\n",
    "                                           )\n",
    "print (sqft_test_rss)"
   ]
  },
  {
   "cell_type": "code",
   "execution_count": 146,
   "metadata": {},
   "outputs": [
    {
     "name": "stdout",
     "output_type": "stream",
     "text": [
      "524536077804989.0\n"
     ]
    }
   ],
   "source": [
    "bedroom_test_rss = get_residual_sum_of_squares(\n",
    "    bedrooms_test, price_test,\n",
    "    bedrooms_test_intercept, bedrooms_test_slope\n",
    ")\n",
    "print (bedroom_test_rss)"
   ]
  },
  {
   "cell_type": "code",
   "execution_count": 147,
   "metadata": {},
   "outputs": [
    {
     "data": {
      "text/plain": [
       "True"
      ]
     },
     "execution_count": 147,
     "metadata": {},
     "output_type": "execute_result"
    }
   ],
   "source": [
    "sqft_test_rss < bedroom_test_rss"
   ]
  }
 ],
 "metadata": {
  "kernelspec": {
   "display_name": "Python [conda env:ds-env] *",
   "language": "python",
   "name": "conda-env-ds-env-py"
  },
  "language_info": {
   "codemirror_mode": {
    "name": "ipython",
    "version": 3
   },
   "file_extension": ".py",
   "mimetype": "text/x-python",
   "name": "python",
   "nbconvert_exporter": "python",
   "pygments_lexer": "ipython3",
   "version": "3.7.3"
  }
 },
 "nbformat": 4,
 "nbformat_minor": 1
}
