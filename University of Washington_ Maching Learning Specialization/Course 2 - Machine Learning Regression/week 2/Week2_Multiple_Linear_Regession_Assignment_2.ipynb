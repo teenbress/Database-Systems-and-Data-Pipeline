{
 "cells": [
  {
   "cell_type": "code",
   "execution_count": 231,
   "metadata": {},
   "outputs": [],
   "source": [
    "import pandas as pd\n",
    "import numpy as np\n",
    "import sklearn"
   ]
  },
  {
   "cell_type": "code",
   "execution_count": 232,
   "metadata": {},
   "outputs": [],
   "source": [
    "import math"
   ]
  },
  {
   "cell_type": "code",
   "execution_count": 233,
   "metadata": {},
   "outputs": [],
   "source": [
    "train_data = pd.read_csv('kc_house_train_data.csv')"
   ]
  },
  {
   "cell_type": "code",
   "execution_count": 234,
   "metadata": {},
   "outputs": [
    {
     "data": {
      "text/plain": [
       "17384"
      ]
     },
     "execution_count": 234,
     "metadata": {},
     "output_type": "execute_result"
    }
   ],
   "source": [
    "len(train_data)"
   ]
  },
  {
   "cell_type": "code",
   "execution_count": 235,
   "metadata": {},
   "outputs": [],
   "source": [
    "test_data = pd.read_csv('kc_house_test_data.csv')"
   ]
  },
  {
   "cell_type": "code",
   "execution_count": 236,
   "metadata": {},
   "outputs": [
    {
     "data": {
      "text/plain": [
       "array([[1],\n",
       "       [2],\n",
       "       [3]])"
      ]
     },
     "execution_count": 236,
     "metadata": {},
     "output_type": "execute_result"
    }
   ],
   "source": [
    "pd.DataFrame([1,2,3]).to_numpy()"
   ]
  },
  {
   "cell_type": "code",
   "execution_count": 237,
   "metadata": {},
   "outputs": [],
   "source": [
    "def get_numpy_data(data_frame, features, output):\n",
    "    selected_data_frame = data_frame[features]\n",
    "    output_array = data_frame[output].to_numpy()\n",
    "    np_selected_data_frame = selected_data_frame.to_numpy()\n",
    "    total_row = np_selected_data_frame.shape[0]\n",
    "    np_ones = np.ones(total_row, dtype=int).reshape(total_row, 1)\n",
    "    \n",
    "    features_array = np.append(np_ones, np_selected_data_frame, axis=1)\n",
    "    \n",
    "    return (features_array, output_array)"
   ]
  },
  {
   "cell_type": "code",
   "execution_count": 238,
   "metadata": {},
   "outputs": [],
   "source": [
    "def predict_outcome(feature_matrix, weights):\n",
    "    return np.dot(feature_matrix, weights)"
   ]
  },
  {
   "cell_type": "code",
   "execution_count": 239,
   "metadata": {},
   "outputs": [],
   "source": [
    "def feature_derivative(errors, feature):\n",
    "    return 2 * np.dot(errors, feature)"
   ]
  },
  {
   "cell_type": "code",
   "execution_count": 324,
   "metadata": {},
   "outputs": [],
   "source": [
    "def regression_gradient_descent(feature_matrix, output, initial_weights,\n",
    "                                step_size, tolerance):\n",
    "    converged = False\n",
    "    weights = np.array(initial_weights)\n",
    "    step = 0\n",
    "    total_sample = len(output)\n",
    "    total_feature = len(initial_weights)\n",
    "    print(total_sample, total_feature)\n",
    "    while not converged:\n",
    "        step += 1\n",
    "\n",
    "        # compute the predictions based on feature_matrix and weights\n",
    "        predictions = predict_outcome(feature_matrix, weights)\n",
    "        \n",
    "        # compute the errors as predictions - output\n",
    "#         errors = predictions - output\n",
    "        errors = np.array(predictions - output).reshape(total_sample, 1)\n",
    "        \n",
    "        gradient_sum_squares = 0 # initialize the gradient\n",
    "        \n",
    "#         # while not converged, update each weight individually:\n",
    "#         for i in range(len(weights)):\n",
    "#             feature_i = feature_matrix[:, i]\n",
    "#             feature_i_derivative = feature_derivative(errors, feature_i)\n",
    "#             weights[i] -= step_size * feature_i_derivative\n",
    "#             gradient_sum_squares += feature_i_derivative * feature_i_derivative\n",
    "            \n",
    "        \n",
    "#         gradient_magnitude = math.sqrt(gradient_sum_squares)\n",
    "        feature_derivative = 2 * (np.dot(feature_matrix.transpose(), errors))\n",
    "        weights -= step_size * feature_derivative.flatten()\n",
    "        gradient_magnitude = math.sqrt(np.sum(feature_derivative * feature_derivative))\n",
    "        print(\"Step %s, gradient_magnitude = %s\" % (step, gradient_magnitude))\n",
    "        \n",
    "        if (gradient_magnitude < tolerance):\n",
    "            converged = True\n",
    "    \n",
    "    return weights"
   ]
  },
  {
   "cell_type": "code",
   "execution_count": 325,
   "metadata": {},
   "outputs": [],
   "source": [
    "simple_features = ['sqft_living']\n",
    "my_output = 'price'\n",
    "(simple_feature_matrix, output) = get_numpy_data(train_data, simple_features, my_output)\n",
    "initial_weights = np.array([-47000., 1.])\n",
    "step_size = 7e-12\n",
    "tolerance = 2.5e7"
   ]
  },
  {
   "cell_type": "code",
   "execution_count": 326,
   "metadata": {},
   "outputs": [
    {
     "name": "stdout",
     "output_type": "stream",
     "text": [
      "17384 2\n",
      "Step 1, gradient_magnitude = 50551530784973.43\n",
      "Step 2, gradient_magnitude = 13127451026296.436\n",
      "Step 3, gradient_magnitude = 3408996083241.0596\n",
      "Step 4, gradient_magnitude = 885263580285.0411\n",
      "Step 5, gradient_magnitude = 229889265767.8974\n",
      "Step 6, gradient_magnitude = 59698688272.16019\n",
      "Step 7, gradient_magnitude = 15502826425.342028\n",
      "Step 8, gradient_magnitude = 4025844402.3433805\n",
      "Step 9, gradient_magnitude = 1045449748.3826516\n",
      "Step 10, gradient_magnitude = 271487891.9533199\n",
      "Step 11, gradient_magnitude = 70504114.8442527\n",
      "Step 12, gradient_magnitude = 18320017.267022587\n"
     ]
    }
   ],
   "source": [
    "simple_weights = regression_gradient_descent(simple_feature_matrix, output,\n",
    "                                            initial_weights, step_size,\n",
    "                                             tolerance)"
   ]
  },
  {
   "cell_type": "code",
   "execution_count": 327,
   "metadata": {},
   "outputs": [
    {
     "data": {
      "text/plain": [
       "array([-46999.88716555,    281.91211918])"
      ]
     },
     "execution_count": 327,
     "metadata": {},
     "output_type": "execute_result"
    }
   ],
   "source": [
    "simple_weights\n",
    "# array([-46999.88716555,    281.91211918])"
   ]
  },
  {
   "cell_type": "code",
   "execution_count": 328,
   "metadata": {},
   "outputs": [],
   "source": [
    "test_simple_features = ['sqft_living']\n",
    "test_output_col = 'price'\n",
    "(test_simple_feature_matrix, test_output) = get_numpy_data(test_data, test_simple_features,\n",
    "                                                          test_output_col\n",
    "                                                          )"
   ]
  },
  {
   "cell_type": "code",
   "execution_count": 329,
   "metadata": {},
   "outputs": [],
   "source": [
    "test_predicted_price = predict_outcome(test_simple_feature_matrix, simple_weights)"
   ]
  },
  {
   "cell_type": "markdown",
   "metadata": {},
   "source": [
    "### Predicted price for the 1st house in the Test data set for model 1 "
   ]
  },
  {
   "cell_type": "code",
   "execution_count": 330,
   "metadata": {},
   "outputs": [
    {
     "data": {
      "text/plain": [
       "356134.4432550024"
      ]
     },
     "execution_count": 330,
     "metadata": {},
     "output_type": "execute_result"
    }
   ],
   "source": [
    "test_predicted_price[0]"
   ]
  },
  {
   "cell_type": "code",
   "execution_count": 331,
   "metadata": {},
   "outputs": [
    {
     "data": {
      "text/plain": [
       "310000.0"
      ]
     },
     "execution_count": 331,
     "metadata": {},
     "output_type": "execute_result"
    }
   ],
   "source": [
    "# actual\n",
    "test_data['price'][0]"
   ]
  },
  {
   "cell_type": "code",
   "execution_count": 332,
   "metadata": {},
   "outputs": [],
   "source": [
    "test_errors = test_data['price'] - test_predicted_price"
   ]
  },
  {
   "cell_type": "code",
   "execution_count": 333,
   "metadata": {},
   "outputs": [
    {
     "data": {
      "text/plain": [
       "275400044902128.3"
      ]
     },
     "execution_count": 333,
     "metadata": {},
     "output_type": "execute_result"
    }
   ],
   "source": [
    "test_rss_simple = np.sum(test_errors * test_errors)\n",
    "test_rss_simple"
   ]
  },
  {
   "cell_type": "markdown",
   "metadata": {},
   "source": [
    "### More than one feature"
   ]
  },
  {
   "cell_type": "code",
   "execution_count": 334,
   "metadata": {},
   "outputs": [],
   "source": [
    "model_features = ['sqft_living', 'sqft_living15']\n",
    "output = 'price'\n",
    "initial_weights = [-100000., 1., 1.]\n",
    "step_size = 4e-12\n",
    "tolerance = 1e9"
   ]
  },
  {
   "cell_type": "code",
   "execution_count": 335,
   "metadata": {},
   "outputs": [],
   "source": [
    "(model_features_matrix, output_array) = get_numpy_data(\n",
    "    train_data,\n",
    "    model_features,\n",
    "    output\n",
    ")"
   ]
  },
  {
   "cell_type": "code",
   "execution_count": 336,
   "metadata": {},
   "outputs": [
    {
     "name": "stdout",
     "output_type": "stream",
     "text": [
      "17384 3\n",
      "Step 1, gradient_magnitude = 73072020556001.0\n",
      "Step 2, gradient_magnitude = 22673220967534.74\n",
      "Step 3, gradient_magnitude = 7060794583490.448\n",
      "Step 4, gradient_magnitude = 2275682396587.6187\n",
      "Step 5, gradient_magnitude = 928984110636.1444\n",
      "Step 6, gradient_magnitude = 656307431862.7949\n",
      "Step 7, gradient_magnitude = 610615358663.3833\n",
      "Step 8, gradient_magnitude = 593078772020.3285\n",
      "Step 9, gradient_magnitude = 578705926685.8691\n",
      "Step 10, gradient_magnitude = 564945682565.4801\n",
      "Step 11, gradient_magnitude = 551538687674.9812\n",
      "Step 12, gradient_magnitude = 538452428981.17944\n",
      "Step 13, gradient_magnitude = 525676918665.55664\n",
      "Step 14, gradient_magnitude = 513204549505.9787\n",
      "Step 15, gradient_magnitude = 501028105997.0814\n",
      "Step 16, gradient_magnitude = 489140564644.1252\n",
      "Step 17, gradient_magnitude = 477535070644.7635\n",
      "Step 18, gradient_magnitude = 466204932037.81085\n",
      "Step 19, gradient_magnitude = 455143615657.44507\n",
      "Step 20, gradient_magnitude = 444344743347.63806\n",
      "Step 21, gradient_magnitude = 433802088282.5729\n",
      "Step 22, gradient_magnitude = 423509571375.9668\n",
      "Step 23, gradient_magnitude = 413461257775.7429\n",
      "Step 24, gradient_magnitude = 403651353441.8808\n",
      "Step 25, gradient_magnitude = 394074201805.4762\n",
      "Step 26, gradient_magnitude = 384724280507.04803\n",
      "Step 27, gradient_magnitude = 375596198212.25824\n",
      "Step 28, gradient_magnitude = 366684691503.1621\n",
      "Step 29, gradient_magnitude = 357984621843.23035\n",
      "Step 30, gradient_magnitude = 349490972614.3744\n",
      "Step 31, gradient_magnitude = 341198846224.2713\n",
      "Step 32, gradient_magnitude = 333103461282.32733\n",
      "Step 33, gradient_magnitude = 325200149842.6374\n",
      "Step 34, gradient_magnitude = 317484354712.3645\n",
      "Step 35, gradient_magnitude = 309951626823.9801\n",
      "Step 36, gradient_magnitude = 302597622669.85004\n",
      "Step 37, gradient_magnitude = 295418101797.69037\n",
      "Step 38, gradient_magnitude = 288408924365.44165\n",
      "Step 39, gradient_magnitude = 281566048754.1681\n",
      "Step 40, gradient_magnitude = 274885529237.5805\n",
      "Step 41, gradient_magnitude = 268363513706.86047\n",
      "Step 42, gradient_magnitude = 261996241449.4663\n",
      "Step 43, gradient_magnitude = 255780040980.63547\n",
      "Step 44, gradient_magnitude = 249711327926.34167\n",
      "Step 45, gradient_magnitude = 243786602956.47836\n",
      "Step 46, gradient_magnitude = 238002449767.0832\n",
      "Step 47, gradient_magnitude = 232355533110.43323\n",
      "Step 48, gradient_magnitude = 226842596871.8819\n",
      "Step 49, gradient_magnitude = 221460462192.32272\n",
      "Step 50, gradient_magnitude = 216206025635.20374\n",
      "Step 51, gradient_magnitude = 211076257397.02838\n",
      "Step 52, gradient_magnitude = 206068199560.31433\n",
      "Step 53, gradient_magnitude = 201178964388.00778\n",
      "Step 54, gradient_magnitude = 196405732658.35852\n",
      "Step 55, gradient_magnitude = 191745752039.30713\n",
      "Step 56, gradient_magnitude = 187196335501.4423\n",
      "Step 57, gradient_magnitude = 182754859768.60638\n",
      "Step 58, gradient_magnitude = 178418763805.27112\n",
      "Step 59, gradient_magnitude = 174185547339.79553\n",
      "Step 60, gradient_magnitude = 170052769422.72336\n",
      "Step 61, gradient_magnitude = 166018047019.2908\n",
      "Step 62, gradient_magnitude = 162079053635.3214\n",
      "Step 63, gradient_magnitude = 158233517975.73026\n",
      "Step 64, gradient_magnitude = 154479222634.85034\n",
      "Step 65, gradient_magnitude = 150814002817.8413\n",
      "Step 66, gradient_magnitude = 147235745092.42734\n",
      "Step 67, gradient_magnitude = 143742386170.2489\n",
      "Step 68, gradient_magnitude = 140331911717.14194\n",
      "Step 69, gradient_magnitude = 137002355191.62944\n",
      "Step 70, gradient_magnitude = 133751796710.9805\n",
      "Step 71, gradient_magnitude = 130578361944.17201\n",
      "Step 72, gradient_magnitude = 127480221031.11302\n",
      "Step 73, gradient_magnitude = 124455587527.5154\n",
      "Step 74, gradient_magnitude = 121502717374.7986\n",
      "Step 75, gradient_magnitude = 118619907894.43094\n",
      "Step 76, gradient_magnitude = 115805496806.13928\n",
      "Step 77, gradient_magnitude = 113057861269.40195\n",
      "Step 78, gradient_magnitude = 110375416947.69281\n",
      "Step 79, gradient_magnitude = 107756617094.92644\n",
      "Step 80, gradient_magnitude = 105199951663.56921\n",
      "Step 81, gradient_magnitude = 102703946433.92632\n",
      "Step 82, gradient_magnitude = 100267162164.07379\n",
      "Step 83, gradient_magnitude = 97888193759.97113\n",
      "Step 84, gradient_magnitude = 95565669465.25163\n",
      "Step 85, gradient_magnitude = 93298250070.24998\n",
      "Step 86, gradient_magnitude = 91084628139.78392\n",
      "Step 87, gradient_magnitude = 88923527259.26767\n",
      "Step 88, gradient_magnitude = 86813701298.70436\n",
      "Step 89, gradient_magnitude = 84753933694.14859\n",
      "Step 90, gradient_magnitude = 82743036746.21034\n",
      "Step 91, gradient_magnitude = 80779850935.20776\n",
      "Step 92, gradient_magnitude = 78863244252.56635\n",
      "Step 93, gradient_magnitude = 76992111548.08266\n",
      "Step 94, gradient_magnitude = 75165373892.6759\n",
      "Step 95, gradient_magnitude = 73381977956.25232\n",
      "Step 96, gradient_magnitude = 71640895400.34631\n",
      "Step 97, gradient_magnitude = 69941122285.14972\n",
      "Step 98, gradient_magnitude = 68281678490.63106\n",
      "Step 99, gradient_magnitude = 66661607151.37542\n",
      "Step 100, gradient_magnitude = 65079974104.842026\n",
      "Step 101, gradient_magnitude = 63535867352.706085\n",
      "Step 102, gradient_magnitude = 62028396534.98609\n",
      "Step 103, gradient_magnitude = 60556692416.644875\n",
      "Step 104, gradient_magnitude = 59119906386.37327\n",
      "Step 105, gradient_magnitude = 57717209967.26575\n",
      "Step 106, gradient_magnitude = 56347794339.10494\n",
      "Step 107, gradient_magnitude = 55010869871.98313\n",
      "Step 108, gradient_magnitude = 53705665670.98446\n",
      "Step 109, gradient_magnitude = 52431429131.673805\n",
      "Step 110, gradient_magnitude = 51187425506.13439\n",
      "Step 111, gradient_magnitude = 49972937479.29315\n",
      "Step 112, gradient_magnitude = 48787264755.308304\n",
      "Step 113, gradient_magnitude = 47629723653.76623\n",
      "Step 114, gradient_magnitude = 46499646715.455414\n",
      "Step 115, gradient_magnitude = 45396382317.49987\n",
      "Step 116, gradient_magnitude = 44319294297.62206\n",
      "Step 117, gradient_magnitude = 43267761587.317726\n",
      "Step 118, gradient_magnitude = 42241177853.73892\n",
      "Step 119, gradient_magnitude = 41238951150.071075\n",
      "Step 120, gradient_magnitude = 40260503574.203514\n",
      "Step 121, gradient_magnitude = 39305270935.50375\n",
      "Step 122, gradient_magnitude = 38372702429.492836\n",
      "Step 123, gradient_magnitude = 37462260320.24222\n",
      "Step 124, gradient_magnitude = 36573419630.3049\n",
      "Step 125, gradient_magnitude = 35705667838.00589\n",
      "Step 126, gradient_magnitude = 34858504581.91047\n",
      "Step 127, gradient_magnitude = 34031441372.307022\n",
      "Step 128, gradient_magnitude = 33224001309.535633\n",
      "Step 129, gradient_magnitude = 32435718808.999714\n",
      "Step 130, gradient_magnitude = 31666139332.700726\n",
      "Step 131, gradient_magnitude = 30914819127.143307\n",
      "Step 132, gradient_magnitude = 30181324967.45871\n",
      "Step 133, gradient_magnitude = 29465233907.601162\n",
      "Step 134, gradient_magnitude = 28766133036.465042\n",
      "Step 135, gradient_magnitude = 28083619239.80059\n",
      "Step 136, gradient_magnitude = 27417298967.76136\n",
      "Step 137, gradient_magnitude = 26766788007.985394\n",
      "Step 138, gradient_magnitude = 26131711264.0434\n",
      "Step 139, gradient_magnitude = 25511702539.158684\n",
      "Step 140, gradient_magnitude = 24906404325.044758\n",
      "Step 141, gradient_magnitude = 24315467595.76554\n",
      "Step 142, gradient_magnitude = 23738551606.474274\n",
      "Step 143, gradient_magnitude = 23175323696.940582\n",
      "Step 144, gradient_magnitude = 22625459099.72828\n",
      "Step 145, gradient_magnitude = 22088640752.92817\n",
      "Step 146, gradient_magnitude = 21564559117.33933\n",
      "Step 147, gradient_magnitude = 21052911997.97612\n",
      "Step 148, gradient_magnitude = 20553404369.82213\n",
      "Step 149, gradient_magnitude = 20065748207.71231\n",
      "Step 150, gradient_magnitude = 19589662320.251743\n",
      "Step 151, gradient_magnitude = 19124872187.67595\n",
      "Step 152, gradient_magnitude = 18671109803.556957\n",
      "Step 153, gradient_magnitude = 18228113520.268124\n",
      "Step 154, gradient_magnitude = 17795627898.110626\n",
      "Step 155, gradient_magnitude = 17373403558.024715\n",
      "Step 156, gradient_magnitude = 16961197037.792215\n",
      "Step 157, gradient_magnitude = 16558770651.649769\n",
      "Step 158, gradient_magnitude = 16165892353.238739\n",
      "Step 159, gradient_magnitude = 15782335601.802393\n",
      "Step 160, gradient_magnitude = 15407879231.553192\n",
      "Step 161, gradient_magnitude = 15042307324.152445\n",
      "Step 162, gradient_magnitude = 14685409084.202251\n",
      "Step 163, gradient_magnitude = 14336978717.698296\n",
      "Step 164, gradient_magnitude = 13996815313.367496\n",
      "Step 165, gradient_magnitude = 13664722726.81598\n",
      "Step 166, gradient_magnitude = 13340509467.43058\n",
      "Step 167, gradient_magnitude = 13023988587.959675\n",
      "Step 168, gradient_magnitude = 12714977576.719725\n",
      "Step 169, gradient_magnitude = 12413298252.352005\n",
      "Step 170, gradient_magnitude = 12118776661.082228\n",
      "Step 171, gradient_magnitude = 11831242976.41506\n",
      "Step 172, gradient_magnitude = 11550531401.207895\n",
      "Step 173, gradient_magnitude = 11276480072.071882\n",
      "Step 174, gradient_magnitude = 11008930966.034967\n",
      "Step 175, gradient_magnitude = 10747729809.42744\n",
      "Step 176, gradient_magnitude = 10492725988.919407\n",
      "Step 177, gradient_magnitude = 10243772464.680595\n",
      "Step 178, gradient_magnitude = 10000725685.589508\n",
      "Step 179, gradient_magnitude = 9763445506.460844\n",
      "Step 180, gradient_magnitude = 9531795107.236982\n",
      "Step 181, gradient_magnitude = 9305640914.093468\n",
      "Step 182, gradient_magnitude = 9084852522.416061\n",
      "Step 183, gradient_magnitude = 8869302621.610807\n",
      "Step 184, gradient_magnitude = 8658866921.69223\n",
      "Step 185, gradient_magnitude = 8453424081.616458\n",
      "Step 186, gradient_magnitude = 8252855639.312434\n",
      "Step 187, gradient_magnitude = 8057045943.374736\n",
      "Step 188, gradient_magnitude = 7865882086.379326\n",
      "Step 189, gradient_magnitude = 7679253839.776233\n",
      "Step 190, gradient_magnitude = 7497053590.330788\n",
      "Step 191, gradient_magnitude = 7319176278.072006\n",
      "Step 192, gradient_magnitude = 7145519335.711763\n",
      "Step 193, gradient_magnitude = 6975982629.505879\n",
      "Step 194, gradient_magnitude = 6810468401.512074\n",
      "Step 195, gradient_magnitude = 6648881213.221532\n",
      "Step 196, gradient_magnitude = 6491127890.529109\n",
      "Step 197, gradient_magnitude = 6337117470.005156\n",
      "Step 198, gradient_magnitude = 6186761146.444527\n",
      "Step 199, gradient_magnitude = 6039972221.663523\n",
      "Step 200, gradient_magnitude = 5896666054.502268\n",
      "Step 201, gradient_magnitude = 5756760012.024915\n",
      "Step 202, gradient_magnitude = 5620173421.866607\n",
      "Step 203, gradient_magnitude = 5486827525.720407\n",
      "Step 204, gradient_magnitude = 5356645433.922025\n",
      "Step 205, gradient_magnitude = 5229552081.1137495\n",
      "Step 206, gradient_magnitude = 5105474182.963546\n",
      "Step 207, gradient_magnitude = 4984340193.900726\n",
      "Step 208, gradient_magnitude = 4866080265.868798\n",
      "Step 209, gradient_magnitude = 4750626208.048041\n",
      "Step 210, gradient_magnitude = 4637911447.531295\n",
      "Step 211, gradient_magnitude = 4527870990.943052\n",
      "Step 212, gradient_magnitude = 4420441386.957588\n",
      "Step 213, gradient_magnitude = 4315560689.715154\n",
      "Step 214, gradient_magnitude = 4213168423.102157\n",
      "Step 215, gradient_magnitude = 4113205545.879804\n",
      "Step 216, gradient_magnitude = 4015614417.6374836\n",
      "Step 217, gradient_magnitude = 3920338765.559676\n",
      "Step 218, gradient_magnitude = 3827323651.975854\n",
      "Step 219, gradient_magnitude = 3736515442.6833577\n",
      "Step 220, gradient_magnitude = 3647861776.0199504\n",
      "Step 221, gradient_magnitude = 3561311532.672787\n",
      "Step 222, gradient_magnitude = 3476814806.199346\n",
      "Step 223, gradient_magnitude = 3394322874.2548437\n",
      "Step 224, gradient_magnitude = 3313788170.4926147\n",
      "Step 225, gradient_magnitude = 3235164257.1419134\n",
      "Step 226, gradient_magnitude = 3158405798.2257476\n",
      "Step 227, gradient_magnitude = 3083468533.424659\n",
      "Step 228, gradient_magnitude = 3010309252.5505123\n",
      "Step 229, gradient_magnitude = 2938885770.6348886\n",
      "Step 230, gradient_magnitude = 2869156903.600767\n",
      "Step 231, gradient_magnitude = 2801082444.518445\n",
      "Step 232, gradient_magnitude = 2734623140.418433\n",
      "Step 233, gradient_magnitude = 2669740669.65962\n",
      "Step 234, gradient_magnitude = 2606397619.8326445\n",
      "Step 235, gradient_magnitude = 2544557466.1836114\n",
      "Step 236, gradient_magnitude = 2484184550.5592465\n",
      "Step 237, gradient_magnitude = 2425244060.8389106\n",
      "Step 238, gradient_magnitude = 2367702010.8672976\n",
      "Step 239, gradient_magnitude = 2311525220.8531475\n",
      "Step 240, gradient_magnitude = 2256681298.240633\n",
      "Step 241, gradient_magnitude = 2203138619.027453\n",
      "Step 242, gradient_magnitude = 2150866309.53289\n",
      "Step 243, gradient_magnitude = 2099834228.5956926\n",
      "Step 244, gradient_magnitude = 2050012950.1903365\n",
      "Step 245, gradient_magnitude = 2001373746.4633725\n",
      "Step 246, gradient_magnitude = 1953888571.168146\n",
      "Step 247, gradient_magnitude = 1907530043.4897285\n",
      "Step 248, gradient_magnitude = 1862271432.2604737\n",
      "Step 249, gradient_magnitude = 1818086640.5419044\n",
      "Step 250, gradient_magnitude = 1774950190.5821593\n",
      "Step 251, gradient_magnitude = 1732837209.121264\n",
      "Step 252, gradient_magnitude = 1691723413.0492077\n",
      "Step 253, gradient_magnitude = 1651585095.4061282\n",
      "Step 254, gradient_magnitude = 1612399111.7078397\n",
      "Step 255, gradient_magnitude = 1574142866.6063218\n",
      "Step 256, gradient_magnitude = 1536794300.854237\n",
      "Step 257, gradient_magnitude = 1500331878.5931864\n",
      "Step 258, gradient_magnitude = 1464734574.9262521\n",
      "Step 259, gradient_magnitude = 1429981863.8031957\n",
      "Step 260, gradient_magnitude = 1396053706.1798384\n",
      "Step 261, gradient_magnitude = 1362930538.4651642\n",
      "Step 262, gradient_magnitude = 1330593261.2384934\n",
      "Step 263, gradient_magnitude = 1299023228.2388396\n",
      "Step 264, gradient_magnitude = 1268202235.6120992\n",
      "Step 265, gradient_magnitude = 1238112511.4155986\n",
      "Step 266, gradient_magnitude = 1208736705.366839\n",
      "Step 267, gradient_magnitude = 1180057878.8437912\n",
      "Step 268, gradient_magnitude = 1152059495.1132567\n",
      "Step 269, gradient_magnitude = 1124725409.800616\n",
      "Step 270, gradient_magnitude = 1098039861.5744267\n",
      "Step 271, gradient_magnitude = 1071987463.0647817\n",
      "Step 272, gradient_magnitude = 1046553191.9835585\n",
      "Step 273, gradient_magnitude = 1021722382.4711766\n",
      "Step 274, gradient_magnitude = 997480716.6308409\n"
     ]
    }
   ],
   "source": [
    "model_weights = regression_gradient_descent(model_features_matrix,\n",
    "                                            output_array,\n",
    "                                            initial_weights,\n",
    "                                            step_size,\n",
    "                                            tolerance\n",
    "                                           )"
   ]
  },
  {
   "cell_type": "code",
   "execution_count": 337,
   "metadata": {},
   "outputs": [
    {
     "data": {
      "text/plain": [
       "array([-9.99999688e+04,  2.45072603e+02,  6.52795267e+01])"
      ]
     },
     "execution_count": 337,
     "metadata": {},
     "output_type": "execute_result"
    }
   ],
   "source": [
    "model_weights"
   ]
  },
  {
   "cell_type": "markdown",
   "metadata": {},
   "source": [
    "###  Predicted price for the 1st house using model 2"
   ]
  },
  {
   "cell_type": "code",
   "execution_count": 338,
   "metadata": {},
   "outputs": [],
   "source": [
    "test_features = ['sqft_living', 'sqft_living15']\n",
    "(test_feature_matrix, test_output) = get_numpy_data(test_data, test_features, 'price')"
   ]
  },
  {
   "cell_type": "code",
   "execution_count": 339,
   "metadata": {},
   "outputs": [],
   "source": [
    "predicted_test_houses = predict_outcome(test_feature_matrix, model_weights)"
   ]
  },
  {
   "cell_type": "code",
   "execution_count": 340,
   "metadata": {},
   "outputs": [
    {
     "data": {
      "text/plain": [
       "366651.41162949393"
      ]
     },
     "execution_count": 340,
     "metadata": {},
     "output_type": "execute_result"
    }
   ],
   "source": [
    "predicted_test_houses[0]"
   ]
  },
  {
   "cell_type": "code",
   "execution_count": 341,
   "metadata": {},
   "outputs": [
    {
     "data": {
      "text/plain": [
       "310000.0"
      ]
     },
     "execution_count": 341,
     "metadata": {},
     "output_type": "execute_result"
    }
   ],
   "source": [
    "test_data['price'][0]"
   ]
  },
  {
   "cell_type": "code",
   "execution_count": 342,
   "metadata": {},
   "outputs": [],
   "source": [
    "model_2_errors = test_data['price'] - predicted_test_houses"
   ]
  },
  {
   "cell_type": "code",
   "execution_count": 343,
   "metadata": {},
   "outputs": [
    {
     "data": {
      "text/plain": [
       "270263443629803.56"
      ]
     },
     "execution_count": 343,
     "metadata": {},
     "output_type": "execute_result"
    }
   ],
   "source": [
    "model_2_rss = np.sum(model_2_errors * model_2_errors)\n",
    "model_2_rss"
   ]
  },
  {
   "cell_type": "code",
   "execution_count": 344,
   "metadata": {},
   "outputs": [
    {
     "data": {
      "text/plain": [
       "False"
      ]
     },
     "execution_count": 344,
     "metadata": {},
     "output_type": "execute_result"
    }
   ],
   "source": [
    "test_rss < model_2_rss"
   ]
  }
 ],
 "metadata": {
  "kernelspec": {
   "display_name": "Python [conda env:ds-env] *",
   "language": "python",
   "name": "conda-env-ds-env-py"
  },
  "language_info": {
   "codemirror_mode": {
    "name": "ipython",
    "version": 3
   },
   "file_extension": ".py",
   "mimetype": "text/x-python",
   "name": "python",
   "nbconvert_exporter": "python",
   "pygments_lexer": "ipython3",
   "version": "3.7.3"
  }
 },
 "nbformat": 4,
 "nbformat_minor": 2
}
