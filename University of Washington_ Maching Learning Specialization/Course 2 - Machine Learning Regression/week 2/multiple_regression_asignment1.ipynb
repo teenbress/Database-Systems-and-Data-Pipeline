{
 "cells": [
  {
   "cell_type": "code",
   "execution_count": 16,
   "metadata": {},
   "outputs": [],
   "source": [
    "import pandas as pd\n",
    "import math"
   ]
  },
  {
   "cell_type": "code",
   "execution_count": 4,
   "metadata": {},
   "outputs": [],
   "source": [
    "train_data = pd.read_csv('kc_house_train_data.csv')\n",
    "test_data = pd.read_csv('kc_house_test_data.csv')"
   ]
  },
  {
   "cell_type": "code",
   "execution_count": 5,
   "metadata": {},
   "outputs": [
    {
     "name": "stdout",
     "output_type": "stream",
     "text": [
      "Length of train data and test data: 17384 and 4229, respectively\n"
     ]
    }
   ],
   "source": [
    "print(\"Length of train data and test data: %s and %s, respectively\"\n",
    "     % (len(train_data), len(test_data)))"
   ]
  },
  {
   "cell_type": "code",
   "execution_count": 17,
   "metadata": {},
   "outputs": [],
   "source": [
    "def add_additional_columns(data_set):\n",
    "    data_set['bedrooms_squared'] = data_set['bedrooms'].apply(lambda u: u*u)\n",
    "    data_set['bed_bath_rooms'] = data_set['bedrooms'] * data_set['bathrooms']\n",
    "    data_set['log_sqft_living'] = data_set['sqft_living'].apply(lambda u: math.log(u))\n",
    "    data_set['lat_plus_long'] = data_set['lat'] + data_set['long']"
   ]
  },
  {
   "cell_type": "code",
   "execution_count": 18,
   "metadata": {},
   "outputs": [],
   "source": [
    "add_additional_columns(train_data)\n",
    "\n",
    "train_data.head()"
   ]
  },
  {
   "cell_type": "code",
   "execution_count": 20,
   "metadata": {},
   "outputs": [
    {
     "data": {
      "text/html": [
       "<div>\n",
       "<style scoped>\n",
       "    .dataframe tbody tr th:only-of-type {\n",
       "        vertical-align: middle;\n",
       "    }\n",
       "\n",
       "    .dataframe tbody tr th {\n",
       "        vertical-align: top;\n",
       "    }\n",
       "\n",
       "    .dataframe thead th {\n",
       "        text-align: right;\n",
       "    }\n",
       "</style>\n",
       "<table border=\"1\" class=\"dataframe\">\n",
       "  <thead>\n",
       "    <tr style=\"text-align: right;\">\n",
       "      <th></th>\n",
       "      <th>id</th>\n",
       "      <th>date</th>\n",
       "      <th>price</th>\n",
       "      <th>bedrooms</th>\n",
       "      <th>bathrooms</th>\n",
       "      <th>sqft_living</th>\n",
       "      <th>sqft_lot</th>\n",
       "      <th>floors</th>\n",
       "      <th>waterfront</th>\n",
       "      <th>view</th>\n",
       "      <th>...</th>\n",
       "      <th>yr_renovated</th>\n",
       "      <th>zipcode</th>\n",
       "      <th>lat</th>\n",
       "      <th>long</th>\n",
       "      <th>sqft_living15</th>\n",
       "      <th>sqft_lot15</th>\n",
       "      <th>bedrooms_squared</th>\n",
       "      <th>bed_bath_rooms</th>\n",
       "      <th>log_sqft_living</th>\n",
       "      <th>lat_plus_long</th>\n",
       "    </tr>\n",
       "  </thead>\n",
       "  <tbody>\n",
       "    <tr>\n",
       "      <th>0</th>\n",
       "      <td>114101516</td>\n",
       "      <td>20140528T000000</td>\n",
       "      <td>310000.0</td>\n",
       "      <td>3</td>\n",
       "      <td>1.0</td>\n",
       "      <td>1430</td>\n",
       "      <td>19901</td>\n",
       "      <td>1.5</td>\n",
       "      <td>0</td>\n",
       "      <td>0</td>\n",
       "      <td>...</td>\n",
       "      <td>0</td>\n",
       "      <td>98028</td>\n",
       "      <td>47.7558</td>\n",
       "      <td>-122.229</td>\n",
       "      <td>1780</td>\n",
       "      <td>12697</td>\n",
       "      <td>9</td>\n",
       "      <td>3.0</td>\n",
       "      <td>7.265430</td>\n",
       "      <td>-74.4732</td>\n",
       "    </tr>\n",
       "    <tr>\n",
       "      <th>1</th>\n",
       "      <td>9297300055</td>\n",
       "      <td>20150124T000000</td>\n",
       "      <td>650000.0</td>\n",
       "      <td>4</td>\n",
       "      <td>3.0</td>\n",
       "      <td>2950</td>\n",
       "      <td>5000</td>\n",
       "      <td>2.0</td>\n",
       "      <td>0</td>\n",
       "      <td>3</td>\n",
       "      <td>...</td>\n",
       "      <td>0</td>\n",
       "      <td>98126</td>\n",
       "      <td>47.5714</td>\n",
       "      <td>-122.375</td>\n",
       "      <td>2140</td>\n",
       "      <td>4000</td>\n",
       "      <td>16</td>\n",
       "      <td>12.0</td>\n",
       "      <td>7.989560</td>\n",
       "      <td>-74.8036</td>\n",
       "    </tr>\n",
       "    <tr>\n",
       "      <th>2</th>\n",
       "      <td>1202000200</td>\n",
       "      <td>20141103T000000</td>\n",
       "      <td>233000.0</td>\n",
       "      <td>3</td>\n",
       "      <td>2.0</td>\n",
       "      <td>1710</td>\n",
       "      <td>4697</td>\n",
       "      <td>1.5</td>\n",
       "      <td>0</td>\n",
       "      <td>0</td>\n",
       "      <td>...</td>\n",
       "      <td>0</td>\n",
       "      <td>98002</td>\n",
       "      <td>47.3048</td>\n",
       "      <td>-122.218</td>\n",
       "      <td>1030</td>\n",
       "      <td>4705</td>\n",
       "      <td>9</td>\n",
       "      <td>6.0</td>\n",
       "      <td>7.444249</td>\n",
       "      <td>-74.9132</td>\n",
       "    </tr>\n",
       "    <tr>\n",
       "      <th>3</th>\n",
       "      <td>8562750320</td>\n",
       "      <td>20141110T000000</td>\n",
       "      <td>580500.0</td>\n",
       "      <td>3</td>\n",
       "      <td>2.5</td>\n",
       "      <td>2320</td>\n",
       "      <td>3980</td>\n",
       "      <td>2.0</td>\n",
       "      <td>0</td>\n",
       "      <td>0</td>\n",
       "      <td>...</td>\n",
       "      <td>0</td>\n",
       "      <td>98027</td>\n",
       "      <td>47.5391</td>\n",
       "      <td>-122.070</td>\n",
       "      <td>2580</td>\n",
       "      <td>3980</td>\n",
       "      <td>9</td>\n",
       "      <td>7.5</td>\n",
       "      <td>7.749322</td>\n",
       "      <td>-74.5309</td>\n",
       "    </tr>\n",
       "    <tr>\n",
       "      <th>4</th>\n",
       "      <td>7589200193</td>\n",
       "      <td>20141110T000000</td>\n",
       "      <td>535000.0</td>\n",
       "      <td>3</td>\n",
       "      <td>1.0</td>\n",
       "      <td>1090</td>\n",
       "      <td>3000</td>\n",
       "      <td>1.5</td>\n",
       "      <td>0</td>\n",
       "      <td>0</td>\n",
       "      <td>...</td>\n",
       "      <td>0</td>\n",
       "      <td>98117</td>\n",
       "      <td>47.6889</td>\n",
       "      <td>-122.375</td>\n",
       "      <td>1570</td>\n",
       "      <td>5080</td>\n",
       "      <td>9</td>\n",
       "      <td>3.0</td>\n",
       "      <td>6.993933</td>\n",
       "      <td>-74.6861</td>\n",
       "    </tr>\n",
       "  </tbody>\n",
       "</table>\n",
       "<p>5 rows × 25 columns</p>\n",
       "</div>"
      ],
      "text/plain": [
       "           id             date     price  bedrooms  bathrooms  sqft_living  \\\n",
       "0   114101516  20140528T000000  310000.0         3        1.0         1430   \n",
       "1  9297300055  20150124T000000  650000.0         4        3.0         2950   \n",
       "2  1202000200  20141103T000000  233000.0         3        2.0         1710   \n",
       "3  8562750320  20141110T000000  580500.0         3        2.5         2320   \n",
       "4  7589200193  20141110T000000  535000.0         3        1.0         1090   \n",
       "\n",
       "   sqft_lot  floors  waterfront  view  ...  yr_renovated  zipcode      lat  \\\n",
       "0     19901     1.5           0     0  ...             0    98028  47.7558   \n",
       "1      5000     2.0           0     3  ...             0    98126  47.5714   \n",
       "2      4697     1.5           0     0  ...             0    98002  47.3048   \n",
       "3      3980     2.0           0     0  ...             0    98027  47.5391   \n",
       "4      3000     1.5           0     0  ...             0    98117  47.6889   \n",
       "\n",
       "      long  sqft_living15  sqft_lot15  bedrooms_squared  bed_bath_rooms  \\\n",
       "0 -122.229           1780       12697                 9             3.0   \n",
       "1 -122.375           2140        4000                16            12.0   \n",
       "2 -122.218           1030        4705                 9             6.0   \n",
       "3 -122.070           2580        3980                 9             7.5   \n",
       "4 -122.375           1570        5080                 9             3.0   \n",
       "\n",
       "   log_sqft_living  lat_plus_long  \n",
       "0         7.265430       -74.4732  \n",
       "1         7.989560       -74.8036  \n",
       "2         7.444249       -74.9132  \n",
       "3         7.749322       -74.5309  \n",
       "4         6.993933       -74.6861  \n",
       "\n",
       "[5 rows x 25 columns]"
      ]
     },
     "execution_count": 20,
     "metadata": {},
     "output_type": "execute_result"
    }
   ],
   "source": [
    "add_additional_columns(test_data)\n",
    "test_data.head()"
   ]
  },
  {
   "cell_type": "markdown",
   "metadata": {},
   "source": [
    "### Quiz question: what are the mean values of your 4 new variables on TEST data? (round to 2 digits)"
   ]
  },
  {
   "cell_type": "code",
   "execution_count": 23,
   "metadata": {},
   "outputs": [],
   "source": [
    "def show_mean(data_set, columns):\n",
    "    for col in columns:\n",
    "        col_mean = data_set[col].mean()\n",
    "        print ('Mean of col: %s is %s' % (col, col_mean))"
   ]
  },
  {
   "cell_type": "code",
   "execution_count": 24,
   "metadata": {},
   "outputs": [
    {
     "name": "stdout",
     "output_type": "stream",
     "text": [
      "Mean of col: bedrooms_squared is 12.4466777015843\n",
      "Mean of col: bed_bath_rooms is 7.5039016315913925\n",
      "Mean of col: log_sqft_living is 7.550274679645938\n",
      "Mean of col: lat_plus_long is -74.65333355403168\n"
     ]
    }
   ],
   "source": [
    "show_mean(test_data, ['bedrooms_squared', 'bed_bath_rooms',\n",
    "                         'log_sqft_living', 'lat_plus_long'\n",
    "                     ])"
   ]
  },
  {
   "cell_type": "code",
   "execution_count": 25,
   "metadata": {},
   "outputs": [],
   "source": [
    "from sklearn import datasets, linear_model\n",
    "from sklearn.metrics import mean_squared_error, r2_score"
   ]
  },
  {
   "cell_type": "markdown",
   "metadata": {},
   "source": [
    "### Model 1"
   ]
  },
  {
   "cell_type": "code",
   "execution_count": 94,
   "metadata": {},
   "outputs": [],
   "source": [
    "regr = linear_model.LinearRegression()"
   ]
  },
  {
   "cell_type": "code",
   "execution_count": 95,
   "metadata": {},
   "outputs": [],
   "source": [
    "input_1 = pd.DataFrame(train_data[['sqft_living', \n",
    "                                   'bedrooms',\n",
    "                                   'bathrooms',\n",
    "                                   'lat',\n",
    "                                   'long']])"
   ]
  },
  {
   "cell_type": "code",
   "execution_count": 96,
   "metadata": {},
   "outputs": [
    {
     "name": "stdout",
     "output_type": "stream",
     "text": [
      "[ 3.12258646e+02 -5.95865332e+04  1.57067421e+04  6.58619264e+05\n",
      " -3.09374351e+05]\n"
     ]
    }
   ],
   "source": [
    "print(regr.fit(input_1, train_data['price']).coef_)"
   ]
  },
  {
   "cell_type": "code",
   "execution_count": 97,
   "metadata": {},
   "outputs": [
    {
     "name": "stdout",
     "output_type": "stream",
     "text": [
      "[ 3.12258646e+02 -5.95865332e+04  1.57067421e+04  6.58619264e+05\n",
      " -3.09374351e+05]\n"
     ]
    }
   ],
   "source": [
    "coef_1 = regr.coef_\n",
    "print(coef_1)"
   ]
  },
  {
   "cell_type": "markdown",
   "metadata": {},
   "source": [
    "### Model 2"
   ]
  },
  {
   "cell_type": "code",
   "execution_count": 98,
   "metadata": {},
   "outputs": [],
   "source": [
    "input_2 = pd.DataFrame(train_data[['sqft_living', \n",
    "                                   'bedrooms',\n",
    "                                   'bathrooms',\n",
    "                                   'lat',\n",
    "                                   'long',\n",
    "                                   'bed_bath_rooms'\n",
    "                                  ]])"
   ]
  },
  {
   "cell_type": "code",
   "execution_count": 99,
   "metadata": {},
   "outputs": [],
   "source": [
    "regr2 = linear_model.LinearRegression()"
   ]
  },
  {
   "cell_type": "code",
   "execution_count": 100,
   "metadata": {},
   "outputs": [
    {
     "name": "stdout",
     "output_type": "stream",
     "text": [
      "[ 3.06610053e+02 -1.13446368e+05 -7.14613083e+04  6.54844630e+05\n",
      " -2.94298969e+05  2.55796520e+04]\n"
     ]
    }
   ],
   "source": [
    "regr2.fit(input_2, train_data['price'])\n",
    "coef_2 = regr2.coef_\n",
    "print(coef_2)"
   ]
  },
  {
   "cell_type": "markdown",
   "metadata": {},
   "source": [
    "### Model 3"
   ]
  },
  {
   "cell_type": "code",
   "execution_count": 101,
   "metadata": {},
   "outputs": [],
   "source": [
    "input_3 = pd.DataFrame(train_data[['sqft_living', \n",
    "                                   'bedrooms',\n",
    "                                   'bathrooms',\n",
    "                                   'lat',\n",
    "                                   'long',\n",
    "                                   'bed_bath_rooms',\n",
    "                                   'bedrooms_squared',\n",
    "                                   'log_sqft_living',\n",
    "                                   'lat_plus_long'\n",
    "                                  ]])"
   ]
  },
  {
   "cell_type": "code",
   "execution_count": 102,
   "metadata": {},
   "outputs": [],
   "source": [
    "regr3 = linear_model.LinearRegression()"
   ]
  },
  {
   "cell_type": "code",
   "execution_count": 103,
   "metadata": {},
   "outputs": [
    {
     "data": {
      "text/plain": [
       "LinearRegression(copy_X=True, fit_intercept=True, n_jobs=None, normalize=False)"
      ]
     },
     "execution_count": 103,
     "metadata": {},
     "output_type": "execute_result"
    }
   ],
   "source": [
    "regr3.fit(input_3, train_data['price'])"
   ]
  },
  {
   "cell_type": "code",
   "execution_count": 104,
   "metadata": {},
   "outputs": [
    {
     "name": "stdout",
     "output_type": "stream",
     "text": [
      "[ 5.29422820e+02  3.45142296e+04  6.70607813e+04  5.34085611e+05\n",
      " -4.06750711e+05 -8.57050439e+03 -6.78858667e+03 -5.61831484e+05\n",
      "  1.27334900e+05]\n"
     ]
    }
   ],
   "source": [
    "coef_3 = regr3.coef_\n",
    "print(coef_3)"
   ]
  },
  {
   "cell_type": "markdown",
   "metadata": {},
   "source": [
    "### Quiz Question: Which model (1, 2 or 3) had the lowest RSS on TRAINING data?"
   ]
  },
  {
   "cell_type": "code",
   "execution_count": 105,
   "metadata": {},
   "outputs": [],
   "source": [
    "def calculate_rss(model, input_x, actual_output):\n",
    "    diff = model.predict(input_x) - actual_output\n",
    "    return diff.transpose().dot(diff)"
   ]
  },
  {
   "cell_type": "code",
   "execution_count": 109,
   "metadata": {},
   "outputs": [
    {
     "name": "stdout",
     "output_type": "stream",
     "text": [
      "Rss1 = 967879963049545.8, Rss2 = 958419635074069.0, Rss3 = 903436455050477.9\n",
      "Min is: 903436455050477.9, Max is: 967879963049545.8 \n"
     ]
    }
   ],
   "source": [
    "rss_1 = calculate_rss(regr, input_1, train_data['price'])\n",
    "rss_2 = calculate_rss(regr2, input_2, train_data['price'])\n",
    "rss_3 = calculate_rss(regr3, input_3, train_data['price'])\n",
    "print(\"Rss1 = %s, Rss2 = %s, Rss3 = %s\" % (rss_1, rss_2, rss_3))\n",
    "print(\"Min is: %s, Max is: %s \" % (min(rss_1, rss_2, rss_3),\n",
    "                                max(rss_1, rss_2, rss_3)\n",
    "                               ))"
   ]
  },
  {
   "cell_type": "markdown",
   "metadata": {},
   "source": [
    "### Quiz Question: Which model (1, 2, or 3) had the lowest RSS on TESTING data?"
   ]
  },
  {
   "cell_type": "code",
   "execution_count": 118,
   "metadata": {},
   "outputs": [],
   "source": [
    "input_test_1 = pd.DataFrame(test_data[['sqft_living', \n",
    "                                   'bedrooms',\n",
    "                                   'bathrooms',\n",
    "                                   'lat',\n",
    "                                   'long']])\n",
    "input_test_2 = pd.DataFrame(test_data[['sqft_living', \n",
    "                                   'bedrooms',\n",
    "                                   'bathrooms',\n",
    "                                   'lat',\n",
    "                                   'long',\n",
    "                                   'bed_bath_rooms'\n",
    "                                  ]])\n",
    "\n",
    "input_test_3 = pd.DataFrame(test_data[['sqft_living', \n",
    "                                   'bedrooms',\n",
    "                                   'bathrooms',\n",
    "                                   'lat',\n",
    "                                   'long',\n",
    "                                   'bed_bath_rooms',\n",
    "                                   'bedrooms_squared',\n",
    "                                   'log_sqft_living',\n",
    "                                   'lat_plus_long'\n",
    "                                  ]])\n"
   ]
  },
  {
   "cell_type": "code",
   "execution_count": 119,
   "metadata": {},
   "outputs": [
    {
     "name": "stdout",
     "output_type": "stream",
     "text": [
      "Analysis on test data\n",
      "Rss1 = 225500469795489.6, Rss2 = 223377462976467.2, Rss3 = 259236319207179.34\n",
      "Min is: 223377462976467.2, Max is: 259236319207179.34 \n"
     ]
    }
   ],
   "source": [
    "rss_test_1 = calculate_rss(regr, input_test_1, test_data['price'])\n",
    "rss_test_2 = calculate_rss(regr2, input_test_2, test_data['price'])\n",
    "rss_test_3 = calculate_rss(regr3, input_test_3, test_data['price'])\n",
    "\n",
    "print(\"Analysis on test data\")\n",
    "print(\"Rss1 = %s, Rss2 = %s, Rss3 = %s\" % (rss_test_1, rss_test_2, rss_test_3))\n",
    "print(\"Min is: %s, Max is: %s \" % (min(rss_test_1, rss_test_2, rss_test_3),\n",
    "                                max(rss_test_1, rss_test_2, rss_test_3)\n",
    "                               ))"
   ]
  },
  {
   "cell_type": "code",
   "execution_count": null,
   "metadata": {},
   "outputs": [],
   "source": []
  }
 ],
 "metadata": {
  "kernelspec": {
   "display_name": "Python [conda env:ds-env] *",
   "language": "python",
   "name": "conda-env-ds-env-py"
  },
  "language_info": {
   "codemirror_mode": {
    "name": "ipython",
    "version": 3
   },
   "file_extension": ".py",
   "mimetype": "text/x-python",
   "name": "python",
   "nbconvert_exporter": "python",
   "pygments_lexer": "ipython3",
   "version": "3.7.3"
  }
 },
 "nbformat": 4,
 "nbformat_minor": 2
}
