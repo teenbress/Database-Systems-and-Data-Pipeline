{
 "cells": [
  {
   "cell_type": "code",
   "execution_count": 291,
   "metadata": {},
   "outputs": [],
   "source": [
    "import numpy as np\n",
    "import pandas as pd\n",
    "import math"
   ]
  },
  {
   "cell_type": "code",
   "execution_count": 292,
   "metadata": {},
   "outputs": [],
   "source": [
    "dtype_dict = {'name': str, 'review': str, 'rating': int}"
   ]
  },
  {
   "cell_type": "code",
   "execution_count": 293,
   "metadata": {},
   "outputs": [],
   "source": [
    "products = pd.read_csv('amazon_baby.csv', dtype=dtype_dict)"
   ]
  },
  {
   "cell_type": "code",
   "execution_count": 294,
   "metadata": {},
   "outputs": [
    {
     "data": {
      "text/plain": [
       "Index(['name', 'review', 'rating'], dtype='object')"
      ]
     },
     "execution_count": 294,
     "metadata": {},
     "output_type": "execute_result"
    }
   ],
   "source": [
    "products.columns"
   ]
  },
  {
   "cell_type": "code",
   "execution_count": 295,
   "metadata": {},
   "outputs": [
    {
     "data": {
      "text/plain": [
       "name      object\n",
       "review    object\n",
       "rating     int64\n",
       "dtype: object"
      ]
     },
     "execution_count": 295,
     "metadata": {},
     "output_type": "execute_result"
    }
   ],
   "source": [
    "products.dtypes"
   ]
  },
  {
   "cell_type": "code",
   "execution_count": 296,
   "metadata": {},
   "outputs": [
    {
     "name": "stdout",
     "output_type": "stream",
     "text": [
      "{33: '', 34: '', 35: '', 36: '', 37: '', 38: '', 39: '', 40: '', 41: '', 42: '', 43: '', 44: '', 45: '', 46: '', 47: '', 58: '', 59: '', 60: '', 61: '', 62: '', 63: '', 64: '', 91: '', 92: '', 93: '', 94: '', 95: '', 96: '', 123: '', 124: '', 125: '', 126: ''}\n"
     ]
    }
   ],
   "source": [
    "import string\n",
    "\n",
    "punc_map = {}\n",
    "for c in string.punctuation:\n",
    "    punc_map[c] = ''\n",
    "punc_trans = str.maketrans(punc_map)\n",
    "print (punc_trans)\n",
    "\n",
    "def remove_punctuation(text):\n",
    "    return str.translate(text, punc_trans)\n",
    "    \n",
    "    "
   ]
  },
  {
   "cell_type": "code",
   "execution_count": 297,
   "metadata": {},
   "outputs": [
    {
     "data": {
      "text/plain": [
       "'A hihi  hello'"
      ]
     },
     "execution_count": 297,
     "metadata": {},
     "output_type": "execute_result"
    }
   ],
   "source": [
    "remove_punctuation(\"A hihi... !!! hello\")"
   ]
  },
  {
   "cell_type": "code",
   "execution_count": 298,
   "metadata": {},
   "outputs": [
    {
     "data": {
      "text/plain": [
       "array(['These flannel wipes are OK, but in my opinion not worth keeping.  I also ordered someImse Vimse Cloth Wipes-Ocean Blue-12 countwhich are larger, had a nicer, softer texture and just seemed higher quality.  I use cloth wipes for hands and faces and have been usingThirsties 6 Pack Fab Wipes, Boyfor about 8 months now and need to replace them because they are starting to get rough and have had stink issues for a while that stripping no longer handles.',\n",
       "       'it came early and was not disappointed. i love planet wise bags and now my wipe holder. it keps my osocozy wipes moist and does not leak. highly recommend it.',\n",
       "       'Very soft and comfortable and warmer than it looks...fit the full size bed perfectly...would recommend to anyone looking for this type of quilt',\n",
       "       ...,\n",
       "       'This item looks great and cool for my kids....I know this Company and its great in quality...',\n",
       "       'I am extremely happy with this product. I have been searching for a product like this for a long time and just not found the right one. I am a mum who is very into my organic products and unllike many others I have looked at, The Tutti Bimbi Freezer Tray is also BPA and phthalates free. The bright packaging and the ability to choose my colour attracted me to the listing and the fact that I can prepare 9 meals with a very generous portion size for my baby at one time is a massive advantage to me as a working mum. I can freeze the tray easily as it comes with a very easy clip on lid that also protects from freezer burn. I have found I can also put the baby food tray in the dishwasher fine. I would strongly recommend the Tutti Bimbi Baby Food Freezer Tray to any parent like myself who is looking for an easy way to make baby weaning food at home.',\n",
       "       'I love this product very mush . I have bought many car shades earlier but they never protected me from direct sun exposure . But these really work well and It also Keeps the temperature of the car'],\n",
       "      dtype=object)"
      ]
     },
     "execution_count": 298,
     "metadata": {},
     "output_type": "execute_result"
    }
   ],
   "source": [
    "products['review'].values"
   ]
  },
  {
   "cell_type": "code",
   "execution_count": 299,
   "metadata": {},
   "outputs": [],
   "source": [
    "products.fillna('', inplace=True)"
   ]
  },
  {
   "cell_type": "code",
   "execution_count": 300,
   "metadata": {},
   "outputs": [],
   "source": [
    "products['review_clean'] = products['review'].apply(remove_punctuation)"
   ]
  },
  {
   "cell_type": "markdown",
   "metadata": {},
   "source": [
    "## Extract sentiments"
   ]
  },
  {
   "cell_type": "code",
   "execution_count": 301,
   "metadata": {},
   "outputs": [],
   "source": [
    "products = products[products['rating'] != 3]"
   ]
  },
  {
   "cell_type": "code",
   "execution_count": 302,
   "metadata": {},
   "outputs": [],
   "source": [
    "products['sentiment'] = products['rating'].apply(lambda rating: 1 if rating > 3 else -1)"
   ]
  },
  {
   "cell_type": "markdown",
   "metadata": {},
   "source": [
    "## Splitting into training and test sets"
   ]
  },
  {
   "cell_type": "code",
   "execution_count": 303,
   "metadata": {},
   "outputs": [],
   "source": [
    "train_idx = pd.read_json('module-9-assignment-train-idx.json')[0]\n",
    "test_idx = pd.read_json('module-9-assignment-test-idx.json')[0]"
   ]
  },
  {
   "cell_type": "code",
   "execution_count": 304,
   "metadata": {},
   "outputs": [],
   "source": [
    "train_data = products.iloc[train_idx]\n",
    "test_data = products.iloc[test_idx]"
   ]
  },
  {
   "cell_type": "markdown",
   "metadata": {},
   "source": [
    "## Build the word count vector for each review\n"
   ]
  },
  {
   "cell_type": "code",
   "execution_count": 305,
   "metadata": {},
   "outputs": [],
   "source": [
    "from sklearn.feature_extraction.text import CountVectorizer"
   ]
  },
  {
   "cell_type": "code",
   "execution_count": 306,
   "metadata": {},
   "outputs": [],
   "source": [
    "vectorizer = CountVectorizer(token_pattern=r'\\b\\w+\\b')\n",
    "train_matrix = vectorizer.fit_transform(train_data['review_clean'])"
   ]
  },
  {
   "cell_type": "code",
   "execution_count": 307,
   "metadata": {},
   "outputs": [],
   "source": [
    "test_matrix = vectorizer.transform(test_data['review_clean'])"
   ]
  },
  {
   "cell_type": "markdown",
   "metadata": {},
   "source": [
    "## Train a sentiment classifier with logistic regression\n"
   ]
  },
  {
   "cell_type": "code",
   "execution_count": 308,
   "metadata": {},
   "outputs": [],
   "source": [
    "from sklearn.linear_model import LogisticRegression"
   ]
  },
  {
   "cell_type": "code",
   "execution_count": 309,
   "metadata": {},
   "outputs": [],
   "source": [
    "lr = LogisticRegression()"
   ]
  },
  {
   "cell_type": "code",
   "execution_count": 310,
   "metadata": {},
   "outputs": [
    {
     "name": "stderr",
     "output_type": "stream",
     "text": [
      "/Users/tdx/anaconda2/envs/ds-env/lib/python3.7/site-packages/sklearn/linear_model/logistic.py:432: FutureWarning: Default solver will be changed to 'lbfgs' in 0.22. Specify a solver to silence this warning.\n",
      "  FutureWarning)\n",
      "/Users/tdx/anaconda2/envs/ds-env/lib/python3.7/site-packages/sklearn/svm/base.py:929: ConvergenceWarning: Liblinear failed to converge, increase the number of iterations.\n",
      "  \"the number of iterations.\", ConvergenceWarning)\n"
     ]
    },
    {
     "data": {
      "text/plain": [
       "LogisticRegression(C=1.0, class_weight=None, dual=False, fit_intercept=True,\n",
       "                   intercept_scaling=1, l1_ratio=None, max_iter=100,\n",
       "                   multi_class='warn', n_jobs=None, penalty='l2',\n",
       "                   random_state=None, solver='warn', tol=0.0001, verbose=0,\n",
       "                   warm_start=False)"
      ]
     },
     "execution_count": 310,
     "metadata": {},
     "output_type": "execute_result"
    }
   ],
   "source": [
    "lr.fit(train_matrix, train_data['sentiment'])"
   ]
  },
  {
   "cell_type": "code",
   "execution_count": 311,
   "metadata": {},
   "outputs": [
    {
     "data": {
      "text/plain": [
       "1"
      ]
     },
     "execution_count": 311,
     "metadata": {},
     "output_type": "execute_result"
    }
   ],
   "source": [
    "len(lr.coef_)"
   ]
  },
  {
   "cell_type": "code",
   "execution_count": 312,
   "metadata": {},
   "outputs": [
    {
     "data": {
      "text/plain": [
       "sklearn.linear_model.logistic.LogisticRegression"
      ]
     },
     "execution_count": 312,
     "metadata": {},
     "output_type": "execute_result"
    }
   ],
   "source": [
    "LogisticRegression"
   ]
  },
  {
   "cell_type": "code",
   "execution_count": 313,
   "metadata": {},
   "outputs": [],
   "source": [
    "from sklearn.metrics import accuracy_score"
   ]
  },
  {
   "cell_type": "code",
   "execution_count": 314,
   "metadata": {},
   "outputs": [
    {
     "name": "stdout",
     "output_type": "stream",
     "text": [
      "Test accuracy: 0.93\n"
     ]
    }
   ],
   "source": [
    "accuracy = accuracy_score(y_true=test_data['sentiment'],\n",
    "                          y_pred=lr.predict(test_matrix)\n",
    "                         )\n",
    "print (\"Test accuracy: %.2f\" % accuracy)"
   ]
  },
  {
   "cell_type": "markdown",
   "metadata": {},
   "source": [
    "### Baseline: Majority class prediction\n"
   ]
  },
  {
   "cell_type": "code",
   "execution_count": 315,
   "metadata": {},
   "outputs": [
    {
     "name": "stdout",
     "output_type": "stream",
     "text": [
      "Baseline accuracy (majority class classifier): 0.8427825773938085\n"
     ]
    }
   ],
   "source": [
    "baseline = len(test_data[test_data['sentiment'] == 1]) / len(test_data)\n",
    "print (\"Baseline accuracy (majority class classifier): %s\" % baseline)"
   ]
  },
  {
   "cell_type": "markdown",
   "metadata": {},
   "source": [
    "### Quiz question: Using accuracy as the evaluation metric, was our logistic regression model better than the baseline (majority class classifier)?\n",
    "\n"
   ]
  },
  {
   "cell_type": "code",
   "execution_count": 316,
   "metadata": {},
   "outputs": [
    {
     "data": {
      "text/plain": [
       "True"
      ]
     },
     "execution_count": 316,
     "metadata": {},
     "output_type": "execute_result"
    }
   ],
   "source": [
    "accuracy > baseline"
   ]
  },
  {
   "cell_type": "markdown",
   "metadata": {},
   "source": [
    "## Confusion matrix"
   ]
  },
  {
   "cell_type": "code",
   "execution_count": 317,
   "metadata": {},
   "outputs": [
    {
     "name": "stdout",
     "output_type": "stream",
     "text": [
      " target_label | predicted_label | count\n",
      "--------------|-----------------|-----------\n",
      "     -1       |       -1        |  3790\n",
      "     -1       |        1        |  1451\n",
      "      1       |       -1        |   803\n",
      "      1       |        1        | 27292\n"
     ]
    }
   ],
   "source": [
    "from sklearn.metrics import confusion_matrix\n",
    "\n",
    "cmat = confusion_matrix(y_true=test_data['sentiment'],\n",
    "                        y_pred=lr.predict(test_matrix),\n",
    "                        labels=lr.classes_\n",
    "                       )\n",
    "\n",
    "print (' target_label | predicted_label | count')\n",
    "print ('--------------|-----------------|-----------')\n",
    "\n",
    "for i, target_label in enumerate(lr.classes_):\n",
    "    for j, predicted_label in enumerate(lr.classes_):\n",
    "        print ('{0:^13} | {1:^15} | {2:5d}'.format(target_label, predicted_label, cmat[i,j]))"
   ]
  },
  {
   "cell_type": "markdown",
   "metadata": {},
   "source": [
    "### Quiz Question: How many predicted values in the test set are false positives?"
   ]
  },
  {
   "cell_type": "code",
   "execution_count": 318,
   "metadata": {},
   "outputs": [
    {
     "data": {
      "text/plain": [
       "1451"
      ]
     },
     "execution_count": 318,
     "metadata": {},
     "output_type": "execute_result"
    }
   ],
   "source": [
    "cmat[0,1]"
   ]
  },
  {
   "cell_type": "code",
   "execution_count": 319,
   "metadata": {},
   "outputs": [],
   "source": [
    "# 1454 (as in the reading)"
   ]
  },
  {
   "cell_type": "code",
   "execution_count": 360,
   "metadata": {},
   "outputs": [
    {
     "data": {
      "text/plain": [
       "0.1572174226061915"
      ]
     },
     "execution_count": 360,
     "metadata": {},
     "output_type": "execute_result"
    }
   ],
   "source": [
    "(test_data['sentiment']==-1).sum() / len(test_data)"
   ]
  },
  {
   "cell_type": "markdown",
   "metadata": {},
   "source": [
    "### Computing the cost of mistakes"
   ]
  },
  {
   "cell_type": "code",
   "execution_count": 320,
   "metadata": {},
   "outputs": [
    {
     "name": "stdout",
     "output_type": "stream",
     "text": [
      "Total cost: 146205\n"
     ]
    }
   ],
   "source": [
    "false_positive = 1454\n",
    "false_negative = 805\n",
    "total_cost = 100 * false_positive + 1 * false_negative\n",
    "print (\"Total cost: %s\" % total_cost)"
   ]
  },
  {
   "cell_type": "markdown",
   "metadata": {},
   "source": [
    "## Precision and recall"
   ]
  },
  {
   "cell_type": "code",
   "execution_count": 321,
   "metadata": {},
   "outputs": [
    {
     "name": "stdout",
     "output_type": "stream",
     "text": [
      "Precision on test data: 0.95\n"
     ]
    }
   ],
   "source": [
    "from sklearn.metrics import precision_score\n",
    "\n",
    "precision = precision_score(y_true=test_data['sentiment'],\n",
    "                            y_pred=lr.predict(test_matrix)\n",
    "                           )\n",
    "print (\"Precision on test data: %.2f\" % precision)"
   ]
  },
  {
   "cell_type": "markdown",
   "metadata": {},
   "source": [
    "## Quiz Question: Out of all reviews in the test set that are predicted to be positive, what fraction of them are false positives? (Round to the second decimal place e.g. 0.25)\n",
    "\n"
   ]
  },
  {
   "cell_type": "code",
   "execution_count": 322,
   "metadata": {},
   "outputs": [
    {
     "name": "stdout",
     "output_type": "stream",
     "text": [
      "False positive: 0.05\n"
     ]
    }
   ],
   "source": [
    "print (\"False positive: %.2f\" % (1 - precision))"
   ]
  },
  {
   "cell_type": "markdown",
   "metadata": {},
   "source": [
    "### Quiz Question: Based on what we learned in lecture, if we wanted to reduce this fraction of false positives to be below 3.5%, we would: (see quiz)\n",
    "\n"
   ]
  },
  {
   "cell_type": "markdown",
   "metadata": {},
   "source": [
    ">????\n"
   ]
  },
  {
   "cell_type": "code",
   "execution_count": 323,
   "metadata": {},
   "outputs": [
    {
     "name": "stdout",
     "output_type": "stream",
     "text": [
      "Recall on test data: 0.97\n"
     ]
    }
   ],
   "source": [
    "from sklearn.metrics import recall_score\n",
    "\n",
    "recall = recall_score(y_true=test_data['sentiment'],\n",
    "                      y_pred=lr.predict(test_matrix)\n",
    "                     )\n",
    "print (\"Recall on test data: %.2f\" % recall)"
   ]
  },
  {
   "cell_type": "markdown",
   "metadata": {},
   "source": [
    "### Quiz Question: What fraction of the positive reviews in the test_set were correctly predicted as positive by the classifier?\n",
    "\n"
   ]
  },
  {
   "cell_type": "code",
   "execution_count": 324,
   "metadata": {},
   "outputs": [
    {
     "data": {
      "text/plain": [
       "0.9714184018508631"
      ]
     },
     "execution_count": 324,
     "metadata": {},
     "output_type": "execute_result"
    }
   ],
   "source": [
    "recall"
   ]
  },
  {
   "cell_type": "markdown",
   "metadata": {},
   "source": [
    "### Quiz Question: What is the recall value for a classifier that predicts +1 for all data points in the test_data?\n"
   ]
  },
  {
   "cell_type": "markdown",
   "metadata": {},
   "source": [
    "### 1.0"
   ]
  },
  {
   "cell_type": "markdown",
   "metadata": {},
   "source": [
    "## Precision-recall tradeoff\n"
   ]
  },
  {
   "cell_type": "markdown",
   "metadata": {},
   "source": [
    "## Varying the threshold"
   ]
  },
  {
   "cell_type": "code",
   "execution_count": 325,
   "metadata": {},
   "outputs": [],
   "source": [
    "def apply_threshold(probabilities, threshold):\n",
    "    return [+1 if u>=threshold else -1 for u in probabilities]"
   ]
  },
  {
   "cell_type": "code",
   "execution_count": 326,
   "metadata": {},
   "outputs": [],
   "source": [
    "probabilities = lr.predict_proba(test_matrix)[:,1]"
   ]
  },
  {
   "cell_type": "code",
   "execution_count": 327,
   "metadata": {},
   "outputs": [],
   "source": [
    "threshold_0_5_prediction = np.array(apply_threshold(probabilities, 0.5))"
   ]
  },
  {
   "cell_type": "code",
   "execution_count": 328,
   "metadata": {},
   "outputs": [],
   "source": [
    "threshold_0_9_prediction = np.array(apply_threshold(probabilities, 0.9))"
   ]
  },
  {
   "cell_type": "code",
   "execution_count": 329,
   "metadata": {},
   "outputs": [
    {
     "data": {
      "text/plain": [
       "33336"
      ]
     },
     "execution_count": 329,
     "metadata": {},
     "output_type": "execute_result"
    }
   ],
   "source": [
    "test_matrix.shape[0]"
   ]
  },
  {
   "cell_type": "code",
   "execution_count": 330,
   "metadata": {},
   "outputs": [
    {
     "data": {
      "text/plain": [
       "28743"
      ]
     },
     "execution_count": 330,
     "metadata": {},
     "output_type": "execute_result"
    }
   ],
   "source": [
    "(threshold_0_5_prediction == 1).sum()"
   ]
  },
  {
   "cell_type": "code",
   "execution_count": 331,
   "metadata": {},
   "outputs": [
    {
     "data": {
      "text/plain": [
       "25068"
      ]
     },
     "execution_count": 331,
     "metadata": {},
     "output_type": "execute_result"
    }
   ],
   "source": [
    "(threshold_0_9_prediction == 1).sum()"
   ]
  },
  {
   "cell_type": "markdown",
   "metadata": {},
   "source": [
    "### Quiz question: What happens to the number of positive predicted reviews as the threshold increased from 0.5 to 0.9?\n"
   ]
  },
  {
   "cell_type": "code",
   "execution_count": 332,
   "metadata": {},
   "outputs": [
    {
     "data": {
      "text/plain": [
       "True"
      ]
     },
     "execution_count": 332,
     "metadata": {},
     "output_type": "execute_result"
    }
   ],
   "source": [
    "(threshold_0_9_prediction == 1).sum() < (threshold_0_5_prediction == 1).sum()"
   ]
  },
  {
   "cell_type": "markdown",
   "metadata": {},
   "source": [
    "#### Decrease"
   ]
  },
  {
   "cell_type": "markdown",
   "metadata": {},
   "source": [
    "### Exploring the associated precision and recall as the threshold varies\n"
   ]
  },
  {
   "cell_type": "code",
   "execution_count": 333,
   "metadata": {},
   "outputs": [
    {
     "data": {
      "text/plain": [
       "0.9495181435479942"
      ]
     },
     "execution_count": 333,
     "metadata": {},
     "output_type": "execute_result"
    }
   ],
   "source": [
    "precision"
   ]
  },
  {
   "cell_type": "code",
   "execution_count": 334,
   "metadata": {},
   "outputs": [
    {
     "data": {
      "text/plain": [
       "0.9714184018508631"
      ]
     },
     "execution_count": 334,
     "metadata": {},
     "output_type": "execute_result"
    }
   ],
   "source": [
    "recall"
   ]
  },
  {
   "cell_type": "code",
   "execution_count": 335,
   "metadata": {},
   "outputs": [
    {
     "name": "stdout",
     "output_type": "stream",
     "text": [
      "Precision, recall : 0.9495181435479942, 0.9714184018508631\n"
     ]
    }
   ],
   "source": [
    "precision_0_5 = precision_score(y_true=test_data['sentiment'],\n",
    "                            y_pred=threshold_0_5_prediction\n",
    "                           )\n",
    "recall_0_5 = recall_score(y_true=test_data['sentiment'],\n",
    "                          y_pred=threshold_0_5_prediction\n",
    "                         )\n",
    "print (\"Precision, recall : %s, %s\" % (precision_0_5, recall_0_5))"
   ]
  },
  {
   "cell_type": "code",
   "execution_count": 336,
   "metadata": {},
   "outputs": [
    {
     "name": "stdout",
     "output_type": "stream",
     "text": [
      "Precision, recall : 0.9816499122387107, 0.8758853888592276\n"
     ]
    }
   ],
   "source": [
    "precision_0_9 = precision_score(y_true=test_data['sentiment'],\n",
    "                            y_pred=threshold_0_9_prediction\n",
    "                           )\n",
    "recall_0_9 = recall_score(y_true=test_data['sentiment'],\n",
    "                          y_pred=threshold_0_9_prediction\n",
    "                         )\n",
    "print (\"Precision, recall : %s, %s\" % (precision_0_9, recall_0_9))"
   ]
  },
  {
   "cell_type": "markdown",
   "metadata": {},
   "source": [
    "### Quiz Question (variant 1): Does the precision increase with a higher threshold?"
   ]
  },
  {
   "cell_type": "code",
   "execution_count": 337,
   "metadata": {},
   "outputs": [
    {
     "data": {
      "text/plain": [
       "True"
      ]
     },
     "execution_count": 337,
     "metadata": {},
     "output_type": "execute_result"
    }
   ],
   "source": [
    "precision_0_9 > precision_0_5"
   ]
  },
  {
   "cell_type": "markdown",
   "metadata": {},
   "source": [
    "### Quiz Question (variant 2): Does the recall increase with a higher threshold?\n",
    "\n"
   ]
  },
  {
   "cell_type": "code",
   "execution_count": 338,
   "metadata": {},
   "outputs": [
    {
     "data": {
      "text/plain": [
       "False"
      ]
     },
     "execution_count": 338,
     "metadata": {},
     "output_type": "execute_result"
    }
   ],
   "source": [
    "recall_0_9 > recall_0_5"
   ]
  },
  {
   "cell_type": "markdown",
   "metadata": {},
   "source": [
    "### Precision-recall curve\n"
   ]
  },
  {
   "cell_type": "code",
   "execution_count": 339,
   "metadata": {},
   "outputs": [
    {
     "name": "stdout",
     "output_type": "stream",
     "text": [
      "[0.5        0.50505051 0.51010101 0.51515152 0.52020202 0.52525253\n",
      " 0.53030303 0.53535354 0.54040404 0.54545455 0.55050505 0.55555556\n",
      " 0.56060606 0.56565657 0.57070707 0.57575758 0.58080808 0.58585859\n",
      " 0.59090909 0.5959596  0.6010101  0.60606061 0.61111111 0.61616162\n",
      " 0.62121212 0.62626263 0.63131313 0.63636364 0.64141414 0.64646465\n",
      " 0.65151515 0.65656566 0.66161616 0.66666667 0.67171717 0.67676768\n",
      " 0.68181818 0.68686869 0.69191919 0.6969697  0.7020202  0.70707071\n",
      " 0.71212121 0.71717172 0.72222222 0.72727273 0.73232323 0.73737374\n",
      " 0.74242424 0.74747475 0.75252525 0.75757576 0.76262626 0.76767677\n",
      " 0.77272727 0.77777778 0.78282828 0.78787879 0.79292929 0.7979798\n",
      " 0.8030303  0.80808081 0.81313131 0.81818182 0.82323232 0.82828283\n",
      " 0.83333333 0.83838384 0.84343434 0.84848485 0.85353535 0.85858586\n",
      " 0.86363636 0.86868687 0.87373737 0.87878788 0.88383838 0.88888889\n",
      " 0.89393939 0.8989899  0.9040404  0.90909091 0.91414141 0.91919192\n",
      " 0.92424242 0.92929293 0.93434343 0.93939394 0.94444444 0.94949495\n",
      " 0.95454545 0.95959596 0.96464646 0.96969697 0.97474747 0.97979798\n",
      " 0.98484848 0.98989899 0.99494949 1.        ]\n"
     ]
    }
   ],
   "source": [
    "threshold_values = np.linspace(0.5, 1, num=100)\n",
    "print (threshold_values)"
   ]
  },
  {
   "cell_type": "code",
   "execution_count": 340,
   "metadata": {},
   "outputs": [],
   "source": [
    "precision_all = []\n",
    "recall_all = []\n",
    "\n",
    "for threshold_value in threshold_values:\n",
    "    cur_threshold_prediction = np.array(apply_threshold(probabilities, threshold_value))\n",
    "    cur_precision = precision_score(y_true=test_data['sentiment'],\n",
    "                            y_pred=cur_threshold_prediction)\n",
    "    cur_recall = recall_score(y_true=test_data['sentiment'],\n",
    "                          y_pred=cur_threshold_prediction)\n",
    "    precision_all += [cur_precision]\n",
    "    recall_all += [cur_recall]\n",
    "    "
   ]
  },
  {
   "cell_type": "code",
   "execution_count": 341,
   "metadata": {},
   "outputs": [],
   "source": [
    "from matplotlib import pyplot as plt"
   ]
  },
  {
   "cell_type": "code",
   "execution_count": 342,
   "metadata": {},
   "outputs": [],
   "source": [
    "def plot_pr_curve(precision, recall, title):\n",
    "    plt.rcParams['figure.figsize'] = 7, 5\n",
    "    plt.locator_params(axis = 'x', nbins = 5)\n",
    "    plt.plot(precision, recall, 'b-', linewidth=4.0, color = '#B0017F')\n",
    "    plt.title(title)\n",
    "    plt.xlabel('Precision')\n",
    "    plt.ylabel('Recall')\n",
    "    plt.rcParams.update({'font.size': 16})"
   ]
  },
  {
   "cell_type": "code",
   "execution_count": 343,
   "metadata": {},
   "outputs": [
    {
     "data": {
      "image/png": "[encoded data removed]",
      "text/plain": [
       "<Figure size 504x360 with 1 Axes>"
      ]
     },
     "metadata": {
      "needs_background": "light"
     },
     "output_type": "display_data"
    }
   ],
   "source": [
    "plot_pr_curve(precision_all, recall_all, 'Precision recall curve (all)')"
   ]
  },
  {
   "cell_type": "markdown",
   "metadata": {},
   "source": [
    "### Quiz Question: Among all the threshold values tried, what is the smallest threshold value that achieves a precision of 96.5% or better? Round your answer to 3 decimal places.\n",
    "\n"
   ]
  },
  {
   "cell_type": "code",
   "execution_count": 344,
   "metadata": {},
   "outputs": [
    {
     "name": "stdout",
     "output_type": "stream",
     "text": [
      "0.7070707070707071 0.9650068755880438 0.9491724506139883\n"
     ]
    }
   ],
   "source": [
    "np_precision_all = np.array(precision_all)\n",
    "\n",
    "\n",
    "for i in range(len(threshold_values)):\n",
    "    if (precision_all[i] >= 0.965):\n",
    "        print (threshold_values[i], precision_all[i], recall_all[i])\n",
    "        break"
   ]
  },
  {
   "cell_type": "markdown",
   "metadata": {},
   "source": [
    "### Quiz Question: Using threshold = 0.98, how many false negatives do we get on the test_data? This is the number of false negatives (i.e the number of reviews to look at when not needed) that we have to deal with using this classifier."
   ]
  },
  {
   "cell_type": "code",
   "execution_count": 345,
   "metadata": {},
   "outputs": [],
   "source": [
    "cmat = confusion_matrix(y_true=test_data['sentiment'],\n",
    "                        y_pred=apply_threshold(probabilities, 0.98),\n",
    "                        labels=lr.classes_\n",
    "                       )"
   ]
  },
  {
   "cell_type": "code",
   "execution_count": 346,
   "metadata": {},
   "outputs": [
    {
     "name": "stdout",
     "output_type": "stream",
     "text": [
      " target_label | predicted_label | count\n",
      "--------------|-----------------|-----------\n",
      "     -1       |       -1        |  5049\n",
      "     -1       |        1        |   192\n",
      "      1       |       -1        |  8230\n",
      "      1       |        1        | 19865\n"
     ]
    }
   ],
   "source": [
    "print (' target_label | predicted_label | count')\n",
    "print ('--------------|-----------------|-----------')\n",
    "\n",
    "for i, target_label in enumerate(lr.classes_):\n",
    "    for j, predicted_label in enumerate(lr.classes_):\n",
    "        print ('{0:^13} | {1:^15} | {2:5d}'.format(target_label, predicted_label, cmat[i,j]))"
   ]
  },
  {
   "cell_type": "code",
   "execution_count": 347,
   "metadata": {},
   "outputs": [
    {
     "name": "stdout",
     "output_type": "stream",
     "text": [
      "False negative with threshold=0.98 is: 8230\n"
     ]
    }
   ],
   "source": [
    "print (\"False negative with threshold=0.98 is: %s\" % cmat[1, 0])"
   ]
  },
  {
   "cell_type": "markdown",
   "metadata": {},
   "source": [
    "### Evaluating specific search terms\n"
   ]
  },
  {
   "cell_type": "markdown",
   "metadata": {},
   "source": [
    "### Precision-Recall on all baby related items\n"
   ]
  },
  {
   "cell_type": "code",
   "execution_count": 348,
   "metadata": {},
   "outputs": [],
   "source": [
    "baby_reviews = test_data[test_data['name'].apply(lambda u: 'baby' in u.lower())]"
   ]
  },
  {
   "cell_type": "code",
   "execution_count": 349,
   "metadata": {},
   "outputs": [
    {
     "data": {
      "text/html": [
       "<div>\n",
       "<style scoped>\n",
       "    .dataframe tbody tr th:only-of-type {\n",
       "        vertical-align: middle;\n",
       "    }\n",
       "\n",
       "    .dataframe tbody tr th {\n",
       "        vertical-align: top;\n",
       "    }\n",
       "\n",
       "    .dataframe thead th {\n",
       "        text-align: right;\n",
       "    }\n",
       "</style>\n",
       "<table border=\"1\" class=\"dataframe\">\n",
       "  <thead>\n",
       "    <tr style=\"text-align: right;\">\n",
       "      <th></th>\n",
       "      <th>name</th>\n",
       "      <th>review</th>\n",
       "      <th>rating</th>\n",
       "      <th>review_clean</th>\n",
       "      <th>sentiment</th>\n",
       "    </tr>\n",
       "  </thead>\n",
       "  <tbody>\n",
       "    <tr>\n",
       "      <th>9</th>\n",
       "      <td>Baby Tracker&amp;reg; - Daily Childcare Journal, S...</td>\n",
       "      <td>This has been an easy way for my nanny to reco...</td>\n",
       "      <td>4</td>\n",
       "      <td>This has been an easy way for my nanny to reco...</td>\n",
       "      <td>1</td>\n",
       "    </tr>\n",
       "    <tr>\n",
       "      <th>10</th>\n",
       "      <td>Baby Tracker&amp;reg; - Daily Childcare Journal, S...</td>\n",
       "      <td>I love this journal and our nanny uses it ever...</td>\n",
       "      <td>4</td>\n",
       "      <td>I love this journal and our nanny uses it ever...</td>\n",
       "      <td>1</td>\n",
       "    </tr>\n",
       "    <tr>\n",
       "      <th>56</th>\n",
       "      <td>Baby's First Year Undated Wall Calendar with S...</td>\n",
       "      <td>I searched high and low for a first year calen...</td>\n",
       "      <td>5</td>\n",
       "      <td>I searched high and low for a first year calen...</td>\n",
       "      <td>1</td>\n",
       "    </tr>\n",
       "    <tr>\n",
       "      <th>59</th>\n",
       "      <td>Our Baby Girl Memory Book</td>\n",
       "      <td>Absolutely love it and all of the Scripture in...</td>\n",
       "      <td>5</td>\n",
       "      <td>Absolutely love it and all of the Scripture in...</td>\n",
       "      <td>1</td>\n",
       "    </tr>\n",
       "    <tr>\n",
       "      <th>112</th>\n",
       "      <td>Newborn Baby Tracker&amp;reg; - Round the Clock Ch...</td>\n",
       "      <td>This is the best way to keep track of when you...</td>\n",
       "      <td>5</td>\n",
       "      <td>This is the best way to keep track of when you...</td>\n",
       "      <td>1</td>\n",
       "    </tr>\n",
       "    <tr>\n",
       "      <th>115</th>\n",
       "      <td>Large Jungle Animals (Panda, Lion, Elephant, G...</td>\n",
       "      <td>I ordered these for my 7 month old sons play a...</td>\n",
       "      <td>5</td>\n",
       "      <td>I ordered these for my 7 month old sons play a...</td>\n",
       "      <td>1</td>\n",
       "    </tr>\n",
       "    <tr>\n",
       "      <th>192</th>\n",
       "      <td>Sassy Who Loves Baby? Photo Album Book with te...</td>\n",
       "      <td>I bought this for a new granddaughter.  I will...</td>\n",
       "      <td>5</td>\n",
       "      <td>I bought this for a new granddaughter  I will ...</td>\n",
       "      <td>1</td>\n",
       "    </tr>\n",
       "    <tr>\n",
       "      <th>193</th>\n",
       "      <td>Sassy Who Loves Baby? Photo Album Book with te...</td>\n",
       "      <td>I originally bought this for my 4 month old so...</td>\n",
       "      <td>5</td>\n",
       "      <td>I originally bought this for my 4 month old so...</td>\n",
       "      <td>1</td>\n",
       "    </tr>\n",
       "    <tr>\n",
       "      <th>279</th>\n",
       "      <td>Crown Crafts The Original NoJo BabySling by Dr...</td>\n",
       "      <td>This is a great product but it is just too big...</td>\n",
       "      <td>1</td>\n",
       "      <td>This is a great product but it is just too big...</td>\n",
       "      <td>-1</td>\n",
       "    </tr>\n",
       "    <tr>\n",
       "      <th>281</th>\n",
       "      <td>Crown Crafts The Original NoJo BabySling by Dr...</td>\n",
       "      <td>I used this sling for both of my babies, (0-&amp;g...</td>\n",
       "      <td>5</td>\n",
       "      <td>I used this sling for both of my babies 0gt 25...</td>\n",
       "      <td>1</td>\n",
       "    </tr>\n",
       "    <tr>\n",
       "      <th>284</th>\n",
       "      <td>Crown Crafts The Original NoJo BabySling by Dr...</td>\n",
       "      <td>I am the the mother of a 14 week old who has r...</td>\n",
       "      <td>5</td>\n",
       "      <td>I am the the mother of a 14 week old who has r...</td>\n",
       "      <td>1</td>\n",
       "    </tr>\n",
       "    <tr>\n",
       "      <th>287</th>\n",
       "      <td>Crown Crafts The Original NoJo BabySling by Dr...</td>\n",
       "      <td>We purchased the Babysling when our daughter w...</td>\n",
       "      <td>5</td>\n",
       "      <td>We purchased the Babysling when our daughter w...</td>\n",
       "      <td>1</td>\n",
       "    </tr>\n",
       "    <tr>\n",
       "      <th>288</th>\n",
       "      <td>Crown Crafts The Original NoJo BabySling by Dr...</td>\n",
       "      <td>This sling is the third baby carrier I purchas...</td>\n",
       "      <td>5</td>\n",
       "      <td>This sling is the third baby carrier I purchas...</td>\n",
       "      <td>1</td>\n",
       "    </tr>\n",
       "    <tr>\n",
       "      <th>312</th>\n",
       "      <td>Baby Trend Diaper Champ</td>\n",
       "      <td>Ok - newsflash.  Diapers are just smelly.  We'...</td>\n",
       "      <td>4</td>\n",
       "      <td>Ok  newsflash  Diapers are just smelly  Weve h...</td>\n",
       "      <td>1</td>\n",
       "    </tr>\n",
       "    <tr>\n",
       "      <th>320</th>\n",
       "      <td>Baby Trend Diaper Champ</td>\n",
       "      <td>I originally put this item on my baby registry...</td>\n",
       "      <td>5</td>\n",
       "      <td>I originally put this item on my baby registry...</td>\n",
       "      <td>1</td>\n",
       "    </tr>\n",
       "    <tr>\n",
       "      <th>356</th>\n",
       "      <td>Baby Trend Diaper Champ</td>\n",
       "      <td>This product meets all my expectations. The di...</td>\n",
       "      <td>5</td>\n",
       "      <td>This product meets all my expectations The dia...</td>\n",
       "      <td>1</td>\n",
       "    </tr>\n",
       "    <tr>\n",
       "      <th>358</th>\n",
       "      <td>Baby Trend Diaper Champ</td>\n",
       "      <td>I purchased this pail about a year ago and fou...</td>\n",
       "      <td>2</td>\n",
       "      <td>I purchased this pail about a year ago and fou...</td>\n",
       "      <td>-1</td>\n",
       "    </tr>\n",
       "    <tr>\n",
       "      <th>366</th>\n",
       "      <td>Baby Trend Diaper Champ</td>\n",
       "      <td>With my second child I wanted something better...</td>\n",
       "      <td>5</td>\n",
       "      <td>With my second child I wanted something better...</td>\n",
       "      <td>1</td>\n",
       "    </tr>\n",
       "    <tr>\n",
       "      <th>369</th>\n",
       "      <td>Baby Trend Diaper Champ</td>\n",
       "      <td>We wanted to have a convenient locking recepta...</td>\n",
       "      <td>2</td>\n",
       "      <td>We wanted to have a convenient locking recepta...</td>\n",
       "      <td>-1</td>\n",
       "    </tr>\n",
       "    <tr>\n",
       "      <th>382</th>\n",
       "      <td>Baby Trend Diaper Champ</td>\n",
       "      <td>I changed my registry from the Diaper Genie to...</td>\n",
       "      <td>4</td>\n",
       "      <td>I changed my registry from the Diaper Genie to...</td>\n",
       "      <td>1</td>\n",
       "    </tr>\n",
       "    <tr>\n",
       "      <th>384</th>\n",
       "      <td>Baby Trend Diaper Champ</td>\n",
       "      <td>you can use any ol' bag with this. go to the d...</td>\n",
       "      <td>5</td>\n",
       "      <td>you can use any ol bag with this go to the dol...</td>\n",
       "      <td>1</td>\n",
       "    </tr>\n",
       "    <tr>\n",
       "      <th>388</th>\n",
       "      <td>Baby Trend Diaper Champ</td>\n",
       "      <td>I chose the Diaper Champ because you are able ...</td>\n",
       "      <td>4</td>\n",
       "      <td>I chose the Diaper Champ because you are able ...</td>\n",
       "      <td>1</td>\n",
       "    </tr>\n",
       "    <tr>\n",
       "      <th>394</th>\n",
       "      <td>Baby Trend Diaper Champ</td>\n",
       "      <td>Works great - no smells.  LOVE that it uses re...</td>\n",
       "      <td>5</td>\n",
       "      <td>Works great  no smells  LOVE that it uses regu...</td>\n",
       "      <td>1</td>\n",
       "    </tr>\n",
       "    <tr>\n",
       "      <th>401</th>\n",
       "      <td>Baby Trend Diaper Champ</td>\n",
       "      <td>Simply put, the Diaper Champ is much easier to...</td>\n",
       "      <td>5</td>\n",
       "      <td>Simply put the Diaper Champ is much easier to ...</td>\n",
       "      <td>1</td>\n",
       "    </tr>\n",
       "    <tr>\n",
       "      <th>407</th>\n",
       "      <td>Baby Trend Diaper Champ</td>\n",
       "      <td>love it because it uses the bags from the groc...</td>\n",
       "      <td>4</td>\n",
       "      <td>love it because it uses the bags from the groc...</td>\n",
       "      <td>1</td>\n",
       "    </tr>\n",
       "    <tr>\n",
       "      <th>419</th>\n",
       "      <td>Baby Trend Diaper Champ</td>\n",
       "      <td>As much as I hear you all on the Diaper Champ ...</td>\n",
       "      <td>4</td>\n",
       "      <td>As much as I hear you all on the Diaper Champ ...</td>\n",
       "      <td>1</td>\n",
       "    </tr>\n",
       "    <tr>\n",
       "      <th>427</th>\n",
       "      <td>Baby Trend Diaper Champ</td>\n",
       "      <td>Worth every single penny and then some! I orgi...</td>\n",
       "      <td>5</td>\n",
       "      <td>Worth every single penny and then some I orgin...</td>\n",
       "      <td>1</td>\n",
       "    </tr>\n",
       "    <tr>\n",
       "      <th>436</th>\n",
       "      <td>Baby Trend Diaper Champ</td>\n",
       "      <td>I love this diaper pail. Yea, if you let poopy...</td>\n",
       "      <td>4</td>\n",
       "      <td>I love this diaper pail Yea if you let poopy d...</td>\n",
       "      <td>1</td>\n",
       "    </tr>\n",
       "    <tr>\n",
       "      <th>437</th>\n",
       "      <td>Baby Trend Diaper Champ</td>\n",
       "      <td>This diaper pail is great. It is the third one...</td>\n",
       "      <td>4</td>\n",
       "      <td>This diaper pail is great It is the third one ...</td>\n",
       "      <td>1</td>\n",
       "    </tr>\n",
       "    <tr>\n",
       "      <th>439</th>\n",
       "      <td>Baby Trend Diaper Champ</td>\n",
       "      <td>I read many reviews about diaper disposals and...</td>\n",
       "      <td>5</td>\n",
       "      <td>I read many reviews about diaper disposals and...</td>\n",
       "      <td>1</td>\n",
       "    </tr>\n",
       "    <tr>\n",
       "      <th>...</th>\n",
       "      <td>...</td>\n",
       "      <td>...</td>\n",
       "      <td>...</td>\n",
       "      <td>...</td>\n",
       "      <td>...</td>\n",
       "    </tr>\n",
       "    <tr>\n",
       "      <th>183033</th>\n",
       "      <td>Baby Aspen Whoo's The Cutest Bloomer, Owl</td>\n",
       "      <td>These are toooo cute! They hold up really well...</td>\n",
       "      <td>5</td>\n",
       "      <td>These are toooo cute They hold up really well ...</td>\n",
       "      <td>1</td>\n",
       "    </tr>\n",
       "    <tr>\n",
       "      <th>183064</th>\n",
       "      <td>#1 Premium Baby Nasal Aspirator by Cutietots -...</td>\n",
       "      <td>I had sleepless nights when my baby could not ...</td>\n",
       "      <td>5</td>\n",
       "      <td>I had sleepless nights when my baby could not ...</td>\n",
       "      <td>1</td>\n",
       "    </tr>\n",
       "    <tr>\n",
       "      <th>183066</th>\n",
       "      <td>#1 Premium Baby Nasal Aspirator by Cutietots -...</td>\n",
       "      <td>I got this as one of many gifts for my sisters...</td>\n",
       "      <td>5</td>\n",
       "      <td>I got this as one of many gifts for my sisters...</td>\n",
       "      <td>1</td>\n",
       "    </tr>\n",
       "    <tr>\n",
       "      <th>183073</th>\n",
       "      <td>Sensory Baby Girl Tag Blanket, Spring Pastel P...</td>\n",
       "      <td>We got our little man a baby jack blanket two ...</td>\n",
       "      <td>5</td>\n",
       "      <td>We got our little man a baby jack blanket two ...</td>\n",
       "      <td>1</td>\n",
       "    </tr>\n",
       "    <tr>\n",
       "      <th>183092</th>\n",
       "      <td>Stroller Organizer PLUS Hooks for Strollers - ...</td>\n",
       "      <td>Overview:This organizer bag is compatible with...</td>\n",
       "      <td>5</td>\n",
       "      <td>OverviewThis organizer bag is compatible with ...</td>\n",
       "      <td>1</td>\n",
       "    </tr>\n",
       "    <tr>\n",
       "      <th>183102</th>\n",
       "      <td>Stroller Organizer PLUS Hooks for Strollers - ...</td>\n",
       "      <td>The Dot&amp;Dot Stroller Organizing Bag is a cleve...</td>\n",
       "      <td>5</td>\n",
       "      <td>The DotDot Stroller Organizing Bag is a clever...</td>\n",
       "      <td>1</td>\n",
       "    </tr>\n",
       "    <tr>\n",
       "      <th>183116</th>\n",
       "      <td>Unotux 4 Pcs Formal Boys Yellow Satin Vest Bow...</td>\n",
       "      <td>This was such a cute little outfit. The qualit...</td>\n",
       "      <td>5</td>\n",
       "      <td>This was such a cute little outfit The quality...</td>\n",
       "      <td>1</td>\n",
       "    </tr>\n",
       "    <tr>\n",
       "      <th>183126</th>\n",
       "      <td>Snugly Baby 24 Pack Washcloth Set (Blue)</td>\n",
       "      <td>If you want your washcloths to be a little thi...</td>\n",
       "      <td>1</td>\n",
       "      <td>If you want your washcloths to be a little thi...</td>\n",
       "      <td>-1</td>\n",
       "    </tr>\n",
       "    <tr>\n",
       "      <th>183134</th>\n",
       "      <td>LorexBaby LBN511 Little Link HD WI-FI Video Ba...</td>\n",
       "      <td>I got this as a gift, but I tried it out first...</td>\n",
       "      <td>5</td>\n",
       "      <td>I got this as a gift but I tried it out first ...</td>\n",
       "      <td>1</td>\n",
       "    </tr>\n",
       "    <tr>\n",
       "      <th>183138</th>\n",
       "      <td>LorexBaby LBN511 Little Link HD WI-FI Video Ba...</td>\n",
       "      <td>This monitor only lets one device monitor the ...</td>\n",
       "      <td>1</td>\n",
       "      <td>This monitor only lets one device monitor the ...</td>\n",
       "      <td>-1</td>\n",
       "    </tr>\n",
       "    <tr>\n",
       "      <th>183145</th>\n",
       "      <td>The #1 Baby Nasal Aspirator - Free Carry Case,...</td>\n",
       "      <td>I can honestly say this is the best nasal aspi...</td>\n",
       "      <td>5</td>\n",
       "      <td>I can honestly say this is the best nasal aspi...</td>\n",
       "      <td>1</td>\n",
       "    </tr>\n",
       "    <tr>\n",
       "      <th>183146</th>\n",
       "      <td>Masione Baby Girl Lace Posh Petti Ruffle Rompe...</td>\n",
       "      <td>These run small but we're using it for my daug...</td>\n",
       "      <td>4</td>\n",
       "      <td>These run small but were using it for my daugh...</td>\n",
       "      <td>1</td>\n",
       "    </tr>\n",
       "    <tr>\n",
       "      <th>183183</th>\n",
       "      <td>iBCam iB810 SMART Wifi Baby Monitor and Nanny ...</td>\n",
       "      <td>After reading some previous reviews, I was rea...</td>\n",
       "      <td>5</td>\n",
       "      <td>After reading some previous reviews I was real...</td>\n",
       "      <td>1</td>\n",
       "    </tr>\n",
       "    <tr>\n",
       "      <th>183215</th>\n",
       "      <td>Camera Photo Floor Prop Faux Fur Artificial Fu...</td>\n",
       "      <td>This has worked well for newborn portraits. La...</td>\n",
       "      <td>4</td>\n",
       "      <td>This has worked well for newborn portraits Lar...</td>\n",
       "      <td>1</td>\n",
       "    </tr>\n",
       "    <tr>\n",
       "      <th>183227</th>\n",
       "      <td>Revo Baby &amp;quot;Power to the Babies&amp;quot; Lap ...</td>\n",
       "      <td>Timely service. Cute products.Quality material...</td>\n",
       "      <td>5</td>\n",
       "      <td>Timely service Cute productsQuality materials ...</td>\n",
       "      <td>1</td>\n",
       "    </tr>\n",
       "    <tr>\n",
       "      <th>183242</th>\n",
       "      <td>Merry Muscles Ergonomic Jumper Exerciser Baby ...</td>\n",
       "      <td>I read a lot about this before I ordered it, a...</td>\n",
       "      <td>5</td>\n",
       "      <td>I read a lot about this before I ordered it an...</td>\n",
       "      <td>1</td>\n",
       "    </tr>\n",
       "    <tr>\n",
       "      <th>183243</th>\n",
       "      <td>Merry Muscles Ergonomic Jumper Exerciser Baby ...</td>\n",
       "      <td>once in this thing, my 2mo. son loves this... ...</td>\n",
       "      <td>2</td>\n",
       "      <td>once in this thing my 2mo son loves this howev...</td>\n",
       "      <td>-1</td>\n",
       "    </tr>\n",
       "    <tr>\n",
       "      <th>183244</th>\n",
       "      <td>Merry Muscles Ergonomic Jumper Exerciser Baby ...</td>\n",
       "      <td>This Merry Muscles Jumper exceeded all expecta...</td>\n",
       "      <td>5</td>\n",
       "      <td>This Merry Muscles Jumper exceeded all expecta...</td>\n",
       "      <td>1</td>\n",
       "    </tr>\n",
       "    <tr>\n",
       "      <th>183250</th>\n",
       "      <td>Merry Muscles Ergonomic Jumper Exerciser Baby ...</td>\n",
       "      <td>We started looking for a jumper for our daught...</td>\n",
       "      <td>5</td>\n",
       "      <td>We started looking for a jumper for our daught...</td>\n",
       "      <td>1</td>\n",
       "    </tr>\n",
       "    <tr>\n",
       "      <th>183251</th>\n",
       "      <td>Merry Muscles Ergonomic Jumper Exerciser Baby ...</td>\n",
       "      <td>First the good, my son has some head control i...</td>\n",
       "      <td>4</td>\n",
       "      <td>First the good my son has some head control is...</td>\n",
       "      <td>1</td>\n",
       "    </tr>\n",
       "    <tr>\n",
       "      <th>183252</th>\n",
       "      <td>Merry Muscles Ergonomic Jumper Exerciser Baby ...</td>\n",
       "      <td>I was going back and forth about the Merry Mus...</td>\n",
       "      <td>5</td>\n",
       "      <td>I was going back and forth about the Merry Mus...</td>\n",
       "      <td>1</td>\n",
       "    </tr>\n",
       "    <tr>\n",
       "      <th>183343</th>\n",
       "      <td>&amp;quot;Kid U Not&amp;quot; Exclusive Fine Baby Rib ...</td>\n",
       "      <td>First off, I will say it's REALLY REALLY hard ...</td>\n",
       "      <td>4</td>\n",
       "      <td>First off I will say its REALLY REALLY hard to...</td>\n",
       "      <td>1</td>\n",
       "    </tr>\n",
       "    <tr>\n",
       "      <th>183393</th>\n",
       "      <td>Silly Daddy Boobs are for Babies Funny Baby Bo...</td>\n",
       "      <td>Gave to my son-in-law at baby shower and got r...</td>\n",
       "      <td>5</td>\n",
       "      <td>Gave to my soninlaw at baby shower and got rav...</td>\n",
       "      <td>1</td>\n",
       "    </tr>\n",
       "    <tr>\n",
       "      <th>183397</th>\n",
       "      <td>Crib Mattress Pad, Hypoallergenic, Washable Wa...</td>\n",
       "      <td>Great mattress pad.  Fits crib mattress better...</td>\n",
       "      <td>5</td>\n",
       "      <td>Great mattress pad  Fits crib mattress better ...</td>\n",
       "      <td>1</td>\n",
       "    </tr>\n",
       "    <tr>\n",
       "      <th>183405</th>\n",
       "      <td>My Learning Lovey by Baby Jack. Educational ba...</td>\n",
       "      <td>This fun and interactive  lovey blanket was a ...</td>\n",
       "      <td>5</td>\n",
       "      <td>This fun and interactive  lovey blanket was a ...</td>\n",
       "      <td>1</td>\n",
       "    </tr>\n",
       "    <tr>\n",
       "      <th>183406</th>\n",
       "      <td>My Learning Lovey by Baby Jack. Educational ba...</td>\n",
       "      <td>Amazing products come from Baby Jack Blankets!...</td>\n",
       "      <td>5</td>\n",
       "      <td>Amazing products come from Baby Jack Blankets ...</td>\n",
       "      <td>1</td>\n",
       "    </tr>\n",
       "    <tr>\n",
       "      <th>183414</th>\n",
       "      <td>Samsung Baby Care Washer, Stainless Platinum, ...</td>\n",
       "      <td>My infant goes to a really crappy daycare, and...</td>\n",
       "      <td>1</td>\n",
       "      <td>My infant goes to a really crappy daycare and ...</td>\n",
       "      <td>-1</td>\n",
       "    </tr>\n",
       "    <tr>\n",
       "      <th>183459</th>\n",
       "      <td>Sweet CareFor Bamboo Baby Wipes - 80 Wipe Pack...</td>\n",
       "      <td>Gave these a try and was impressed!  Thick, du...</td>\n",
       "      <td>5</td>\n",
       "      <td>Gave these a try and was impressed  Thick dura...</td>\n",
       "      <td>1</td>\n",
       "    </tr>\n",
       "    <tr>\n",
       "      <th>183465</th>\n",
       "      <td>Swaddle - &amp;quot;Classic&amp;quot; Zen Swaddle - We...</td>\n",
       "      <td>Overall we really like this swaddle; the light...</td>\n",
       "      <td>4</td>\n",
       "      <td>Overall we really like this swaddle the light ...</td>\n",
       "      <td>1</td>\n",
       "    </tr>\n",
       "    <tr>\n",
       "      <th>183530</th>\n",
       "      <td>Best 2 Pack Baby Car Shade for Kids - Window S...</td>\n",
       "      <td>I love this product very mush . I have bought ...</td>\n",
       "      <td>5</td>\n",
       "      <td>I love this product very mush  I have bought m...</td>\n",
       "      <td>1</td>\n",
       "    </tr>\n",
       "  </tbody>\n",
       "</table>\n",
       "<p>6611 rows × 5 columns</p>\n",
       "</div>"
      ],
      "text/plain": [
       "                                                     name  \\\n",
       "9       Baby Tracker&reg; - Daily Childcare Journal, S...   \n",
       "10      Baby Tracker&reg; - Daily Childcare Journal, S...   \n",
       "56      Baby's First Year Undated Wall Calendar with S...   \n",
       "59                              Our Baby Girl Memory Book   \n",
       "112     Newborn Baby Tracker&reg; - Round the Clock Ch...   \n",
       "115     Large Jungle Animals (Panda, Lion, Elephant, G...   \n",
       "192     Sassy Who Loves Baby? Photo Album Book with te...   \n",
       "193     Sassy Who Loves Baby? Photo Album Book with te...   \n",
       "279     Crown Crafts The Original NoJo BabySling by Dr...   \n",
       "281     Crown Crafts The Original NoJo BabySling by Dr...   \n",
       "284     Crown Crafts The Original NoJo BabySling by Dr...   \n",
       "287     Crown Crafts The Original NoJo BabySling by Dr...   \n",
       "288     Crown Crafts The Original NoJo BabySling by Dr...   \n",
       "312                               Baby Trend Diaper Champ   \n",
       "320                               Baby Trend Diaper Champ   \n",
       "356                               Baby Trend Diaper Champ   \n",
       "358                               Baby Trend Diaper Champ   \n",
       "366                               Baby Trend Diaper Champ   \n",
       "369                               Baby Trend Diaper Champ   \n",
       "382                               Baby Trend Diaper Champ   \n",
       "384                               Baby Trend Diaper Champ   \n",
       "388                               Baby Trend Diaper Champ   \n",
       "394                               Baby Trend Diaper Champ   \n",
       "401                               Baby Trend Diaper Champ   \n",
       "407                               Baby Trend Diaper Champ   \n",
       "419                               Baby Trend Diaper Champ   \n",
       "427                               Baby Trend Diaper Champ   \n",
       "436                               Baby Trend Diaper Champ   \n",
       "437                               Baby Trend Diaper Champ   \n",
       "439                               Baby Trend Diaper Champ   \n",
       "...                                                   ...   \n",
       "183033          Baby Aspen Whoo's The Cutest Bloomer, Owl   \n",
       "183064  #1 Premium Baby Nasal Aspirator by Cutietots -...   \n",
       "183066  #1 Premium Baby Nasal Aspirator by Cutietots -...   \n",
       "183073  Sensory Baby Girl Tag Blanket, Spring Pastel P...   \n",
       "183092  Stroller Organizer PLUS Hooks for Strollers - ...   \n",
       "183102  Stroller Organizer PLUS Hooks for Strollers - ...   \n",
       "183116  Unotux 4 Pcs Formal Boys Yellow Satin Vest Bow...   \n",
       "183126           Snugly Baby 24 Pack Washcloth Set (Blue)   \n",
       "183134  LorexBaby LBN511 Little Link HD WI-FI Video Ba...   \n",
       "183138  LorexBaby LBN511 Little Link HD WI-FI Video Ba...   \n",
       "183145  The #1 Baby Nasal Aspirator - Free Carry Case,...   \n",
       "183146  Masione Baby Girl Lace Posh Petti Ruffle Rompe...   \n",
       "183183  iBCam iB810 SMART Wifi Baby Monitor and Nanny ...   \n",
       "183215  Camera Photo Floor Prop Faux Fur Artificial Fu...   \n",
       "183227  Revo Baby &quot;Power to the Babies&quot; Lap ...   \n",
       "183242  Merry Muscles Ergonomic Jumper Exerciser Baby ...   \n",
       "183243  Merry Muscles Ergonomic Jumper Exerciser Baby ...   \n",
       "183244  Merry Muscles Ergonomic Jumper Exerciser Baby ...   \n",
       "183250  Merry Muscles Ergonomic Jumper Exerciser Baby ...   \n",
       "183251  Merry Muscles Ergonomic Jumper Exerciser Baby ...   \n",
       "183252  Merry Muscles Ergonomic Jumper Exerciser Baby ...   \n",
       "183343  &quot;Kid U Not&quot; Exclusive Fine Baby Rib ...   \n",
       "183393  Silly Daddy Boobs are for Babies Funny Baby Bo...   \n",
       "183397  Crib Mattress Pad, Hypoallergenic, Washable Wa...   \n",
       "183405  My Learning Lovey by Baby Jack. Educational ba...   \n",
       "183406  My Learning Lovey by Baby Jack. Educational ba...   \n",
       "183414  Samsung Baby Care Washer, Stainless Platinum, ...   \n",
       "183459  Sweet CareFor Bamboo Baby Wipes - 80 Wipe Pack...   \n",
       "183465  Swaddle - &quot;Classic&quot; Zen Swaddle - We...   \n",
       "183530  Best 2 Pack Baby Car Shade for Kids - Window S...   \n",
       "\n",
       "                                                   review  rating  \\\n",
       "9       This has been an easy way for my nanny to reco...       4   \n",
       "10      I love this journal and our nanny uses it ever...       4   \n",
       "56      I searched high and low for a first year calen...       5   \n",
       "59      Absolutely love it and all of the Scripture in...       5   \n",
       "112     This is the best way to keep track of when you...       5   \n",
       "115     I ordered these for my 7 month old sons play a...       5   \n",
       "192     I bought this for a new granddaughter.  I will...       5   \n",
       "193     I originally bought this for my 4 month old so...       5   \n",
       "279     This is a great product but it is just too big...       1   \n",
       "281     I used this sling for both of my babies, (0-&g...       5   \n",
       "284     I am the the mother of a 14 week old who has r...       5   \n",
       "287     We purchased the Babysling when our daughter w...       5   \n",
       "288     This sling is the third baby carrier I purchas...       5   \n",
       "312     Ok - newsflash.  Diapers are just smelly.  We'...       4   \n",
       "320     I originally put this item on my baby registry...       5   \n",
       "356     This product meets all my expectations. The di...       5   \n",
       "358     I purchased this pail about a year ago and fou...       2   \n",
       "366     With my second child I wanted something better...       5   \n",
       "369     We wanted to have a convenient locking recepta...       2   \n",
       "382     I changed my registry from the Diaper Genie to...       4   \n",
       "384     you can use any ol' bag with this. go to the d...       5   \n",
       "388     I chose the Diaper Champ because you are able ...       4   \n",
       "394     Works great - no smells.  LOVE that it uses re...       5   \n",
       "401     Simply put, the Diaper Champ is much easier to...       5   \n",
       "407     love it because it uses the bags from the groc...       4   \n",
       "419     As much as I hear you all on the Diaper Champ ...       4   \n",
       "427     Worth every single penny and then some! I orgi...       5   \n",
       "436     I love this diaper pail. Yea, if you let poopy...       4   \n",
       "437     This diaper pail is great. It is the third one...       4   \n",
       "439     I read many reviews about diaper disposals and...       5   \n",
       "...                                                   ...     ...   \n",
       "183033  These are toooo cute! They hold up really well...       5   \n",
       "183064  I had sleepless nights when my baby could not ...       5   \n",
       "183066  I got this as one of many gifts for my sisters...       5   \n",
       "183073  We got our little man a baby jack blanket two ...       5   \n",
       "183092  Overview:This organizer bag is compatible with...       5   \n",
       "183102  The Dot&Dot Stroller Organizing Bag is a cleve...       5   \n",
       "183116  This was such a cute little outfit. The qualit...       5   \n",
       "183126  If you want your washcloths to be a little thi...       1   \n",
       "183134  I got this as a gift, but I tried it out first...       5   \n",
       "183138  This monitor only lets one device monitor the ...       1   \n",
       "183145  I can honestly say this is the best nasal aspi...       5   \n",
       "183146  These run small but we're using it for my daug...       4   \n",
       "183183  After reading some previous reviews, I was rea...       5   \n",
       "183215  This has worked well for newborn portraits. La...       4   \n",
       "183227  Timely service. Cute products.Quality material...       5   \n",
       "183242  I read a lot about this before I ordered it, a...       5   \n",
       "183243  once in this thing, my 2mo. son loves this... ...       2   \n",
       "183244  This Merry Muscles Jumper exceeded all expecta...       5   \n",
       "183250  We started looking for a jumper for our daught...       5   \n",
       "183251  First the good, my son has some head control i...       4   \n",
       "183252  I was going back and forth about the Merry Mus...       5   \n",
       "183343  First off, I will say it's REALLY REALLY hard ...       4   \n",
       "183393  Gave to my son-in-law at baby shower and got r...       5   \n",
       "183397  Great mattress pad.  Fits crib mattress better...       5   \n",
       "183405  This fun and interactive  lovey blanket was a ...       5   \n",
       "183406  Amazing products come from Baby Jack Blankets!...       5   \n",
       "183414  My infant goes to a really crappy daycare, and...       1   \n",
       "183459  Gave these a try and was impressed!  Thick, du...       5   \n",
       "183465  Overall we really like this swaddle; the light...       4   \n",
       "183530  I love this product very mush . I have bought ...       5   \n",
       "\n",
       "                                             review_clean  sentiment  \n",
       "9       This has been an easy way for my nanny to reco...          1  \n",
       "10      I love this journal and our nanny uses it ever...          1  \n",
       "56      I searched high and low for a first year calen...          1  \n",
       "59      Absolutely love it and all of the Scripture in...          1  \n",
       "112     This is the best way to keep track of when you...          1  \n",
       "115     I ordered these for my 7 month old sons play a...          1  \n",
       "192     I bought this for a new granddaughter  I will ...          1  \n",
       "193     I originally bought this for my 4 month old so...          1  \n",
       "279     This is a great product but it is just too big...         -1  \n",
       "281     I used this sling for both of my babies 0gt 25...          1  \n",
       "284     I am the the mother of a 14 week old who has r...          1  \n",
       "287     We purchased the Babysling when our daughter w...          1  \n",
       "288     This sling is the third baby carrier I purchas...          1  \n",
       "312     Ok  newsflash  Diapers are just smelly  Weve h...          1  \n",
       "320     I originally put this item on my baby registry...          1  \n",
       "356     This product meets all my expectations The dia...          1  \n",
       "358     I purchased this pail about a year ago and fou...         -1  \n",
       "366     With my second child I wanted something better...          1  \n",
       "369     We wanted to have a convenient locking recepta...         -1  \n",
       "382     I changed my registry from the Diaper Genie to...          1  \n",
       "384     you can use any ol bag with this go to the dol...          1  \n",
       "388     I chose the Diaper Champ because you are able ...          1  \n",
       "394     Works great  no smells  LOVE that it uses regu...          1  \n",
       "401     Simply put the Diaper Champ is much easier to ...          1  \n",
       "407     love it because it uses the bags from the groc...          1  \n",
       "419     As much as I hear you all on the Diaper Champ ...          1  \n",
       "427     Worth every single penny and then some I orgin...          1  \n",
       "436     I love this diaper pail Yea if you let poopy d...          1  \n",
       "437     This diaper pail is great It is the third one ...          1  \n",
       "439     I read many reviews about diaper disposals and...          1  \n",
       "...                                                   ...        ...  \n",
       "183033  These are toooo cute They hold up really well ...          1  \n",
       "183064  I had sleepless nights when my baby could not ...          1  \n",
       "183066  I got this as one of many gifts for my sisters...          1  \n",
       "183073  We got our little man a baby jack blanket two ...          1  \n",
       "183092  OverviewThis organizer bag is compatible with ...          1  \n",
       "183102  The DotDot Stroller Organizing Bag is a clever...          1  \n",
       "183116  This was such a cute little outfit The quality...          1  \n",
       "183126  If you want your washcloths to be a little thi...         -1  \n",
       "183134  I got this as a gift but I tried it out first ...          1  \n",
       "183138  This monitor only lets one device monitor the ...         -1  \n",
       "183145  I can honestly say this is the best nasal aspi...          1  \n",
       "183146  These run small but were using it for my daugh...          1  \n",
       "183183  After reading some previous reviews I was real...          1  \n",
       "183215  This has worked well for newborn portraits Lar...          1  \n",
       "183227  Timely service Cute productsQuality materials ...          1  \n",
       "183242  I read a lot about this before I ordered it an...          1  \n",
       "183243  once in this thing my 2mo son loves this howev...         -1  \n",
       "183244  This Merry Muscles Jumper exceeded all expecta...          1  \n",
       "183250  We started looking for a jumper for our daught...          1  \n",
       "183251  First the good my son has some head control is...          1  \n",
       "183252  I was going back and forth about the Merry Mus...          1  \n",
       "183343  First off I will say its REALLY REALLY hard to...          1  \n",
       "183393  Gave to my soninlaw at baby shower and got rav...          1  \n",
       "183397  Great mattress pad  Fits crib mattress better ...          1  \n",
       "183405  This fun and interactive  lovey blanket was a ...          1  \n",
       "183406  Amazing products come from Baby Jack Blankets ...          1  \n",
       "183414  My infant goes to a really crappy daycare and ...         -1  \n",
       "183459  Gave these a try and was impressed  Thick dura...          1  \n",
       "183465  Overall we really like this swaddle the light ...          1  \n",
       "183530  I love this product very mush  I have bought m...          1  \n",
       "\n",
       "[6611 rows x 5 columns]"
      ]
     },
     "execution_count": 349,
     "metadata": {},
     "output_type": "execute_result"
    }
   ],
   "source": [
    "baby_reviews"
   ]
  },
  {
   "cell_type": "code",
   "execution_count": 350,
   "metadata": {},
   "outputs": [],
   "source": [
    "baby_matrix = vectorizer.transform(baby_reviews['review_clean'])\n",
    "probabilities = lr.predict_proba(baby_matrix)[:,1]"
   ]
  },
  {
   "cell_type": "code",
   "execution_count": 351,
   "metadata": {},
   "outputs": [
    {
     "data": {
      "text/html": [
       "<div>\n",
       "<style scoped>\n",
       "    .dataframe tbody tr th:only-of-type {\n",
       "        vertical-align: middle;\n",
       "    }\n",
       "\n",
       "    .dataframe tbody tr th {\n",
       "        vertical-align: top;\n",
       "    }\n",
       "\n",
       "    .dataframe thead th {\n",
       "        text-align: right;\n",
       "    }\n",
       "</style>\n",
       "<table border=\"1\" class=\"dataframe\">\n",
       "  <thead>\n",
       "    <tr style=\"text-align: right;\">\n",
       "      <th></th>\n",
       "      <th>name</th>\n",
       "      <th>review</th>\n",
       "      <th>rating</th>\n",
       "      <th>review_clean</th>\n",
       "      <th>sentiment</th>\n",
       "    </tr>\n",
       "  </thead>\n",
       "  <tbody>\n",
       "    <tr>\n",
       "      <th>9</th>\n",
       "      <td>Baby Tracker&amp;reg; - Daily Childcare Journal, S...</td>\n",
       "      <td>This has been an easy way for my nanny to reco...</td>\n",
       "      <td>4</td>\n",
       "      <td>This has been an easy way for my nanny to reco...</td>\n",
       "      <td>1</td>\n",
       "    </tr>\n",
       "    <tr>\n",
       "      <th>10</th>\n",
       "      <td>Baby Tracker&amp;reg; - Daily Childcare Journal, S...</td>\n",
       "      <td>I love this journal and our nanny uses it ever...</td>\n",
       "      <td>4</td>\n",
       "      <td>I love this journal and our nanny uses it ever...</td>\n",
       "      <td>1</td>\n",
       "    </tr>\n",
       "    <tr>\n",
       "      <th>56</th>\n",
       "      <td>Baby's First Year Undated Wall Calendar with S...</td>\n",
       "      <td>I searched high and low for a first year calen...</td>\n",
       "      <td>5</td>\n",
       "      <td>I searched high and low for a first year calen...</td>\n",
       "      <td>1</td>\n",
       "    </tr>\n",
       "    <tr>\n",
       "      <th>59</th>\n",
       "      <td>Our Baby Girl Memory Book</td>\n",
       "      <td>Absolutely love it and all of the Scripture in...</td>\n",
       "      <td>5</td>\n",
       "      <td>Absolutely love it and all of the Scripture in...</td>\n",
       "      <td>1</td>\n",
       "    </tr>\n",
       "    <tr>\n",
       "      <th>112</th>\n",
       "      <td>Newborn Baby Tracker&amp;reg; - Round the Clock Ch...</td>\n",
       "      <td>This is the best way to keep track of when you...</td>\n",
       "      <td>5</td>\n",
       "      <td>This is the best way to keep track of when you...</td>\n",
       "      <td>1</td>\n",
       "    </tr>\n",
       "    <tr>\n",
       "      <th>115</th>\n",
       "      <td>Large Jungle Animals (Panda, Lion, Elephant, G...</td>\n",
       "      <td>I ordered these for my 7 month old sons play a...</td>\n",
       "      <td>5</td>\n",
       "      <td>I ordered these for my 7 month old sons play a...</td>\n",
       "      <td>1</td>\n",
       "    </tr>\n",
       "    <tr>\n",
       "      <th>192</th>\n",
       "      <td>Sassy Who Loves Baby? Photo Album Book with te...</td>\n",
       "      <td>I bought this for a new granddaughter.  I will...</td>\n",
       "      <td>5</td>\n",
       "      <td>I bought this for a new granddaughter  I will ...</td>\n",
       "      <td>1</td>\n",
       "    </tr>\n",
       "    <tr>\n",
       "      <th>193</th>\n",
       "      <td>Sassy Who Loves Baby? Photo Album Book with te...</td>\n",
       "      <td>I originally bought this for my 4 month old so...</td>\n",
       "      <td>5</td>\n",
       "      <td>I originally bought this for my 4 month old so...</td>\n",
       "      <td>1</td>\n",
       "    </tr>\n",
       "    <tr>\n",
       "      <th>279</th>\n",
       "      <td>Crown Crafts The Original NoJo BabySling by Dr...</td>\n",
       "      <td>This is a great product but it is just too big...</td>\n",
       "      <td>1</td>\n",
       "      <td>This is a great product but it is just too big...</td>\n",
       "      <td>-1</td>\n",
       "    </tr>\n",
       "    <tr>\n",
       "      <th>281</th>\n",
       "      <td>Crown Crafts The Original NoJo BabySling by Dr...</td>\n",
       "      <td>I used this sling for both of my babies, (0-&amp;g...</td>\n",
       "      <td>5</td>\n",
       "      <td>I used this sling for both of my babies 0gt 25...</td>\n",
       "      <td>1</td>\n",
       "    </tr>\n",
       "    <tr>\n",
       "      <th>284</th>\n",
       "      <td>Crown Crafts The Original NoJo BabySling by Dr...</td>\n",
       "      <td>I am the the mother of a 14 week old who has r...</td>\n",
       "      <td>5</td>\n",
       "      <td>I am the the mother of a 14 week old who has r...</td>\n",
       "      <td>1</td>\n",
       "    </tr>\n",
       "    <tr>\n",
       "      <th>287</th>\n",
       "      <td>Crown Crafts The Original NoJo BabySling by Dr...</td>\n",
       "      <td>We purchased the Babysling when our daughter w...</td>\n",
       "      <td>5</td>\n",
       "      <td>We purchased the Babysling when our daughter w...</td>\n",
       "      <td>1</td>\n",
       "    </tr>\n",
       "    <tr>\n",
       "      <th>288</th>\n",
       "      <td>Crown Crafts The Original NoJo BabySling by Dr...</td>\n",
       "      <td>This sling is the third baby carrier I purchas...</td>\n",
       "      <td>5</td>\n",
       "      <td>This sling is the third baby carrier I purchas...</td>\n",
       "      <td>1</td>\n",
       "    </tr>\n",
       "    <tr>\n",
       "      <th>312</th>\n",
       "      <td>Baby Trend Diaper Champ</td>\n",
       "      <td>Ok - newsflash.  Diapers are just smelly.  We'...</td>\n",
       "      <td>4</td>\n",
       "      <td>Ok  newsflash  Diapers are just smelly  Weve h...</td>\n",
       "      <td>1</td>\n",
       "    </tr>\n",
       "    <tr>\n",
       "      <th>320</th>\n",
       "      <td>Baby Trend Diaper Champ</td>\n",
       "      <td>I originally put this item on my baby registry...</td>\n",
       "      <td>5</td>\n",
       "      <td>I originally put this item on my baby registry...</td>\n",
       "      <td>1</td>\n",
       "    </tr>\n",
       "    <tr>\n",
       "      <th>356</th>\n",
       "      <td>Baby Trend Diaper Champ</td>\n",
       "      <td>This product meets all my expectations. The di...</td>\n",
       "      <td>5</td>\n",
       "      <td>This product meets all my expectations The dia...</td>\n",
       "      <td>1</td>\n",
       "    </tr>\n",
       "    <tr>\n",
       "      <th>358</th>\n",
       "      <td>Baby Trend Diaper Champ</td>\n",
       "      <td>I purchased this pail about a year ago and fou...</td>\n",
       "      <td>2</td>\n",
       "      <td>I purchased this pail about a year ago and fou...</td>\n",
       "      <td>-1</td>\n",
       "    </tr>\n",
       "    <tr>\n",
       "      <th>366</th>\n",
       "      <td>Baby Trend Diaper Champ</td>\n",
       "      <td>With my second child I wanted something better...</td>\n",
       "      <td>5</td>\n",
       "      <td>With my second child I wanted something better...</td>\n",
       "      <td>1</td>\n",
       "    </tr>\n",
       "    <tr>\n",
       "      <th>369</th>\n",
       "      <td>Baby Trend Diaper Champ</td>\n",
       "      <td>We wanted to have a convenient locking recepta...</td>\n",
       "      <td>2</td>\n",
       "      <td>We wanted to have a convenient locking recepta...</td>\n",
       "      <td>-1</td>\n",
       "    </tr>\n",
       "    <tr>\n",
       "      <th>382</th>\n",
       "      <td>Baby Trend Diaper Champ</td>\n",
       "      <td>I changed my registry from the Diaper Genie to...</td>\n",
       "      <td>4</td>\n",
       "      <td>I changed my registry from the Diaper Genie to...</td>\n",
       "      <td>1</td>\n",
       "    </tr>\n",
       "    <tr>\n",
       "      <th>384</th>\n",
       "      <td>Baby Trend Diaper Champ</td>\n",
       "      <td>you can use any ol' bag with this. go to the d...</td>\n",
       "      <td>5</td>\n",
       "      <td>you can use any ol bag with this go to the dol...</td>\n",
       "      <td>1</td>\n",
       "    </tr>\n",
       "    <tr>\n",
       "      <th>388</th>\n",
       "      <td>Baby Trend Diaper Champ</td>\n",
       "      <td>I chose the Diaper Champ because you are able ...</td>\n",
       "      <td>4</td>\n",
       "      <td>I chose the Diaper Champ because you are able ...</td>\n",
       "      <td>1</td>\n",
       "    </tr>\n",
       "    <tr>\n",
       "      <th>394</th>\n",
       "      <td>Baby Trend Diaper Champ</td>\n",
       "      <td>Works great - no smells.  LOVE that it uses re...</td>\n",
       "      <td>5</td>\n",
       "      <td>Works great  no smells  LOVE that it uses regu...</td>\n",
       "      <td>1</td>\n",
       "    </tr>\n",
       "    <tr>\n",
       "      <th>401</th>\n",
       "      <td>Baby Trend Diaper Champ</td>\n",
       "      <td>Simply put, the Diaper Champ is much easier to...</td>\n",
       "      <td>5</td>\n",
       "      <td>Simply put the Diaper Champ is much easier to ...</td>\n",
       "      <td>1</td>\n",
       "    </tr>\n",
       "    <tr>\n",
       "      <th>407</th>\n",
       "      <td>Baby Trend Diaper Champ</td>\n",
       "      <td>love it because it uses the bags from the groc...</td>\n",
       "      <td>4</td>\n",
       "      <td>love it because it uses the bags from the groc...</td>\n",
       "      <td>1</td>\n",
       "    </tr>\n",
       "    <tr>\n",
       "      <th>419</th>\n",
       "      <td>Baby Trend Diaper Champ</td>\n",
       "      <td>As much as I hear you all on the Diaper Champ ...</td>\n",
       "      <td>4</td>\n",
       "      <td>As much as I hear you all on the Diaper Champ ...</td>\n",
       "      <td>1</td>\n",
       "    </tr>\n",
       "    <tr>\n",
       "      <th>427</th>\n",
       "      <td>Baby Trend Diaper Champ</td>\n",
       "      <td>Worth every single penny and then some! I orgi...</td>\n",
       "      <td>5</td>\n",
       "      <td>Worth every single penny and then some I orgin...</td>\n",
       "      <td>1</td>\n",
       "    </tr>\n",
       "    <tr>\n",
       "      <th>436</th>\n",
       "      <td>Baby Trend Diaper Champ</td>\n",
       "      <td>I love this diaper pail. Yea, if you let poopy...</td>\n",
       "      <td>4</td>\n",
       "      <td>I love this diaper pail Yea if you let poopy d...</td>\n",
       "      <td>1</td>\n",
       "    </tr>\n",
       "    <tr>\n",
       "      <th>437</th>\n",
       "      <td>Baby Trend Diaper Champ</td>\n",
       "      <td>This diaper pail is great. It is the third one...</td>\n",
       "      <td>4</td>\n",
       "      <td>This diaper pail is great It is the third one ...</td>\n",
       "      <td>1</td>\n",
       "    </tr>\n",
       "    <tr>\n",
       "      <th>439</th>\n",
       "      <td>Baby Trend Diaper Champ</td>\n",
       "      <td>I read many reviews about diaper disposals and...</td>\n",
       "      <td>5</td>\n",
       "      <td>I read many reviews about diaper disposals and...</td>\n",
       "      <td>1</td>\n",
       "    </tr>\n",
       "    <tr>\n",
       "      <th>...</th>\n",
       "      <td>...</td>\n",
       "      <td>...</td>\n",
       "      <td>...</td>\n",
       "      <td>...</td>\n",
       "      <td>...</td>\n",
       "    </tr>\n",
       "    <tr>\n",
       "      <th>183033</th>\n",
       "      <td>Baby Aspen Whoo's The Cutest Bloomer, Owl</td>\n",
       "      <td>These are toooo cute! They hold up really well...</td>\n",
       "      <td>5</td>\n",
       "      <td>These are toooo cute They hold up really well ...</td>\n",
       "      <td>1</td>\n",
       "    </tr>\n",
       "    <tr>\n",
       "      <th>183064</th>\n",
       "      <td>#1 Premium Baby Nasal Aspirator by Cutietots -...</td>\n",
       "      <td>I had sleepless nights when my baby could not ...</td>\n",
       "      <td>5</td>\n",
       "      <td>I had sleepless nights when my baby could not ...</td>\n",
       "      <td>1</td>\n",
       "    </tr>\n",
       "    <tr>\n",
       "      <th>183066</th>\n",
       "      <td>#1 Premium Baby Nasal Aspirator by Cutietots -...</td>\n",
       "      <td>I got this as one of many gifts for my sisters...</td>\n",
       "      <td>5</td>\n",
       "      <td>I got this as one of many gifts for my sisters...</td>\n",
       "      <td>1</td>\n",
       "    </tr>\n",
       "    <tr>\n",
       "      <th>183073</th>\n",
       "      <td>Sensory Baby Girl Tag Blanket, Spring Pastel P...</td>\n",
       "      <td>We got our little man a baby jack blanket two ...</td>\n",
       "      <td>5</td>\n",
       "      <td>We got our little man a baby jack blanket two ...</td>\n",
       "      <td>1</td>\n",
       "    </tr>\n",
       "    <tr>\n",
       "      <th>183092</th>\n",
       "      <td>Stroller Organizer PLUS Hooks for Strollers - ...</td>\n",
       "      <td>Overview:This organizer bag is compatible with...</td>\n",
       "      <td>5</td>\n",
       "      <td>OverviewThis organizer bag is compatible with ...</td>\n",
       "      <td>1</td>\n",
       "    </tr>\n",
       "    <tr>\n",
       "      <th>183102</th>\n",
       "      <td>Stroller Organizer PLUS Hooks for Strollers - ...</td>\n",
       "      <td>The Dot&amp;Dot Stroller Organizing Bag is a cleve...</td>\n",
       "      <td>5</td>\n",
       "      <td>The DotDot Stroller Organizing Bag is a clever...</td>\n",
       "      <td>1</td>\n",
       "    </tr>\n",
       "    <tr>\n",
       "      <th>183116</th>\n",
       "      <td>Unotux 4 Pcs Formal Boys Yellow Satin Vest Bow...</td>\n",
       "      <td>This was such a cute little outfit. The qualit...</td>\n",
       "      <td>5</td>\n",
       "      <td>This was such a cute little outfit The quality...</td>\n",
       "      <td>1</td>\n",
       "    </tr>\n",
       "    <tr>\n",
       "      <th>183126</th>\n",
       "      <td>Snugly Baby 24 Pack Washcloth Set (Blue)</td>\n",
       "      <td>If you want your washcloths to be a little thi...</td>\n",
       "      <td>1</td>\n",
       "      <td>If you want your washcloths to be a little thi...</td>\n",
       "      <td>-1</td>\n",
       "    </tr>\n",
       "    <tr>\n",
       "      <th>183134</th>\n",
       "      <td>LorexBaby LBN511 Little Link HD WI-FI Video Ba...</td>\n",
       "      <td>I got this as a gift, but I tried it out first...</td>\n",
       "      <td>5</td>\n",
       "      <td>I got this as a gift but I tried it out first ...</td>\n",
       "      <td>1</td>\n",
       "    </tr>\n",
       "    <tr>\n",
       "      <th>183138</th>\n",
       "      <td>LorexBaby LBN511 Little Link HD WI-FI Video Ba...</td>\n",
       "      <td>This monitor only lets one device monitor the ...</td>\n",
       "      <td>1</td>\n",
       "      <td>This monitor only lets one device monitor the ...</td>\n",
       "      <td>-1</td>\n",
       "    </tr>\n",
       "    <tr>\n",
       "      <th>183145</th>\n",
       "      <td>The #1 Baby Nasal Aspirator - Free Carry Case,...</td>\n",
       "      <td>I can honestly say this is the best nasal aspi...</td>\n",
       "      <td>5</td>\n",
       "      <td>I can honestly say this is the best nasal aspi...</td>\n",
       "      <td>1</td>\n",
       "    </tr>\n",
       "    <tr>\n",
       "      <th>183146</th>\n",
       "      <td>Masione Baby Girl Lace Posh Petti Ruffle Rompe...</td>\n",
       "      <td>These run small but we're using it for my daug...</td>\n",
       "      <td>4</td>\n",
       "      <td>These run small but were using it for my daugh...</td>\n",
       "      <td>1</td>\n",
       "    </tr>\n",
       "    <tr>\n",
       "      <th>183183</th>\n",
       "      <td>iBCam iB810 SMART Wifi Baby Monitor and Nanny ...</td>\n",
       "      <td>After reading some previous reviews, I was rea...</td>\n",
       "      <td>5</td>\n",
       "      <td>After reading some previous reviews I was real...</td>\n",
       "      <td>1</td>\n",
       "    </tr>\n",
       "    <tr>\n",
       "      <th>183215</th>\n",
       "      <td>Camera Photo Floor Prop Faux Fur Artificial Fu...</td>\n",
       "      <td>This has worked well for newborn portraits. La...</td>\n",
       "      <td>4</td>\n",
       "      <td>This has worked well for newborn portraits Lar...</td>\n",
       "      <td>1</td>\n",
       "    </tr>\n",
       "    <tr>\n",
       "      <th>183227</th>\n",
       "      <td>Revo Baby &amp;quot;Power to the Babies&amp;quot; Lap ...</td>\n",
       "      <td>Timely service. Cute products.Quality material...</td>\n",
       "      <td>5</td>\n",
       "      <td>Timely service Cute productsQuality materials ...</td>\n",
       "      <td>1</td>\n",
       "    </tr>\n",
       "    <tr>\n",
       "      <th>183242</th>\n",
       "      <td>Merry Muscles Ergonomic Jumper Exerciser Baby ...</td>\n",
       "      <td>I read a lot about this before I ordered it, a...</td>\n",
       "      <td>5</td>\n",
       "      <td>I read a lot about this before I ordered it an...</td>\n",
       "      <td>1</td>\n",
       "    </tr>\n",
       "    <tr>\n",
       "      <th>183243</th>\n",
       "      <td>Merry Muscles Ergonomic Jumper Exerciser Baby ...</td>\n",
       "      <td>once in this thing, my 2mo. son loves this... ...</td>\n",
       "      <td>2</td>\n",
       "      <td>once in this thing my 2mo son loves this howev...</td>\n",
       "      <td>-1</td>\n",
       "    </tr>\n",
       "    <tr>\n",
       "      <th>183244</th>\n",
       "      <td>Merry Muscles Ergonomic Jumper Exerciser Baby ...</td>\n",
       "      <td>This Merry Muscles Jumper exceeded all expecta...</td>\n",
       "      <td>5</td>\n",
       "      <td>This Merry Muscles Jumper exceeded all expecta...</td>\n",
       "      <td>1</td>\n",
       "    </tr>\n",
       "    <tr>\n",
       "      <th>183250</th>\n",
       "      <td>Merry Muscles Ergonomic Jumper Exerciser Baby ...</td>\n",
       "      <td>We started looking for a jumper for our daught...</td>\n",
       "      <td>5</td>\n",
       "      <td>We started looking for a jumper for our daught...</td>\n",
       "      <td>1</td>\n",
       "    </tr>\n",
       "    <tr>\n",
       "      <th>183251</th>\n",
       "      <td>Merry Muscles Ergonomic Jumper Exerciser Baby ...</td>\n",
       "      <td>First the good, my son has some head control i...</td>\n",
       "      <td>4</td>\n",
       "      <td>First the good my son has some head control is...</td>\n",
       "      <td>1</td>\n",
       "    </tr>\n",
       "    <tr>\n",
       "      <th>183252</th>\n",
       "      <td>Merry Muscles Ergonomic Jumper Exerciser Baby ...</td>\n",
       "      <td>I was going back and forth about the Merry Mus...</td>\n",
       "      <td>5</td>\n",
       "      <td>I was going back and forth about the Merry Mus...</td>\n",
       "      <td>1</td>\n",
       "    </tr>\n",
       "    <tr>\n",
       "      <th>183343</th>\n",
       "      <td>&amp;quot;Kid U Not&amp;quot; Exclusive Fine Baby Rib ...</td>\n",
       "      <td>First off, I will say it's REALLY REALLY hard ...</td>\n",
       "      <td>4</td>\n",
       "      <td>First off I will say its REALLY REALLY hard to...</td>\n",
       "      <td>1</td>\n",
       "    </tr>\n",
       "    <tr>\n",
       "      <th>183393</th>\n",
       "      <td>Silly Daddy Boobs are for Babies Funny Baby Bo...</td>\n",
       "      <td>Gave to my son-in-law at baby shower and got r...</td>\n",
       "      <td>5</td>\n",
       "      <td>Gave to my soninlaw at baby shower and got rav...</td>\n",
       "      <td>1</td>\n",
       "    </tr>\n",
       "    <tr>\n",
       "      <th>183397</th>\n",
       "      <td>Crib Mattress Pad, Hypoallergenic, Washable Wa...</td>\n",
       "      <td>Great mattress pad.  Fits crib mattress better...</td>\n",
       "      <td>5</td>\n",
       "      <td>Great mattress pad  Fits crib mattress better ...</td>\n",
       "      <td>1</td>\n",
       "    </tr>\n",
       "    <tr>\n",
       "      <th>183405</th>\n",
       "      <td>My Learning Lovey by Baby Jack. Educational ba...</td>\n",
       "      <td>This fun and interactive  lovey blanket was a ...</td>\n",
       "      <td>5</td>\n",
       "      <td>This fun and interactive  lovey blanket was a ...</td>\n",
       "      <td>1</td>\n",
       "    </tr>\n",
       "    <tr>\n",
       "      <th>183406</th>\n",
       "      <td>My Learning Lovey by Baby Jack. Educational ba...</td>\n",
       "      <td>Amazing products come from Baby Jack Blankets!...</td>\n",
       "      <td>5</td>\n",
       "      <td>Amazing products come from Baby Jack Blankets ...</td>\n",
       "      <td>1</td>\n",
       "    </tr>\n",
       "    <tr>\n",
       "      <th>183414</th>\n",
       "      <td>Samsung Baby Care Washer, Stainless Platinum, ...</td>\n",
       "      <td>My infant goes to a really crappy daycare, and...</td>\n",
       "      <td>1</td>\n",
       "      <td>My infant goes to a really crappy daycare and ...</td>\n",
       "      <td>-1</td>\n",
       "    </tr>\n",
       "    <tr>\n",
       "      <th>183459</th>\n",
       "      <td>Sweet CareFor Bamboo Baby Wipes - 80 Wipe Pack...</td>\n",
       "      <td>Gave these a try and was impressed!  Thick, du...</td>\n",
       "      <td>5</td>\n",
       "      <td>Gave these a try and was impressed  Thick dura...</td>\n",
       "      <td>1</td>\n",
       "    </tr>\n",
       "    <tr>\n",
       "      <th>183465</th>\n",
       "      <td>Swaddle - &amp;quot;Classic&amp;quot; Zen Swaddle - We...</td>\n",
       "      <td>Overall we really like this swaddle; the light...</td>\n",
       "      <td>4</td>\n",
       "      <td>Overall we really like this swaddle the light ...</td>\n",
       "      <td>1</td>\n",
       "    </tr>\n",
       "    <tr>\n",
       "      <th>183530</th>\n",
       "      <td>Best 2 Pack Baby Car Shade for Kids - Window S...</td>\n",
       "      <td>I love this product very mush . I have bought ...</td>\n",
       "      <td>5</td>\n",
       "      <td>I love this product very mush  I have bought m...</td>\n",
       "      <td>1</td>\n",
       "    </tr>\n",
       "  </tbody>\n",
       "</table>\n",
       "<p>6611 rows × 5 columns</p>\n",
       "</div>"
      ],
      "text/plain": [
       "                                                     name  \\\n",
       "9       Baby Tracker&reg; - Daily Childcare Journal, S...   \n",
       "10      Baby Tracker&reg; - Daily Childcare Journal, S...   \n",
       "56      Baby's First Year Undated Wall Calendar with S...   \n",
       "59                              Our Baby Girl Memory Book   \n",
       "112     Newborn Baby Tracker&reg; - Round the Clock Ch...   \n",
       "115     Large Jungle Animals (Panda, Lion, Elephant, G...   \n",
       "192     Sassy Who Loves Baby? Photo Album Book with te...   \n",
       "193     Sassy Who Loves Baby? Photo Album Book with te...   \n",
       "279     Crown Crafts The Original NoJo BabySling by Dr...   \n",
       "281     Crown Crafts The Original NoJo BabySling by Dr...   \n",
       "284     Crown Crafts The Original NoJo BabySling by Dr...   \n",
       "287     Crown Crafts The Original NoJo BabySling by Dr...   \n",
       "288     Crown Crafts The Original NoJo BabySling by Dr...   \n",
       "312                               Baby Trend Diaper Champ   \n",
       "320                               Baby Trend Diaper Champ   \n",
       "356                               Baby Trend Diaper Champ   \n",
       "358                               Baby Trend Diaper Champ   \n",
       "366                               Baby Trend Diaper Champ   \n",
       "369                               Baby Trend Diaper Champ   \n",
       "382                               Baby Trend Diaper Champ   \n",
       "384                               Baby Trend Diaper Champ   \n",
       "388                               Baby Trend Diaper Champ   \n",
       "394                               Baby Trend Diaper Champ   \n",
       "401                               Baby Trend Diaper Champ   \n",
       "407                               Baby Trend Diaper Champ   \n",
       "419                               Baby Trend Diaper Champ   \n",
       "427                               Baby Trend Diaper Champ   \n",
       "436                               Baby Trend Diaper Champ   \n",
       "437                               Baby Trend Diaper Champ   \n",
       "439                               Baby Trend Diaper Champ   \n",
       "...                                                   ...   \n",
       "183033          Baby Aspen Whoo's The Cutest Bloomer, Owl   \n",
       "183064  #1 Premium Baby Nasal Aspirator by Cutietots -...   \n",
       "183066  #1 Premium Baby Nasal Aspirator by Cutietots -...   \n",
       "183073  Sensory Baby Girl Tag Blanket, Spring Pastel P...   \n",
       "183092  Stroller Organizer PLUS Hooks for Strollers - ...   \n",
       "183102  Stroller Organizer PLUS Hooks for Strollers - ...   \n",
       "183116  Unotux 4 Pcs Formal Boys Yellow Satin Vest Bow...   \n",
       "183126           Snugly Baby 24 Pack Washcloth Set (Blue)   \n",
       "183134  LorexBaby LBN511 Little Link HD WI-FI Video Ba...   \n",
       "183138  LorexBaby LBN511 Little Link HD WI-FI Video Ba...   \n",
       "183145  The #1 Baby Nasal Aspirator - Free Carry Case,...   \n",
       "183146  Masione Baby Girl Lace Posh Petti Ruffle Rompe...   \n",
       "183183  iBCam iB810 SMART Wifi Baby Monitor and Nanny ...   \n",
       "183215  Camera Photo Floor Prop Faux Fur Artificial Fu...   \n",
       "183227  Revo Baby &quot;Power to the Babies&quot; Lap ...   \n",
       "183242  Merry Muscles Ergonomic Jumper Exerciser Baby ...   \n",
       "183243  Merry Muscles Ergonomic Jumper Exerciser Baby ...   \n",
       "183244  Merry Muscles Ergonomic Jumper Exerciser Baby ...   \n",
       "183250  Merry Muscles Ergonomic Jumper Exerciser Baby ...   \n",
       "183251  Merry Muscles Ergonomic Jumper Exerciser Baby ...   \n",
       "183252  Merry Muscles Ergonomic Jumper Exerciser Baby ...   \n",
       "183343  &quot;Kid U Not&quot; Exclusive Fine Baby Rib ...   \n",
       "183393  Silly Daddy Boobs are for Babies Funny Baby Bo...   \n",
       "183397  Crib Mattress Pad, Hypoallergenic, Washable Wa...   \n",
       "183405  My Learning Lovey by Baby Jack. Educational ba...   \n",
       "183406  My Learning Lovey by Baby Jack. Educational ba...   \n",
       "183414  Samsung Baby Care Washer, Stainless Platinum, ...   \n",
       "183459  Sweet CareFor Bamboo Baby Wipes - 80 Wipe Pack...   \n",
       "183465  Swaddle - &quot;Classic&quot; Zen Swaddle - We...   \n",
       "183530  Best 2 Pack Baby Car Shade for Kids - Window S...   \n",
       "\n",
       "                                                   review  rating  \\\n",
       "9       This has been an easy way for my nanny to reco...       4   \n",
       "10      I love this journal and our nanny uses it ever...       4   \n",
       "56      I searched high and low for a first year calen...       5   \n",
       "59      Absolutely love it and all of the Scripture in...       5   \n",
       "112     This is the best way to keep track of when you...       5   \n",
       "115     I ordered these for my 7 month old sons play a...       5   \n",
       "192     I bought this for a new granddaughter.  I will...       5   \n",
       "193     I originally bought this for my 4 month old so...       5   \n",
       "279     This is a great product but it is just too big...       1   \n",
       "281     I used this sling for both of my babies, (0-&g...       5   \n",
       "284     I am the the mother of a 14 week old who has r...       5   \n",
       "287     We purchased the Babysling when our daughter w...       5   \n",
       "288     This sling is the third baby carrier I purchas...       5   \n",
       "312     Ok - newsflash.  Diapers are just smelly.  We'...       4   \n",
       "320     I originally put this item on my baby registry...       5   \n",
       "356     This product meets all my expectations. The di...       5   \n",
       "358     I purchased this pail about a year ago and fou...       2   \n",
       "366     With my second child I wanted something better...       5   \n",
       "369     We wanted to have a convenient locking recepta...       2   \n",
       "382     I changed my registry from the Diaper Genie to...       4   \n",
       "384     you can use any ol' bag with this. go to the d...       5   \n",
       "388     I chose the Diaper Champ because you are able ...       4   \n",
       "394     Works great - no smells.  LOVE that it uses re...       5   \n",
       "401     Simply put, the Diaper Champ is much easier to...       5   \n",
       "407     love it because it uses the bags from the groc...       4   \n",
       "419     As much as I hear you all on the Diaper Champ ...       4   \n",
       "427     Worth every single penny and then some! I orgi...       5   \n",
       "436     I love this diaper pail. Yea, if you let poopy...       4   \n",
       "437     This diaper pail is great. It is the third one...       4   \n",
       "439     I read many reviews about diaper disposals and...       5   \n",
       "...                                                   ...     ...   \n",
       "183033  These are toooo cute! They hold up really well...       5   \n",
       "183064  I had sleepless nights when my baby could not ...       5   \n",
       "183066  I got this as one of many gifts for my sisters...       5   \n",
       "183073  We got our little man a baby jack blanket two ...       5   \n",
       "183092  Overview:This organizer bag is compatible with...       5   \n",
       "183102  The Dot&Dot Stroller Organizing Bag is a cleve...       5   \n",
       "183116  This was such a cute little outfit. The qualit...       5   \n",
       "183126  If you want your washcloths to be a little thi...       1   \n",
       "183134  I got this as a gift, but I tried it out first...       5   \n",
       "183138  This monitor only lets one device monitor the ...       1   \n",
       "183145  I can honestly say this is the best nasal aspi...       5   \n",
       "183146  These run small but we're using it for my daug...       4   \n",
       "183183  After reading some previous reviews, I was rea...       5   \n",
       "183215  This has worked well for newborn portraits. La...       4   \n",
       "183227  Timely service. Cute products.Quality material...       5   \n",
       "183242  I read a lot about this before I ordered it, a...       5   \n",
       "183243  once in this thing, my 2mo. son loves this... ...       2   \n",
       "183244  This Merry Muscles Jumper exceeded all expecta...       5   \n",
       "183250  We started looking for a jumper for our daught...       5   \n",
       "183251  First the good, my son has some head control i...       4   \n",
       "183252  I was going back and forth about the Merry Mus...       5   \n",
       "183343  First off, I will say it's REALLY REALLY hard ...       4   \n",
       "183393  Gave to my son-in-law at baby shower and got r...       5   \n",
       "183397  Great mattress pad.  Fits crib mattress better...       5   \n",
       "183405  This fun and interactive  lovey blanket was a ...       5   \n",
       "183406  Amazing products come from Baby Jack Blankets!...       5   \n",
       "183414  My infant goes to a really crappy daycare, and...       1   \n",
       "183459  Gave these a try and was impressed!  Thick, du...       5   \n",
       "183465  Overall we really like this swaddle; the light...       4   \n",
       "183530  I love this product very mush . I have bought ...       5   \n",
       "\n",
       "                                             review_clean  sentiment  \n",
       "9       This has been an easy way for my nanny to reco...          1  \n",
       "10      I love this journal and our nanny uses it ever...          1  \n",
       "56      I searched high and low for a first year calen...          1  \n",
       "59      Absolutely love it and all of the Scripture in...          1  \n",
       "112     This is the best way to keep track of when you...          1  \n",
       "115     I ordered these for my 7 month old sons play a...          1  \n",
       "192     I bought this for a new granddaughter  I will ...          1  \n",
       "193     I originally bought this for my 4 month old so...          1  \n",
       "279     This is a great product but it is just too big...         -1  \n",
       "281     I used this sling for both of my babies 0gt 25...          1  \n",
       "284     I am the the mother of a 14 week old who has r...          1  \n",
       "287     We purchased the Babysling when our daughter w...          1  \n",
       "288     This sling is the third baby carrier I purchas...          1  \n",
       "312     Ok  newsflash  Diapers are just smelly  Weve h...          1  \n",
       "320     I originally put this item on my baby registry...          1  \n",
       "356     This product meets all my expectations The dia...          1  \n",
       "358     I purchased this pail about a year ago and fou...         -1  \n",
       "366     With my second child I wanted something better...          1  \n",
       "369     We wanted to have a convenient locking recepta...         -1  \n",
       "382     I changed my registry from the Diaper Genie to...          1  \n",
       "384     you can use any ol bag with this go to the dol...          1  \n",
       "388     I chose the Diaper Champ because you are able ...          1  \n",
       "394     Works great  no smells  LOVE that it uses regu...          1  \n",
       "401     Simply put the Diaper Champ is much easier to ...          1  \n",
       "407     love it because it uses the bags from the groc...          1  \n",
       "419     As much as I hear you all on the Diaper Champ ...          1  \n",
       "427     Worth every single penny and then some I orgin...          1  \n",
       "436     I love this diaper pail Yea if you let poopy d...          1  \n",
       "437     This diaper pail is great It is the third one ...          1  \n",
       "439     I read many reviews about diaper disposals and...          1  \n",
       "...                                                   ...        ...  \n",
       "183033  These are toooo cute They hold up really well ...          1  \n",
       "183064  I had sleepless nights when my baby could not ...          1  \n",
       "183066  I got this as one of many gifts for my sisters...          1  \n",
       "183073  We got our little man a baby jack blanket two ...          1  \n",
       "183092  OverviewThis organizer bag is compatible with ...          1  \n",
       "183102  The DotDot Stroller Organizing Bag is a clever...          1  \n",
       "183116  This was such a cute little outfit The quality...          1  \n",
       "183126  If you want your washcloths to be a little thi...         -1  \n",
       "183134  I got this as a gift but I tried it out first ...          1  \n",
       "183138  This monitor only lets one device monitor the ...         -1  \n",
       "183145  I can honestly say this is the best nasal aspi...          1  \n",
       "183146  These run small but were using it for my daugh...          1  \n",
       "183183  After reading some previous reviews I was real...          1  \n",
       "183215  This has worked well for newborn portraits Lar...          1  \n",
       "183227  Timely service Cute productsQuality materials ...          1  \n",
       "183242  I read a lot about this before I ordered it an...          1  \n",
       "183243  once in this thing my 2mo son loves this howev...         -1  \n",
       "183244  This Merry Muscles Jumper exceeded all expecta...          1  \n",
       "183250  We started looking for a jumper for our daught...          1  \n",
       "183251  First the good my son has some head control is...          1  \n",
       "183252  I was going back and forth about the Merry Mus...          1  \n",
       "183343  First off I will say its REALLY REALLY hard to...          1  \n",
       "183393  Gave to my soninlaw at baby shower and got rav...          1  \n",
       "183397  Great mattress pad  Fits crib mattress better ...          1  \n",
       "183405  This fun and interactive  lovey blanket was a ...          1  \n",
       "183406  Amazing products come from Baby Jack Blankets ...          1  \n",
       "183414  My infant goes to a really crappy daycare and ...         -1  \n",
       "183459  Gave these a try and was impressed  Thick dura...          1  \n",
       "183465  Overall we really like this swaddle the light ...          1  \n",
       "183530  I love this product very mush  I have bought m...          1  \n",
       "\n",
       "[6611 rows x 5 columns]"
      ]
     },
     "execution_count": 351,
     "metadata": {},
     "output_type": "execute_result"
    }
   ],
   "source": [
    "baby_reviews"
   ]
  },
  {
   "cell_type": "code",
   "execution_count": 352,
   "metadata": {},
   "outputs": [],
   "source": [
    "threshold_values = np.linspace(0.5, 1, num=100)"
   ]
  },
  {
   "cell_type": "code",
   "execution_count": 353,
   "metadata": {},
   "outputs": [],
   "source": [
    "precision_all = []\n",
    "recall_all = []\n",
    "\n",
    "for threshold_value in threshold_values:\n",
    "    cur_threshold_prediction = np.array(apply_threshold(probabilities, threshold_value))\n",
    "    cur_precision = precision_score(y_true=baby_reviews['sentiment'],\n",
    "                            y_pred=cur_threshold_prediction)\n",
    "    cur_recall = recall_score(y_true=baby_reviews['sentiment'],\n",
    "                          y_pred=cur_threshold_prediction)\n",
    "    precision_all += [cur_precision]\n",
    "    recall_all += [cur_recall]\n",
    "    "
   ]
  },
  {
   "cell_type": "code",
   "execution_count": 354,
   "metadata": {},
   "outputs": [
    {
     "data": {
      "image/png": "[encoded data removed]",
      "text/plain": [
       "<Figure size 504x360 with 1 Axes>"
      ]
     },
     "metadata": {
      "needs_background": "light"
     },
     "output_type": "display_data"
    }
   ],
   "source": [
    "plot_pr_curve(precision_all, recall_all, 'Precision recall curve (baby)')"
   ]
  },
  {
   "cell_type": "markdown",
   "metadata": {},
   "source": [
    "### Quiz Question: Among all the threshold values tried, what is the smallest threshold value that achieves a precision of 96.5% or better for the reviews of data in baby_reviews? Round your answer to 3 decimal places.\n"
   ]
  },
  {
   "cell_type": "code",
   "execution_count": 355,
   "metadata": {},
   "outputs": [
    {
     "name": "stdout",
     "output_type": "stream",
     "text": [
      "0.7272727272727273 0.9652790741086429 0.9400109071077986\n"
     ]
    }
   ],
   "source": [
    "np_precision_all = np.array(precision_all)\n",
    "\n",
    "for i in range(len(threshold_values)):\n",
    "    if (precision_all[i] >= 0.965):\n",
    "        print (threshold_values[i], precision_all[i], recall_all[i])\n",
    "        break"
   ]
  },
  {
   "cell_type": "code",
   "execution_count": null,
   "metadata": {},
   "outputs": [],
   "source": []
  }
 ],
 "metadata": {
  "kernelspec": {
   "display_name": "Python [conda env:ds-env] *",
   "language": "python",
   "name": "conda-env-ds-env-py"
  },
  "language_info": {
   "codemirror_mode": {
    "name": "ipython",
    "version": 3
   },
   "file_extension": ".py",
   "mimetype": "text/x-python",
   "name": "python",
   "nbconvert_exporter": "python",
   "pygments_lexer": "ipython3",
   "version": "3.7.3"
  }
 },
 "nbformat": 4,
 "nbformat_minor": 2
}
