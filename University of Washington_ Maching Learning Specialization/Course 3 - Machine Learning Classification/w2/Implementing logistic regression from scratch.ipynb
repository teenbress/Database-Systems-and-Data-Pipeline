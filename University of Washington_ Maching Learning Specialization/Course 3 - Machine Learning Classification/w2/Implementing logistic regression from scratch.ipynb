{
 "cells": [
  {
   "cell_type": "code",
   "execution_count": 1,
   "metadata": {},
   "outputs": [],
   "source": [
    "import pandas as pd\n",
    "import numpy as np"
   ]
  },
  {
   "cell_type": "code",
   "execution_count": 2,
   "metadata": {},
   "outputs": [],
   "source": [
    "import math"
   ]
  },
  {
   "cell_type": "code",
   "execution_count": 4,
   "metadata": {},
   "outputs": [
    {
     "name": "stdout",
     "output_type": "stream",
     "text": [
      "Implementing logistic regression from scratch.ipynb\r\n",
      "amazon_baby_subset.csv\r\n",
      "important_words.json\r\n"
     ]
    }
   ],
   "source": [
    "%ls"
   ]
  },
  {
   "cell_type": "code",
   "execution_count": 5,
   "metadata": {},
   "outputs": [],
   "source": [
    "products = pd.read_csv('amazon_baby_subset.csv')"
   ]
  },
  {
   "cell_type": "code",
   "execution_count": 8,
   "metadata": {},
   "outputs": [
    {
     "data": {
      "text/html": [
       "<div>\n",
       "<style scoped>\n",
       "    .dataframe tbody tr th:only-of-type {\n",
       "        vertical-align: middle;\n",
       "    }\n",
       "\n",
       "    .dataframe tbody tr th {\n",
       "        vertical-align: top;\n",
       "    }\n",
       "\n",
       "    .dataframe thead th {\n",
       "        text-align: right;\n",
       "    }\n",
       "</style>\n",
       "<table border=\"1\" class=\"dataframe\">\n",
       "  <thead>\n",
       "    <tr style=\"text-align: right;\">\n",
       "      <th></th>\n",
       "      <th>name</th>\n",
       "      <th>review</th>\n",
       "      <th>rating</th>\n",
       "      <th>sentiment</th>\n",
       "    </tr>\n",
       "  </thead>\n",
       "  <tbody>\n",
       "    <tr>\n",
       "      <th>0</th>\n",
       "      <td>Stop Pacifier Sucking without tears with Thumb...</td>\n",
       "      <td>All of my kids have cried non-stop when I trie...</td>\n",
       "      <td>5</td>\n",
       "      <td>1</td>\n",
       "    </tr>\n",
       "    <tr>\n",
       "      <th>1</th>\n",
       "      <td>Nature's Lullabies Second Year Sticker Calendar</td>\n",
       "      <td>We wanted to get something to keep track of ou...</td>\n",
       "      <td>5</td>\n",
       "      <td>1</td>\n",
       "    </tr>\n",
       "    <tr>\n",
       "      <th>2</th>\n",
       "      <td>Nature's Lullabies Second Year Sticker Calendar</td>\n",
       "      <td>My daughter had her 1st baby over a year ago. ...</td>\n",
       "      <td>5</td>\n",
       "      <td>1</td>\n",
       "    </tr>\n",
       "    <tr>\n",
       "      <th>3</th>\n",
       "      <td>Lamaze Peekaboo, I Love You</td>\n",
       "      <td>One of baby's first and favorite books, and it...</td>\n",
       "      <td>4</td>\n",
       "      <td>1</td>\n",
       "    </tr>\n",
       "    <tr>\n",
       "      <th>4</th>\n",
       "      <td>SoftPlay Peek-A-Boo Where's Elmo A Children's ...</td>\n",
       "      <td>Very cute interactive book! My son loves this ...</td>\n",
       "      <td>5</td>\n",
       "      <td>1</td>\n",
       "    </tr>\n",
       "    <tr>\n",
       "      <th>5</th>\n",
       "      <td>Our Baby Girl Memory Book</td>\n",
       "      <td>Beautiful book, I love it to record cherished ...</td>\n",
       "      <td>5</td>\n",
       "      <td>1</td>\n",
       "    </tr>\n",
       "    <tr>\n",
       "      <th>6</th>\n",
       "      <td>Hunnt&amp;reg; Falling Flowers and Birds Kids Nurs...</td>\n",
       "      <td>Try this out for a spring project !Easy ,fun a...</td>\n",
       "      <td>5</td>\n",
       "      <td>1</td>\n",
       "    </tr>\n",
       "    <tr>\n",
       "      <th>7</th>\n",
       "      <td>Blessed By Pope Benedict XVI Divine Mercy Full...</td>\n",
       "      <td>very nice Divine Mercy Pendant of Jesus now on...</td>\n",
       "      <td>5</td>\n",
       "      <td>1</td>\n",
       "    </tr>\n",
       "    <tr>\n",
       "      <th>8</th>\n",
       "      <td>Cloth Diaper Pins Stainless Steel Traditional ...</td>\n",
       "      <td>We bought the pins as my 6 year old Autistic s...</td>\n",
       "      <td>4</td>\n",
       "      <td>1</td>\n",
       "    </tr>\n",
       "    <tr>\n",
       "      <th>9</th>\n",
       "      <td>Cloth Diaper Pins Stainless Steel Traditional ...</td>\n",
       "      <td>It has been many years since we needed diaper ...</td>\n",
       "      <td>5</td>\n",
       "      <td>1</td>\n",
       "    </tr>\n",
       "    <tr>\n",
       "      <th>10</th>\n",
       "      <td>Newborn Baby Tracker&amp;reg; - Round the Clock Ch...</td>\n",
       "      <td>We found this book at a rummage sale and found...</td>\n",
       "      <td>5</td>\n",
       "      <td>1</td>\n",
       "    </tr>\n",
       "    <tr>\n",
       "      <th>11</th>\n",
       "      <td>Newborn Baby Tracker&amp;reg; - Round the Clock Ch...</td>\n",
       "      <td>I'm a new mom and I was looking for something ...</td>\n",
       "      <td>5</td>\n",
       "      <td>1</td>\n",
       "    </tr>\n",
       "    <tr>\n",
       "      <th>12</th>\n",
       "      <td>Newborn Baby Tracker&amp;reg; - Round the Clock Ch...</td>\n",
       "      <td>I loved how this book was set up to keep track...</td>\n",
       "      <td>5</td>\n",
       "      <td>1</td>\n",
       "    </tr>\n",
       "    <tr>\n",
       "      <th>13</th>\n",
       "      <td>Newborn Baby Tracker&amp;reg; - Round the Clock Ch...</td>\n",
       "      <td>I received this at my baby shower and it has b...</td>\n",
       "      <td>5</td>\n",
       "      <td>1</td>\n",
       "    </tr>\n",
       "    <tr>\n",
       "      <th>14</th>\n",
       "      <td>Neurosmith - Music Blocks with Mozart Music Ca...</td>\n",
       "      <td>My daughter started playing with her Music Blo...</td>\n",
       "      <td>5</td>\n",
       "      <td>1</td>\n",
       "    </tr>\n",
       "    <tr>\n",
       "      <th>15</th>\n",
       "      <td>Neurosmith - Music Blocks with Mozart Music Ca...</td>\n",
       "      <td>It takes a youthful spirit of inquiry and fasc...</td>\n",
       "      <td>5</td>\n",
       "      <td>1</td>\n",
       "    </tr>\n",
       "    <tr>\n",
       "      <th>16</th>\n",
       "      <td>Neurosmith - Music Blocks with Mozart Music Ca...</td>\n",
       "      <td>This is an interesting and educational toy.  I...</td>\n",
       "      <td>4</td>\n",
       "      <td>1</td>\n",
       "    </tr>\n",
       "    <tr>\n",
       "      <th>17</th>\n",
       "      <td>Neurosmith - Music Blocks with Mozart Music Ca...</td>\n",
       "      <td>Recently I have purchased the musical mozart b...</td>\n",
       "      <td>5</td>\n",
       "      <td>1</td>\n",
       "    </tr>\n",
       "    <tr>\n",
       "      <th>18</th>\n",
       "      <td>my first fish bowl by lamaze / learning curve</td>\n",
       "      <td>We first bought this toy for our oldest child ...</td>\n",
       "      <td>5</td>\n",
       "      <td>1</td>\n",
       "    </tr>\n",
       "    <tr>\n",
       "      <th>19</th>\n",
       "      <td>Pedal Farm Tractor</td>\n",
       "      <td>We bought this tractor for our 2 and a half-ye...</td>\n",
       "      <td>5</td>\n",
       "      <td>1</td>\n",
       "    </tr>\n",
       "    <tr>\n",
       "      <th>20</th>\n",
       "      <td>Fisher Price Nesting Action Vehicles</td>\n",
       "      <td>This is a great toy.  The wheels really work a...</td>\n",
       "      <td>5</td>\n",
       "      <td>1</td>\n",
       "    </tr>\n",
       "    <tr>\n",
       "      <th>21</th>\n",
       "      <td>Fisher Price Nesting Action Vehicles</td>\n",
       "      <td>After being inundated with toys that require b...</td>\n",
       "      <td>5</td>\n",
       "      <td>1</td>\n",
       "    </tr>\n",
       "    <tr>\n",
       "      <th>22</th>\n",
       "      <td>Fisher Price Nesting Action Vehicles</td>\n",
       "      <td>We bought these trucks for our 15 mo. old daug...</td>\n",
       "      <td>5</td>\n",
       "      <td>1</td>\n",
       "    </tr>\n",
       "    <tr>\n",
       "      <th>23</th>\n",
       "      <td>Fisher Price Nesting Action Vehicles</td>\n",
       "      <td>For well over a year my son has enjoyed stacki...</td>\n",
       "      <td>5</td>\n",
       "      <td>1</td>\n",
       "    </tr>\n",
       "    <tr>\n",
       "      <th>24</th>\n",
       "      <td>Fisher Price Nesting Action Vehicles</td>\n",
       "      <td>We just bought this for my 9 month old daughte...</td>\n",
       "      <td>5</td>\n",
       "      <td>1</td>\n",
       "    </tr>\n",
       "    <tr>\n",
       "      <th>25</th>\n",
       "      <td>Fisher Price Nesting Action Vehicles</td>\n",
       "      <td>This is a wonderful toy that is fun, education...</td>\n",
       "      <td>5</td>\n",
       "      <td>1</td>\n",
       "    </tr>\n",
       "    <tr>\n",
       "      <th>26</th>\n",
       "      <td>Sassy Who Loves Baby? Photo Album Book with te...</td>\n",
       "      <td>I bought this for a new granddaughter.  I will...</td>\n",
       "      <td>5</td>\n",
       "      <td>1</td>\n",
       "    </tr>\n",
       "    <tr>\n",
       "      <th>27</th>\n",
       "      <td>Earlyears: Earl E. Bird with Teething Rings</td>\n",
       "      <td>We received an Earl E. Bird as a gift when we ...</td>\n",
       "      <td>5</td>\n",
       "      <td>1</td>\n",
       "    </tr>\n",
       "    <tr>\n",
       "      <th>28</th>\n",
       "      <td>Earlyears: Earl E. Bird with Teething Rings</td>\n",
       "      <td>This little toy is safe for infants, and offer...</td>\n",
       "      <td>5</td>\n",
       "      <td>1</td>\n",
       "    </tr>\n",
       "    <tr>\n",
       "      <th>29</th>\n",
       "      <td>My Quiet Book, Fabric Activity Book for Children</td>\n",
       "      <td>This is exactly like the one I had when I was ...</td>\n",
       "      <td>5</td>\n",
       "      <td>1</td>\n",
       "    </tr>\n",
       "    <tr>\n",
       "      <th>...</th>\n",
       "      <td>...</td>\n",
       "      <td>...</td>\n",
       "      <td>...</td>\n",
       "      <td>...</td>\n",
       "    </tr>\n",
       "    <tr>\n",
       "      <th>53042</th>\n",
       "      <td>Beautiful Luxury Nightcap Baby Suspender Baby ...</td>\n",
       "      <td>I only put 1 star because I had to. The photos...</td>\n",
       "      <td>1</td>\n",
       "      <td>-1</td>\n",
       "    </tr>\n",
       "    <tr>\n",
       "      <th>53043</th>\n",
       "      <td>Beautiful Luxury Nightcap Baby Suspender Baby ...</td>\n",
       "      <td>Amazon, please take this down. The pictures sh...</td>\n",
       "      <td>1</td>\n",
       "      <td>-1</td>\n",
       "    </tr>\n",
       "    <tr>\n",
       "      <th>53044</th>\n",
       "      <td>Blackcell 2pairs Infant Toddler Baby Knee Pad ...</td>\n",
       "      <td>Not very impressed. They are cute, however the...</td>\n",
       "      <td>1</td>\n",
       "      <td>-1</td>\n",
       "    </tr>\n",
       "    <tr>\n",
       "      <th>53045</th>\n",
       "      <td>Nuby Soft Spout Easy Grip Sippy Cup - 4 pk.</td>\n",
       "      <td>I agree with the other 2 posters. These sippy ...</td>\n",
       "      <td>1</td>\n",
       "      <td>-1</td>\n",
       "    </tr>\n",
       "    <tr>\n",
       "      <th>53046</th>\n",
       "      <td>VTech Communications Safe and Sound Digital Au...</td>\n",
       "      <td>These monitors do not work at all, I even atte...</td>\n",
       "      <td>1</td>\n",
       "      <td>-1</td>\n",
       "    </tr>\n",
       "    <tr>\n",
       "      <th>53047</th>\n",
       "      <td>Giftoyou(TM) High Quality Lightweight Retracta...</td>\n",
       "      <td>Our family purchased numerous of these because...</td>\n",
       "      <td>1</td>\n",
       "      <td>-1</td>\n",
       "    </tr>\n",
       "    <tr>\n",
       "      <th>53048</th>\n",
       "      <td>Giftoyou(TM) High Quality Lightweight Retracta...</td>\n",
       "      <td>I was so happy when i bought this charger for ...</td>\n",
       "      <td>1</td>\n",
       "      <td>-1</td>\n",
       "    </tr>\n",
       "    <tr>\n",
       "      <th>53049</th>\n",
       "      <td>zTcase&amp;trade; Bluetooth Wireless Keyboard Case...</td>\n",
       "      <td>I was very excited to receive this keyboard ca...</td>\n",
       "      <td>1</td>\n",
       "      <td>-1</td>\n",
       "    </tr>\n",
       "    <tr>\n",
       "      <th>53050</th>\n",
       "      <td>Geleeo Universal Stroller Cooling Pad - Pink</td>\n",
       "      <td>I agree with the reviewer below, this pad you ...</td>\n",
       "      <td>2</td>\n",
       "      <td>-1</td>\n",
       "    </tr>\n",
       "    <tr>\n",
       "      <th>53051</th>\n",
       "      <td>4Moms mamaRoo Plush Infant Seat - Silver</td>\n",
       "      <td>As a designer, I loved the look of the Mommaro...</td>\n",
       "      <td>1</td>\n",
       "      <td>-1</td>\n",
       "    </tr>\n",
       "    <tr>\n",
       "      <th>53052</th>\n",
       "      <td>4Moms mamaRoo Plush Infant Seat - Silver</td>\n",
       "      <td>A friend told us to get this, said it was a &amp;#...</td>\n",
       "      <td>2</td>\n",
       "      <td>-1</td>\n",
       "    </tr>\n",
       "    <tr>\n",
       "      <th>53053</th>\n",
       "      <td>Merry Muscles Ergonomic Jumper Exerciser Baby ...</td>\n",
       "      <td>once in this thing, my 2mo. son loves this... ...</td>\n",
       "      <td>2</td>\n",
       "      <td>-1</td>\n",
       "    </tr>\n",
       "    <tr>\n",
       "      <th>53054</th>\n",
       "      <td>[Different Colors Available] Newisland&amp;reg; 79...</td>\n",
       "      <td>I received this product free for review but de...</td>\n",
       "      <td>2</td>\n",
       "      <td>-1</td>\n",
       "    </tr>\n",
       "    <tr>\n",
       "      <th>53055</th>\n",
       "      <td>Vandot for Samsung Galaxy S4 / I9500 ULTRA SLI...</td>\n",
       "      <td>Omg this case was so ugly and so hard that I t...</td>\n",
       "      <td>1</td>\n",
       "      <td>-1</td>\n",
       "    </tr>\n",
       "    <tr>\n",
       "      <th>53056</th>\n",
       "      <td>Nicerocker big Cute Sweet Kids Baby Girls Love...</td>\n",
       "      <td>I only ordered one of this item and received 2...</td>\n",
       "      <td>1</td>\n",
       "      <td>-1</td>\n",
       "    </tr>\n",
       "    <tr>\n",
       "      <th>53057</th>\n",
       "      <td>Clevamama 3-in-1 Sleep, Sit and Play Travel Ma...</td>\n",
       "      <td>The mattress is supposedly hypoallergenic clev...</td>\n",
       "      <td>1</td>\n",
       "      <td>-1</td>\n",
       "    </tr>\n",
       "    <tr>\n",
       "      <th>53058</th>\n",
       "      <td>Graco Argos 65 3-in-1 Harness Booster, Link</td>\n",
       "      <td>Short story, I was very disappointed with the ...</td>\n",
       "      <td>1</td>\n",
       "      <td>-1</td>\n",
       "    </tr>\n",
       "    <tr>\n",
       "      <th>53059</th>\n",
       "      <td>K&amp;amp;C Baby Bath Seat Support Sling Shower Me...</td>\n",
       "      <td>Absolute rip off!!! Not impressed at all this ...</td>\n",
       "      <td>1</td>\n",
       "      <td>-1</td>\n",
       "    </tr>\n",
       "    <tr>\n",
       "      <th>53060</th>\n",
       "      <td>Aqueduck Faucet Extender &amp;amp; Handle Extended...</td>\n",
       "      <td>I wish I had bought the faucet extender and ha...</td>\n",
       "      <td>2</td>\n",
       "      <td>-1</td>\n",
       "    </tr>\n",
       "    <tr>\n",
       "      <th>53061</th>\n",
       "      <td>ANDI ROSE Baby Toddlers Floral Printed Ruffle ...</td>\n",
       "      <td>Definitely made extremely poorly in china. Is ...</td>\n",
       "      <td>1</td>\n",
       "      <td>-1</td>\n",
       "    </tr>\n",
       "    <tr>\n",
       "      <th>53062</th>\n",
       "      <td>Vandot 2 in1 Accessory Set 3D Leather Case Lit...</td>\n",
       "      <td>Cute but cheaply made.. The part where you put...</td>\n",
       "      <td>2</td>\n",
       "      <td>-1</td>\n",
       "    </tr>\n",
       "    <tr>\n",
       "      <th>53063</th>\n",
       "      <td>Umai Authentic Hazelwood and CHERRY RAW (Unpol...</td>\n",
       "      <td>Made no difference :/</td>\n",
       "      <td>1</td>\n",
       "      <td>-1</td>\n",
       "    </tr>\n",
       "    <tr>\n",
       "      <th>53064</th>\n",
       "      <td>360 Degree Rotating Cover Case for Samsung Gal...</td>\n",
       "      <td>Be careful it stains your screen protector.  B...</td>\n",
       "      <td>1</td>\n",
       "      <td>-1</td>\n",
       "    </tr>\n",
       "    <tr>\n",
       "      <th>53065</th>\n",
       "      <td>Summer Infant Pop 'n Play Portable Playard</td>\n",
       "      <td>Good idea but too dangerous. I really wanted t...</td>\n",
       "      <td>2</td>\n",
       "      <td>-1</td>\n",
       "    </tr>\n",
       "    <tr>\n",
       "      <th>53066</th>\n",
       "      <td>Freeens Cool Seat Liner Breathing with 3d Mesh...</td>\n",
       "      <td>It doesn't stay input. My daughter was sliding...</td>\n",
       "      <td>1</td>\n",
       "      <td>-1</td>\n",
       "    </tr>\n",
       "    <tr>\n",
       "      <th>53067</th>\n",
       "      <td>Samsung Baby Care Washer, Stainless Platinum, ...</td>\n",
       "      <td>My infant goes to a really crappy daycare, and...</td>\n",
       "      <td>1</td>\n",
       "      <td>-1</td>\n",
       "    </tr>\n",
       "    <tr>\n",
       "      <th>53068</th>\n",
       "      <td>Mud Pie Milestone Stickers, Boy</td>\n",
       "      <td>Pretty please open and inspect these stickers ...</td>\n",
       "      <td>1</td>\n",
       "      <td>-1</td>\n",
       "    </tr>\n",
       "    <tr>\n",
       "      <th>53069</th>\n",
       "      <td>Best BIB for Baby - Soft Bib (Pink-Elephant)</td>\n",
       "      <td>Great 5-Star Product but An Obvious knock-off ...</td>\n",
       "      <td>1</td>\n",
       "      <td>-1</td>\n",
       "    </tr>\n",
       "    <tr>\n",
       "      <th>53070</th>\n",
       "      <td>Bouncy&amp;reg; Inflatable Real Feel Hopping Cow</td>\n",
       "      <td>When I received the item my initial thought wa...</td>\n",
       "      <td>2</td>\n",
       "      <td>-1</td>\n",
       "    </tr>\n",
       "    <tr>\n",
       "      <th>53071</th>\n",
       "      <td>Maxboost iPhone 5S/5 Case - Protective Snap-on...</td>\n",
       "      <td>I got this case in the mail today, it came on ...</td>\n",
       "      <td>2</td>\n",
       "      <td>-1</td>\n",
       "    </tr>\n",
       "  </tbody>\n",
       "</table>\n",
       "<p>53072 rows × 4 columns</p>\n",
       "</div>"
      ],
      "text/plain": [
       "                                                    name  \\\n",
       "0      Stop Pacifier Sucking without tears with Thumb...   \n",
       "1        Nature's Lullabies Second Year Sticker Calendar   \n",
       "2        Nature's Lullabies Second Year Sticker Calendar   \n",
       "3                            Lamaze Peekaboo, I Love You   \n",
       "4      SoftPlay Peek-A-Boo Where's Elmo A Children's ...   \n",
       "5                              Our Baby Girl Memory Book   \n",
       "6      Hunnt&reg; Falling Flowers and Birds Kids Nurs...   \n",
       "7      Blessed By Pope Benedict XVI Divine Mercy Full...   \n",
       "8      Cloth Diaper Pins Stainless Steel Traditional ...   \n",
       "9      Cloth Diaper Pins Stainless Steel Traditional ...   \n",
       "10     Newborn Baby Tracker&reg; - Round the Clock Ch...   \n",
       "11     Newborn Baby Tracker&reg; - Round the Clock Ch...   \n",
       "12     Newborn Baby Tracker&reg; - Round the Clock Ch...   \n",
       "13     Newborn Baby Tracker&reg; - Round the Clock Ch...   \n",
       "14     Neurosmith - Music Blocks with Mozart Music Ca...   \n",
       "15     Neurosmith - Music Blocks with Mozart Music Ca...   \n",
       "16     Neurosmith - Music Blocks with Mozart Music Ca...   \n",
       "17     Neurosmith - Music Blocks with Mozart Music Ca...   \n",
       "18         my first fish bowl by lamaze / learning curve   \n",
       "19                                    Pedal Farm Tractor   \n",
       "20                  Fisher Price Nesting Action Vehicles   \n",
       "21                  Fisher Price Nesting Action Vehicles   \n",
       "22                  Fisher Price Nesting Action Vehicles   \n",
       "23                  Fisher Price Nesting Action Vehicles   \n",
       "24                  Fisher Price Nesting Action Vehicles   \n",
       "25                  Fisher Price Nesting Action Vehicles   \n",
       "26     Sassy Who Loves Baby? Photo Album Book with te...   \n",
       "27           Earlyears: Earl E. Bird with Teething Rings   \n",
       "28           Earlyears: Earl E. Bird with Teething Rings   \n",
       "29      My Quiet Book, Fabric Activity Book for Children   \n",
       "...                                                  ...   \n",
       "53042  Beautiful Luxury Nightcap Baby Suspender Baby ...   \n",
       "53043  Beautiful Luxury Nightcap Baby Suspender Baby ...   \n",
       "53044  Blackcell 2pairs Infant Toddler Baby Knee Pad ...   \n",
       "53045        Nuby Soft Spout Easy Grip Sippy Cup - 4 pk.   \n",
       "53046  VTech Communications Safe and Sound Digital Au...   \n",
       "53047  Giftoyou(TM) High Quality Lightweight Retracta...   \n",
       "53048  Giftoyou(TM) High Quality Lightweight Retracta...   \n",
       "53049  zTcase&trade; Bluetooth Wireless Keyboard Case...   \n",
       "53050       Geleeo Universal Stroller Cooling Pad - Pink   \n",
       "53051           4Moms mamaRoo Plush Infant Seat - Silver   \n",
       "53052           4Moms mamaRoo Plush Infant Seat - Silver   \n",
       "53053  Merry Muscles Ergonomic Jumper Exerciser Baby ...   \n",
       "53054  [Different Colors Available] Newisland&reg; 79...   \n",
       "53055  Vandot for Samsung Galaxy S4 / I9500 ULTRA SLI...   \n",
       "53056  Nicerocker big Cute Sweet Kids Baby Girls Love...   \n",
       "53057  Clevamama 3-in-1 Sleep, Sit and Play Travel Ma...   \n",
       "53058        Graco Argos 65 3-in-1 Harness Booster, Link   \n",
       "53059  K&amp;C Baby Bath Seat Support Sling Shower Me...   \n",
       "53060  Aqueduck Faucet Extender &amp; Handle Extended...   \n",
       "53061  ANDI ROSE Baby Toddlers Floral Printed Ruffle ...   \n",
       "53062  Vandot 2 in1 Accessory Set 3D Leather Case Lit...   \n",
       "53063  Umai Authentic Hazelwood and CHERRY RAW (Unpol...   \n",
       "53064  360 Degree Rotating Cover Case for Samsung Gal...   \n",
       "53065         Summer Infant Pop 'n Play Portable Playard   \n",
       "53066  Freeens Cool Seat Liner Breathing with 3d Mesh...   \n",
       "53067  Samsung Baby Care Washer, Stainless Platinum, ...   \n",
       "53068                    Mud Pie Milestone Stickers, Boy   \n",
       "53069       Best BIB for Baby - Soft Bib (Pink-Elephant)   \n",
       "53070       Bouncy&reg; Inflatable Real Feel Hopping Cow   \n",
       "53071  Maxboost iPhone 5S/5 Case - Protective Snap-on...   \n",
       "\n",
       "                                                  review  rating  sentiment  \n",
       "0      All of my kids have cried non-stop when I trie...       5          1  \n",
       "1      We wanted to get something to keep track of ou...       5          1  \n",
       "2      My daughter had her 1st baby over a year ago. ...       5          1  \n",
       "3      One of baby's first and favorite books, and it...       4          1  \n",
       "4      Very cute interactive book! My son loves this ...       5          1  \n",
       "5      Beautiful book, I love it to record cherished ...       5          1  \n",
       "6      Try this out for a spring project !Easy ,fun a...       5          1  \n",
       "7      very nice Divine Mercy Pendant of Jesus now on...       5          1  \n",
       "8      We bought the pins as my 6 year old Autistic s...       4          1  \n",
       "9      It has been many years since we needed diaper ...       5          1  \n",
       "10     We found this book at a rummage sale and found...       5          1  \n",
       "11     I'm a new mom and I was looking for something ...       5          1  \n",
       "12     I loved how this book was set up to keep track...       5          1  \n",
       "13     I received this at my baby shower and it has b...       5          1  \n",
       "14     My daughter started playing with her Music Blo...       5          1  \n",
       "15     It takes a youthful spirit of inquiry and fasc...       5          1  \n",
       "16     This is an interesting and educational toy.  I...       4          1  \n",
       "17     Recently I have purchased the musical mozart b...       5          1  \n",
       "18     We first bought this toy for our oldest child ...       5          1  \n",
       "19     We bought this tractor for our 2 and a half-ye...       5          1  \n",
       "20     This is a great toy.  The wheels really work a...       5          1  \n",
       "21     After being inundated with toys that require b...       5          1  \n",
       "22     We bought these trucks for our 15 mo. old daug...       5          1  \n",
       "23     For well over a year my son has enjoyed stacki...       5          1  \n",
       "24     We just bought this for my 9 month old daughte...       5          1  \n",
       "25     This is a wonderful toy that is fun, education...       5          1  \n",
       "26     I bought this for a new granddaughter.  I will...       5          1  \n",
       "27     We received an Earl E. Bird as a gift when we ...       5          1  \n",
       "28     This little toy is safe for infants, and offer...       5          1  \n",
       "29     This is exactly like the one I had when I was ...       5          1  \n",
       "...                                                  ...     ...        ...  \n",
       "53042  I only put 1 star because I had to. The photos...       1         -1  \n",
       "53043  Amazon, please take this down. The pictures sh...       1         -1  \n",
       "53044  Not very impressed. They are cute, however the...       1         -1  \n",
       "53045  I agree with the other 2 posters. These sippy ...       1         -1  \n",
       "53046  These monitors do not work at all, I even atte...       1         -1  \n",
       "53047  Our family purchased numerous of these because...       1         -1  \n",
       "53048  I was so happy when i bought this charger for ...       1         -1  \n",
       "53049  I was very excited to receive this keyboard ca...       1         -1  \n",
       "53050  I agree with the reviewer below, this pad you ...       2         -1  \n",
       "53051  As a designer, I loved the look of the Mommaro...       1         -1  \n",
       "53052  A friend told us to get this, said it was a &#...       2         -1  \n",
       "53053  once in this thing, my 2mo. son loves this... ...       2         -1  \n",
       "53054  I received this product free for review but de...       2         -1  \n",
       "53055  Omg this case was so ugly and so hard that I t...       1         -1  \n",
       "53056  I only ordered one of this item and received 2...       1         -1  \n",
       "53057  The mattress is supposedly hypoallergenic clev...       1         -1  \n",
       "53058  Short story, I was very disappointed with the ...       1         -1  \n",
       "53059  Absolute rip off!!! Not impressed at all this ...       1         -1  \n",
       "53060  I wish I had bought the faucet extender and ha...       2         -1  \n",
       "53061  Definitely made extremely poorly in china. Is ...       1         -1  \n",
       "53062  Cute but cheaply made.. The part where you put...       2         -1  \n",
       "53063                              Made no difference :/       1         -1  \n",
       "53064  Be careful it stains your screen protector.  B...       1         -1  \n",
       "53065  Good idea but too dangerous. I really wanted t...       2         -1  \n",
       "53066  It doesn't stay input. My daughter was sliding...       1         -1  \n",
       "53067  My infant goes to a really crappy daycare, and...       1         -1  \n",
       "53068  Pretty please open and inspect these stickers ...       1         -1  \n",
       "53069  Great 5-Star Product but An Obvious knock-off ...       1         -1  \n",
       "53070  When I received the item my initial thought wa...       2         -1  \n",
       "53071  I got this case in the mail today, it came on ...       2         -1  \n",
       "\n",
       "[53072 rows x 4 columns]"
      ]
     },
     "execution_count": 8,
     "metadata": {},
     "output_type": "execute_result"
    }
   ],
   "source": [
    "products"
   ]
  },
  {
   "cell_type": "code",
   "execution_count": 14,
   "metadata": {},
   "outputs": [],
   "source": [
    "positive_sentiment = len(products[products['sentiment'] == 1])"
   ]
  },
  {
   "cell_type": "code",
   "execution_count": 15,
   "metadata": {},
   "outputs": [],
   "source": [
    "negative_sentiment = len(products) - positive_sentiment"
   ]
  },
  {
   "cell_type": "code",
   "execution_count": 16,
   "metadata": {},
   "outputs": [
    {
     "data": {
      "text/plain": [
       "(26579, 26493)"
      ]
     },
     "execution_count": 16,
     "metadata": {},
     "output_type": "execute_result"
    }
   ],
   "source": [
    "positive_sentiment, negative_sentiment"
   ]
  },
  {
   "cell_type": "markdown",
   "metadata": {},
   "source": [
    "### Apply text cleaning on the review data"
   ]
  },
  {
   "cell_type": "code",
   "execution_count": 150,
   "metadata": {},
   "outputs": [],
   "source": [
    "important_words = pd.read_json('important_words.json')[0]"
   ]
  },
  {
   "cell_type": "code",
   "execution_count": 151,
   "metadata": {},
   "outputs": [],
   "source": [
    "products.fillna(value={'review': ''}, inplace=True)"
   ]
  },
  {
   "cell_type": "code",
   "execution_count": 152,
   "metadata": {},
   "outputs": [],
   "source": [
    "import string\n",
    "\n",
    "trans = {}\n",
    "for c in string.punctuation:\n",
    "    trans[c] = None\n",
    "trans_tab = str.maketrans(trans)\n",
    "\n",
    "def remove_punctuation(text):\n",
    "    return text.translate(trans_tab)"
   ]
  },
  {
   "cell_type": "code",
   "execution_count": 153,
   "metadata": {},
   "outputs": [
    {
     "data": {
      "text/plain": [
       "'A hi hi Hello world '"
      ]
     },
     "execution_count": 153,
     "metadata": {},
     "output_type": "execute_result"
    }
   ],
   "source": [
    "remove_punctuation(\"A hi hi!!... Hello world.... !~\")"
   ]
  },
  {
   "cell_type": "code",
   "execution_count": 154,
   "metadata": {},
   "outputs": [],
   "source": [
    "products['review_clean'] = products['review'].apply(remove_punctuation)"
   ]
  },
  {
   "cell_type": "code",
   "execution_count": 155,
   "metadata": {},
   "outputs": [
    {
     "name": "stdout",
     "output_type": "stream",
     "text": [
      "baby\n",
      "one\n",
      "great\n",
      "love\n",
      "use\n",
      "would\n",
      "like\n",
      "easy\n",
      "little\n",
      "seat\n",
      "old\n",
      "well\n",
      "get\n",
      "also\n",
      "really\n",
      "son\n",
      "time\n",
      "bought\n",
      "product\n",
      "good\n",
      "daughter\n",
      "much\n",
      "loves\n",
      "stroller\n",
      "put\n",
      "months\n",
      "car\n",
      "still\n",
      "back\n",
      "used\n",
      "recommend\n",
      "first\n",
      "even\n",
      "perfect\n",
      "nice\n",
      "bag\n",
      "two\n",
      "using\n",
      "got\n",
      "fit\n",
      "around\n",
      "diaper\n",
      "enough\n",
      "month\n",
      "price\n",
      "go\n",
      "could\n",
      "soft\n",
      "since\n",
      "buy\n",
      "room\n",
      "works\n",
      "made\n",
      "child\n",
      "keep\n",
      "size\n",
      "small\n",
      "need\n",
      "year\n",
      "big\n",
      "make\n",
      "take\n",
      "easily\n",
      "think\n",
      "crib\n",
      "clean\n",
      "way\n",
      "quality\n",
      "thing\n",
      "better\n",
      "without\n",
      "set\n",
      "new\n",
      "every\n",
      "cute\n",
      "best\n",
      "bottles\n",
      "work\n",
      "purchased\n",
      "right\n",
      "lot\n",
      "side\n",
      "happy\n",
      "comfortable\n",
      "toy\n",
      "able\n",
      "kids\n",
      "bit\n",
      "night\n",
      "long\n",
      "fits\n",
      "see\n",
      "us\n",
      "another\n",
      "play\n",
      "day\n",
      "money\n",
      "monitor\n",
      "tried\n",
      "thought\n",
      "never\n",
      "item\n",
      "hard\n",
      "plastic\n",
      "however\n",
      "disappointed\n",
      "reviews\n",
      "something\n",
      "going\n",
      "pump\n",
      "bottle\n",
      "cup\n",
      "waste\n",
      "return\n",
      "amazon\n",
      "different\n",
      "top\n",
      "want\n",
      "problem\n",
      "know\n",
      "water\n",
      "try\n",
      "received\n",
      "sure\n",
      "times\n",
      "chair\n",
      "find\n",
      "hold\n",
      "gate\n",
      "open\n",
      "bottom\n",
      "away\n",
      "actually\n",
      "cheap\n",
      "worked\n",
      "getting\n",
      "ordered\n",
      "came\n",
      "milk\n",
      "bad\n",
      "part\n",
      "worth\n",
      "found\n",
      "cover\n",
      "many\n",
      "design\n",
      "looking\n",
      "weeks\n",
      "say\n",
      "wanted\n",
      "look\n",
      "place\n",
      "purchase\n",
      "looks\n",
      "second\n",
      "piece\n",
      "box\n",
      "pretty\n",
      "trying\n",
      "difficult\n",
      "together\n",
      "though\n",
      "give\n",
      "started\n",
      "anything\n",
      "last\n",
      "company\n",
      "come\n",
      "returned\n",
      "maybe\n",
      "took\n",
      "broke\n",
      "makes\n",
      "stay\n",
      "instead\n",
      "idea\n",
      "head\n",
      "said\n",
      "less\n",
      "went\n",
      "working\n",
      "high\n",
      "unit\n",
      "seems\n",
      "picture\n",
      "completely\n",
      "wish\n",
      "buying\n",
      "babies\n",
      "won\n",
      "tub\n",
      "almost\n",
      "either\n"
     ]
    }
   ],
   "source": [
    "for word in important_words:\n",
    "    print (word)\n",
    "    products[word] = products['review_clean'].apply(\n",
    "        lambda s: s.split().count(word))"
   ]
  },
  {
   "cell_type": "code",
   "execution_count": 158,
   "metadata": {
    "scrolled": true
   },
   "outputs": [
    {
     "data": {
      "text/plain": [
       "Index([        'name',       'review',       'rating',    'sentiment',\n",
       "       'review_clean',              0,         'baby',          'one',\n",
       "              'great',         'love',\n",
       "       ...\n",
       "            'picture',   'completely',         'wish',       'buying',\n",
       "             'babies',          'won',          'tub',       'almost',\n",
       "             'either',     'constant'],\n",
       "      dtype='object', length=200)"
      ]
     },
     "execution_count": 158,
     "metadata": {},
     "output_type": "execute_result"
    }
   ],
   "source": [
    "products.columns"
   ]
  },
  {
   "cell_type": "markdown",
   "metadata": {},
   "source": [
    "### Quiz Question. How many reviews contain the word perfect?\n"
   ]
  },
  {
   "cell_type": "code",
   "execution_count": 159,
   "metadata": {},
   "outputs": [
    {
     "data": {
      "text/plain": [
       "2955"
      ]
     },
     "execution_count": 159,
     "metadata": {},
     "output_type": "execute_result"
    }
   ],
   "source": [
    "contain_perfect = (products['perfect'] > 0).sum()\n",
    "contain_perfect"
   ]
  },
  {
   "cell_type": "markdown",
   "metadata": {},
   "source": [
    "### Convert data frame to multi-dimensional array"
   ]
  },
  {
   "cell_type": "code",
   "execution_count": 160,
   "metadata": {},
   "outputs": [],
   "source": [
    "def get_numpy_data(dataframe, features, label):\n",
    "    dataframe['constant'] = 1\n",
    "    features = ['constant'] + features\n",
    "    features_frame = dataframe[features]\n",
    "    features_matrix = features_frame.values\n",
    "    label_sarray = dataframe[label]\n",
    "    label_array = label_sarray.values\n",
    "\n",
    "    return (features_matrix, label_array)"
   ]
  },
  {
   "cell_type": "code",
   "execution_count": 161,
   "metadata": {},
   "outputs": [],
   "source": [
    "(features, output) = get_numpy_data(products, ['review'], 'sentiment')"
   ]
  },
  {
   "cell_type": "code",
   "execution_count": 162,
   "metadata": {},
   "outputs": [
    {
     "data": {
      "text/plain": [
       "array([1,\n",
       "       'My daughter had her 1st baby over a year ago. She did receive and fill up a First Year Calendar. When her son was nearing his first birthday she was looking for a Second Year Calendar to record his milestones. Thanks to Amazon I was able to get this for her and she LOVES it. Tender sweet art work - helpful stickers - unique pages to fill. A nice keepsake. A wonderful gift for a one-year old!'],\n",
       "      dtype=object)"
      ]
     },
     "execution_count": 162,
     "metadata": {},
     "output_type": "execute_result"
    }
   ],
   "source": [
    "features[2]"
   ]
  },
  {
   "cell_type": "code",
   "execution_count": 163,
   "metadata": {},
   "outputs": [],
   "source": [
    "(feature_matrix, sentiment) = get_numpy_data(products,\n",
    "                                             list(important_words),\n",
    "                                             'sentiment'\n",
    "                                            )"
   ]
  },
  {
   "cell_type": "markdown",
   "metadata": {},
   "source": [
    "### Quiz Question: How many features are there in the feature_matrix?"
   ]
  },
  {
   "cell_type": "code",
   "execution_count": 164,
   "metadata": {},
   "outputs": [
    {
     "data": {
      "text/plain": [
       "194"
      ]
     },
     "execution_count": 164,
     "metadata": {},
     "output_type": "execute_result"
    }
   ],
   "source": [
    "feature_matrix.shape[1]"
   ]
  },
  {
   "cell_type": "markdown",
   "metadata": {},
   "source": [
    "### Quiz Question: Assuming that the intercept is present, how does the number of features in feature_matrix relate to the number of features in the logistic regression model"
   ]
  },
  {
   "cell_type": "code",
   "execution_count": 165,
   "metadata": {},
   "outputs": [
    {
     "name": "stdout",
     "output_type": "stream",
     "text": [
      "Object `?` not found.\n"
     ]
    }
   ],
   "source": [
    "???"
   ]
  },
  {
   "cell_type": "markdown",
   "metadata": {},
   "source": [
    "### Estimating conditional probability with link function\n"
   ]
  },
  {
   "cell_type": "code",
   "execution_count": 166,
   "metadata": {},
   "outputs": [],
   "source": [
    "def predict_probability(feature_matrix, coefficients):\n",
    "    scores = np.dot(feature_matrix, coefficients)\n",
    "    predictions = 1.0 / (1 + np.exp(-scores))\n",
    "    return predictions"
   ]
  },
  {
   "cell_type": "markdown",
   "metadata": {},
   "source": [
    "### Compute derivate of log likelihood with respect to a single coefficient"
   ]
  },
  {
   "cell_type": "code",
   "execution_count": 167,
   "metadata": {},
   "outputs": [],
   "source": [
    "def feature_derivative(errors, feature):\n",
    "    derivative = np.dot(errors, feature)\n",
    "    return derivative"
   ]
  },
  {
   "cell_type": "code",
   "execution_count": 168,
   "metadata": {},
   "outputs": [],
   "source": [
    "def compute_log_likelihood(feature_matrix, sentiment, coefficients):\n",
    "    indicator = (sentiment == +1)\n",
    "    scores = np.dot(feature_matrix, coefficients)\n",
    "    lp = np.sum((indicator - 1) * scores - np.log(1. + np.exp(-scores)))\n",
    "    \n",
    "    return lp"
   ]
  },
  {
   "cell_type": "markdown",
   "metadata": {},
   "source": [
    "### Taking gradient steps"
   ]
  },
  {
   "cell_type": "code",
   "execution_count": 169,
   "metadata": {},
   "outputs": [],
   "source": [
    "def logistic_regression(feature_matrix, sentiment, initial_coefficients,\n",
    "                        step_size, max_iter):\n",
    "    coefficients = np.array(initial_coefficients)\n",
    "    for itr in range(max_iter):\n",
    "        # P(y_i = +1 | x_i, w)\n",
    "        predictions = predict_probability(feature_matrix, coefficients)\n",
    "        \n",
    "        # 1[y_i = +1]\n",
    "        indicator = sentiment == +1\n",
    "        \n",
    "        # Errors = indicator - predictions\n",
    "        errors = indicator - predictions\n",
    "        \n",
    "        derivative = feature_derivative(errors, feature_matrix)\n",
    "        \n",
    "        coefficients = coefficients + step_size * derivative\n",
    "        \n",
    "        # Checking whether log likelihood is increasing\n",
    "        if itr <= 15 or (itr <= 100 and itr % 10 == 0) or (itr <= 1000 and itr % 100 == 0) \\\n",
    "        or (itr <= 10000 and itr % 1000 == 0) or itr % 10000 == 0:\n",
    "            lp = compute_log_likelihood(feature_matrix, sentiment, coefficients)\n",
    "            print ('iteration %*d: log likelihood of observed labels = %.8f' % \\\n",
    "                (int(np.ceil(np.log10(max_iter))), itr, lp))\n",
    "    \n",
    "    return coefficients\n",
    "    "
   ]
  },
  {
   "cell_type": "code",
   "execution_count": 170,
   "metadata": {},
   "outputs": [],
   "source": [
    "initial_coefficients = np.zeros(feature_matrix.shape[1])\n",
    "step_size = 1e-7\n",
    "max_iter = 301"
   ]
  },
  {
   "cell_type": "code",
   "execution_count": 171,
   "metadata": {},
   "outputs": [
    {
     "name": "stdout",
     "output_type": "stream",
     "text": [
      "iteration   0: log likelihood of observed labels = -36780.91768478\n",
      "iteration   1: log likelihood of observed labels = -36775.13434712\n",
      "iteration   2: log likelihood of observed labels = -36769.35713564\n",
      "iteration   3: log likelihood of observed labels = -36763.58603240\n",
      "iteration   4: log likelihood of observed labels = -36757.82101962\n",
      "iteration   5: log likelihood of observed labels = -36752.06207964\n",
      "iteration   6: log likelihood of observed labels = -36746.30919497\n",
      "iteration   7: log likelihood of observed labels = -36740.56234821\n",
      "iteration   8: log likelihood of observed labels = -36734.82152213\n",
      "iteration   9: log likelihood of observed labels = -36729.08669961\n",
      "iteration  10: log likelihood of observed labels = -36723.35786366\n",
      "iteration  11: log likelihood of observed labels = -36717.63499744\n",
      "iteration  12: log likelihood of observed labels = -36711.91808422\n",
      "iteration  13: log likelihood of observed labels = -36706.20710739\n",
      "iteration  14: log likelihood of observed labels = -36700.50205049\n",
      "iteration  15: log likelihood of observed labels = -36694.80289716\n",
      "iteration  20: log likelihood of observed labels = -36666.39512033\n",
      "iteration  30: log likelihood of observed labels = -36610.01327118\n",
      "iteration  40: log likelihood of observed labels = -36554.19728365\n",
      "iteration  50: log likelihood of observed labels = -36498.93316099\n",
      "iteration  60: log likelihood of observed labels = -36444.20783914\n",
      "iteration  70: log likelihood of observed labels = -36390.00909449\n",
      "iteration  80: log likelihood of observed labels = -36336.32546144\n",
      "iteration  90: log likelihood of observed labels = -36283.14615871\n",
      "iteration 100: log likelihood of observed labels = -36230.46102347\n",
      "iteration 200: log likelihood of observed labels = -35728.89418769\n",
      "iteration 300: log likelihood of observed labels = -35268.51212683\n"
     ]
    }
   ],
   "source": [
    "coefficients = logistic_regression(feature_matrix, sentiment, initial_coefficients,\n",
    "                                  step_size, max_iter)"
   ]
  },
  {
   "cell_type": "code",
   "execution_count": 172,
   "metadata": {},
   "outputs": [
    {
     "data": {
      "text/plain": [
       "array([ 5.16220157e-03,  1.55656966e-02, -8.50204675e-03,  6.65460842e-02,\n",
       "        6.58907629e-02,  5.01743882e-03, -5.38601484e-02, -3.50488413e-03,\n",
       "        6.47945868e-02,  4.54356263e-02,  3.98353364e-03,  2.00775410e-02,\n",
       "        3.01350011e-02, -2.87115530e-02,  1.52161964e-02,  2.72592062e-04,\n",
       "        1.19448177e-02, -1.82461935e-02, -1.21706420e-02, -4.15110334e-02,\n",
       "        2.76820391e-03,  1.77031999e-02, -4.39700067e-03,  4.49764014e-02,\n",
       "        9.90916464e-03,  8.99239081e-04, -1.36219516e-03,  1.26859357e-02,\n",
       "        8.26466695e-03, -2.77426972e-02,  6.10128809e-04,  1.54084501e-02,\n",
       "       -1.32134753e-02, -3.00512492e-02,  2.97399371e-02,  1.84087080e-02,\n",
       "        2.86178752e-03, -1.05768015e-02, -6.57350362e-04, -1.01476555e-02,\n",
       "       -4.79579528e-03,  7.50891810e-03,  4.27938289e-03,  3.06785501e-03,\n",
       "       -2.20317661e-03,  9.57273354e-03,  9.91666827e-05, -1.98462567e-02,\n",
       "        1.75702722e-02,  1.55478612e-03, -1.77375440e-02,  9.78324102e-03,\n",
       "        1.17031606e-02, -7.35345937e-03, -6.08714030e-03,  6.43766808e-03,\n",
       "        1.07159665e-02, -3.05345476e-03,  7.17190727e-03,  5.73320003e-03,\n",
       "        4.60661876e-03, -5.20588421e-03,  6.71012331e-03,  9.03281814e-03,\n",
       "        1.74563147e-03,  6.00279979e-03,  1.20181744e-02, -1.83594607e-02,\n",
       "       -6.91010811e-03, -1.38687273e-02, -1.50406590e-02,  5.92353611e-03,\n",
       "        5.67478991e-03, -5.28786220e-03,  3.08147864e-03,  5.53751236e-03,\n",
       "        1.49917916e-02, -3.35666000e-04, -3.30695153e-02, -4.78990943e-03,\n",
       "       -6.41368859e-03,  7.99938935e-03, -8.61390444e-04,  1.68052959e-02,\n",
       "        1.32539901e-02,  1.72307051e-03,  2.98030675e-03,  8.58284300e-03,\n",
       "        1.17082481e-02,  2.80825907e-03,  2.18724016e-03,  1.68824711e-02,\n",
       "       -4.65973741e-03,  1.51368285e-03, -1.09509122e-02,  9.17842898e-03,\n",
       "       -1.88572281e-04, -3.89820373e-02, -2.44821005e-02, -1.87023714e-02,\n",
       "       -2.13943485e-02, -1.29690465e-02, -1.71378670e-02, -1.37566767e-02,\n",
       "       -1.49770449e-02, -5.10287978e-03, -2.89789761e-02, -1.48663194e-02,\n",
       "       -1.28088380e-02, -1.07709355e-02, -6.95286915e-03, -5.04082164e-03,\n",
       "       -9.25914404e-03, -2.40427481e-02, -2.65927785e-02, -1.97320937e-03,\n",
       "       -5.04127508e-03, -7.00791912e-03, -3.48088523e-03, -6.40958916e-03,\n",
       "       -4.07497010e-03, -6.30054296e-03, -1.09187932e-02, -1.26051900e-02,\n",
       "       -1.66895314e-03, -7.76418781e-03, -5.15960485e-04, -1.94199551e-03,\n",
       "       -1.24761586e-03, -5.01291731e-03, -9.12049191e-03, -7.22098801e-03,\n",
       "       -8.31782981e-03, -5.60573348e-03, -1.47098335e-02, -9.31520819e-03,\n",
       "       -2.22034402e-03, -7.07573098e-03, -5.10115608e-03, -8.93572862e-03,\n",
       "       -1.27545713e-02, -7.04171991e-03, -9.76219676e-04,  4.12091713e-04,\n",
       "        8.29251160e-04,  2.64661064e-03, -7.73228782e-03,  1.53471164e-03,\n",
       "       -7.37263060e-03, -3.73694386e-03, -3.81416409e-03, -1.64575145e-03,\n",
       "       -3.31887732e-03,  1.22257832e-03,  1.36699286e-05, -3.01866601e-03,\n",
       "       -1.02826343e-02, -1.06691327e-02,  2.23639046e-03, -9.87424798e-03,\n",
       "       -1.02192048e-02, -3.41330929e-03,  3.34489960e-03, -3.50984516e-03,\n",
       "       -6.26283150e-03, -7.22419943e-03, -5.47016154e-03, -1.25063947e-02,\n",
       "       -2.47805699e-03, -1.60017985e-02, -6.40098934e-03, -4.26644386e-03,\n",
       "       -1.55376990e-02,  2.31349237e-03, -9.06653337e-03, -6.30012672e-03,\n",
       "       -1.21010303e-02, -3.02578875e-03, -6.76289718e-03, -5.65498722e-03,\n",
       "       -6.87050239e-03, -1.18950595e-02, -1.86489236e-04, -1.15230476e-02,\n",
       "        2.81533219e-03, -8.10150295e-03, -1.00062131e-02,  4.02037651e-03,\n",
       "       -5.44300346e-03,  2.85818985e-03,  1.19885003e-04, -6.47587687e-03,\n",
       "       -1.14493516e-03, -7.09205934e-03])"
      ]
     },
     "execution_count": 172,
     "metadata": {},
     "output_type": "execute_result"
    }
   ],
   "source": [
    "coefficients"
   ]
  },
  {
   "cell_type": "markdown",
   "metadata": {},
   "source": [
    "### Quiz question: As each iteration of gradient ascent passes, does the log likeliood increase or decrase"
   ]
  },
  {
   "cell_type": "markdown",
   "metadata": {},
   "source": [
    "Increase"
   ]
  },
  {
   "cell_type": "markdown",
   "metadata": {},
   "source": [
    "### Predicting sentiment"
   ]
  },
  {
   "cell_type": "code",
   "execution_count": 173,
   "metadata": {},
   "outputs": [],
   "source": [
    "scores = np.dot(feature_matrix, coefficients)"
   ]
  },
  {
   "cell_type": "code",
   "execution_count": 174,
   "metadata": {},
   "outputs": [],
   "source": [
    "predicting_sentiment_threshold = np.array([1 if u > 0 else -1 for u in scores])"
   ]
  },
  {
   "cell_type": "markdown",
   "metadata": {},
   "source": [
    "### Quiz question: How many reviews were predicted to have positive sentiment?\n",
    "\n"
   ]
  },
  {
   "cell_type": "code",
   "execution_count": 175,
   "metadata": {},
   "outputs": [
    {
     "data": {
      "text/plain": [
       "25126"
      ]
     },
     "execution_count": 175,
     "metadata": {},
     "output_type": "execute_result"
    }
   ],
   "source": [
    "total_positive_predicted_sentiment = predicting_sentiment_threshold[predicting_sentiment_threshold > 0].sum()\n",
    "total_positive_predicted_sentiment"
   ]
  },
  {
   "cell_type": "code",
   "execution_count": 176,
   "metadata": {},
   "outputs": [
    {
     "data": {
      "text/plain": [
       "53072"
      ]
     },
     "execution_count": 176,
     "metadata": {},
     "output_type": "execute_result"
    }
   ],
   "source": [
    "len(scores)"
   ]
  },
  {
   "cell_type": "markdown",
   "metadata": {},
   "source": [
    "### Measuring accuracy"
   ]
  },
  {
   "cell_type": "markdown",
   "metadata": {},
   "source": [
    "### Quiz question: What is the accuracy of the model on predictions made above? (round to 2 digits of accuracy)\n",
    "\n"
   ]
  },
  {
   "cell_type": "code",
   "execution_count": 177,
   "metadata": {},
   "outputs": [
    {
     "name": "stdout",
     "output_type": "stream",
     "text": [
      "0.75\n"
     ]
    }
   ],
   "source": [
    "correct_prediction = (predicting_sentiment_threshold == sentiment).sum()\n",
    "accuracy = correct_prediction / len(sentiment)\n",
    "print (\"%.2f\" % accuracy)"
   ]
  },
  {
   "cell_type": "markdown",
   "metadata": {},
   "source": [
    "### Which words contribute most to positive & negative sentiments\n"
   ]
  },
  {
   "cell_type": "code",
   "execution_count": 187,
   "metadata": {},
   "outputs": [],
   "source": [
    "word_coefficient_tuples = [(word, coeff) for word, coeff in \n",
    "                          zip(important_words, list(coefficients[1:]))]\n",
    "word_coefficient_tuples = sorted(word_coefficient_tuples, key= lambda x: x[1], reverse=True)"
   ]
  },
  {
   "cell_type": "markdown",
   "metadata": {},
   "source": [
    "### Ten most positive words"
   ]
  },
  {
   "cell_type": "code",
   "execution_count": 188,
   "metadata": {},
   "outputs": [
    {
     "data": {
      "text/plain": [
       "[('great', 0.06654608417045771),\n",
       " ('love', 0.06589076292212324),\n",
       " ('easy', 0.0647945868025784),\n",
       " ('little', 0.04543562630842137),\n",
       " ('loves', 0.04497640139490604),\n",
       " ('well', 0.030135001092107077),\n",
       " ('perfect', 0.02973993710496846),\n",
       " ('old', 0.020077541034775385),\n",
       " ('nice', 0.01840870799526899),\n",
       " ('daughter', 0.017703199905701697)]"
      ]
     },
     "execution_count": 188,
     "metadata": {},
     "output_type": "execute_result"
    }
   ],
   "source": [
    "word_coefficient_tuples[:10]"
   ]
  },
  {
   "cell_type": "markdown",
   "metadata": {},
   "source": [
    "### Ten most negative words"
   ]
  },
  {
   "cell_type": "code",
   "execution_count": 189,
   "metadata": {},
   "outputs": [
    {
     "data": {
      "text/plain": [
       "[('monitor', -0.024482100545891717),\n",
       " ('return', -0.026592778462247283),\n",
       " ('back', -0.027742697230661327),\n",
       " ('get', -0.028711552980192585),\n",
       " ('disappointed', -0.028978976142317068),\n",
       " ('even', -0.030051249236035808),\n",
       " ('work', -0.03306951529475273),\n",
       " ('money', -0.038982037286487116),\n",
       " ('product', -0.04151103339210889),\n",
       " ('would', -0.05386014844520313)]"
      ]
     },
     "execution_count": 189,
     "metadata": {},
     "output_type": "execute_result"
    }
   ],
   "source": [
    "word_coefficient_tuples[-10:]"
   ]
  },
  {
   "cell_type": "code",
   "execution_count": null,
   "metadata": {},
   "outputs": [],
   "source": []
  }
 ],
 "metadata": {
  "kernelspec": {
   "display_name": "Python [conda env:ds-env] *",
   "language": "python",
   "name": "conda-env-ds-env-py"
  },
  "language_info": {
   "codemirror_mode": {
    "name": "ipython",
    "version": 3
   },
   "file_extension": ".py",
   "mimetype": "text/x-python",
   "name": "python",
   "nbconvert_exporter": "python",
   "pygments_lexer": "ipython3",
   "version": "3.7.3"
  }
 },
 "nbformat": 4,
 "nbformat_minor": 2
}
