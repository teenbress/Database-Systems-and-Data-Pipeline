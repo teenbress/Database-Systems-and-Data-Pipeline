{
 "cells": [
  {
   "cell_type": "code",
   "execution_count": 121,
   "metadata": {},
   "outputs": [],
   "source": [
    "import pandas as pd\n",
    "import numpy as np"
   ]
  },
  {
   "cell_type": "code",
   "execution_count": 122,
   "metadata": {},
   "outputs": [
    {
     "data": {
      "text/plain": [
       "str"
      ]
     },
     "execution_count": 122,
     "metadata": {},
     "output_type": "execute_result"
    }
   ],
   "source": [
    "a = \"a\"\n",
    "type(a)"
   ]
  },
  {
   "cell_type": "code",
   "execution_count": 123,
   "metadata": {},
   "outputs": [],
   "source": [
    "dtype_dict = {'name': str, 'review': str, 'rating': int}"
   ]
  },
  {
   "cell_type": "code",
   "execution_count": 124,
   "metadata": {},
   "outputs": [],
   "source": [
    "products = pd.read_csv('amazon_baby.csv', dtype=dtype_dict)"
   ]
  },
  {
   "cell_type": "code",
   "execution_count": 125,
   "metadata": {},
   "outputs": [
    {
     "data": {
      "text/html": [
       "<div>\n",
       "<style scoped>\n",
       "    .dataframe tbody tr th:only-of-type {\n",
       "        vertical-align: middle;\n",
       "    }\n",
       "\n",
       "    .dataframe tbody tr th {\n",
       "        vertical-align: top;\n",
       "    }\n",
       "\n",
       "    .dataframe thead th {\n",
       "        text-align: right;\n",
       "    }\n",
       "</style>\n",
       "<table border=\"1\" class=\"dataframe\">\n",
       "  <thead>\n",
       "    <tr style=\"text-align: right;\">\n",
       "      <th></th>\n",
       "      <th>name</th>\n",
       "      <th>review</th>\n",
       "      <th>rating</th>\n",
       "    </tr>\n",
       "  </thead>\n",
       "  <tbody>\n",
       "    <tr>\n",
       "      <th>0</th>\n",
       "      <td>Planetwise Flannel Wipes</td>\n",
       "      <td>These flannel wipes are OK, but in my opinion ...</td>\n",
       "      <td>3</td>\n",
       "    </tr>\n",
       "    <tr>\n",
       "      <th>1</th>\n",
       "      <td>Planetwise Wipe Pouch</td>\n",
       "      <td>it came early and was not disappointed. i love...</td>\n",
       "      <td>5</td>\n",
       "    </tr>\n",
       "    <tr>\n",
       "      <th>2</th>\n",
       "      <td>Annas Dream Full Quilt with 2 Shams</td>\n",
       "      <td>Very soft and comfortable and warmer than it l...</td>\n",
       "      <td>5</td>\n",
       "    </tr>\n",
       "    <tr>\n",
       "      <th>3</th>\n",
       "      <td>Stop Pacifier Sucking without tears with Thumb...</td>\n",
       "      <td>This is a product well worth the purchase.  I ...</td>\n",
       "      <td>5</td>\n",
       "    </tr>\n",
       "    <tr>\n",
       "      <th>4</th>\n",
       "      <td>Stop Pacifier Sucking without tears with Thumb...</td>\n",
       "      <td>All of my kids have cried non-stop when I trie...</td>\n",
       "      <td>5</td>\n",
       "    </tr>\n",
       "  </tbody>\n",
       "</table>\n",
       "</div>"
      ],
      "text/plain": [
       "                                                name  \\\n",
       "0                           Planetwise Flannel Wipes   \n",
       "1                              Planetwise Wipe Pouch   \n",
       "2                Annas Dream Full Quilt with 2 Shams   \n",
       "3  Stop Pacifier Sucking without tears with Thumb...   \n",
       "4  Stop Pacifier Sucking without tears with Thumb...   \n",
       "\n",
       "                                              review  rating  \n",
       "0  These flannel wipes are OK, but in my opinion ...       3  \n",
       "1  it came early and was not disappointed. i love...       5  \n",
       "2  Very soft and comfortable and warmer than it l...       5  \n",
       "3  This is a product well worth the purchase.  I ...       5  \n",
       "4  All of my kids have cried non-stop when I trie...       5  "
      ]
     },
     "execution_count": 125,
     "metadata": {},
     "output_type": "execute_result"
    }
   ],
   "source": [
    "products.head()"
   ]
  },
  {
   "cell_type": "code",
   "execution_count": 126,
   "metadata": {},
   "outputs": [
    {
     "data": {
      "text/plain": [
       "count        182702\n",
       "unique       182642\n",
       "top       Very good\n",
       "freq              5\n",
       "Name: review, dtype: object"
      ]
     },
     "execution_count": 126,
     "metadata": {},
     "output_type": "execute_result"
    }
   ],
   "source": [
    "products['review'].describe()"
   ]
  },
  {
   "cell_type": "code",
   "execution_count": 127,
   "metadata": {},
   "outputs": [],
   "source": [
    "import string\n",
    "\n",
    "trans = {}\n",
    "for c in string.punctuation:\n",
    "    trans[c] = None    \n",
    "trans = str.maketrans(trans)\n",
    "\n",
    "def remove_punctuation(text):\n",
    "    return text.translate(trans)"
   ]
  },
  {
   "cell_type": "code",
   "execution_count": 128,
   "metadata": {},
   "outputs": [
    {
     "name": "stdout",
     "output_type": "stream",
     "text": [
      "Cake cake cake haha\n"
     ]
    }
   ],
   "source": [
    "a = remove_punctuation(\"Cake. cake! cake.... haha\")\n",
    "print (a)"
   ]
  },
  {
   "cell_type": "markdown",
   "metadata": {},
   "source": [
    "### Fill N/A"
   ]
  },
  {
   "cell_type": "code",
   "execution_count": 129,
   "metadata": {},
   "outputs": [],
   "source": [
    "products.fillna({\"review\": ''}, inplace=True)"
   ]
  },
  {
   "cell_type": "markdown",
   "metadata": {},
   "source": [
    "### Clean punctuation"
   ]
  },
  {
   "cell_type": "code",
   "execution_count": 130,
   "metadata": {},
   "outputs": [],
   "source": [
    "products['review_clean'] = products['review'].apply(remove_punctuation)"
   ]
  },
  {
   "cell_type": "code",
   "execution_count": 131,
   "metadata": {},
   "outputs": [
    {
     "data": {
      "text/html": [
       "<div>\n",
       "<style scoped>\n",
       "    .dataframe tbody tr th:only-of-type {\n",
       "        vertical-align: middle;\n",
       "    }\n",
       "\n",
       "    .dataframe tbody tr th {\n",
       "        vertical-align: top;\n",
       "    }\n",
       "\n",
       "    .dataframe thead th {\n",
       "        text-align: right;\n",
       "    }\n",
       "</style>\n",
       "<table border=\"1\" class=\"dataframe\">\n",
       "  <thead>\n",
       "    <tr style=\"text-align: right;\">\n",
       "      <th></th>\n",
       "      <th>name</th>\n",
       "      <th>review</th>\n",
       "      <th>rating</th>\n",
       "      <th>review_clean</th>\n",
       "    </tr>\n",
       "  </thead>\n",
       "  <tbody>\n",
       "    <tr>\n",
       "      <th>0</th>\n",
       "      <td>Planetwise Flannel Wipes</td>\n",
       "      <td>These flannel wipes are OK, but in my opinion ...</td>\n",
       "      <td>3</td>\n",
       "      <td>These flannel wipes are OK but in my opinion n...</td>\n",
       "    </tr>\n",
       "    <tr>\n",
       "      <th>1</th>\n",
       "      <td>Planetwise Wipe Pouch</td>\n",
       "      <td>it came early and was not disappointed. i love...</td>\n",
       "      <td>5</td>\n",
       "      <td>it came early and was not disappointed i love ...</td>\n",
       "    </tr>\n",
       "    <tr>\n",
       "      <th>2</th>\n",
       "      <td>Annas Dream Full Quilt with 2 Shams</td>\n",
       "      <td>Very soft and comfortable and warmer than it l...</td>\n",
       "      <td>5</td>\n",
       "      <td>Very soft and comfortable and warmer than it l...</td>\n",
       "    </tr>\n",
       "    <tr>\n",
       "      <th>3</th>\n",
       "      <td>Stop Pacifier Sucking without tears with Thumb...</td>\n",
       "      <td>This is a product well worth the purchase.  I ...</td>\n",
       "      <td>5</td>\n",
       "      <td>This is a product well worth the purchase  I h...</td>\n",
       "    </tr>\n",
       "    <tr>\n",
       "      <th>4</th>\n",
       "      <td>Stop Pacifier Sucking without tears with Thumb...</td>\n",
       "      <td>All of my kids have cried non-stop when I trie...</td>\n",
       "      <td>5</td>\n",
       "      <td>All of my kids have cried nonstop when I tried...</td>\n",
       "    </tr>\n",
       "  </tbody>\n",
       "</table>\n",
       "</div>"
      ],
      "text/plain": [
       "                                                name  \\\n",
       "0                           Planetwise Flannel Wipes   \n",
       "1                              Planetwise Wipe Pouch   \n",
       "2                Annas Dream Full Quilt with 2 Shams   \n",
       "3  Stop Pacifier Sucking without tears with Thumb...   \n",
       "4  Stop Pacifier Sucking without tears with Thumb...   \n",
       "\n",
       "                                              review  rating  \\\n",
       "0  These flannel wipes are OK, but in my opinion ...       3   \n",
       "1  it came early and was not disappointed. i love...       5   \n",
       "2  Very soft and comfortable and warmer than it l...       5   \n",
       "3  This is a product well worth the purchase.  I ...       5   \n",
       "4  All of my kids have cried non-stop when I trie...       5   \n",
       "\n",
       "                                        review_clean  \n",
       "0  These flannel wipes are OK but in my opinion n...  \n",
       "1  it came early and was not disappointed i love ...  \n",
       "2  Very soft and comfortable and warmer than it l...  \n",
       "3  This is a product well worth the purchase  I h...  \n",
       "4  All of my kids have cried nonstop when I tried...  "
      ]
     },
     "execution_count": 131,
     "metadata": {},
     "output_type": "execute_result"
    }
   ],
   "source": [
    "products.head()"
   ]
  },
  {
   "cell_type": "markdown",
   "metadata": {},
   "source": [
    "###  Extract sentiments"
   ]
  },
  {
   "cell_type": "markdown",
   "metadata": {},
   "source": [
    "Ignore all reviews with rating = 3, since they tend to have a neutral sentiment. "
   ]
  },
  {
   "cell_type": "code",
   "execution_count": 134,
   "metadata": {},
   "outputs": [],
   "source": [
    "products = products[products['rating'] != 3]"
   ]
  },
  {
   "cell_type": "code",
   "execution_count": 135,
   "metadata": {},
   "outputs": [
    {
     "data": {
      "text/plain": [
       "166752"
      ]
     },
     "execution_count": 135,
     "metadata": {},
     "output_type": "execute_result"
    }
   ],
   "source": [
    "len(products)"
   ]
  },
  {
   "cell_type": "markdown",
   "metadata": {},
   "source": [
    "4. Now, we will assign reviews with a rating of 4 or higher to be positive reviews, while the ones with rating of 2 or lower are negative. For the sentiment column, we use +1 for the positive class label and -1 for the negative class label. A good way is to create an anonymous function that converts a rating into a class label and then apply that function to every element in the rating column. In SFrame, you would use apply():\n",
    "\n"
   ]
  },
  {
   "cell_type": "code",
   "execution_count": 136,
   "metadata": {},
   "outputs": [],
   "source": [
    "products['sentiment'] = products['rating'].apply(\n",
    "    lambda rating: 1 if rating > 3 else -1\n",
    ")"
   ]
  },
  {
   "cell_type": "markdown",
   "metadata": {},
   "source": [
    "### Split into training and test sets"
   ]
  },
  {
   "cell_type": "markdown",
   "metadata": {},
   "source": [
    "Use train_test_split of sklearn"
   ]
  },
  {
   "cell_type": "code",
   "execution_count": 144,
   "metadata": {},
   "outputs": [],
   "source": [
    "# from sklearn.model_selection import train_test_split\n",
    "# train_test_split?\n",
    "# train, test = train_test_split(products, test_size=0.2, shuffle=True)\n",
    "# len(train), len(test)"
   ]
  },
  {
   "cell_type": "code",
   "execution_count": 145,
   "metadata": {},
   "outputs": [
    {
     "name": "stdout",
     "output_type": "stream",
     "text": [
      "Predicting sentiment from product reviews.ipynb\r\n",
      "\u001b[31mamazon_baby.csv\u001b[m\u001b[m*\r\n",
      "\u001b[34mamazon_baby.gl\u001b[m\u001b[m/\r\n",
      "module-2-assignment-test-idx.json\r\n",
      "module-2-assignment-train-idx.json\r\n"
     ]
    }
   ],
   "source": [
    "%ls"
   ]
  },
  {
   "cell_type": "code",
   "execution_count": 149,
   "metadata": {},
   "outputs": [],
   "source": [
    "train_idx = pd.read_json('module-2-assignment-train-idx.json')\n",
    "test_idx = pd.read_json('module-2-assignment-test-idx.json')"
   ]
  },
  {
   "cell_type": "code",
   "execution_count": 161,
   "metadata": {},
   "outputs": [],
   "source": [
    "train_data = products.iloc[train_idx[0]]\n",
    "test_data = products.iloc[test_idx[0]]"
   ]
  },
  {
   "cell_type": "code",
   "execution_count": 162,
   "metadata": {},
   "outputs": [
    {
     "data": {
      "text/plain": [
       "(133416, 33336)"
      ]
     },
     "execution_count": 162,
     "metadata": {},
     "output_type": "execute_result"
    }
   ],
   "source": [
    "len(train_data), len(test_data)"
   ]
  },
  {
   "cell_type": "markdown",
   "metadata": {},
   "source": [
    "### Build the word count vector for each review"
   ]
  },
  {
   "cell_type": "code",
   "execution_count": 163,
   "metadata": {},
   "outputs": [],
   "source": [
    "from sklearn.feature_extraction.text import CountVectorizer"
   ]
  },
  {
   "cell_type": "code",
   "execution_count": 167,
   "metadata": {},
   "outputs": [],
   "source": [
    "vectorizer = CountVectorizer(token_pattern=r'\\b\\w+\\b')"
   ]
  },
  {
   "cell_type": "markdown",
   "metadata": {},
   "source": [
    "First, learn vocabulary from the training data and assign column to words"
   ]
  },
  {
   "cell_type": "code",
   "execution_count": 177,
   "metadata": {},
   "outputs": [],
   "source": [
    "vectorizer?"
   ]
  },
  {
   "cell_type": "markdown",
   "metadata": {},
   "source": [
    "First, learn the vocab from the training data and assign columns to words,\n",
    "then covert the training data into a sparse matrix"
   ]
  },
  {
   "cell_type": "code",
   "execution_count": 175,
   "metadata": {},
   "outputs": [],
   "source": [
    "train_matrix = vectorizer.fit_transform(train_data['review_clean'])"
   ]
  },
  {
   "cell_type": "markdown",
   "metadata": {},
   "source": [
    "Second, convert the test data into a sparse matrix, using the same word-column mapping"
   ]
  },
  {
   "cell_type": "code",
   "execution_count": 176,
   "metadata": {},
   "outputs": [],
   "source": [
    "test_matrix = vectorizer.transform(test_data['review_clean'])"
   ]
  },
  {
   "cell_type": "markdown",
   "metadata": {},
   "source": [
    "### Train a sentiment classfier with logistic regression"
   ]
  },
  {
   "cell_type": "markdown",
   "metadata": {},
   "source": [
    "Learn a logistic regression classifier using the training data. If you are using scikit-learn, you should create an instance of the LogisticRegression class and then call the method fit() to train the classifier. This model should use the sparse word count matrix (train_matrix) as features and the column sentiment of train_data as the target. Use the default values for other parameters. Call this model sentiment_model.\n"
   ]
  },
  {
   "cell_type": "code",
   "execution_count": 187,
   "metadata": {},
   "outputs": [],
   "source": [
    "from sklearn.linear_model import LogisticRegression"
   ]
  },
  {
   "cell_type": "code",
   "execution_count": 179,
   "metadata": {},
   "outputs": [],
   "source": [
    "logReg = LogisticRegression()"
   ]
  },
  {
   "cell_type": "code",
   "execution_count": 180,
   "metadata": {},
   "outputs": [
    {
     "name": "stderr",
     "output_type": "stream",
     "text": [
      "/Users/tdx/anaconda2/envs/ds-env/lib/python3.7/site-packages/sklearn/linear_model/logistic.py:432: FutureWarning: Default solver will be changed to 'lbfgs' in 0.22. Specify a solver to silence this warning.\n",
      "  FutureWarning)\n",
      "/Users/tdx/anaconda2/envs/ds-env/lib/python3.7/site-packages/sklearn/svm/base.py:929: ConvergenceWarning: Liblinear failed to converge, increase the number of iterations.\n",
      "  \"the number of iterations.\", ConvergenceWarning)\n"
     ]
    }
   ],
   "source": [
    "sentiment_model = logReg.fit(train_matrix, train_data['sentiment'])"
   ]
  },
  {
   "cell_type": "code",
   "execution_count": 185,
   "metadata": {},
   "outputs": [
    {
     "data": {
      "text/plain": [
       "121712"
      ]
     },
     "execution_count": 185,
     "metadata": {},
     "output_type": "execute_result"
    }
   ],
   "source": [
    "len(sentiment_model.coef_[0])"
   ]
  },
  {
   "cell_type": "markdown",
   "metadata": {},
   "source": [
    "8. There should be over 100,000 coefficients in this sentiment_model. Recall from the lecture that positive weights w_j correspond to weights that cause positive sentiment, while negative weights correspond to negative sentiment. Calculate the number of positive (>= 0, which is actually nonnegative) coefficients.\n",
    "\n"
   ]
  },
  {
   "cell_type": "code",
   "execution_count": 201,
   "metadata": {},
   "outputs": [
    {
     "data": {
      "text/plain": [
       "85776"
      ]
     },
     "execution_count": 201,
     "metadata": {},
     "output_type": "execute_result"
    }
   ],
   "source": [
    "positive_coeff = (sentiment_model.coef_[0] >= 0).sum()\n",
    "positive_coeff"
   ]
  },
  {
   "cell_type": "markdown",
   "metadata": {},
   "source": [
    "### Making predictions with logistic regression"
   ]
  },
  {
   "cell_type": "code",
   "execution_count": 210,
   "metadata": {},
   "outputs": [
    {
     "name": "stdout",
     "output_type": "stream",
     "text": [
      "                                                 name  \\\n",
      "59                          Our Baby Girl Memory Book   \n",
      "71  Wall Decor Removable Decal Sticker - Colorful ...   \n",
      "91  New Style Trailing Cherry Blossom Tree Decal R...   \n",
      "\n",
      "                                               review  rating  \\\n",
      "59  Absolutely love it and all of the Scripture in...       5   \n",
      "71  Would not purchase again or recommend. The dec...       2   \n",
      "91  Was so excited to get this product for my baby...       1   \n",
      "\n",
      "                                         review_clean  sentiment  \n",
      "59  Absolutely love it and all of the Scripture in...          1  \n",
      "71  Would not purchase again or recommend The deca...         -1  \n",
      "91  Was so excited to get this product for my baby...         -1  \n"
     ]
    }
   ],
   "source": [
    "sample_test_data = test_data.iloc[10:13]\n",
    "print (sample_test_data)"
   ]
  },
  {
   "cell_type": "code",
   "execution_count": 213,
   "metadata": {},
   "outputs": [
    {
     "data": {
      "text/plain": [
       "'Absolutely love it and all of the Scripture in it.  I purchased the Baby Boy version for my grandson when he was born and my daughter-in-law was thrilled to receive the same book again.'"
      ]
     },
     "execution_count": 213,
     "metadata": {},
     "output_type": "execute_result"
    }
   ],
   "source": [
    "sample_test_data.iloc[0]['review']"
   ]
  },
  {
   "cell_type": "code",
   "execution_count": 215,
   "metadata": {},
   "outputs": [
    {
     "data": {
      "text/plain": [
       "'Would not purchase again or recommend. The decals were thick almost plastic like and were coming off the wall as I was applying them! The would NOT stick! Literally stayed stuck for about 5 minutes then started peeling off.'"
      ]
     },
     "execution_count": 215,
     "metadata": {},
     "output_type": "execute_result"
    }
   ],
   "source": [
    "sample_test_data.iloc[1]['review']"
   ]
  },
  {
   "cell_type": "code",
   "execution_count": 216,
   "metadata": {},
   "outputs": [],
   "source": [
    "sample_test_matrix = vectorizer.transform(sample_test_data['review_clean'])"
   ]
  },
  {
   "cell_type": "code",
   "execution_count": 220,
   "metadata": {},
   "outputs": [],
   "source": [
    "scores_sample = sentiment_model.decision_function(sample_test_matrix)"
   ]
  },
  {
   "cell_type": "code",
   "execution_count": 221,
   "metadata": {},
   "outputs": [
    {
     "name": "stdout",
     "output_type": "stream",
     "text": [
      "[  5.60072079  -3.14163294 -10.40078476]\n"
     ]
    }
   ],
   "source": [
    "print (scores_sample)"
   ]
  },
  {
   "cell_type": "code",
   "execution_count": 273,
   "metadata": {},
   "outputs": [],
   "source": [
    "def predict_wo_prob_arr(score):\n",
    "    return np.array([+1 if u > 0 else -1 for u in score])"
   ]
  },
  {
   "cell_type": "code",
   "execution_count": 222,
   "metadata": {},
   "outputs": [],
   "source": [
    "def predict_wo_prob(score):\n",
    "    if score > 0:\n",
    "        return +1\n",
    "    else: \n",
    "        return -1"
   ]
  },
  {
   "cell_type": "markdown",
   "metadata": {},
   "source": [
    "### Probability predictions"
   ]
  },
  {
   "cell_type": "code",
   "execution_count": 223,
   "metadata": {},
   "outputs": [],
   "source": [
    "import math"
   ]
  },
  {
   "cell_type": "code",
   "execution_count": 226,
   "metadata": {},
   "outputs": [],
   "source": [
    "def predict_with_prob(score):\n",
    "    return 1.0 / (1.0 + math.e ** (-score))"
   ]
  },
  {
   "cell_type": "code",
   "execution_count": 229,
   "metadata": {},
   "outputs": [
    {
     "data": {
      "text/plain": [
       "array([9.96318405e-01, 4.14222326e-02, 3.04076855e-05])"
      ]
     },
     "execution_count": 229,
     "metadata": {},
     "output_type": "execute_result"
    }
   ],
   "source": [
    "predict_with_prob(scores_sample)"
   ]
  },
  {
   "cell_type": "markdown",
   "metadata": {},
   "source": [
    "### Quiz question: Of the three data points in sample_test_data, which one (first, second, or third) has the lowest probability of being classified as a positive review?"
   ]
  },
  {
   "cell_type": "code",
   "execution_count": 231,
   "metadata": {},
   "outputs": [
    {
     "data": {
      "text/plain": [
       "3"
      ]
     },
     "execution_count": 231,
     "metadata": {},
     "output_type": "execute_result"
    }
   ],
   "source": [
    "1 + predict_with_prob(scores_sample).argmin()"
   ]
  },
  {
   "cell_type": "markdown",
   "metadata": {},
   "source": [
    "### Find the most positive (and negative) review\n"
   ]
  },
  {
   "cell_type": "markdown",
   "metadata": {},
   "source": [
    "Make probability predictions on test_data using the sentiment_model"
   ]
  },
  {
   "cell_type": "code",
   "execution_count": 233,
   "metadata": {},
   "outputs": [],
   "source": [
    "scores_test = sentiment_model.decision_function(test_matrix)"
   ]
  },
  {
   "cell_type": "code",
   "execution_count": 236,
   "metadata": {},
   "outputs": [
    {
     "data": {
      "text/plain": [
       "array([0.78204172, 0.99999927, 0.93448641, ..., 0.99999448, 0.99999737,\n",
       "       0.98092862])"
      ]
     },
     "execution_count": 236,
     "metadata": {},
     "output_type": "execute_result"
    }
   ],
   "source": [
    "scores_test_prob = predict_with_prob(scores_test)\n",
    "scores_test_prob"
   ]
  },
  {
   "cell_type": "code",
   "execution_count": 259,
   "metadata": {},
   "outputs": [],
   "source": [
    "top20_positive = (-scores_test_prob).argsort()[:20]"
   ]
  },
  {
   "cell_type": "markdown",
   "metadata": {},
   "source": [
    "### Quiz Question: Which of the following products are represented in the 20 most positive reviews?"
   ]
  },
  {
   "cell_type": "code",
   "execution_count": 264,
   "metadata": {},
   "outputs": [
    {
     "data": {
      "text/plain": [
       "array([1., 1., 1., 1., 1., 1., 1., 1., 1., 1., 1., 1., 1., 1., 1., 1., 1.,\n",
       "       1., 1., 1.])"
      ]
     },
     "execution_count": 264,
     "metadata": {},
     "output_type": "execute_result"
    }
   ],
   "source": [
    "top20_positive_scores = scores_test_prob[top20_positive]\n",
    "top20_positive_scores"
   ]
  },
  {
   "cell_type": "code",
   "execution_count": 260,
   "metadata": {
    "scrolled": false
   },
   "outputs": [
    {
     "data": {
      "text/html": [
       "<div>\n",
       "<style scoped>\n",
       "    .dataframe tbody tr th:only-of-type {\n",
       "        vertical-align: middle;\n",
       "    }\n",
       "\n",
       "    .dataframe tbody tr th {\n",
       "        vertical-align: top;\n",
       "    }\n",
       "\n",
       "    .dataframe thead th {\n",
       "        text-align: right;\n",
       "    }\n",
       "</style>\n",
       "<table border=\"1\" class=\"dataframe\">\n",
       "  <thead>\n",
       "    <tr style=\"text-align: right;\">\n",
       "      <th></th>\n",
       "      <th>name</th>\n",
       "      <th>review</th>\n",
       "      <th>rating</th>\n",
       "      <th>review_clean</th>\n",
       "      <th>sentiment</th>\n",
       "    </tr>\n",
       "  </thead>\n",
       "  <tbody>\n",
       "    <tr>\n",
       "      <th>80155</th>\n",
       "      <td>Simple Wishes Hands-Free Breastpump Bra, Pink,...</td>\n",
       "      <td>I just tried this hands free breastpump bra, a...</td>\n",
       "      <td>5</td>\n",
       "      <td>I just tried this hands free breastpump bra an...</td>\n",
       "      <td>1</td>\n",
       "    </tr>\n",
       "    <tr>\n",
       "      <th>180646</th>\n",
       "      <td>Mamas &amp;amp; Papas 2014 Urbo2 Stroller - Black</td>\n",
       "      <td>After much research I purchased an Urbo2. It's...</td>\n",
       "      <td>4</td>\n",
       "      <td>After much research I purchased an Urbo2 Its e...</td>\n",
       "      <td>1</td>\n",
       "    </tr>\n",
       "    <tr>\n",
       "      <th>50315</th>\n",
       "      <td>P'Kolino Silly Soft Seating in Tias, Green</td>\n",
       "      <td>I've purchased both the P'Kolino Little Reader...</td>\n",
       "      <td>4</td>\n",
       "      <td>Ive purchased both the PKolino Little Reader C...</td>\n",
       "      <td>1</td>\n",
       "    </tr>\n",
       "    <tr>\n",
       "      <th>114796</th>\n",
       "      <td>Fisher-Price Cradle 'N Swing,  My Little Snuga...</td>\n",
       "      <td>My husband and I cannot state enough how much ...</td>\n",
       "      <td>5</td>\n",
       "      <td>My husband and I cannot state enough how much ...</td>\n",
       "      <td>1</td>\n",
       "    </tr>\n",
       "    <tr>\n",
       "      <th>133651</th>\n",
       "      <td>Britax 2012 B-Agile Stroller, Red</td>\n",
       "      <td>[I got this stroller for my daughter prior to ...</td>\n",
       "      <td>4</td>\n",
       "      <td>I got this stroller for my daughter prior to t...</td>\n",
       "      <td>1</td>\n",
       "    </tr>\n",
       "    <tr>\n",
       "      <th>100166</th>\n",
       "      <td>Infantino Wrap and Tie Baby Carrier, Black Blu...</td>\n",
       "      <td>I bought this carrier when my daughter was abo...</td>\n",
       "      <td>5</td>\n",
       "      <td>I bought this carrier when my daughter was abo...</td>\n",
       "      <td>1</td>\n",
       "    </tr>\n",
       "    <tr>\n",
       "      <th>168697</th>\n",
       "      <td>Graco FastAction Fold Jogger Click Connect Str...</td>\n",
       "      <td>Graco's FastAction Jogging Stroller definitely...</td>\n",
       "      <td>5</td>\n",
       "      <td>Gracos FastAction Jogging Stroller definitely ...</td>\n",
       "      <td>1</td>\n",
       "    </tr>\n",
       "    <tr>\n",
       "      <th>147949</th>\n",
       "      <td>Baby Jogger City Mini GT Single Stroller, Shad...</td>\n",
       "      <td>Amazing, Love, Love, Love it !!! All 5 STARS a...</td>\n",
       "      <td>5</td>\n",
       "      <td>Amazing Love Love Love it  All 5 STARS all the...</td>\n",
       "      <td>1</td>\n",
       "    </tr>\n",
       "    <tr>\n",
       "      <th>137034</th>\n",
       "      <td>Graco Pack 'n Play Element Playard - Flint</td>\n",
       "      <td>My husband and I assembled this Pack n' Play l...</td>\n",
       "      <td>4</td>\n",
       "      <td>My husband and I assembled this Pack n Play la...</td>\n",
       "      <td>1</td>\n",
       "    </tr>\n",
       "    <tr>\n",
       "      <th>52631</th>\n",
       "      <td>Evenflo X Sport Plus Convenience Stroller - Ch...</td>\n",
       "      <td>After seeing this in Parent's Magazine and rea...</td>\n",
       "      <td>5</td>\n",
       "      <td>After seeing this in Parents Magazine and read...</td>\n",
       "      <td>1</td>\n",
       "    </tr>\n",
       "    <tr>\n",
       "      <th>87017</th>\n",
       "      <td>Baby Einstein Around The World Discovery Center</td>\n",
       "      <td>I am so HAPPY I brought this item for my 7 mon...</td>\n",
       "      <td>5</td>\n",
       "      <td>I am so HAPPY I brought this item for my 7 mon...</td>\n",
       "      <td>1</td>\n",
       "    </tr>\n",
       "    <tr>\n",
       "      <th>140816</th>\n",
       "      <td>Diono RadianRXT Convertible Car Seat, Plum</td>\n",
       "      <td>I bought this seat for my tall (38in) and thin...</td>\n",
       "      <td>5</td>\n",
       "      <td>I bought this seat for my tall 38in and thin 2...</td>\n",
       "      <td>1</td>\n",
       "    </tr>\n",
       "    <tr>\n",
       "      <th>97325</th>\n",
       "      <td>Freemie Hands-Free Concealable Breast Pump Col...</td>\n",
       "      <td>I absolutely love this product.  I work as a C...</td>\n",
       "      <td>5</td>\n",
       "      <td>I absolutely love this product  I work as a Cu...</td>\n",
       "      <td>1</td>\n",
       "    </tr>\n",
       "    <tr>\n",
       "      <th>119182</th>\n",
       "      <td>Roan Rocco Classic Pram Stroller 2-in-1 with B...</td>\n",
       "      <td>Great Pram Rocco!!!!!!I bought this pram from ...</td>\n",
       "      <td>5</td>\n",
       "      <td>Great Pram RoccoI bought this pram from Europe...</td>\n",
       "      <td>1</td>\n",
       "    </tr>\n",
       "    <tr>\n",
       "      <th>66059</th>\n",
       "      <td>Evenflo 6 Pack Classic Glass Bottle, 4-Ounce</td>\n",
       "      <td>It's always fun to write a review on those pro...</td>\n",
       "      <td>5</td>\n",
       "      <td>Its always fun to write a review on those prod...</td>\n",
       "      <td>1</td>\n",
       "    </tr>\n",
       "    <tr>\n",
       "      <th>168081</th>\n",
       "      <td>Buttons Cloth Diaper Cover - One Size - 8 Colo...</td>\n",
       "      <td>We are big Best Bottoms fans here, but I wante...</td>\n",
       "      <td>4</td>\n",
       "      <td>We are big Best Bottoms fans here but I wanted...</td>\n",
       "      <td>1</td>\n",
       "    </tr>\n",
       "    <tr>\n",
       "      <th>165593</th>\n",
       "      <td>Ikea 36 Pcs Kalas Kids Plastic BPA Free Flatwa...</td>\n",
       "      <td>For the price this set is unbelievable- and tr...</td>\n",
       "      <td>5</td>\n",
       "      <td>For the price this set is unbelievable and tru...</td>\n",
       "      <td>1</td>\n",
       "    </tr>\n",
       "    <tr>\n",
       "      <th>22586</th>\n",
       "      <td>Britax Decathlon Convertible Car Seat, Tiffany</td>\n",
       "      <td>I researched a few different seats to put in o...</td>\n",
       "      <td>4</td>\n",
       "      <td>I researched a few different seats to put in o...</td>\n",
       "      <td>1</td>\n",
       "    </tr>\n",
       "    <tr>\n",
       "      <th>182089</th>\n",
       "      <td>Summer Infant Wide View Digital Color Video Mo...</td>\n",
       "      <td>I love this baby monitor.  I can compare this ...</td>\n",
       "      <td>5</td>\n",
       "      <td>I love this baby monitor  I can compare this o...</td>\n",
       "      <td>1</td>\n",
       "    </tr>\n",
       "    <tr>\n",
       "      <th>147996</th>\n",
       "      <td>Baby Jogger City Mini GT Double Stroller, Shad...</td>\n",
       "      <td>We are well pleased with this stroller, and I ...</td>\n",
       "      <td>4</td>\n",
       "      <td>We are well pleased with this stroller and I w...</td>\n",
       "      <td>1</td>\n",
       "    </tr>\n",
       "  </tbody>\n",
       "</table>\n",
       "</div>"
      ],
      "text/plain": [
       "                                                     name  \\\n",
       "80155   Simple Wishes Hands-Free Breastpump Bra, Pink,...   \n",
       "180646      Mamas &amp; Papas 2014 Urbo2 Stroller - Black   \n",
       "50315          P'Kolino Silly Soft Seating in Tias, Green   \n",
       "114796  Fisher-Price Cradle 'N Swing,  My Little Snuga...   \n",
       "133651                  Britax 2012 B-Agile Stroller, Red   \n",
       "100166  Infantino Wrap and Tie Baby Carrier, Black Blu...   \n",
       "168697  Graco FastAction Fold Jogger Click Connect Str...   \n",
       "147949  Baby Jogger City Mini GT Single Stroller, Shad...   \n",
       "137034         Graco Pack 'n Play Element Playard - Flint   \n",
       "52631   Evenflo X Sport Plus Convenience Stroller - Ch...   \n",
       "87017     Baby Einstein Around The World Discovery Center   \n",
       "140816         Diono RadianRXT Convertible Car Seat, Plum   \n",
       "97325   Freemie Hands-Free Concealable Breast Pump Col...   \n",
       "119182  Roan Rocco Classic Pram Stroller 2-in-1 with B...   \n",
       "66059        Evenflo 6 Pack Classic Glass Bottle, 4-Ounce   \n",
       "168081  Buttons Cloth Diaper Cover - One Size - 8 Colo...   \n",
       "165593  Ikea 36 Pcs Kalas Kids Plastic BPA Free Flatwa...   \n",
       "22586      Britax Decathlon Convertible Car Seat, Tiffany   \n",
       "182089  Summer Infant Wide View Digital Color Video Mo...   \n",
       "147996  Baby Jogger City Mini GT Double Stroller, Shad...   \n",
       "\n",
       "                                                   review  rating  \\\n",
       "80155   I just tried this hands free breastpump bra, a...       5   \n",
       "180646  After much research I purchased an Urbo2. It's...       4   \n",
       "50315   I've purchased both the P'Kolino Little Reader...       4   \n",
       "114796  My husband and I cannot state enough how much ...       5   \n",
       "133651  [I got this stroller for my daughter prior to ...       4   \n",
       "100166  I bought this carrier when my daughter was abo...       5   \n",
       "168697  Graco's FastAction Jogging Stroller definitely...       5   \n",
       "147949  Amazing, Love, Love, Love it !!! All 5 STARS a...       5   \n",
       "137034  My husband and I assembled this Pack n' Play l...       4   \n",
       "52631   After seeing this in Parent's Magazine and rea...       5   \n",
       "87017   I am so HAPPY I brought this item for my 7 mon...       5   \n",
       "140816  I bought this seat for my tall (38in) and thin...       5   \n",
       "97325   I absolutely love this product.  I work as a C...       5   \n",
       "119182  Great Pram Rocco!!!!!!I bought this pram from ...       5   \n",
       "66059   It's always fun to write a review on those pro...       5   \n",
       "168081  We are big Best Bottoms fans here, but I wante...       4   \n",
       "165593  For the price this set is unbelievable- and tr...       5   \n",
       "22586   I researched a few different seats to put in o...       4   \n",
       "182089  I love this baby monitor.  I can compare this ...       5   \n",
       "147996  We are well pleased with this stroller, and I ...       4   \n",
       "\n",
       "                                             review_clean  sentiment  \n",
       "80155   I just tried this hands free breastpump bra an...          1  \n",
       "180646  After much research I purchased an Urbo2 Its e...          1  \n",
       "50315   Ive purchased both the PKolino Little Reader C...          1  \n",
       "114796  My husband and I cannot state enough how much ...          1  \n",
       "133651  I got this stroller for my daughter prior to t...          1  \n",
       "100166  I bought this carrier when my daughter was abo...          1  \n",
       "168697  Gracos FastAction Jogging Stroller definitely ...          1  \n",
       "147949  Amazing Love Love Love it  All 5 STARS all the...          1  \n",
       "137034  My husband and I assembled this Pack n Play la...          1  \n",
       "52631   After seeing this in Parents Magazine and read...          1  \n",
       "87017   I am so HAPPY I brought this item for my 7 mon...          1  \n",
       "140816  I bought this seat for my tall 38in and thin 2...          1  \n",
       "97325   I absolutely love this product  I work as a Cu...          1  \n",
       "119182  Great Pram RoccoI bought this pram from Europe...          1  \n",
       "66059   Its always fun to write a review on those prod...          1  \n",
       "168081  We are big Best Bottoms fans here but I wanted...          1  \n",
       "165593  For the price this set is unbelievable and tru...          1  \n",
       "22586   I researched a few different seats to put in o...          1  \n",
       "182089  I love this baby monitor  I can compare this o...          1  \n",
       "147996  We are well pleased with this stroller and I w...          1  "
      ]
     },
     "execution_count": 260,
     "metadata": {},
     "output_type": "execute_result"
    }
   ],
   "source": [
    "test_data.iloc[top20_positive]"
   ]
  },
  {
   "cell_type": "code",
   "execution_count": 256,
   "metadata": {},
   "outputs": [],
   "source": [
    "top20_negative = scores_test_prob.argsort()[:20]"
   ]
  },
  {
   "cell_type": "code",
   "execution_count": 266,
   "metadata": {},
   "outputs": [
    {
     "data": {
      "text/plain": [
       "array([9.08317913e-16, 1.94209990e-15, 7.66737346e-14, 1.43149111e-13,\n",
       "       1.81556052e-13, 4.62631205e-13, 3.40619596e-11, 4.07309421e-11,\n",
       "       9.43925918e-11, 1.12050143e-10, 4.21305023e-10, 4.76896283e-10,\n",
       "       6.51348958e-10, 6.59023885e-10, 7.01273287e-10, 7.88538826e-10,\n",
       "       8.57785868e-10, 1.09127223e-09, 1.62447457e-09, 1.63473356e-09])"
      ]
     },
     "execution_count": 266,
     "metadata": {},
     "output_type": "execute_result"
    }
   ],
   "source": [
    "top20_negative_scores = scores_test_prob[top20_negative]\n",
    "top20_negative_scores"
   ]
  },
  {
   "cell_type": "code",
   "execution_count": 257,
   "metadata": {},
   "outputs": [
    {
     "data": {
      "text/html": [
       "<div>\n",
       "<style scoped>\n",
       "    .dataframe tbody tr th:only-of-type {\n",
       "        vertical-align: middle;\n",
       "    }\n",
       "\n",
       "    .dataframe tbody tr th {\n",
       "        vertical-align: top;\n",
       "    }\n",
       "\n",
       "    .dataframe thead th {\n",
       "        text-align: right;\n",
       "    }\n",
       "</style>\n",
       "<table border=\"1\" class=\"dataframe\">\n",
       "  <thead>\n",
       "    <tr style=\"text-align: right;\">\n",
       "      <th></th>\n",
       "      <th>name</th>\n",
       "      <th>review</th>\n",
       "      <th>rating</th>\n",
       "      <th>review_clean</th>\n",
       "      <th>sentiment</th>\n",
       "    </tr>\n",
       "  </thead>\n",
       "  <tbody>\n",
       "    <tr>\n",
       "      <th>16042</th>\n",
       "      <td>Fisher-Price Ocean Wonders Aquarium Bouncer</td>\n",
       "      <td>We have not had ANY luck with Fisher-Price pro...</td>\n",
       "      <td>2</td>\n",
       "      <td>We have not had ANY luck with FisherPrice prod...</td>\n",
       "      <td>-1</td>\n",
       "    </tr>\n",
       "    <tr>\n",
       "      <th>120209</th>\n",
       "      <td>Levana Safe N'See Digital Video Baby Monitor w...</td>\n",
       "      <td>This is the first review I have ever written o...</td>\n",
       "      <td>1</td>\n",
       "      <td>This is the first review I have ever written o...</td>\n",
       "      <td>-1</td>\n",
       "    </tr>\n",
       "    <tr>\n",
       "      <th>77072</th>\n",
       "      <td>Safety 1st Exchangeable Tip 3 in 1 Thermometer</td>\n",
       "      <td>I thought it sounded great to have different t...</td>\n",
       "      <td>1</td>\n",
       "      <td>I thought it sounded great to have different t...</td>\n",
       "      <td>-1</td>\n",
       "    </tr>\n",
       "    <tr>\n",
       "      <th>48694</th>\n",
       "      <td>Adiri BPA Free Natural Nurser Ultimate Bottle ...</td>\n",
       "      <td>I will try to write an objective review of the...</td>\n",
       "      <td>2</td>\n",
       "      <td>I will try to write an objective review of the...</td>\n",
       "      <td>-1</td>\n",
       "    </tr>\n",
       "    <tr>\n",
       "      <th>155287</th>\n",
       "      <td>VTech Communications Safe &amp;amp; Sounds Full Co...</td>\n",
       "      <td>This is my second video monitoring system, the...</td>\n",
       "      <td>1</td>\n",
       "      <td>This is my second video monitoring system the ...</td>\n",
       "      <td>-1</td>\n",
       "    </tr>\n",
       "    <tr>\n",
       "      <th>94560</th>\n",
       "      <td>The First Years True Choice P400 Premium Digit...</td>\n",
       "      <td>Note: we never installed batteries in these un...</td>\n",
       "      <td>1</td>\n",
       "      <td>Note we never installed batteries in these uni...</td>\n",
       "      <td>-1</td>\n",
       "    </tr>\n",
       "    <tr>\n",
       "      <th>53207</th>\n",
       "      <td>Safety 1st High-Def Digital Monitor</td>\n",
       "      <td>We bought this baby monitor to replace a diffe...</td>\n",
       "      <td>1</td>\n",
       "      <td>We bought this baby monitor to replace a diffe...</td>\n",
       "      <td>-1</td>\n",
       "    </tr>\n",
       "    <tr>\n",
       "      <th>81332</th>\n",
       "      <td>Cloth Diaper Sprayer--styles may vary</td>\n",
       "      <td>I bought this sprayer out of desperation durin...</td>\n",
       "      <td>1</td>\n",
       "      <td>I bought this sprayer out of desperation durin...</td>\n",
       "      <td>-1</td>\n",
       "    </tr>\n",
       "    <tr>\n",
       "      <th>113995</th>\n",
       "      <td>Motorola Digital Video Baby Monitor with Room ...</td>\n",
       "      <td>DO NOT BUY THIS BABY MONITOR!I purchased this ...</td>\n",
       "      <td>1</td>\n",
       "      <td>DO NOT BUY THIS BABY MONITORI purchased this m...</td>\n",
       "      <td>-1</td>\n",
       "    </tr>\n",
       "    <tr>\n",
       "      <th>10677</th>\n",
       "      <td>Philips AVENT Newborn Starter Set</td>\n",
       "      <td>It's 3am in the morning and needless to say, t...</td>\n",
       "      <td>1</td>\n",
       "      <td>Its 3am in the morning and needless to say thi...</td>\n",
       "      <td>-1</td>\n",
       "    </tr>\n",
       "    <tr>\n",
       "      <th>9915</th>\n",
       "      <td>Cosco Alpha Omega Elite Convertible Car Seat</td>\n",
       "      <td>I bought this car seat after both seeing  the ...</td>\n",
       "      <td>1</td>\n",
       "      <td>I bought this car seat after both seeing  the ...</td>\n",
       "      <td>-1</td>\n",
       "    </tr>\n",
       "    <tr>\n",
       "      <th>59546</th>\n",
       "      <td>Ellaroo Mei Tai Baby Carrier - Hershey</td>\n",
       "      <td>This is basically an overpriced piece of fabri...</td>\n",
       "      <td>1</td>\n",
       "      <td>This is basically an overpriced piece of fabri...</td>\n",
       "      <td>-1</td>\n",
       "    </tr>\n",
       "    <tr>\n",
       "      <th>172090</th>\n",
       "      <td>Belkin WeMo Wi-Fi Baby Monitor for Apple iPhon...</td>\n",
       "      <td>I read so many reviews saying the Belkin WiFi ...</td>\n",
       "      <td>2</td>\n",
       "      <td>I read so many reviews saying the Belkin WiFi ...</td>\n",
       "      <td>-1</td>\n",
       "    </tr>\n",
       "    <tr>\n",
       "      <th>75994</th>\n",
       "      <td>Peg-Perego Tatamia High Chair, White Latte</td>\n",
       "      <td>I can see why there are so many good reviews o...</td>\n",
       "      <td>2</td>\n",
       "      <td>I can see why there are so many good reviews o...</td>\n",
       "      <td>-1</td>\n",
       "    </tr>\n",
       "    <tr>\n",
       "      <th>40079</th>\n",
       "      <td>Chicco Cortina KeyFit 30 Travel System in Adve...</td>\n",
       "      <td>My wife and I have used this system in two car...</td>\n",
       "      <td>1</td>\n",
       "      <td>My wife and I have used this system in two car...</td>\n",
       "      <td>-1</td>\n",
       "    </tr>\n",
       "    <tr>\n",
       "      <th>149987</th>\n",
       "      <td>NUK Cook-n-Blend Baby Food Maker</td>\n",
       "      <td>It thought this would be great. I did a lot of...</td>\n",
       "      <td>1</td>\n",
       "      <td>It thought this would be great I did a lot of ...</td>\n",
       "      <td>-1</td>\n",
       "    </tr>\n",
       "    <tr>\n",
       "      <th>154878</th>\n",
       "      <td>VTech Communications Safe &amp;amp; Sound Digital ...</td>\n",
       "      <td>First, the distance on these are no more than ...</td>\n",
       "      <td>1</td>\n",
       "      <td>First the distance on these are no more than 7...</td>\n",
       "      <td>-1</td>\n",
       "    </tr>\n",
       "    <tr>\n",
       "      <th>1116</th>\n",
       "      <td>Safety 1st Deluxe 4-in-1 Bath Station</td>\n",
       "      <td>This item is junk.  I originally chose it beca...</td>\n",
       "      <td>1</td>\n",
       "      <td>This item is junk  I originally chose it becau...</td>\n",
       "      <td>-1</td>\n",
       "    </tr>\n",
       "    <tr>\n",
       "      <th>83234</th>\n",
       "      <td>Thirsties Hemp Inserts 2 Pack, Small 6-18 Lbs</td>\n",
       "      <td>My Experience: Babykicks Inserts failure vs RA...</td>\n",
       "      <td>5</td>\n",
       "      <td>My Experience Babykicks Inserts failure vs RAV...</td>\n",
       "      <td>1</td>\n",
       "    </tr>\n",
       "    <tr>\n",
       "      <th>31741</th>\n",
       "      <td>Regalo My Cot Portable Bed, Royal Blue</td>\n",
       "      <td>If I could give this product zero stars I woul...</td>\n",
       "      <td>1</td>\n",
       "      <td>If I could give this product zero stars I woul...</td>\n",
       "      <td>-1</td>\n",
       "    </tr>\n",
       "  </tbody>\n",
       "</table>\n",
       "</div>"
      ],
      "text/plain": [
       "                                                     name  \\\n",
       "16042         Fisher-Price Ocean Wonders Aquarium Bouncer   \n",
       "120209  Levana Safe N'See Digital Video Baby Monitor w...   \n",
       "77072      Safety 1st Exchangeable Tip 3 in 1 Thermometer   \n",
       "48694   Adiri BPA Free Natural Nurser Ultimate Bottle ...   \n",
       "155287  VTech Communications Safe &amp; Sounds Full Co...   \n",
       "94560   The First Years True Choice P400 Premium Digit...   \n",
       "53207                 Safety 1st High-Def Digital Monitor   \n",
       "81332               Cloth Diaper Sprayer--styles may vary   \n",
       "113995  Motorola Digital Video Baby Monitor with Room ...   \n",
       "10677                   Philips AVENT Newborn Starter Set   \n",
       "9915         Cosco Alpha Omega Elite Convertible Car Seat   \n",
       "59546              Ellaroo Mei Tai Baby Carrier - Hershey   \n",
       "172090  Belkin WeMo Wi-Fi Baby Monitor for Apple iPhon...   \n",
       "75994          Peg-Perego Tatamia High Chair, White Latte   \n",
       "40079   Chicco Cortina KeyFit 30 Travel System in Adve...   \n",
       "149987                   NUK Cook-n-Blend Baby Food Maker   \n",
       "154878  VTech Communications Safe &amp; Sound Digital ...   \n",
       "1116                Safety 1st Deluxe 4-in-1 Bath Station   \n",
       "83234       Thirsties Hemp Inserts 2 Pack, Small 6-18 Lbs   \n",
       "31741              Regalo My Cot Portable Bed, Royal Blue   \n",
       "\n",
       "                                                   review  rating  \\\n",
       "16042   We have not had ANY luck with Fisher-Price pro...       2   \n",
       "120209  This is the first review I have ever written o...       1   \n",
       "77072   I thought it sounded great to have different t...       1   \n",
       "48694   I will try to write an objective review of the...       2   \n",
       "155287  This is my second video monitoring system, the...       1   \n",
       "94560   Note: we never installed batteries in these un...       1   \n",
       "53207   We bought this baby monitor to replace a diffe...       1   \n",
       "81332   I bought this sprayer out of desperation durin...       1   \n",
       "113995  DO NOT BUY THIS BABY MONITOR!I purchased this ...       1   \n",
       "10677   It's 3am in the morning and needless to say, t...       1   \n",
       "9915    I bought this car seat after both seeing  the ...       1   \n",
       "59546   This is basically an overpriced piece of fabri...       1   \n",
       "172090  I read so many reviews saying the Belkin WiFi ...       2   \n",
       "75994   I can see why there are so many good reviews o...       2   \n",
       "40079   My wife and I have used this system in two car...       1   \n",
       "149987  It thought this would be great. I did a lot of...       1   \n",
       "154878  First, the distance on these are no more than ...       1   \n",
       "1116    This item is junk.  I originally chose it beca...       1   \n",
       "83234   My Experience: Babykicks Inserts failure vs RA...       5   \n",
       "31741   If I could give this product zero stars I woul...       1   \n",
       "\n",
       "                                             review_clean  sentiment  \n",
       "16042   We have not had ANY luck with FisherPrice prod...         -1  \n",
       "120209  This is the first review I have ever written o...         -1  \n",
       "77072   I thought it sounded great to have different t...         -1  \n",
       "48694   I will try to write an objective review of the...         -1  \n",
       "155287  This is my second video monitoring system the ...         -1  \n",
       "94560   Note we never installed batteries in these uni...         -1  \n",
       "53207   We bought this baby monitor to replace a diffe...         -1  \n",
       "81332   I bought this sprayer out of desperation durin...         -1  \n",
       "113995  DO NOT BUY THIS BABY MONITORI purchased this m...         -1  \n",
       "10677   Its 3am in the morning and needless to say thi...         -1  \n",
       "9915    I bought this car seat after both seeing  the ...         -1  \n",
       "59546   This is basically an overpriced piece of fabri...         -1  \n",
       "172090  I read so many reviews saying the Belkin WiFi ...         -1  \n",
       "75994   I can see why there are so many good reviews o...         -1  \n",
       "40079   My wife and I have used this system in two car...         -1  \n",
       "149987  It thought this would be great I did a lot of ...         -1  \n",
       "154878  First the distance on these are no more than 7...         -1  \n",
       "1116    This item is junk  I originally chose it becau...         -1  \n",
       "83234   My Experience Babykicks Inserts failure vs RAV...          1  \n",
       "31741   If I could give this product zero stars I woul...         -1  "
      ]
     },
     "execution_count": 257,
     "metadata": {},
     "output_type": "execute_result"
    }
   ],
   "source": [
    "test_data.iloc[top20_negative]"
   ]
  },
  {
   "cell_type": "markdown",
   "metadata": {},
   "source": [
    "### Compute accuracy of the classifier\n"
   ]
  },
  {
   "cell_type": "markdown",
   "metadata": {},
   "source": [
    "### Quiz Question: What is the accuracy of the sentiment_model on the test_data? Round your answer to 2 decimal places (e.g. 0.76)."
   ]
  },
  {
   "cell_type": "code",
   "execution_count": 276,
   "metadata": {
    "collapsed": true
   },
   "outputs": [],
   "source": [
    "predicted_sentiment_test = predict_wo_prob_arr(scores_test)"
   ]
  },
  {
   "cell_type": "code",
   "execution_count": 278,
   "metadata": {},
   "outputs": [],
   "source": [
    "corrected_classified_examples = (predicted_sentiment_test == test_data['sentiment']).sum()"
   ]
  },
  {
   "cell_type": "code",
   "execution_count": 281,
   "metadata": {},
   "outputs": [
    {
     "name": "stdout",
     "output_type": "stream",
     "text": [
      "0.93\n"
     ]
    }
   ],
   "source": [
    "accuracy = corrected_classified_examples / len(test_data)\n",
    "print (\"%.2f\" % accuracy)"
   ]
  },
  {
   "cell_type": "markdown",
   "metadata": {},
   "source": [
    "training data accuracy"
   ]
  },
  {
   "cell_type": "code",
   "execution_count": 283,
   "metadata": {},
   "outputs": [],
   "source": [
    "scores_train = sentiment_model.decision_function(train_matrix)"
   ]
  },
  {
   "cell_type": "code",
   "execution_count": 284,
   "metadata": {},
   "outputs": [],
   "source": [
    "predicted_sentiment_train = predict_wo_prob_arr(scores_train)"
   ]
  },
  {
   "cell_type": "code",
   "execution_count": 288,
   "metadata": {},
   "outputs": [],
   "source": [
    "accuracy_train = (predicted_sentiment_train == train_data['sentiment']).sum() / len(train_data)"
   ]
  },
  {
   "cell_type": "code",
   "execution_count": 289,
   "metadata": {},
   "outputs": [
    {
     "name": "stdout",
     "output_type": "stream",
     "text": [
      "Train accuracy: 0.97\n"
     ]
    }
   ],
   "source": [
    "print (\"Train accuracy: %.2f\" % accuracy_train)"
   ]
  },
  {
   "cell_type": "markdown",
   "metadata": {},
   "source": [
    "### Learn another classifier with fewer words"
   ]
  },
  {
   "cell_type": "code",
   "execution_count": 290,
   "metadata": {},
   "outputs": [],
   "source": [
    "significant_words = ['love', 'great', 'easy', 'old', 'little', 'perfect', 'loves', \n",
    "      'well', 'able', 'car', 'broke', 'less', 'even', 'waste', 'disappointed', \n",
    "      'work', 'product', 'money', 'would', 'return']"
   ]
  },
  {
   "cell_type": "code",
   "execution_count": 291,
   "metadata": {},
   "outputs": [],
   "source": [
    "vectorizer_word_subset = CountVectorizer(vocabulary=significant_words)"
   ]
  },
  {
   "cell_type": "code",
   "execution_count": 292,
   "metadata": {},
   "outputs": [],
   "source": [
    "train_matrix_word_subset = vectorizer_word_subset.fit_transform(\n",
    "    train_data['review_clean']\n",
    ")"
   ]
  },
  {
   "cell_type": "code",
   "execution_count": 293,
   "metadata": {},
   "outputs": [],
   "source": [
    "test_matrix_word_subset = vectorizer_word_subset.transform(\n",
    "    test_data['review_clean']\n",
    ")"
   ]
  },
  {
   "cell_type": "markdown",
   "metadata": {},
   "source": [
    "### Train a logistic regression model on a subset of data"
   ]
  },
  {
   "cell_type": "code",
   "execution_count": 294,
   "metadata": {},
   "outputs": [],
   "source": [
    "simple_model = LogisticRegression()"
   ]
  },
  {
   "cell_type": "code",
   "execution_count": 295,
   "metadata": {},
   "outputs": [
    {
     "name": "stderr",
     "output_type": "stream",
     "text": [
      "/Users/tdx/anaconda2/envs/ds-env/lib/python3.7/site-packages/sklearn/linear_model/logistic.py:432: FutureWarning: Default solver will be changed to 'lbfgs' in 0.22. Specify a solver to silence this warning.\n",
      "  FutureWarning)\n"
     ]
    },
    {
     "data": {
      "text/plain": [
       "LogisticRegression(C=1.0, class_weight=None, dual=False, fit_intercept=True,\n",
       "                   intercept_scaling=1, l1_ratio=None, max_iter=100,\n",
       "                   multi_class='warn', n_jobs=None, penalty='l2',\n",
       "                   random_state=None, solver='warn', tol=0.0001, verbose=0,\n",
       "                   warm_start=False)"
      ]
     },
     "execution_count": 295,
     "metadata": {},
     "output_type": "execute_result"
    }
   ],
   "source": [
    "simple_model.fit(train_matrix_word_subset, train_data['sentiment'])"
   ]
  },
  {
   "cell_type": "code",
   "execution_count": 298,
   "metadata": {},
   "outputs": [],
   "source": [
    "simple_model_coef_table = pd.DataFrame({\n",
    "    'word': significant_words,\n",
    "    'coefficient': simple_model.coef_.flatten()\n",
    "})"
   ]
  },
  {
   "cell_type": "code",
   "execution_count": 302,
   "metadata": {},
   "outputs": [
    {
     "data": {
      "text/html": [
       "<div>\n",
       "<style scoped>\n",
       "    .dataframe tbody tr th:only-of-type {\n",
       "        vertical-align: middle;\n",
       "    }\n",
       "\n",
       "    .dataframe tbody tr th {\n",
       "        vertical-align: top;\n",
       "    }\n",
       "\n",
       "    .dataframe thead th {\n",
       "        text-align: right;\n",
       "    }\n",
       "</style>\n",
       "<table border=\"1\" class=\"dataframe\">\n",
       "  <thead>\n",
       "    <tr style=\"text-align: right;\">\n",
       "      <th></th>\n",
       "      <th>word</th>\n",
       "      <th>coefficient</th>\n",
       "    </tr>\n",
       "  </thead>\n",
       "  <tbody>\n",
       "    <tr>\n",
       "      <th>6</th>\n",
       "      <td>loves</td>\n",
       "      <td>1.673074</td>\n",
       "    </tr>\n",
       "    <tr>\n",
       "      <th>5</th>\n",
       "      <td>perfect</td>\n",
       "      <td>1.509812</td>\n",
       "    </tr>\n",
       "    <tr>\n",
       "      <th>0</th>\n",
       "      <td>love</td>\n",
       "      <td>1.363690</td>\n",
       "    </tr>\n",
       "    <tr>\n",
       "      <th>2</th>\n",
       "      <td>easy</td>\n",
       "      <td>1.192538</td>\n",
       "    </tr>\n",
       "    <tr>\n",
       "      <th>1</th>\n",
       "      <td>great</td>\n",
       "      <td>0.944000</td>\n",
       "    </tr>\n",
       "    <tr>\n",
       "      <th>4</th>\n",
       "      <td>little</td>\n",
       "      <td>0.520186</td>\n",
       "    </tr>\n",
       "    <tr>\n",
       "      <th>7</th>\n",
       "      <td>well</td>\n",
       "      <td>0.503760</td>\n",
       "    </tr>\n",
       "    <tr>\n",
       "      <th>8</th>\n",
       "      <td>able</td>\n",
       "      <td>0.190909</td>\n",
       "    </tr>\n",
       "    <tr>\n",
       "      <th>3</th>\n",
       "      <td>old</td>\n",
       "      <td>0.085513</td>\n",
       "    </tr>\n",
       "    <tr>\n",
       "      <th>9</th>\n",
       "      <td>car</td>\n",
       "      <td>0.058855</td>\n",
       "    </tr>\n",
       "    <tr>\n",
       "      <th>11</th>\n",
       "      <td>less</td>\n",
       "      <td>-0.209563</td>\n",
       "    </tr>\n",
       "    <tr>\n",
       "      <th>16</th>\n",
       "      <td>product</td>\n",
       "      <td>-0.320556</td>\n",
       "    </tr>\n",
       "    <tr>\n",
       "      <th>18</th>\n",
       "      <td>would</td>\n",
       "      <td>-0.362167</td>\n",
       "    </tr>\n",
       "    <tr>\n",
       "      <th>12</th>\n",
       "      <td>even</td>\n",
       "      <td>-0.511380</td>\n",
       "    </tr>\n",
       "    <tr>\n",
       "      <th>15</th>\n",
       "      <td>work</td>\n",
       "      <td>-0.621169</td>\n",
       "    </tr>\n",
       "    <tr>\n",
       "      <th>17</th>\n",
       "      <td>money</td>\n",
       "      <td>-0.898031</td>\n",
       "    </tr>\n",
       "    <tr>\n",
       "      <th>10</th>\n",
       "      <td>broke</td>\n",
       "      <td>-1.651576</td>\n",
       "    </tr>\n",
       "    <tr>\n",
       "      <th>13</th>\n",
       "      <td>waste</td>\n",
       "      <td>-2.033699</td>\n",
       "    </tr>\n",
       "    <tr>\n",
       "      <th>19</th>\n",
       "      <td>return</td>\n",
       "      <td>-2.109331</td>\n",
       "    </tr>\n",
       "    <tr>\n",
       "      <th>14</th>\n",
       "      <td>disappointed</td>\n",
       "      <td>-2.348298</td>\n",
       "    </tr>\n",
       "  </tbody>\n",
       "</table>\n",
       "</div>"
      ],
      "text/plain": [
       "            word  coefficient\n",
       "6          loves     1.673074\n",
       "5        perfect     1.509812\n",
       "0           love     1.363690\n",
       "2           easy     1.192538\n",
       "1          great     0.944000\n",
       "4         little     0.520186\n",
       "7           well     0.503760\n",
       "8           able     0.190909\n",
       "3            old     0.085513\n",
       "9            car     0.058855\n",
       "11          less    -0.209563\n",
       "16       product    -0.320556\n",
       "18         would    -0.362167\n",
       "12          even    -0.511380\n",
       "15          work    -0.621169\n",
       "17         money    -0.898031\n",
       "10         broke    -1.651576\n",
       "13         waste    -2.033699\n",
       "19        return    -2.109331\n",
       "14  disappointed    -2.348298"
      ]
     },
     "execution_count": 302,
     "metadata": {},
     "output_type": "execute_result"
    }
   ],
   "source": [
    "simple_model_coef_table.sort_values(['coefficient'], ascending=False)"
   ]
  },
  {
   "cell_type": "markdown",
   "metadata": {},
   "source": [
    "### Quiz Question: Consider the coefficients of simple_model. How many of the 20 coefficients (corresponding to the 20 significant_words) are positive for the simple_model?"
   ]
  },
  {
   "cell_type": "code",
   "execution_count": 310,
   "metadata": {},
   "outputs": [
    {
     "data": {
      "text/html": [
       "<div>\n",
       "<style scoped>\n",
       "    .dataframe tbody tr th:only-of-type {\n",
       "        vertical-align: middle;\n",
       "    }\n",
       "\n",
       "    .dataframe tbody tr th {\n",
       "        vertical-align: top;\n",
       "    }\n",
       "\n",
       "    .dataframe thead th {\n",
       "        text-align: right;\n",
       "    }\n",
       "</style>\n",
       "<table border=\"1\" class=\"dataframe\">\n",
       "  <thead>\n",
       "    <tr style=\"text-align: right;\">\n",
       "      <th></th>\n",
       "      <th>word</th>\n",
       "      <th>coefficient</th>\n",
       "    </tr>\n",
       "  </thead>\n",
       "  <tbody>\n",
       "    <tr>\n",
       "      <th>0</th>\n",
       "      <td>love</td>\n",
       "      <td>1.363690</td>\n",
       "    </tr>\n",
       "    <tr>\n",
       "      <th>1</th>\n",
       "      <td>great</td>\n",
       "      <td>0.944000</td>\n",
       "    </tr>\n",
       "    <tr>\n",
       "      <th>2</th>\n",
       "      <td>easy</td>\n",
       "      <td>1.192538</td>\n",
       "    </tr>\n",
       "    <tr>\n",
       "      <th>3</th>\n",
       "      <td>old</td>\n",
       "      <td>0.085513</td>\n",
       "    </tr>\n",
       "    <tr>\n",
       "      <th>4</th>\n",
       "      <td>little</td>\n",
       "      <td>0.520186</td>\n",
       "    </tr>\n",
       "    <tr>\n",
       "      <th>5</th>\n",
       "      <td>perfect</td>\n",
       "      <td>1.509812</td>\n",
       "    </tr>\n",
       "    <tr>\n",
       "      <th>6</th>\n",
       "      <td>loves</td>\n",
       "      <td>1.673074</td>\n",
       "    </tr>\n",
       "    <tr>\n",
       "      <th>7</th>\n",
       "      <td>well</td>\n",
       "      <td>0.503760</td>\n",
       "    </tr>\n",
       "    <tr>\n",
       "      <th>8</th>\n",
       "      <td>able</td>\n",
       "      <td>0.190909</td>\n",
       "    </tr>\n",
       "    <tr>\n",
       "      <th>9</th>\n",
       "      <td>car</td>\n",
       "      <td>0.058855</td>\n",
       "    </tr>\n",
       "  </tbody>\n",
       "</table>\n",
       "</div>"
      ],
      "text/plain": [
       "      word  coefficient\n",
       "0     love     1.363690\n",
       "1    great     0.944000\n",
       "2     easy     1.192538\n",
       "3      old     0.085513\n",
       "4   little     0.520186\n",
       "5  perfect     1.509812\n",
       "6    loves     1.673074\n",
       "7     well     0.503760\n",
       "8     able     0.190909\n",
       "9      car     0.058855"
      ]
     },
     "execution_count": 310,
     "metadata": {},
     "output_type": "execute_result"
    }
   ],
   "source": [
    "positive_words = simple_model_coef_table[simple_model_coef_table['coefficient'] > 0]\n",
    "positive_words"
   ]
  },
  {
   "cell_type": "code",
   "execution_count": 311,
   "metadata": {},
   "outputs": [
    {
     "data": {
      "text/plain": [
       "10"
      ]
     },
     "execution_count": 311,
     "metadata": {},
     "output_type": "execute_result"
    }
   ],
   "source": [
    "len(positive_words)"
   ]
  },
  {
   "cell_type": "markdown",
   "metadata": {},
   "source": [
    "### Quiz Question: Are the positive words in the simple_model also positive words in the sentiment_model"
   ]
  },
  {
   "cell_type": "code",
   "execution_count": 387,
   "metadata": {},
   "outputs": [
    {
     "data": {
      "text/plain": [
       "['0',\n",
       " '00',\n",
       " '000',\n",
       " '0001',\n",
       " '001',\n",
       " '001cm',\n",
       " '002',\n",
       " '01',\n",
       " '010',\n",
       " '010204',\n",
       " '0104',\n",
       " '010613do',\n",
       " '01082013',\n",
       " '012',\n",
       " '012010',\n",
       " '012013',\n",
       " '01202012',\n",
       " '01252013',\n",
       " '01302012my',\n",
       " '01312009',\n",
       " '015a',\n",
       " '017',\n",
       " '0182196',\n",
       " '02',\n",
       " '020',\n",
       " '02000z',\n",
       " '02060',\n",
       " '0207',\n",
       " '02072',\n",
       " '02090',\n",
       " '020902nd',\n",
       " '0209a',\n",
       " '021',\n",
       " '02100',\n",
       " '02100a10search',\n",
       " '0210a',\n",
       " '02172014after',\n",
       " '02180',\n",
       " '021meal',\n",
       " '02220',\n",
       " '024',\n",
       " '025',\n",
       " '02534',\n",
       " '02640a',\n",
       " '02644',\n",
       " '02700',\n",
       " '02720',\n",
       " '03',\n",
       " '030611fantastic',\n",
       " '0311',\n",
       " '032010',\n",
       " '03212014',\n",
       " '034',\n",
       " '036',\n",
       " '03lbs',\n",
       " '03mo',\n",
       " '03mo36mo612mo',\n",
       " '03months',\n",
       " '03mos',\n",
       " '03mosbut',\n",
       " '04',\n",
       " '0409',\n",
       " '0427',\n",
       " '04302013',\n",
       " '046060us',\n",
       " '05',\n",
       " '050',\n",
       " '052',\n",
       " '05202013',\n",
       " '05my',\n",
       " '06',\n",
       " '0635',\n",
       " '065',\n",
       " '06a',\n",
       " '06mfor',\n",
       " '06mo',\n",
       " '06mosit',\n",
       " '06mths',\n",
       " '07',\n",
       " '07122011by',\n",
       " '07182013',\n",
       " '072012',\n",
       " '073',\n",
       " '075',\n",
       " '075long',\n",
       " '08',\n",
       " '0804',\n",
       " '080412',\n",
       " '080710',\n",
       " '08120firms',\n",
       " '0813',\n",
       " '081713',\n",
       " '08280',\n",
       " '08all',\n",
       " '08while',\n",
       " '09',\n",
       " '09082009',\n",
       " '09092011',\n",
       " '09202013our',\n",
       " '09282012',\n",
       " '093',\n",
       " '093010c',\n",
       " '099',\n",
       " '09mos',\n",
       " '0fast',\n",
       " '0good',\n",
       " '0i',\n",
       " '0m',\n",
       " '0ne',\n",
       " '0prosneutrals',\n",
       " '0r',\n",
       " '0star',\n",
       " '0the',\n",
       " '0these',\n",
       " '0up',\n",
       " '0ver',\n",
       " '0z',\n",
       " '1',\n",
       " '10',\n",
       " '100',\n",
       " '1000',\n",
       " '10000',\n",
       " '100000',\n",
       " '10000000',\n",
       " '1000000000000',\n",
       " '100000importerdistributor',\n",
       " '10000cons',\n",
       " '10000would',\n",
       " '1000ma',\n",
       " '1000s',\n",
       " '1000x',\n",
       " '1001',\n",
       " '10010',\n",
       " '100101',\n",
       " '100112',\n",
       " '100113i',\n",
       " '100130',\n",
       " '100150',\n",
       " '10015000',\n",
       " '1002',\n",
       " '100200',\n",
       " '100240v',\n",
       " '1003',\n",
       " '100300',\n",
       " '10034',\n",
       " '1004',\n",
       " '1005',\n",
       " '1006',\n",
       " '1007',\n",
       " '1008',\n",
       " '10084650391008465039100846503910084650391008465039',\n",
       " '100cotton',\n",
       " '100ctthis',\n",
       " '100degree',\n",
       " '100f',\n",
       " '100feet',\n",
       " '100ft',\n",
       " '100httpwwwamazoncomhosad5s6deoxitcontactcleanerdpb00006lveurefsr11ieutf8qid1370027586sr81keywordsdeoxit',\n",
       " '100i',\n",
       " '100lb',\n",
       " '100lbs',\n",
       " '100lbsfiguring',\n",
       " '100lbsmy',\n",
       " '100lbsprior',\n",
       " '100lbswill',\n",
       " '100mb',\n",
       " '100miles',\n",
       " '100ml',\n",
       " '100mph',\n",
       " '100muy',\n",
       " '100next',\n",
       " '100no',\n",
       " '100oz',\n",
       " '100practicosin',\n",
       " '100roll',\n",
       " '100s',\n",
       " '100satisfied',\n",
       " '100some',\n",
       " '100th',\n",
       " '100thank',\n",
       " '100the',\n",
       " '100tile',\n",
       " '100we',\n",
       " '100x',\n",
       " '100yearold',\n",
       " '101',\n",
       " '1010',\n",
       " '1011',\n",
       " '101112',\n",
       " '10112012i',\n",
       " '1012',\n",
       " '1012011',\n",
       " '1013',\n",
       " '101308',\n",
       " '1014',\n",
       " '10142010',\n",
       " '1015',\n",
       " '1015lbs',\n",
       " '1015minutes',\n",
       " '1016',\n",
       " '1017',\n",
       " '101711',\n",
       " '1018',\n",
       " '101813',\n",
       " '10182012',\n",
       " '1018this',\n",
       " '101910',\n",
       " '1019am',\n",
       " '101f',\n",
       " '102',\n",
       " '1020',\n",
       " '102011',\n",
       " '102012',\n",
       " '1020ish',\n",
       " '102108',\n",
       " '1022012its',\n",
       " '1022013',\n",
       " '10222012i',\n",
       " '1022lb',\n",
       " '1022lbs',\n",
       " '1024',\n",
       " '102413',\n",
       " '10242012',\n",
       " '1024am',\n",
       " '1025',\n",
       " '1026',\n",
       " '1027',\n",
       " '102708',\n",
       " '1028',\n",
       " '102805',\n",
       " '102degrees',\n",
       " '103',\n",
       " '1030',\n",
       " '103108',\n",
       " '10311well',\n",
       " '1032',\n",
       " '10334',\n",
       " '1034',\n",
       " '1038',\n",
       " '103in',\n",
       " '104',\n",
       " '10411059104410591058',\n",
       " '1041108610831100109610801084',\n",
       " '1042',\n",
       " '104210401052',\n",
       " '1042104010641048',\n",
       " '104210891105',\n",
       " '1043',\n",
       " '10441045105810501048',\n",
       " '1044107210781077',\n",
       " '104410831103',\n",
       " '1045',\n",
       " '1045108910831080',\n",
       " '1045lbs',\n",
       " '1046',\n",
       " '1047104410541056105410421067',\n",
       " '1047107210841077109510721090107710831100108510721103',\n",
       " '1048',\n",
       " '1049',\n",
       " '105',\n",
       " '1050105410511071105710501040',\n",
       " '1052012we',\n",
       " '105210861080',\n",
       " '105210861089108210741077',\n",
       " '10521099',\n",
       " '10531077',\n",
       " '1053107710841085108610751086',\n",
       " '1053108010821086107510761072',\n",
       " '10531100110210491086108810821077',\n",
       " '1054',\n",
       " '10541085',\n",
       " '105410851080',\n",
       " '10541095107710851100',\n",
       " '1055',\n",
       " '1055105410521054104610451058',\n",
       " '105510861085110310901100',\n",
       " '10561086107610801090107710831080',\n",
       " '105710631040105710581051104810421067',\n",
       " '105installation',\n",
       " '105lbs',\n",
       " '105lbsthe',\n",
       " '105monthsold',\n",
       " '106',\n",
       " '106117',\n",
       " '1065',\n",
       " '106910581040',\n",
       " '107',\n",
       " '1070',\n",
       " '10709',\n",
       " '1071',\n",
       " '10713',\n",
       " '1072',\n",
       " '10721074109010861084107210901080109510771089108210801081',\n",
       " '1073107210731091109610821080',\n",
       " '10731072109010721088107710771082',\n",
       " '107310771075107210901100',\n",
       " '107310771079',\n",
       " '1073107710791084110310901077107810851086',\n",
       " '10731077108310991081',\n",
       " '107310801077108510801077',\n",
       " '10731086108311001096108010841080',\n",
       " '10731091107610801090',\n",
       " '107310991083',\n",
       " '1074',\n",
       " '10741072107810851086',\n",
       " '107410721096',\n",
       " '107410771083108610891080108710771076',\n",
       " '107410801076107710901100',\n",
       " '1074108510911082',\n",
       " '10741086',\n",
       " '107410861082108810911075',\n",
       " '107410861089108710881086108010791074108610761103109710801093',\n",
       " '107410861089109010861088107510861084',\n",
       " '10741088107710841103',\n",
       " '107410891077',\n",
       " '107410891077107510761072',\n",
       " '10741089107710751086',\n",
       " '107410891105',\n",
       " '10741099',\n",
       " '10741099107310861088',\n",
       " '10741099108210831102109510721077109010891103',\n",
       " '1075',\n",
       " '1075108310721079107210841080',\n",
       " '1075108610741086108810801090',\n",
       " '10751088108610841082108010841080',\n",
       " '10761072107410851099108410761072107410851086',\n",
       " '1076107710761091109610821080',\n",
       " '1076107710851100',\n",
       " '1076107710901080',\n",
       " '1076107710901089108210801081',\n",
       " '10761077109011031084',\n",
       " '107610831103',\n",
       " '10761086',\n",
       " '10761086107410861083110010851099',\n",
       " '107610861083107510861077',\n",
       " '107610861088108610751077',\n",
       " '107710751086',\n",
       " '1077107910761099',\n",
       " '107710841091',\n",
       " '1077108910901100',\n",
       " '107710971077',\n",
       " '10771105',\n",
       " '1078108010741091',\n",
       " '107910721084107710851099',\n",
       " '1079107410911082',\n",
       " '107910741091108210861074',\n",
       " '107910881077108510801103',\n",
       " '107910881103',\n",
       " '107lbs',\n",
       " '108',\n",
       " '1080',\n",
       " '108010751088107210771090',\n",
       " '1080107510881091109610821072',\n",
       " '10801079',\n",
       " '1080107910761077108310801080',\n",
       " '1080107910861073108810771090107210901100',\n",
       " '1080107910861073108810771090107710851071',\n",
       " '10801079108610831080108810861074107210901100',\n",
       " '108010831080',\n",
       " '10801084',\n",
       " '10801084107710831080',\n",
       " '108010841077108510851086',\n",
       " '1080108510901077108810771089',\n",
       " '108010891087108610831100107910861074107210901100',\n",
       " '1080108910871086108311001079109111021090',\n",
       " '1080108910891103108210721077109010551059105710581068',\n",
       " '1080p',\n",
       " '10812',\n",
       " '108210721082',\n",
       " '108210861083107710891072',\n",
       " '10821086108310991073107710831100108510721103',\n",
       " '1082108610831103108910821072',\n",
       " '1082108610831103108910821080',\n",
       " '1082108610831103108910821091',\n",
       " '1082108610841087107210821090108510991081',\n",
       " '1082108610851090107210821090',\n",
       " '10821086109010861088108610841091',\n",
       " '108210901086108510801073109110761100',\n",
       " '108210911087108010831072',\n",
       " '108310771090',\n",
       " '10831086107610821077',\n",
       " '108311021083110010821072',\n",
       " '108410721083109910961072',\n",
       " '1084107210841072',\n",
       " '10841072108410721088107710731077108510861082',\n",
       " '1084107210841077',\n",
       " '1084107210841086109510771082',\n",
       " '1084107210841099',\n",
       " '10841085108610751086',\n",
       " '108410861076107710831100',\n",
       " '10841086107610771083110310841080',\n",
       " '1084108610771081',\n",
       " '10841086107810851086',\n",
       " '108411031075108210801077',\n",
       " '10851072',\n",
       " '108510721089109010861103109710801081',\n",
       " '1085107210931086107610801083107210891100',\n",
       " '108510721095107210831080',\n",
       " '108510721096',\n",
       " '1085107210961080',\n",
       " '10851077',\n",
       " '108510771084',\n",
       " '10851077108810861074108510861089109010771081',\n",
       " '108510771089108210861083110010821086',\n",
       " '108510771090',\n",
       " '1085108010821072108210801093',\n",
       " '10851080108210901086',\n",
       " '10851086',\n",
       " '10851088107210741080109010891103',\n",
       " '10851091107810851086',\n",
       " '1086',\n",
       " '10861073110310791072109010771083110010851086',\n",
       " '108610821072107910721083108010891100',\n",
       " '10861082107710721085',\n",
       " '10861085',\n",
       " '108610851080',\n",
       " '10861089109010721077109010891103',\n",
       " '10861090',\n",
       " '1086109010841077108511031083',\n",
       " '10861095107710851100',\n",
       " '1087108310721074108510991084',\n",
       " '10871086',\n",
       " '10871086107610721088108010831072',\n",
       " '1087108610761086109610771083',\n",
       " '10871086107610931086107610801090',\n",
       " '1087108610831077',\n",
       " '108710861083110010791086107410721083108010891100',\n",
       " '10871086108910831077',\n",
       " '10871086108910901086108810861085108510801093',\n",
       " '10871086109510911074108910901074109110771090',\n",
       " '108710881077107810761077',\n",
       " '108710881077108010841091109710771089109010741072',\n",
       " '1087108810771080108410911097107710891090107410861084',\n",
       " '1087108810771082108810721089108510991077',\n",
       " '10871088108010741099108210831080',\n",
       " '10871088108010761077109010891103',\n",
       " '108710881080108610731088107710901077108510801103',\n",
       " '108710881080109511051084',\n",
       " '108710881086',\n",
       " '10871088108610761083110310771090',\n",
       " '1087108810861089109010861081',\n",
       " '1087108810861089109010861088108510721103',\n",
       " '108710881086109510831072',\n",
       " '10881072107310861090107210771090',\n",
       " '10881072107610861089109011001102',\n",
       " '108810721079108510991077',\n",
       " '108810721089108910821072107910991074107210901100',\n",
       " '1088107710731077108510821072105210851077',\n",
       " '108810771073107710851082107210531077',\n",
       " '108810771073107710851086109510771082',\n",
       " '1088107710731105108510861082',\n",
       " '108810771079108010851086107410991077',\n",
       " '10881077107910821086',\n",
       " '1088107710821077',\n",
       " '1088108610761076108610841077',\n",
       " '1088108610761080107410961080108110891103',\n",
       " '1088108610761080108310891103',\n",
       " '10881086107610801090107710831080',\n",
       " '10881091109510821072',\n",
       " '1089',\n",
       " '108910741086107710751086',\n",
       " '108910771088107610941072',\n",
       " '108910771089109010881099',\n",
       " '108910831077107610911102109710801081',\n",
       " '1089108310801096108210861084',\n",
       " '108910861085',\n",
       " '1089108710721083',\n",
       " '1089108710801090',\n",
       " '1089108710861082108610771085',\n",
       " '10891087108610891086107310851086108910901100',\n",
       " '1089108710881072109610801074107210771090',\n",
       " '108910991085',\n",
       " '108in',\n",
       " '108lbs',\n",
       " '109',\n",
       " '10900',\n",
       " '109010721081108410771088',\n",
       " '10901072108210781077',\n",
       " '109010721082108010841080',\n",
       " '10901076',\n",
       " '10901080109310861081',\n",
       " '109010801096108010851072',\n",
       " '10901086',\n",
       " '1090108610751086',\n",
       " '109010861083110010821086',\n",
       " '109010861084',\n",
       " '1091107410801076107710901100',\n",
       " '1091107610861073108510721103',\n",
       " '10911076108610731089109010741086',\n",
       " '109110781077',\n",
       " '10911083108010941077',\n",
       " '10911089108710861082107210801074107210901100',\n",
       " '109110891090108810861081108910901074',\n",
       " '1092',\n",
       " '109310861076',\n",
       " '109310861090108010901077',\n",
       " '1095',\n",
       " '109510901086',\n",
       " '10951090108610731099',\n",
       " '109610911084',\n",
       " '1096109110841099',\n",
       " '1099',\n",
       " '10999',\n",
       " '10after',\n",
       " '10am10pm',\n",
       " '10am6pm',\n",
       " '10day',\n",
       " '10dollar',\n",
       " '10even',\n",
       " '10feet',\n",
       " '10ft',\n",
       " '10g',\n",
       " '10gallon',\n",
       " '10great',\n",
       " '10hour',\n",
       " '10hours',\n",
       " '10hr',\n",
       " '10hrs',\n",
       " '10i',\n",
       " '10im',\n",
       " '10in',\n",
       " '10is',\n",
       " '10ish',\n",
       " '10its',\n",
       " '10k',\n",
       " '10kg',\n",
       " '10kgesto',\n",
       " '10lb',\n",
       " '10lbs',\n",
       " '10lbs35lbs',\n",
       " '10m',\n",
       " '10min',\n",
       " '10minmaybe',\n",
       " '10minonly',\n",
       " '10mins',\n",
       " '10minute',\n",
       " '10minutes',\n",
       " '10mm',\n",
       " '10mo',\n",
       " '10mold',\n",
       " '10month',\n",
       " '10monthold',\n",
       " '10montholds',\n",
       " '10months',\n",
       " '10monthsold',\n",
       " '10more',\n",
       " '10mos',\n",
       " '10mph',\n",
       " '10mthold',\n",
       " '10mths',\n",
       " '10net',\n",
       " '10ounce',\n",
       " '10oz',\n",
       " '10p',\n",
       " '10pack',\n",
       " '10packi',\n",
       " '10pc',\n",
       " '10pcs',\n",
       " '10pm',\n",
       " '10s',\n",
       " '10sec',\n",
       " '10specs',\n",
       " '10th',\n",
       " '10the',\n",
       " '10tubei',\n",
       " '10v',\n",
       " '10week',\n",
       " '10wks',\n",
       " '10x',\n",
       " '10x10',\n",
       " '10x12',\n",
       " '10xday',\n",
       " '10xs',\n",
       " '10year',\n",
       " '10yearold',\n",
       " '10yo',\n",
       " '10yr',\n",
       " '11',\n",
       " '110',\n",
       " '1100',\n",
       " '110110901072',\n",
       " '110110901086',\n",
       " '1101109010861084',\n",
       " '110110901091',\n",
       " '110115lb',\n",
       " '110120v',\n",
       " '110240v',\n",
       " '1103',\n",
       " '11031074108311031077109010891103',\n",
       " '11032012as',\n",
       " '1104',\n",
       " '110699',\n",
       " '1108',\n",
       " '1108811088110881108811088',\n",
       " '110f',\n",
       " '110lbs',\n",
       " '110s',\n",
       " '110th',\n",
       " '110v',\n",
       " '11100',\n",
       " '111109',\n",
       " '111113',\n",
       " '11112',\n",
       " '11115',\n",
       " '1112',\n",
       " '11121129',\n",
       " '11138',\n",
       " '1115',\n",
       " '11152012',\n",
       " '111612',\n",
       " '1117lbsalso',\n",
       " '1119pm',\n",
       " '112',\n",
       " '1120',\n",
       " '112009',\n",
       " '112011',\n",
       " '112011just',\n",
       " '112011our',\n",
       " '112013',\n",
       " '112013the',\n",
       " '112013well',\n",
       " '1122011',\n",
       " '11234',\n",
       " '1125',\n",
       " '112513',\n",
       " '1125i',\n",
       " '1127',\n",
       " '11272009',\n",
       " '1129',\n",
       " '112912',\n",
       " '112lb',\n",
       " '112lbs',\n",
       " '112ounce',\n",
       " '112yearold',\n",
       " '1130',\n",
       " '113012i',\n",
       " '11305',\n",
       " '1134',\n",
       " '1135',\n",
       " '114',\n",
       " '11413',\n",
       " '1142013as',\n",
       " '1145am',\n",
       " '115',\n",
       " '11511',\n",
       " '115125',\n",
       " '115126',\n",
       " '1152012my',\n",
       " '115hr',\n",
       " '115lbs',\n",
       " '115prosawesome',\n",
       " '116',\n",
       " '11600',\n",
       " '11614',\n",
       " '117',\n",
       " '11734',\n",
       " '1175',\n",
       " '117lbs',\n",
       " '117thats',\n",
       " '118',\n",
       " '119',\n",
       " '11900',\n",
       " '1199',\n",
       " '11995',\n",
       " '11999',\n",
       " '119lbs',\n",
       " '11am',\n",
       " '11hrs',\n",
       " '11inch653116531165311biger',\n",
       " '11k',\n",
       " '11l',\n",
       " '11lb',\n",
       " '11lbs',\n",
       " '11m',\n",
       " '11mo',\n",
       " '11mon',\n",
       " '11month',\n",
       " '11monthold',\n",
       " '11months',\n",
       " '11monthsold',\n",
       " '11mos',\n",
       " '11mth',\n",
       " '11oz',\n",
       " '11pm',\n",
       " '11pound',\n",
       " '11pounds',\n",
       " '11s',\n",
       " '11seat',\n",
       " '11th',\n",
       " '11th2006',\n",
       " '11thethe',\n",
       " '11thits',\n",
       " '11unfortunately',\n",
       " '11week',\n",
       " '11weekold',\n",
       " '11x11x11',\n",
       " '11x12',\n",
       " '11x14',\n",
       " '11year',\n",
       " '11yr',\n",
       " '11yrs',\n",
       " '12',\n",
       " '120',\n",
       " '1200',\n",
       " '12000',\n",
       " '120000',\n",
       " '1200sq',\n",
       " '12012',\n",
       " '120150',\n",
       " '120200',\n",
       " '120240',\n",
       " '12034',\n",
       " '120713',\n",
       " '12092013i',\n",
       " '120f',\n",
       " '120ish',\n",
       " '120lb',\n",
       " '120lbs',\n",
       " '120lbsmonths',\n",
       " '120ml4oz',\n",
       " '120pound',\n",
       " '120poundsheight',\n",
       " '120this',\n",
       " '120v',\n",
       " '121',\n",
       " '121013',\n",
       " '1211',\n",
       " '121105',\n",
       " '121109',\n",
       " '1212',\n",
       " '121210',\n",
       " '12122012',\n",
       " '12125',\n",
       " '1213',\n",
       " '121307',\n",
       " '12132012my',\n",
       " '1213lb',\n",
       " '1214',\n",
       " '121434',\n",
       " '1215',\n",
       " '1216',\n",
       " '121709she',\n",
       " '121712',\n",
       " '1218',\n",
       " '121812',\n",
       " '12182012this',\n",
       " '12182012weve',\n",
       " '1218lbs',\n",
       " '1218m',\n",
       " '1218mo',\n",
       " '1219',\n",
       " '121p',\n",
       " '122',\n",
       " '1220',\n",
       " '122010',\n",
       " '122012',\n",
       " '122012i',\n",
       " '122013',\n",
       " '12202012',\n",
       " '122109',\n",
       " '122110',\n",
       " '122113',\n",
       " '12213',\n",
       " '122204',\n",
       " '122310i',\n",
       " '1224',\n",
       " '1224mo',\n",
       " '1225th',\n",
       " '122703',\n",
       " '122710after',\n",
       " '1228',\n",
       " '12290',\n",
       " '1229012290122901229012290122901229012290122901229012290',\n",
       " '122903',\n",
       " '12290but',\n",
       " '122inch',\n",
       " '122lb',\n",
       " '123',\n",
       " '1230',\n",
       " '123013',\n",
       " '1230430',\n",
       " '123113i',\n",
       " '12312',\n",
       " '1232013',\n",
       " '1234',\n",
       " '1234x',\n",
       " '1234x1234',\n",
       " '1236',\n",
       " '123etc',\n",
       " '123or',\n",
       " '123our',\n",
       " '123s',\n",
       " '124',\n",
       " '12413',\n",
       " '1245am',\n",
       " '125',\n",
       " '12500',\n",
       " '12513',\n",
       " '1252010',\n",
       " '12534',\n",
       " '1255',\n",
       " '125cc',\n",
       " '125h',\n",
       " '125i',\n",
       " '125lb',\n",
       " '125x155',\n",
       " '126',\n",
       " '12600',\n",
       " '126v',\n",
       " '127',\n",
       " '1275',\n",
       " '127v',\n",
       " '128077',\n",
       " '128077128125128077',\n",
       " '128079128079128079',\n",
       " '128079128079128079128079128079',\n",
       " '1282014after',\n",
       " '128512',\n",
       " '128515',\n",
       " '128522',\n",
       " '128525128077128077',\n",
       " '128525128525128525128077128522128514i',\n",
       " '1288',\n",
       " '129',\n",
       " '12900',\n",
       " '129020lv',\n",
       " '12909this',\n",
       " '12912',\n",
       " '1292011in',\n",
       " '1295',\n",
       " '1298',\n",
       " '1299',\n",
       " '12999',\n",
       " '1299barnyard',\n",
       " '1299night',\n",
       " '1299tax',\n",
       " '12am6am',\n",
       " '12and',\n",
       " '12bs',\n",
       " '12cm',\n",
       " '12cup',\n",
       " '12day',\n",
       " '12deach',\n",
       " '12dstorage',\n",
       " '12ft',\n",
       " '12grams',\n",
       " '12h',\n",
       " '12height',\n",
       " '12hour',\n",
       " '12hr',\n",
       " '12hrs',\n",
       " '12in',\n",
       " '12inch',\n",
       " '12inches',\n",
       " '12ive',\n",
       " '12kg',\n",
       " '12lb',\n",
       " '12lbs',\n",
       " '12m',\n",
       " '12mo',\n",
       " '12mon',\n",
       " '12monce',\n",
       " '12month',\n",
       " '12monthold',\n",
       " '12months',\n",
       " '12mos',\n",
       " '12mosits',\n",
       " '12mowould',\n",
       " '12mths',\n",
       " '12o',\n",
       " '12overall',\n",
       " '12oz',\n",
       " '12pack',\n",
       " '12packs',\n",
       " '12panel',\n",
       " '12passenger',\n",
       " '12perfect',\n",
       " '12pm',\n",
       " '12potty',\n",
       " '12pound',\n",
       " '12quotx24quot',\n",
       " '12step',\n",
       " '12th',\n",
       " '12that',\n",
       " '12thats',\n",
       " '12the',\n",
       " '12thought',\n",
       " '12too',\n",
       " '12total',\n",
       " '12v',\n",
       " '12vdc',\n",
       " '12w',\n",
       " '12way',\n",
       " '12week',\n",
       " '12weekold',\n",
       " '12weeks',\n",
       " '12wheel',\n",
       " '12wk',\n",
       " '12wks',\n",
       " '12x',\n",
       " '12x1034',\n",
       " '12x12',\n",
       " '12x12in',\n",
       " '12x135',\n",
       " '12x14',\n",
       " '12x16',\n",
       " '12x48',\n",
       " '12x8',\n",
       " '12y',\n",
       " '12yearold',\n",
       " '12yearolds',\n",
       " '12years',\n",
       " '12yo',\n",
       " '12yr',\n",
       " '12yrs',\n",
       " '13',\n",
       " '130',\n",
       " '1300',\n",
       " '13000',\n",
       " '1300oz',\n",
       " '130140',\n",
       " '1302014',\n",
       " '130lb',\n",
       " '130lbs',\n",
       " '130pm',\n",
       " '131',\n",
       " '13103722976',\n",
       " '1312',\n",
       " '1314',\n",
       " '1314lbs',\n",
       " '1315min',\n",
       " '1317',\n",
       " '1318lb',\n",
       " '132',\n",
       " '1320',\n",
       " '1325',\n",
       " '133',\n",
       " '1330',\n",
       " '1334',\n",
       " '134',\n",
       " '1341',\n",
       " '134x134',\n",
       " '135',\n",
       " '13500',\n",
       " '13534',\n",
       " '1359',\n",
       " '135lbs',\n",
       " '136',\n",
       " '1360350',\n",
       " '137',\n",
       " '1376',\n",
       " '13777th',\n",
       " '138',\n",
       " '138lbs',\n",
       " '139',\n",
       " '1398',\n",
       " '1399',\n",
       " '13999',\n",
       " '1399buy',\n",
       " '1399im',\n",
       " '13g',\n",
       " '13gallon',\n",
       " '13in',\n",
       " '13ish',\n",
       " '13kg',\n",
       " '13lb',\n",
       " '13lbs',\n",
       " '13lbsergo',\n",
       " '13m',\n",
       " '13mo',\n",
       " '13mon',\n",
       " '13month',\n",
       " '13monthold',\n",
       " '13months',\n",
       " '13moold',\n",
       " '13mth',\n",
       " '13other',\n",
       " '13oz',\n",
       " '13pc',\n",
       " '13pcs',\n",
       " '13piece',\n",
       " '13rd',\n",
       " '13t',\n",
       " '13th',\n",
       " '13that',\n",
       " '13year',\n",
       " '13yearold',\n",
       " '13yr',\n",
       " '14',\n",
       " '140',\n",
       " '1400',\n",
       " '14000',\n",
       " '140165',\n",
       " '14034',\n",
       " '140f',\n",
       " '140lb',\n",
       " '140lbs',\n",
       " '1412',\n",
       " '141234',\n",
       " '1413',\n",
       " ...]"
      ]
     },
     "execution_count": 387,
     "metadata": {},
     "output_type": "execute_result"
    }
   ],
   "source": [
    "vectorizer.get_feature_names()"
   ]
  },
  {
   "cell_type": "code",
   "execution_count": 384,
   "metadata": {},
   "outputs": [
    {
     "data": {
      "text/plain": [
       "array([[-1.23660236e+00,  2.00327531e-04,  2.59395339e-02, ...,\n",
       "         1.14378316e-02,  3.17780649e-03, -7.09468744e-05]])"
      ]
     },
     "execution_count": 384,
     "metadata": {},
     "output_type": "execute_result"
    }
   ],
   "source": [
    "sentiment_model.coef_"
   ]
  },
  {
   "cell_type": "code",
   "execution_count": 388,
   "metadata": {},
   "outputs": [],
   "source": [
    "sentiment_model_coef_table = pd.DataFrame(\n",
    "{\"word\": vectorizer.get_feature_names(),\n",
    " \"coefficient\": sentiment_model.coef_.flatten()\n",
    "}\n",
    "\n",
    ")"
   ]
  },
  {
   "cell_type": "code",
   "execution_count": 389,
   "metadata": {},
   "outputs": [
    {
     "data": {
      "text/html": [
       "<div>\n",
       "<style scoped>\n",
       "    .dataframe tbody tr th:only-of-type {\n",
       "        vertical-align: middle;\n",
       "    }\n",
       "\n",
       "    .dataframe tbody tr th {\n",
       "        vertical-align: top;\n",
       "    }\n",
       "\n",
       "    .dataframe thead th {\n",
       "        text-align: right;\n",
       "    }\n",
       "</style>\n",
       "<table border=\"1\" class=\"dataframe\">\n",
       "  <thead>\n",
       "    <tr style=\"text-align: right;\">\n",
       "      <th></th>\n",
       "      <th>word</th>\n",
       "      <th>coefficient</th>\n",
       "    </tr>\n",
       "  </thead>\n",
       "  <tbody>\n",
       "    <tr>\n",
       "      <th>0</th>\n",
       "      <td>0</td>\n",
       "      <td>-1.236602</td>\n",
       "    </tr>\n",
       "    <tr>\n",
       "      <th>1</th>\n",
       "      <td>00</td>\n",
       "      <td>0.000200</td>\n",
       "    </tr>\n",
       "    <tr>\n",
       "      <th>2</th>\n",
       "      <td>000</td>\n",
       "      <td>0.025940</td>\n",
       "    </tr>\n",
       "    <tr>\n",
       "      <th>3</th>\n",
       "      <td>0001</td>\n",
       "      <td>0.006096</td>\n",
       "    </tr>\n",
       "    <tr>\n",
       "      <th>4</th>\n",
       "      <td>001</td>\n",
       "      <td>0.000045</td>\n",
       "    </tr>\n",
       "  </tbody>\n",
       "</table>\n",
       "</div>"
      ],
      "text/plain": [
       "   word  coefficient\n",
       "0     0    -1.236602\n",
       "1    00     0.000200\n",
       "2   000     0.025940\n",
       "3  0001     0.006096\n",
       "4   001     0.000045"
      ]
     },
     "execution_count": 389,
     "metadata": {},
     "output_type": "execute_result"
    }
   ],
   "source": [
    "sentiment_model_coef_table.head()"
   ]
  },
  {
   "cell_type": "code",
   "execution_count": 390,
   "metadata": {},
   "outputs": [],
   "source": [
    "simple_positive_idx = sentiment_model_coef_table['word'].isin(positive_word['word'])"
   ]
  },
  {
   "cell_type": "code",
   "execution_count": 391,
   "metadata": {},
   "outputs": [
    {
     "data": {
      "text/html": [
       "<div>\n",
       "<style scoped>\n",
       "    .dataframe tbody tr th:only-of-type {\n",
       "        vertical-align: middle;\n",
       "    }\n",
       "\n",
       "    .dataframe tbody tr th {\n",
       "        vertical-align: top;\n",
       "    }\n",
       "\n",
       "    .dataframe thead th {\n",
       "        text-align: right;\n",
       "    }\n",
       "</style>\n",
       "<table border=\"1\" class=\"dataframe\">\n",
       "  <thead>\n",
       "    <tr style=\"text-align: right;\">\n",
       "      <th></th>\n",
       "      <th>word</th>\n",
       "      <th>coefficient</th>\n",
       "    </tr>\n",
       "  </thead>\n",
       "  <tbody>\n",
       "    <tr>\n",
       "      <th>78982</th>\n",
       "      <td>perfect</td>\n",
       "      <td>1.859421</td>\n",
       "    </tr>\n",
       "    <tr>\n",
       "      <th>63567</th>\n",
       "      <td>love</td>\n",
       "      <td>1.575313</td>\n",
       "    </tr>\n",
       "    <tr>\n",
       "      <th>63646</th>\n",
       "      <td>loves</td>\n",
       "      <td>1.517091</td>\n",
       "    </tr>\n",
       "    <tr>\n",
       "      <th>37640</th>\n",
       "      <td>easy</td>\n",
       "      <td>1.358595</td>\n",
       "    </tr>\n",
       "    <tr>\n",
       "      <th>48789</th>\n",
       "      <td>great</td>\n",
       "      <td>1.229169</td>\n",
       "    </tr>\n",
       "    <tr>\n",
       "      <th>62602</th>\n",
       "      <td>little</td>\n",
       "      <td>0.635883</td>\n",
       "    </tr>\n",
       "    <tr>\n",
       "      <th>117906</th>\n",
       "      <td>well</td>\n",
       "      <td>0.540439</td>\n",
       "    </tr>\n",
       "    <tr>\n",
       "      <th>7386</th>\n",
       "      <td>able</td>\n",
       "      <td>0.389545</td>\n",
       "    </tr>\n",
       "    <tr>\n",
       "      <th>22122</th>\n",
       "      <td>car</td>\n",
       "      <td>0.122838</td>\n",
       "    </tr>\n",
       "    <tr>\n",
       "      <th>74106</th>\n",
       "      <td>old</td>\n",
       "      <td>0.054220</td>\n",
       "    </tr>\n",
       "  </tbody>\n",
       "</table>\n",
       "</div>"
      ],
      "text/plain": [
       "           word  coefficient\n",
       "78982   perfect     1.859421\n",
       "63567      love     1.575313\n",
       "63646     loves     1.517091\n",
       "37640      easy     1.358595\n",
       "48789     great     1.229169\n",
       "62602    little     0.635883\n",
       "117906     well     0.540439\n",
       "7386       able     0.389545\n",
       "22122       car     0.122838\n",
       "74106       old     0.054220"
      ]
     },
     "execution_count": 391,
     "metadata": {},
     "output_type": "execute_result"
    }
   ],
   "source": [
    "sentiment_model_coef_table[simple_positive_idx].sort_values(['coefficient'],\n",
    "                                                            ascending=False)"
   ]
  },
  {
   "cell_type": "markdown",
   "metadata": {},
   "source": [
    "###  Comparing models"
   ]
  },
  {
   "cell_type": "markdown",
   "metadata": {},
   "source": [
    "### Quiz Question: Which model (sentiment_model or simple_model) has higher accuracy on the TRAINING set?"
   ]
  },
  {
   "cell_type": "code",
   "execution_count": 353,
   "metadata": {},
   "outputs": [
    {
     "data": {
      "text/plain": [
       "0.9676800383762068"
      ]
     },
     "execution_count": 353,
     "metadata": {},
     "output_type": "execute_result"
    }
   ],
   "source": [
    "# accuracy of sentiment_model on train data\n",
    "accuracy_train\n"
   ]
  },
  {
   "cell_type": "code",
   "execution_count": 352,
   "metadata": {},
   "outputs": [
    {
     "data": {
      "text/plain": [
       "0.9323854091672666"
      ]
     },
     "execution_count": 352,
     "metadata": {},
     "output_type": "execute_result"
    }
   ],
   "source": [
    "# accuracy of sentiment_model on test data\n",
    "accuracy\n"
   ]
  },
  {
   "cell_type": "code",
   "execution_count": 354,
   "metadata": {},
   "outputs": [],
   "source": [
    "# accuracy of simple_model on train_data"
   ]
  },
  {
   "cell_type": "code",
   "execution_count": 358,
   "metadata": {},
   "outputs": [],
   "source": [
    "simple_scores_train = simple_model.decision_function(train_matrix_word_subset)"
   ]
  },
  {
   "cell_type": "code",
   "execution_count": 360,
   "metadata": {},
   "outputs": [],
   "source": [
    "simples_classification_train = predict_wo_prob_arr(simple_scores_train)"
   ]
  },
  {
   "cell_type": "code",
   "execution_count": 366,
   "metadata": {},
   "outputs": [
    {
     "data": {
      "text/plain": [
       "0.8668225700065959"
      ]
     },
     "execution_count": 366,
     "metadata": {},
     "output_type": "execute_result"
    }
   ],
   "source": [
    "simples_classification_train_acc = (simples_classification_train == train_data['sentiment']).sum() / len(train_data)\n",
    "simples_classification_train_acc"
   ]
  },
  {
   "cell_type": "code",
   "execution_count": 355,
   "metadata": {},
   "outputs": [],
   "source": [
    "# accuracy of simple_model on test_data"
   ]
  },
  {
   "cell_type": "code",
   "execution_count": 371,
   "metadata": {},
   "outputs": [],
   "source": [
    "simples_scores_test = simple_model.decision_function(test_matrix_word_subset)"
   ]
  },
  {
   "cell_type": "code",
   "execution_count": 372,
   "metadata": {},
   "outputs": [],
   "source": [
    "simples_class_test = predict_wo_prob_arr(simples_scores_test)"
   ]
  },
  {
   "cell_type": "code",
   "execution_count": 374,
   "metadata": {},
   "outputs": [
    {
     "data": {
      "text/plain": [
       "0.8693604511639069"
      ]
     },
     "execution_count": 374,
     "metadata": {},
     "output_type": "execute_result"
    }
   ],
   "source": [
    "simples_class_test_acc = (simples_class_test == test_data['sentiment']).sum() / len(test_data)\n",
    "simples_class_test_acc"
   ]
  },
  {
   "cell_type": "markdown",
   "metadata": {},
   "source": [
    "### Quiz Question: Which model (sentiment_model or simple_model) has higher accuracy on the TRAINING set?"
   ]
  },
  {
   "cell_type": "code",
   "execution_count": 376,
   "metadata": {},
   "outputs": [
    {
     "data": {
      "text/plain": [
       "True"
      ]
     },
     "execution_count": 376,
     "metadata": {},
     "output_type": "execute_result"
    }
   ],
   "source": [
    "accuracy_train > simples_classification_train_acc"
   ]
  },
  {
   "cell_type": "markdown",
   "metadata": {},
   "source": [
    "### Quiz Question: Which model (sentiment_model or simple_model) has higher accuracy on the TEST set?"
   ]
  },
  {
   "cell_type": "code",
   "execution_count": 377,
   "metadata": {},
   "outputs": [
    {
     "data": {
      "text/plain": [
       "True"
      ]
     },
     "execution_count": 377,
     "metadata": {},
     "output_type": "execute_result"
    }
   ],
   "source": [
    "accuracy > simples_class_test_acc"
   ]
  },
  {
   "cell_type": "markdown",
   "metadata": {},
   "source": [
    "### Baseline: Majority class prediction\n"
   ]
  },
  {
   "cell_type": "markdown",
   "metadata": {},
   "source": [
    "### Quiz Question: Enter the accuracy of the majority class classifier model on the test_data. Round your answer to two decimal places (e.g. 0.76).\n",
    "\n"
   ]
  },
  {
   "cell_type": "code",
   "execution_count": 380,
   "metadata": {},
   "outputs": [
    {
     "data": {
      "text/plain": [
       "0.8427825773938085"
      ]
     },
     "execution_count": 380,
     "metadata": {},
     "output_type": "execute_result"
    }
   ],
   "source": [
    "majority_acc_test = (test_data['sentiment'] == 1).sum() / len(test_data)\n",
    "majority_acc_test"
   ]
  },
  {
   "cell_type": "markdown",
   "metadata": {},
   "source": [
    "### Quiz Question: Is the sentiment_model definitely better than the majority class classifier (the baseline)?"
   ]
  },
  {
   "cell_type": "code",
   "execution_count": 381,
   "metadata": {},
   "outputs": [
    {
     "data": {
      "text/plain": [
       "True"
      ]
     },
     "execution_count": 381,
     "metadata": {},
     "output_type": "execute_result"
    }
   ],
   "source": [
    "accuracy > majority_acc_test"
   ]
  },
  {
   "cell_type": "code",
   "execution_count": null,
   "metadata": {},
   "outputs": [],
   "source": []
  }
 ],
 "metadata": {
  "kernelspec": {
   "display_name": "Python [conda env:ds-env] *",
   "language": "python",
   "name": "conda-env-ds-env-py"
  },
  "language_info": {
   "codemirror_mode": {
    "name": "ipython",
    "version": 3
   },
   "file_extension": ".py",
   "mimetype": "text/x-python",
   "name": "python",
   "nbconvert_exporter": "python",
   "pygments_lexer": "ipython3",
   "version": "3.7.3"
  }
 },
 "nbformat": 4,
 "nbformat_minor": 2
}
