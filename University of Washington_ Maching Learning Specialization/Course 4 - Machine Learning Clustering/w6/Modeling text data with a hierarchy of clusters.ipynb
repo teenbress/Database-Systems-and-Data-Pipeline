{
 "cells": [
  {
   "cell_type": "code",
   "execution_count": 1,
   "metadata": {},
   "outputs": [
    {
     "name": "stderr",
     "output_type": "stream",
     "text": [
      "/Users/tdx/anaconda2/envs/ds-env/lib/python3.7/importlib/_bootstrap.py:219: RuntimeWarning: numpy.ufunc size changed, may indicate binary incompatibility. Expected 192 from C header, got 216 from PyObject\n",
      "  return f(*args, **kwds)\n",
      "/Users/tdx/anaconda2/envs/ds-env/lib/python3.7/importlib/_bootstrap.py:219: RuntimeWarning: numpy.ufunc size changed, may indicate binary incompatibility. Expected 192 from C header, got 216 from PyObject\n",
      "  return f(*args, **kwds)\n"
     ]
    }
   ],
   "source": [
    "import numpy as np\n",
    "import pandas as pd\n",
    "import matplotlib.pyplot as plt\n",
    "from scipy.sparse import csr_matrix"
   ]
  },
  {
   "cell_type": "code",
   "execution_count": 2,
   "metadata": {},
   "outputs": [
    {
     "name": "stderr",
     "output_type": "stream",
     "text": [
      "/Users/tdx/anaconda2/envs/ds-env/lib/python3.7/importlib/_bootstrap.py:219: RuntimeWarning: numpy.ufunc size changed, may indicate binary incompatibility. Expected 192 from C header, got 216 from PyObject\n",
      "  return f(*args, **kwds)\n"
     ]
    }
   ],
   "source": [
    "from sklearn.cluster import KMeans\n",
    "from sklearn.metrics import pairwise_distances\n",
    "from sklearn.preprocessing import normalize\n",
    "%matplotlib inline"
   ]
  },
  {
   "cell_type": "code",
   "execution_count": 3,
   "metadata": {},
   "outputs": [],
   "source": [
    "def load_sparse_csr(filename):\n",
    "    loader = np.load(filename)\n",
    "    data = loader['data']\n",
    "    indices = loader['indices']\n",
    "    indptr = loader['indptr']\n",
    "    shape = loader['shape']\n",
    "    \n",
    "    return csr_matrix( (data, indices, indptr), shape )\n",
    "\n",
    "tf_idf = load_sparse_csr('people_wiki_tf_idf.npz')"
   ]
  },
  {
   "cell_type": "code",
   "execution_count": 4,
   "metadata": {},
   "outputs": [
    {
     "data": {
      "text/plain": [
       "<59071x547979 sparse matrix of type '<class 'numpy.float64'>'\n",
       "\twith 10379283 stored elements in Compressed Sparse Row format>"
      ]
     },
     "execution_count": 4,
     "metadata": {},
     "output_type": "execute_result"
    }
   ],
   "source": [
    "tf_idf"
   ]
  },
  {
   "cell_type": "code",
   "execution_count": 5,
   "metadata": {},
   "outputs": [],
   "source": [
    "tf_idf = normalize(tf_idf)"
   ]
  },
  {
   "cell_type": "code",
   "execution_count": 6,
   "metadata": {},
   "outputs": [
    {
     "name": "stdout",
     "output_type": "stream",
     "text": [
      "Modeling text data with a hierarchy of clusters.ipynb\r\n",
      "_167fc84b78dc145609e919983b475aaa_people_wiki.csv.zip\r\n",
      "_395a4cfb2299d1655f1ef6bf6cc4f71b_people_wiki_tf_idf.npz.zip\r\n",
      "_96eadbec4d43a0b0870dde27d0652fb2_people_wiki_map_index_to_word.gl.zip\r\n",
      "_96eadbec4d43a0b0870dde27d0652fb2_people_wiki_map_index_to_word.json.zip\r\n",
      "_a20552cf806c54b71b3b87cb593b9968_people_wiki.gl.zip\r\n",
      "people_wiki.csv\r\n",
      "\u001b[34mpeople_wiki.gl\u001b[m\u001b[m/\r\n",
      "\u001b[34mpeople_wiki_map_index_to_word.gl\u001b[m\u001b[m/\r\n",
      "people_wiki_map_index_to_word.json\r\n",
      "people_wiki_tf_idf.npz\r\n"
     ]
    }
   ],
   "source": [
    "%ls"
   ]
  },
  {
   "cell_type": "code",
   "execution_count": 7,
   "metadata": {},
   "outputs": [],
   "source": [
    "map_index_to_word_series = pd.read_json('people_wiki_map_index_to_word.json', typ='series')"
   ]
  },
  {
   "cell_type": "code",
   "execution_count": 8,
   "metadata": {
    "scrolled": true
   },
   "outputs": [
    {
     "data": {
      "text/plain": [
       "biennials                                                                                                       522004\n",
       "lb915                                                                                                           116290\n",
       "shatzky                                                                                                         127647\n",
       "woode                                                                                                           174106\n",
       "damfunk                                                                                                         133206\n",
       "nualart                                                                                                         153444\n",
       "hatefillot                                                                                                      164111\n",
       "missionborn                                                                                                     261765\n",
       "yeardescribed                                                                                                   161075\n",
       "theoryhe                                                                                                        521685\n",
       "vinalop                                                                                                         222759\n",
       "soestdijk                                                                                                       166345\n",
       "boncea                                                                                                          150371\n",
       "spiders                                                                                                         519990\n",
       "bienniale                                                                                                       429277\n",
       "woody                                                                                                           541515\n",
       "trawling                                                                                                        189895\n",
       "pampoulovawagner                                                                                                201040\n",
       "bentara                                                                                                         202586\n",
       "laserbased                                                                                                       25758\n",
       "caner                                                                                                           346073\n",
       "canes                                                                                                           478262\n",
       "canet                                                                                                           436468\n",
       "iaspark                                                                                                         395341\n",
       "categoriesborn                                                                                                   12586\n",
       "5982                                                                                                            277649\n",
       "caney                                                                                                           459867\n",
       "phosphorushe                                                                                                    379479\n",
       "yusaf                                                                                                           270311\n",
       "hhsoffice                                                                                                       141697\n",
       "                                                                                                                 ...  \n",
       "ratestogocom                                                                                                    103539\n",
       "1973davis                                                                                                       361811\n",
       "2007keim                                                                                                        142579\n",
       "missionbeck                                                                                                     304123\n",
       "examinationspaulker                                                                                             175063\n",
       "efovi                                                                                                           294313\n",
       "fiminielsen                                                                                                      92109\n",
       "nonpartner                                                                                                      339058\n",
       "jonsey                                                                                                          235415\n",
       "delhichhibber                                                                                                   327458\n",
       "gap                                                                                                             542848\n",
       "rolandfondacaro                                                                                                 322307\n",
       "finkenzeller                                                                                                    214563\n",
       "hangshttpwwwmoroccoworldnewscom201410141065rabatkinginauguratesmohammedvimuseumformodernandcontemporaryarthe     35669\n",
       "hansville                                                                                                       291315\n",
       "ipfw                                                                                                            426741\n",
       "pointlike                                                                                                        42454\n",
       "gan                                                                                                             511158\n",
       "tieon                                                                                                            53141\n",
       "expands                                                                                                         527589\n",
       "millionbeard                                                                                                    383557\n",
       "asrama                                                                                                          175368\n",
       "anglique                                                                                                        490046\n",
       "229326                                                                                                          162480\n",
       "gal                                                                                                             528383\n",
       "4week                                                                                                           437163\n",
       "moneybakalis                                                                                                    260149\n",
       "feirberg                                                                                                        327745\n",
       "sussexvisiting                                                                                                  145638\n",
       "papazov                                                                                                         206453\n",
       "Length: 547979, dtype: int64"
      ]
     },
     "execution_count": 8,
     "metadata": {},
     "output_type": "execute_result"
    }
   ],
   "source": [
    "map_index_to_word_series"
   ]
  },
  {
   "cell_type": "markdown",
   "metadata": {},
   "source": [
    "## Bipartition the Wikipedia dataset using k-means"
   ]
  },
  {
   "cell_type": "code",
   "execution_count": 55,
   "metadata": {},
   "outputs": [],
   "source": [
    "def bipartition(cluster, maxiter=400, num_runs=4, seed=None):\n",
    "    '''cluster: should be dictionary containing the following keys\n",
    "    * dataframe: original dataframe\n",
    "    * matrix: same data, in matrix format\n",
    "    * centroid: centroid for this particular cluster\n",
    "    '''\n",
    "    \n",
    "    data_matrix = cluster['matrix']\n",
    "    dataframe = cluster['dataframe']\n",
    "    \n",
    "    print (data_matrix.shape)\n",
    "    print (dataframe.shape)\n",
    "    \n",
    "    # Run k-means on the data matrix with k=2. We use scikit-learn here to simplify workflow.\n",
    "    kmeans_model = KMeans(n_clusters=2, max_iter=maxiter, n_init=num_runs,\n",
    "                         random_state=seed, n_jobs=-1, verbose=1)\n",
    "    kmeans_model.fit(data_matrix)\n",
    "    centroids, cluster_assignment = kmeans_model.cluster_centers_, kmeans_model.labels_\n",
    "    \n",
    "    print ('Done K-means')\n",
    "    \n",
    "    # Divide the data matrix into two parts using the cluster assignments.\n",
    "    data_matrix_left_child, data_matrix_right_child = data_matrix[cluster_assignment==0], \\\n",
    "    data_matrix[cluster_assignment==1]\n",
    "    \n",
    "    # Divide the dataframe into two parts, again using the cluster assignments\n",
    "    cluster_assigment_sa = pd.DataFrame(cluster_assignment)\n",
    "    dataframe_left_child, dataframe_right_child = dataframe[cluster_assigment_sa[0]==0], \\\n",
    "    dataframe[cluster_assigment_sa[0]==1]\n",
    "    \n",
    "    # Package relevant variables for the child clusters\n",
    "    cluster_left_child = {\n",
    "        'matrix': data_matrix_left_child,\n",
    "        'dataframe': dataframe_left_child,\n",
    "        'centroid': centroids[0]\n",
    "    }\n",
    "    \n",
    "    cluster_right_child = {\n",
    "        'matrix': data_matrix_right_child,\n",
    "        'dataframe': dataframe_right_child,\n",
    "        'centroid': centroids[1]\n",
    "    }\n",
    "    \n",
    "    return (cluster_left_child, cluster_right_child)"
   ]
  },
  {
   "cell_type": "code",
   "execution_count": 47,
   "metadata": {
    "scrolled": true
   },
   "outputs": [
    {
     "name": "stdout",
     "output_type": "stream",
     "text": [
      "Modeling text data with a hierarchy of clusters.ipynb\r\n",
      "_167fc84b78dc145609e919983b475aaa_people_wiki.csv.zip\r\n",
      "_395a4cfb2299d1655f1ef6bf6cc4f71b_people_wiki_tf_idf.npz.zip\r\n",
      "_96eadbec4d43a0b0870dde27d0652fb2_people_wiki_map_index_to_word.gl.zip\r\n",
      "_96eadbec4d43a0b0870dde27d0652fb2_people_wiki_map_index_to_word.json.zip\r\n",
      "_a20552cf806c54b71b3b87cb593b9968_people_wiki.gl.zip\r\n",
      "people_wiki.csv\r\n",
      "\u001b[34mpeople_wiki.gl\u001b[m\u001b[m/\r\n",
      "\u001b[34mpeople_wiki_map_index_to_word.gl\u001b[m\u001b[m/\r\n",
      "people_wiki_map_index_to_word.json\r\n",
      "people_wiki_tf_idf.npz\r\n"
     ]
    }
   ],
   "source": [
    "%ls"
   ]
  },
  {
   "cell_type": "code",
   "execution_count": 52,
   "metadata": {},
   "outputs": [],
   "source": [
    "wiki = pd.read_csv('people_wiki.csv')"
   ]
  },
  {
   "cell_type": "code",
   "execution_count": 53,
   "metadata": {},
   "outputs": [
    {
     "data": {
      "text/plain": [
       "59071"
      ]
     },
     "execution_count": 53,
     "metadata": {},
     "output_type": "execute_result"
    }
   ],
   "source": [
    "len(wiki)"
   ]
  },
  {
   "cell_type": "code",
   "execution_count": 36,
   "metadata": {},
   "outputs": [],
   "source": [
    "wiki_sub = wiki[:1000]"
   ]
  },
  {
   "cell_type": "code",
   "execution_count": 37,
   "metadata": {},
   "outputs": [],
   "source": [
    "tf_idf_sub = tf_idf[:1000]"
   ]
  },
  {
   "cell_type": "code",
   "execution_count": 58,
   "metadata": {},
   "outputs": [],
   "source": [
    "import time"
   ]
  },
  {
   "cell_type": "code",
   "execution_count": 59,
   "metadata": {},
   "outputs": [
    {
     "name": "stdout",
     "output_type": "stream",
     "text": [
      "(59071, 547979)\n",
      "(59071, 3)\n",
      "Done K-means\n",
      "2824.11634516716\n"
     ]
    }
   ],
   "source": [
    "start = time.time()\n",
    "wiki_data = {'matrix': tf_idf, 'dataframe': wiki} # no 'centroid' for the root cluster\n",
    "left_child, right_child = bipartition(wiki_data, maxiter=100, num_runs=6, seed=1)\n",
    "print (time.time() - start)"
   ]
  },
  {
   "cell_type": "code",
   "execution_count": 71,
   "metadata": {},
   "outputs": [],
   "source": [
    "assignment_tmp = np.zeros(len(wiki))"
   ]
  },
  {
   "cell_type": "code",
   "execution_count": 73,
   "metadata": {},
   "outputs": [],
   "source": [
    "assignment_tmp[1] = 1"
   ]
  },
  {
   "cell_type": "code",
   "execution_count": 77,
   "metadata": {},
   "outputs": [],
   "source": [
    "assignment_tmp_df = pd.DataFrame(assignment_tmp)"
   ]
  },
  {
   "cell_type": "code",
   "execution_count": 82,
   "metadata": {
    "scrolled": true
   },
   "outputs": [
    {
     "data": {
      "text/html": [
       "<div>\n",
       "<style scoped>\n",
       "    .dataframe tbody tr th:only-of-type {\n",
       "        vertical-align: middle;\n",
       "    }\n",
       "\n",
       "    .dataframe tbody tr th {\n",
       "        vertical-align: top;\n",
       "    }\n",
       "\n",
       "    .dataframe thead th {\n",
       "        text-align: right;\n",
       "    }\n",
       "</style>\n",
       "<table border=\"1\" class=\"dataframe\">\n",
       "  <thead>\n",
       "    <tr style=\"text-align: right;\">\n",
       "      <th></th>\n",
       "      <th>0</th>\n",
       "    </tr>\n",
       "  </thead>\n",
       "  <tbody>\n",
       "    <tr>\n",
       "      <th>0</th>\n",
       "      <td>0.0</td>\n",
       "    </tr>\n",
       "    <tr>\n",
       "      <th>1</th>\n",
       "      <td>1.0</td>\n",
       "    </tr>\n",
       "    <tr>\n",
       "      <th>2</th>\n",
       "      <td>0.0</td>\n",
       "    </tr>\n",
       "    <tr>\n",
       "      <th>3</th>\n",
       "      <td>0.0</td>\n",
       "    </tr>\n",
       "    <tr>\n",
       "      <th>4</th>\n",
       "      <td>0.0</td>\n",
       "    </tr>\n",
       "    <tr>\n",
       "      <th>5</th>\n",
       "      <td>0.0</td>\n",
       "    </tr>\n",
       "    <tr>\n",
       "      <th>6</th>\n",
       "      <td>0.0</td>\n",
       "    </tr>\n",
       "    <tr>\n",
       "      <th>7</th>\n",
       "      <td>0.0</td>\n",
       "    </tr>\n",
       "    <tr>\n",
       "      <th>8</th>\n",
       "      <td>0.0</td>\n",
       "    </tr>\n",
       "    <tr>\n",
       "      <th>9</th>\n",
       "      <td>0.0</td>\n",
       "    </tr>\n",
       "    <tr>\n",
       "      <th>10</th>\n",
       "      <td>0.0</td>\n",
       "    </tr>\n",
       "    <tr>\n",
       "      <th>11</th>\n",
       "      <td>0.0</td>\n",
       "    </tr>\n",
       "    <tr>\n",
       "      <th>12</th>\n",
       "      <td>0.0</td>\n",
       "    </tr>\n",
       "    <tr>\n",
       "      <th>13</th>\n",
       "      <td>0.0</td>\n",
       "    </tr>\n",
       "    <tr>\n",
       "      <th>14</th>\n",
       "      <td>0.0</td>\n",
       "    </tr>\n",
       "    <tr>\n",
       "      <th>15</th>\n",
       "      <td>0.0</td>\n",
       "    </tr>\n",
       "    <tr>\n",
       "      <th>16</th>\n",
       "      <td>0.0</td>\n",
       "    </tr>\n",
       "    <tr>\n",
       "      <th>17</th>\n",
       "      <td>0.0</td>\n",
       "    </tr>\n",
       "    <tr>\n",
       "      <th>18</th>\n",
       "      <td>0.0</td>\n",
       "    </tr>\n",
       "    <tr>\n",
       "      <th>19</th>\n",
       "      <td>0.0</td>\n",
       "    </tr>\n",
       "    <tr>\n",
       "      <th>20</th>\n",
       "      <td>0.0</td>\n",
       "    </tr>\n",
       "    <tr>\n",
       "      <th>21</th>\n",
       "      <td>0.0</td>\n",
       "    </tr>\n",
       "    <tr>\n",
       "      <th>22</th>\n",
       "      <td>0.0</td>\n",
       "    </tr>\n",
       "    <tr>\n",
       "      <th>23</th>\n",
       "      <td>0.0</td>\n",
       "    </tr>\n",
       "    <tr>\n",
       "      <th>24</th>\n",
       "      <td>0.0</td>\n",
       "    </tr>\n",
       "    <tr>\n",
       "      <th>25</th>\n",
       "      <td>0.0</td>\n",
       "    </tr>\n",
       "    <tr>\n",
       "      <th>26</th>\n",
       "      <td>0.0</td>\n",
       "    </tr>\n",
       "    <tr>\n",
       "      <th>27</th>\n",
       "      <td>0.0</td>\n",
       "    </tr>\n",
       "    <tr>\n",
       "      <th>28</th>\n",
       "      <td>0.0</td>\n",
       "    </tr>\n",
       "    <tr>\n",
       "      <th>29</th>\n",
       "      <td>0.0</td>\n",
       "    </tr>\n",
       "    <tr>\n",
       "      <th>...</th>\n",
       "      <td>...</td>\n",
       "    </tr>\n",
       "    <tr>\n",
       "      <th>59041</th>\n",
       "      <td>0.0</td>\n",
       "    </tr>\n",
       "    <tr>\n",
       "      <th>59042</th>\n",
       "      <td>0.0</td>\n",
       "    </tr>\n",
       "    <tr>\n",
       "      <th>59043</th>\n",
       "      <td>0.0</td>\n",
       "    </tr>\n",
       "    <tr>\n",
       "      <th>59044</th>\n",
       "      <td>0.0</td>\n",
       "    </tr>\n",
       "    <tr>\n",
       "      <th>59045</th>\n",
       "      <td>0.0</td>\n",
       "    </tr>\n",
       "    <tr>\n",
       "      <th>59046</th>\n",
       "      <td>0.0</td>\n",
       "    </tr>\n",
       "    <tr>\n",
       "      <th>59047</th>\n",
       "      <td>0.0</td>\n",
       "    </tr>\n",
       "    <tr>\n",
       "      <th>59048</th>\n",
       "      <td>0.0</td>\n",
       "    </tr>\n",
       "    <tr>\n",
       "      <th>59049</th>\n",
       "      <td>0.0</td>\n",
       "    </tr>\n",
       "    <tr>\n",
       "      <th>59050</th>\n",
       "      <td>0.0</td>\n",
       "    </tr>\n",
       "    <tr>\n",
       "      <th>59051</th>\n",
       "      <td>0.0</td>\n",
       "    </tr>\n",
       "    <tr>\n",
       "      <th>59052</th>\n",
       "      <td>0.0</td>\n",
       "    </tr>\n",
       "    <tr>\n",
       "      <th>59053</th>\n",
       "      <td>0.0</td>\n",
       "    </tr>\n",
       "    <tr>\n",
       "      <th>59054</th>\n",
       "      <td>0.0</td>\n",
       "    </tr>\n",
       "    <tr>\n",
       "      <th>59055</th>\n",
       "      <td>0.0</td>\n",
       "    </tr>\n",
       "    <tr>\n",
       "      <th>59056</th>\n",
       "      <td>0.0</td>\n",
       "    </tr>\n",
       "    <tr>\n",
       "      <th>59057</th>\n",
       "      <td>0.0</td>\n",
       "    </tr>\n",
       "    <tr>\n",
       "      <th>59058</th>\n",
       "      <td>0.0</td>\n",
       "    </tr>\n",
       "    <tr>\n",
       "      <th>59059</th>\n",
       "      <td>0.0</td>\n",
       "    </tr>\n",
       "    <tr>\n",
       "      <th>59060</th>\n",
       "      <td>0.0</td>\n",
       "    </tr>\n",
       "    <tr>\n",
       "      <th>59061</th>\n",
       "      <td>0.0</td>\n",
       "    </tr>\n",
       "    <tr>\n",
       "      <th>59062</th>\n",
       "      <td>0.0</td>\n",
       "    </tr>\n",
       "    <tr>\n",
       "      <th>59063</th>\n",
       "      <td>0.0</td>\n",
       "    </tr>\n",
       "    <tr>\n",
       "      <th>59064</th>\n",
       "      <td>0.0</td>\n",
       "    </tr>\n",
       "    <tr>\n",
       "      <th>59065</th>\n",
       "      <td>0.0</td>\n",
       "    </tr>\n",
       "    <tr>\n",
       "      <th>59066</th>\n",
       "      <td>0.0</td>\n",
       "    </tr>\n",
       "    <tr>\n",
       "      <th>59067</th>\n",
       "      <td>0.0</td>\n",
       "    </tr>\n",
       "    <tr>\n",
       "      <th>59068</th>\n",
       "      <td>0.0</td>\n",
       "    </tr>\n",
       "    <tr>\n",
       "      <th>59069</th>\n",
       "      <td>0.0</td>\n",
       "    </tr>\n",
       "    <tr>\n",
       "      <th>59070</th>\n",
       "      <td>0.0</td>\n",
       "    </tr>\n",
       "  </tbody>\n",
       "</table>\n",
       "<p>59071 rows × 1 columns</p>\n",
       "</div>"
      ],
      "text/plain": [
       "         0\n",
       "0      0.0\n",
       "1      1.0\n",
       "2      0.0\n",
       "3      0.0\n",
       "4      0.0\n",
       "5      0.0\n",
       "6      0.0\n",
       "7      0.0\n",
       "8      0.0\n",
       "9      0.0\n",
       "10     0.0\n",
       "11     0.0\n",
       "12     0.0\n",
       "13     0.0\n",
       "14     0.0\n",
       "15     0.0\n",
       "16     0.0\n",
       "17     0.0\n",
       "18     0.0\n",
       "19     0.0\n",
       "20     0.0\n",
       "21     0.0\n",
       "22     0.0\n",
       "23     0.0\n",
       "24     0.0\n",
       "25     0.0\n",
       "26     0.0\n",
       "27     0.0\n",
       "28     0.0\n",
       "29     0.0\n",
       "...    ...\n",
       "59041  0.0\n",
       "59042  0.0\n",
       "59043  0.0\n",
       "59044  0.0\n",
       "59045  0.0\n",
       "59046  0.0\n",
       "59047  0.0\n",
       "59048  0.0\n",
       "59049  0.0\n",
       "59050  0.0\n",
       "59051  0.0\n",
       "59052  0.0\n",
       "59053  0.0\n",
       "59054  0.0\n",
       "59055  0.0\n",
       "59056  0.0\n",
       "59057  0.0\n",
       "59058  0.0\n",
       "59059  0.0\n",
       "59060  0.0\n",
       "59061  0.0\n",
       "59062  0.0\n",
       "59063  0.0\n",
       "59064  0.0\n",
       "59065  0.0\n",
       "59066  0.0\n",
       "59067  0.0\n",
       "59068  0.0\n",
       "59069  0.0\n",
       "59070  0.0\n",
       "\n",
       "[59071 rows x 1 columns]"
      ]
     },
     "execution_count": 82,
     "metadata": {},
     "output_type": "execute_result"
    }
   ],
   "source": [
    "assignment_tmp_df"
   ]
  },
  {
   "cell_type": "code",
   "execution_count": 83,
   "metadata": {
    "scrolled": true
   },
   "outputs": [
    {
     "data": {
      "text/html": [
       "<div>\n",
       "<style scoped>\n",
       "    .dataframe tbody tr th:only-of-type {\n",
       "        vertical-align: middle;\n",
       "    }\n",
       "\n",
       "    .dataframe tbody tr th {\n",
       "        vertical-align: top;\n",
       "    }\n",
       "\n",
       "    .dataframe thead th {\n",
       "        text-align: right;\n",
       "    }\n",
       "</style>\n",
       "<table border=\"1\" class=\"dataframe\">\n",
       "  <thead>\n",
       "    <tr style=\"text-align: right;\">\n",
       "      <th></th>\n",
       "      <th>URI</th>\n",
       "      <th>name</th>\n",
       "      <th>text</th>\n",
       "    </tr>\n",
       "  </thead>\n",
       "  <tbody>\n",
       "    <tr>\n",
       "      <th>0</th>\n",
       "      <td>&lt;http://dbpedia.org/resource/Digby_Morrell&gt;</td>\n",
       "      <td>Digby Morrell</td>\n",
       "      <td>digby morrell born 10 october 1979 is a former...</td>\n",
       "    </tr>\n",
       "    <tr>\n",
       "      <th>2</th>\n",
       "      <td>&lt;http://dbpedia.org/resource/Harpdog_Brown&gt;</td>\n",
       "      <td>Harpdog Brown</td>\n",
       "      <td>harpdog brown is a singer and harmonica player...</td>\n",
       "    </tr>\n",
       "    <tr>\n",
       "      <th>3</th>\n",
       "      <td>&lt;http://dbpedia.org/resource/Franz_Rottensteiner&gt;</td>\n",
       "      <td>Franz Rottensteiner</td>\n",
       "      <td>franz rottensteiner born in waidmannsfeld lowe...</td>\n",
       "    </tr>\n",
       "    <tr>\n",
       "      <th>4</th>\n",
       "      <td>&lt;http://dbpedia.org/resource/G-Enka&gt;</td>\n",
       "      <td>G-Enka</td>\n",
       "      <td>henry krvits born 30 december 1974 in tallinn ...</td>\n",
       "    </tr>\n",
       "    <tr>\n",
       "      <th>5</th>\n",
       "      <td>&lt;http://dbpedia.org/resource/Sam_Henderson&gt;</td>\n",
       "      <td>Sam Henderson</td>\n",
       "      <td>sam henderson born october 18 1969 is an ameri...</td>\n",
       "    </tr>\n",
       "    <tr>\n",
       "      <th>6</th>\n",
       "      <td>&lt;http://dbpedia.org/resource/Aaron_LaCrate&gt;</td>\n",
       "      <td>Aaron LaCrate</td>\n",
       "      <td>aaron lacrate is an american music producer re...</td>\n",
       "    </tr>\n",
       "    <tr>\n",
       "      <th>7</th>\n",
       "      <td>&lt;http://dbpedia.org/resource/Trevor_Ferguson&gt;</td>\n",
       "      <td>Trevor Ferguson</td>\n",
       "      <td>trevor ferguson aka john farrow born 11 novemb...</td>\n",
       "    </tr>\n",
       "    <tr>\n",
       "      <th>8</th>\n",
       "      <td>&lt;http://dbpedia.org/resource/Grant_Nelson&gt;</td>\n",
       "      <td>Grant Nelson</td>\n",
       "      <td>grant nelson born 27 april 1971 in london also...</td>\n",
       "    </tr>\n",
       "    <tr>\n",
       "      <th>9</th>\n",
       "      <td>&lt;http://dbpedia.org/resource/Cathy_Caruth&gt;</td>\n",
       "      <td>Cathy Caruth</td>\n",
       "      <td>cathy caruth born 1955 is frank h t rhodes pro...</td>\n",
       "    </tr>\n",
       "    <tr>\n",
       "      <th>10</th>\n",
       "      <td>&lt;http://dbpedia.org/resource/Sophie_Crumb&gt;</td>\n",
       "      <td>Sophie Crumb</td>\n",
       "      <td>sophia violet sophie crumb born september 27 1...</td>\n",
       "    </tr>\n",
       "    <tr>\n",
       "      <th>11</th>\n",
       "      <td>&lt;http://dbpedia.org/resource/Jenn_Ashworth&gt;</td>\n",
       "      <td>Jenn Ashworth</td>\n",
       "      <td>jenn ashworth is an english writer she was bor...</td>\n",
       "    </tr>\n",
       "    <tr>\n",
       "      <th>12</th>\n",
       "      <td>&lt;http://dbpedia.org/resource/Jonathan_Hoefler&gt;</td>\n",
       "      <td>Jonathan Hoefler</td>\n",
       "      <td>jonathan hoefler born august 22 1970 is an ame...</td>\n",
       "    </tr>\n",
       "    <tr>\n",
       "      <th>13</th>\n",
       "      <td>&lt;http://dbpedia.org/resource/Anthony_Gueterboc...</td>\n",
       "      <td>Anthony Gueterbock, 18th Baron Berkeley</td>\n",
       "      <td>anthony fitzhardinge gueterbock 18th baron ber...</td>\n",
       "    </tr>\n",
       "    <tr>\n",
       "      <th>14</th>\n",
       "      <td>&lt;http://dbpedia.org/resource/David_Chernushenko&gt;</td>\n",
       "      <td>David Chernushenko</td>\n",
       "      <td>david chernushenko born june 1963 in calgary a...</td>\n",
       "    </tr>\n",
       "    <tr>\n",
       "      <th>15</th>\n",
       "      <td>&lt;http://dbpedia.org/resource/Joerg_Steineck&gt;</td>\n",
       "      <td>Joerg Steineck</td>\n",
       "      <td>joerg steineck is a german filmmaker editor an...</td>\n",
       "    </tr>\n",
       "    <tr>\n",
       "      <th>16</th>\n",
       "      <td>&lt;http://dbpedia.org/resource/Andrew_Pinsent&gt;</td>\n",
       "      <td>Andrew Pinsent</td>\n",
       "      <td>fr andrew pinsent born 19 august 1966 is resea...</td>\n",
       "    </tr>\n",
       "    <tr>\n",
       "      <th>17</th>\n",
       "      <td>&lt;http://dbpedia.org/resource/Paddy_Dunne_(Gael...</td>\n",
       "      <td>Paddy Dunne (Gaelic footballer)</td>\n",
       "      <td>paddy dunne was a gaelic football player from ...</td>\n",
       "    </tr>\n",
       "    <tr>\n",
       "      <th>18</th>\n",
       "      <td>&lt;http://dbpedia.org/resource/Alexandros_Mouzas&gt;</td>\n",
       "      <td>Alexandros Mouzas</td>\n",
       "      <td>alexandros mouzas born 1962 is a greek compose...</td>\n",
       "    </tr>\n",
       "    <tr>\n",
       "      <th>19</th>\n",
       "      <td>&lt;http://dbpedia.org/resource/John_Angus_Campbell&gt;</td>\n",
       "      <td>John Angus Campbell</td>\n",
       "      <td>john angus campbell born march 10 1942 in port...</td>\n",
       "    </tr>\n",
       "    <tr>\n",
       "      <th>20</th>\n",
       "      <td>&lt;http://dbpedia.org/resource/Chris_Batstone&gt;</td>\n",
       "      <td>Chris Batstone</td>\n",
       "      <td>chris batstone was the 20002002 lead singer of...</td>\n",
       "    </tr>\n",
       "    <tr>\n",
       "      <th>21</th>\n",
       "      <td>&lt;http://dbpedia.org/resource/Ceiron_Thomas&gt;</td>\n",
       "      <td>Ceiron Thomas</td>\n",
       "      <td>ceiron thomas born 23 october 1983 is a welsh ...</td>\n",
       "    </tr>\n",
       "    <tr>\n",
       "      <th>22</th>\n",
       "      <td>&lt;http://dbpedia.org/resource/Adel_Sellimi&gt;</td>\n",
       "      <td>Adel Sellimi</td>\n",
       "      <td>adel sellimi arabic was born on 16 november 19...</td>\n",
       "    </tr>\n",
       "    <tr>\n",
       "      <th>23</th>\n",
       "      <td>&lt;http://dbpedia.org/resource/Faith_Soloway&gt;</td>\n",
       "      <td>Faith Soloway</td>\n",
       "      <td>faith soloway born march 28 1964 is an america...</td>\n",
       "    </tr>\n",
       "    <tr>\n",
       "      <th>24</th>\n",
       "      <td>&lt;http://dbpedia.org/resource/Tom_Jennings&gt;</td>\n",
       "      <td>Tom Jennings</td>\n",
       "      <td>tom jennings born 1955 as thomas daniel jennin...</td>\n",
       "    </tr>\n",
       "    <tr>\n",
       "      <th>25</th>\n",
       "      <td>&lt;http://dbpedia.org/resource/Vic_Stasiuk&gt;</td>\n",
       "      <td>Vic Stasiuk</td>\n",
       "      <td>victor john stasiuk born may 23 1929 is a reti...</td>\n",
       "    </tr>\n",
       "    <tr>\n",
       "      <th>26</th>\n",
       "      <td>&lt;http://dbpedia.org/resource/Anthony_Caruana&gt;</td>\n",
       "      <td>Anthony Caruana</td>\n",
       "      <td>anthony caruana born 2 january 1968 is a melbo...</td>\n",
       "    </tr>\n",
       "    <tr>\n",
       "      <th>27</th>\n",
       "      <td>&lt;http://dbpedia.org/resource/Ian_Mitchell_(aut...</td>\n",
       "      <td>Ian Mitchell (author)</td>\n",
       "      <td>ian mitchell is a scottish author who grew up ...</td>\n",
       "    </tr>\n",
       "    <tr>\n",
       "      <th>28</th>\n",
       "      <td>&lt;http://dbpedia.org/resource/Leon_Hapgood&gt;</td>\n",
       "      <td>Leon Hapgood</td>\n",
       "      <td>leon duane hapgood born 7 august 1979is an eng...</td>\n",
       "    </tr>\n",
       "    <tr>\n",
       "      <th>29</th>\n",
       "      <td>&lt;http://dbpedia.org/resource/Emily_Osment&gt;</td>\n",
       "      <td>Emily Osment</td>\n",
       "      <td>emily jordan osment born march 10 1992 is an a...</td>\n",
       "    </tr>\n",
       "    <tr>\n",
       "      <th>30</th>\n",
       "      <td>&lt;http://dbpedia.org/resource/Dom_Flora&gt;</td>\n",
       "      <td>Dom Flora</td>\n",
       "      <td>dominick a dom flora born june 12 1935 is an a...</td>\n",
       "    </tr>\n",
       "    <tr>\n",
       "      <th>...</th>\n",
       "      <td>...</td>\n",
       "      <td>...</td>\n",
       "      <td>...</td>\n",
       "    </tr>\n",
       "    <tr>\n",
       "      <th>59041</th>\n",
       "      <td>&lt;http://dbpedia.org/resource/Mokob%C3%A9&gt;</td>\n",
       "      <td>Mokob%C3%A9</td>\n",
       "      <td>mokob traor better known by the mononym mokob ...</td>\n",
       "    </tr>\n",
       "    <tr>\n",
       "      <th>59042</th>\n",
       "      <td>&lt;http://dbpedia.org/resource/F._Enzio_Busche&gt;</td>\n",
       "      <td>F. Enzio Busche</td>\n",
       "      <td>friedrich enzio busche born 5 april 1930 dortm...</td>\n",
       "    </tr>\n",
       "    <tr>\n",
       "      <th>59043</th>\n",
       "      <td>&lt;http://dbpedia.org/resource/Christian_Wiman&gt;</td>\n",
       "      <td>Christian Wiman</td>\n",
       "      <td>christian wiman is an american poet and editor...</td>\n",
       "    </tr>\n",
       "    <tr>\n",
       "      <th>59044</th>\n",
       "      <td>&lt;http://dbpedia.org/resource/Ellyn_Setnor_Bogd...</td>\n",
       "      <td>Ellyn Setnor Bogdanoff</td>\n",
       "      <td>ellyn setnor bogdanoff born october 17 1959 wa...</td>\n",
       "    </tr>\n",
       "    <tr>\n",
       "      <th>59045</th>\n",
       "      <td>&lt;http://dbpedia.org/resource/Katya_Adler&gt;</td>\n",
       "      <td>Katya Adler</td>\n",
       "      <td>katya adler born 1972 is a british journalist ...</td>\n",
       "    </tr>\n",
       "    <tr>\n",
       "      <th>59046</th>\n",
       "      <td>&lt;http://dbpedia.org/resource/Anthony-Noel_Kelly&gt;</td>\n",
       "      <td>Anthony-Noel Kelly</td>\n",
       "      <td>anthonynoel kelly born 1956 is a british artis...</td>\n",
       "    </tr>\n",
       "    <tr>\n",
       "      <th>59047</th>\n",
       "      <td>&lt;http://dbpedia.org/resource/Mignon_Clyburn&gt;</td>\n",
       "      <td>Mignon Clyburn</td>\n",
       "      <td>mignon l clyburn born march 22 1962 is a commi...</td>\n",
       "    </tr>\n",
       "    <tr>\n",
       "      <th>59048</th>\n",
       "      <td>&lt;http://dbpedia.org/resource/Charles_A._Miller&gt;</td>\n",
       "      <td>Charles A. Miller</td>\n",
       "      <td>charles a miller born october 27 1937 in washi...</td>\n",
       "    </tr>\n",
       "    <tr>\n",
       "      <th>59049</th>\n",
       "      <td>&lt;http://dbpedia.org/resource/Rodolfo_Parada&gt;</td>\n",
       "      <td>Rodolfo Parada</td>\n",
       "      <td>rodolfo parada lillo is a chilean musician com...</td>\n",
       "    </tr>\n",
       "    <tr>\n",
       "      <th>59050</th>\n",
       "      <td>&lt;http://dbpedia.org/resource/Giwi_Margwelaschw...</td>\n",
       "      <td>Giwi Margwelaschwili</td>\n",
       "      <td>giwi margwelaschwili georgian born december 14...</td>\n",
       "    </tr>\n",
       "    <tr>\n",
       "      <th>59051</th>\n",
       "      <td>&lt;http://dbpedia.org/resource/Geoffrey_Kipsang&gt;</td>\n",
       "      <td>Geoffrey Kipsang</td>\n",
       "      <td>geoffrey kipsang kamworor born 22 november 199...</td>\n",
       "    </tr>\n",
       "    <tr>\n",
       "      <th>59052</th>\n",
       "      <td>&lt;http://dbpedia.org/resource/Dave_Nilsson&gt;</td>\n",
       "      <td>Dave Nilsson</td>\n",
       "      <td>david wayne nilsson born 14 december 1969 is a...</td>\n",
       "    </tr>\n",
       "    <tr>\n",
       "      <th>59053</th>\n",
       "      <td>&lt;http://dbpedia.org/resource/Jessica_Jordan&gt;</td>\n",
       "      <td>Jessica Jordan</td>\n",
       "      <td>jessica anne jordan burton born 6 may 1984 in ...</td>\n",
       "    </tr>\n",
       "    <tr>\n",
       "      <th>59054</th>\n",
       "      <td>&lt;http://dbpedia.org/resource/Marina_Mulyayeva&gt;</td>\n",
       "      <td>Marina Mulyayeva</td>\n",
       "      <td>marina vladimirovna mulyayeva kazakh born apri...</td>\n",
       "    </tr>\n",
       "    <tr>\n",
       "      <th>59055</th>\n",
       "      <td>&lt;http://dbpedia.org/resource/Jo%C3%ABl_de_Rosnay&gt;</td>\n",
       "      <td>Jo%C3%ABl de Rosnay</td>\n",
       "      <td>jol de rosnay born 1937 phd from the massachus...</td>\n",
       "    </tr>\n",
       "    <tr>\n",
       "      <th>59056</th>\n",
       "      <td>&lt;http://dbpedia.org/resource/Amy_Jenkins&gt;</td>\n",
       "      <td>Amy Jenkins</td>\n",
       "      <td>amy jenkins born 1966 in london is an english ...</td>\n",
       "    </tr>\n",
       "    <tr>\n",
       "      <th>59057</th>\n",
       "      <td>&lt;http://dbpedia.org/resource/Roy_Zimmerman_(sa...</td>\n",
       "      <td>Roy Zimmerman (satirist)</td>\n",
       "      <td>roy zimmerman born october 7 1957 is an americ...</td>\n",
       "    </tr>\n",
       "    <tr>\n",
       "      <th>59058</th>\n",
       "      <td>&lt;http://dbpedia.org/resource/George_Krause&gt;</td>\n",
       "      <td>George Krause</td>\n",
       "      <td>george krause born 1937 philadelphia pennsylva...</td>\n",
       "    </tr>\n",
       "    <tr>\n",
       "      <th>59059</th>\n",
       "      <td>&lt;http://dbpedia.org/resource/Sean_Slade&gt;</td>\n",
       "      <td>Sean Slade</td>\n",
       "      <td>sean slade b november 14 1957 lansing michigan...</td>\n",
       "    </tr>\n",
       "    <tr>\n",
       "      <th>59060</th>\n",
       "      <td>&lt;http://dbpedia.org/resource/Lynne_Lipton&gt;</td>\n",
       "      <td>Lynne Lipton</td>\n",
       "      <td>lynne lipton is an american film stage televis...</td>\n",
       "    </tr>\n",
       "    <tr>\n",
       "      <th>59061</th>\n",
       "      <td>&lt;http://dbpedia.org/resource/Rod_Wilt&gt;</td>\n",
       "      <td>Rod Wilt</td>\n",
       "      <td>rod wilt is a former republican member of the ...</td>\n",
       "    </tr>\n",
       "    <tr>\n",
       "      <th>59062</th>\n",
       "      <td>&lt;http://dbpedia.org/resource/Scott_Baker_(judge)&gt;</td>\n",
       "      <td>Scott Baker (judge)</td>\n",
       "      <td>sir thomas scott gillespie baker born 10 decem...</td>\n",
       "    </tr>\n",
       "    <tr>\n",
       "      <th>59063</th>\n",
       "      <td>&lt;http://dbpedia.org/resource/Dragoljub_Ojdani%...</td>\n",
       "      <td>Dragoljub Ojdani%C4%87</td>\n",
       "      <td>dragoljub ojdani serbian cyrillic born june 1 ...</td>\n",
       "    </tr>\n",
       "    <tr>\n",
       "      <th>59064</th>\n",
       "      <td>&lt;http://dbpedia.org/resource/Oz_Bengur&gt;</td>\n",
       "      <td>Oz Bengur</td>\n",
       "      <td>osman oz bengur born february 23 1949 is an am...</td>\n",
       "    </tr>\n",
       "    <tr>\n",
       "      <th>59065</th>\n",
       "      <td>&lt;http://dbpedia.org/resource/Dee_Brown_(basket...</td>\n",
       "      <td>Dee Brown (basketball, born 1968)</td>\n",
       "      <td>decovan kadell dee brown born november 29 1968...</td>\n",
       "    </tr>\n",
       "    <tr>\n",
       "      <th>59066</th>\n",
       "      <td>&lt;http://dbpedia.org/resource/Olari_Elts&gt;</td>\n",
       "      <td>Olari Elts</td>\n",
       "      <td>olari elts born april 27 1971 in tallinn eston...</td>\n",
       "    </tr>\n",
       "    <tr>\n",
       "      <th>59067</th>\n",
       "      <td>&lt;http://dbpedia.org/resource/Scott_F._Crago&gt;</td>\n",
       "      <td>Scott F. Crago</td>\n",
       "      <td>scott francis crago born july 26 1963 twin bro...</td>\n",
       "    </tr>\n",
       "    <tr>\n",
       "      <th>59068</th>\n",
       "      <td>&lt;http://dbpedia.org/resource/David_Cass_(footb...</td>\n",
       "      <td>David Cass (footballer)</td>\n",
       "      <td>david william royce cass born 27 march 1962 in...</td>\n",
       "    </tr>\n",
       "    <tr>\n",
       "      <th>59069</th>\n",
       "      <td>&lt;http://dbpedia.org/resource/Keith_Elias&gt;</td>\n",
       "      <td>Keith Elias</td>\n",
       "      <td>keith hector elias born february 3 1972 in lac...</td>\n",
       "    </tr>\n",
       "    <tr>\n",
       "      <th>59070</th>\n",
       "      <td>&lt;http://dbpedia.org/resource/Fawaz_Damrah&gt;</td>\n",
       "      <td>Fawaz Damrah</td>\n",
       "      <td>fawaz mohammed damrah arabic fawwz damra was t...</td>\n",
       "    </tr>\n",
       "  </tbody>\n",
       "</table>\n",
       "<p>59070 rows × 3 columns</p>\n",
       "</div>"
      ],
      "text/plain": [
       "                                                     URI  \\\n",
       "0            <http://dbpedia.org/resource/Digby_Morrell>   \n",
       "2            <http://dbpedia.org/resource/Harpdog_Brown>   \n",
       "3      <http://dbpedia.org/resource/Franz_Rottensteiner>   \n",
       "4                   <http://dbpedia.org/resource/G-Enka>   \n",
       "5            <http://dbpedia.org/resource/Sam_Henderson>   \n",
       "6            <http://dbpedia.org/resource/Aaron_LaCrate>   \n",
       "7          <http://dbpedia.org/resource/Trevor_Ferguson>   \n",
       "8             <http://dbpedia.org/resource/Grant_Nelson>   \n",
       "9             <http://dbpedia.org/resource/Cathy_Caruth>   \n",
       "10            <http://dbpedia.org/resource/Sophie_Crumb>   \n",
       "11           <http://dbpedia.org/resource/Jenn_Ashworth>   \n",
       "12        <http://dbpedia.org/resource/Jonathan_Hoefler>   \n",
       "13     <http://dbpedia.org/resource/Anthony_Gueterboc...   \n",
       "14      <http://dbpedia.org/resource/David_Chernushenko>   \n",
       "15          <http://dbpedia.org/resource/Joerg_Steineck>   \n",
       "16          <http://dbpedia.org/resource/Andrew_Pinsent>   \n",
       "17     <http://dbpedia.org/resource/Paddy_Dunne_(Gael...   \n",
       "18       <http://dbpedia.org/resource/Alexandros_Mouzas>   \n",
       "19     <http://dbpedia.org/resource/John_Angus_Campbell>   \n",
       "20          <http://dbpedia.org/resource/Chris_Batstone>   \n",
       "21           <http://dbpedia.org/resource/Ceiron_Thomas>   \n",
       "22            <http://dbpedia.org/resource/Adel_Sellimi>   \n",
       "23           <http://dbpedia.org/resource/Faith_Soloway>   \n",
       "24            <http://dbpedia.org/resource/Tom_Jennings>   \n",
       "25             <http://dbpedia.org/resource/Vic_Stasiuk>   \n",
       "26         <http://dbpedia.org/resource/Anthony_Caruana>   \n",
       "27     <http://dbpedia.org/resource/Ian_Mitchell_(aut...   \n",
       "28            <http://dbpedia.org/resource/Leon_Hapgood>   \n",
       "29            <http://dbpedia.org/resource/Emily_Osment>   \n",
       "30               <http://dbpedia.org/resource/Dom_Flora>   \n",
       "...                                                  ...   \n",
       "59041          <http://dbpedia.org/resource/Mokob%C3%A9>   \n",
       "59042      <http://dbpedia.org/resource/F._Enzio_Busche>   \n",
       "59043      <http://dbpedia.org/resource/Christian_Wiman>   \n",
       "59044  <http://dbpedia.org/resource/Ellyn_Setnor_Bogd...   \n",
       "59045          <http://dbpedia.org/resource/Katya_Adler>   \n",
       "59046   <http://dbpedia.org/resource/Anthony-Noel_Kelly>   \n",
       "59047       <http://dbpedia.org/resource/Mignon_Clyburn>   \n",
       "59048    <http://dbpedia.org/resource/Charles_A._Miller>   \n",
       "59049       <http://dbpedia.org/resource/Rodolfo_Parada>   \n",
       "59050  <http://dbpedia.org/resource/Giwi_Margwelaschw...   \n",
       "59051     <http://dbpedia.org/resource/Geoffrey_Kipsang>   \n",
       "59052         <http://dbpedia.org/resource/Dave_Nilsson>   \n",
       "59053       <http://dbpedia.org/resource/Jessica_Jordan>   \n",
       "59054     <http://dbpedia.org/resource/Marina_Mulyayeva>   \n",
       "59055  <http://dbpedia.org/resource/Jo%C3%ABl_de_Rosnay>   \n",
       "59056          <http://dbpedia.org/resource/Amy_Jenkins>   \n",
       "59057  <http://dbpedia.org/resource/Roy_Zimmerman_(sa...   \n",
       "59058        <http://dbpedia.org/resource/George_Krause>   \n",
       "59059           <http://dbpedia.org/resource/Sean_Slade>   \n",
       "59060         <http://dbpedia.org/resource/Lynne_Lipton>   \n",
       "59061             <http://dbpedia.org/resource/Rod_Wilt>   \n",
       "59062  <http://dbpedia.org/resource/Scott_Baker_(judge)>   \n",
       "59063  <http://dbpedia.org/resource/Dragoljub_Ojdani%...   \n",
       "59064            <http://dbpedia.org/resource/Oz_Bengur>   \n",
       "59065  <http://dbpedia.org/resource/Dee_Brown_(basket...   \n",
       "59066           <http://dbpedia.org/resource/Olari_Elts>   \n",
       "59067       <http://dbpedia.org/resource/Scott_F._Crago>   \n",
       "59068  <http://dbpedia.org/resource/David_Cass_(footb...   \n",
       "59069          <http://dbpedia.org/resource/Keith_Elias>   \n",
       "59070         <http://dbpedia.org/resource/Fawaz_Damrah>   \n",
       "\n",
       "                                          name  \\\n",
       "0                                Digby Morrell   \n",
       "2                                Harpdog Brown   \n",
       "3                          Franz Rottensteiner   \n",
       "4                                       G-Enka   \n",
       "5                                Sam Henderson   \n",
       "6                                Aaron LaCrate   \n",
       "7                              Trevor Ferguson   \n",
       "8                                 Grant Nelson   \n",
       "9                                 Cathy Caruth   \n",
       "10                                Sophie Crumb   \n",
       "11                               Jenn Ashworth   \n",
       "12                            Jonathan Hoefler   \n",
       "13     Anthony Gueterbock, 18th Baron Berkeley   \n",
       "14                          David Chernushenko   \n",
       "15                              Joerg Steineck   \n",
       "16                              Andrew Pinsent   \n",
       "17             Paddy Dunne (Gaelic footballer)   \n",
       "18                           Alexandros Mouzas   \n",
       "19                         John Angus Campbell   \n",
       "20                              Chris Batstone   \n",
       "21                               Ceiron Thomas   \n",
       "22                                Adel Sellimi   \n",
       "23                               Faith Soloway   \n",
       "24                                Tom Jennings   \n",
       "25                                 Vic Stasiuk   \n",
       "26                             Anthony Caruana   \n",
       "27                       Ian Mitchell (author)   \n",
       "28                                Leon Hapgood   \n",
       "29                                Emily Osment   \n",
       "30                                   Dom Flora   \n",
       "...                                        ...   \n",
       "59041                              Mokob%C3%A9   \n",
       "59042                          F. Enzio Busche   \n",
       "59043                          Christian Wiman   \n",
       "59044                   Ellyn Setnor Bogdanoff   \n",
       "59045                              Katya Adler   \n",
       "59046                       Anthony-Noel Kelly   \n",
       "59047                           Mignon Clyburn   \n",
       "59048                        Charles A. Miller   \n",
       "59049                           Rodolfo Parada   \n",
       "59050                     Giwi Margwelaschwili   \n",
       "59051                         Geoffrey Kipsang   \n",
       "59052                             Dave Nilsson   \n",
       "59053                           Jessica Jordan   \n",
       "59054                         Marina Mulyayeva   \n",
       "59055                      Jo%C3%ABl de Rosnay   \n",
       "59056                              Amy Jenkins   \n",
       "59057                 Roy Zimmerman (satirist)   \n",
       "59058                            George Krause   \n",
       "59059                               Sean Slade   \n",
       "59060                             Lynne Lipton   \n",
       "59061                                 Rod Wilt   \n",
       "59062                      Scott Baker (judge)   \n",
       "59063                   Dragoljub Ojdani%C4%87   \n",
       "59064                                Oz Bengur   \n",
       "59065        Dee Brown (basketball, born 1968)   \n",
       "59066                               Olari Elts   \n",
       "59067                           Scott F. Crago   \n",
       "59068                  David Cass (footballer)   \n",
       "59069                              Keith Elias   \n",
       "59070                             Fawaz Damrah   \n",
       "\n",
       "                                                    text  \n",
       "0      digby morrell born 10 october 1979 is a former...  \n",
       "2      harpdog brown is a singer and harmonica player...  \n",
       "3      franz rottensteiner born in waidmannsfeld lowe...  \n",
       "4      henry krvits born 30 december 1974 in tallinn ...  \n",
       "5      sam henderson born october 18 1969 is an ameri...  \n",
       "6      aaron lacrate is an american music producer re...  \n",
       "7      trevor ferguson aka john farrow born 11 novemb...  \n",
       "8      grant nelson born 27 april 1971 in london also...  \n",
       "9      cathy caruth born 1955 is frank h t rhodes pro...  \n",
       "10     sophia violet sophie crumb born september 27 1...  \n",
       "11     jenn ashworth is an english writer she was bor...  \n",
       "12     jonathan hoefler born august 22 1970 is an ame...  \n",
       "13     anthony fitzhardinge gueterbock 18th baron ber...  \n",
       "14     david chernushenko born june 1963 in calgary a...  \n",
       "15     joerg steineck is a german filmmaker editor an...  \n",
       "16     fr andrew pinsent born 19 august 1966 is resea...  \n",
       "17     paddy dunne was a gaelic football player from ...  \n",
       "18     alexandros mouzas born 1962 is a greek compose...  \n",
       "19     john angus campbell born march 10 1942 in port...  \n",
       "20     chris batstone was the 20002002 lead singer of...  \n",
       "21     ceiron thomas born 23 october 1983 is a welsh ...  \n",
       "22     adel sellimi arabic was born on 16 november 19...  \n",
       "23     faith soloway born march 28 1964 is an america...  \n",
       "24     tom jennings born 1955 as thomas daniel jennin...  \n",
       "25     victor john stasiuk born may 23 1929 is a reti...  \n",
       "26     anthony caruana born 2 january 1968 is a melbo...  \n",
       "27     ian mitchell is a scottish author who grew up ...  \n",
       "28     leon duane hapgood born 7 august 1979is an eng...  \n",
       "29     emily jordan osment born march 10 1992 is an a...  \n",
       "30     dominick a dom flora born june 12 1935 is an a...  \n",
       "...                                                  ...  \n",
       "59041  mokob traor better known by the mononym mokob ...  \n",
       "59042  friedrich enzio busche born 5 april 1930 dortm...  \n",
       "59043  christian wiman is an american poet and editor...  \n",
       "59044  ellyn setnor bogdanoff born october 17 1959 wa...  \n",
       "59045  katya adler born 1972 is a british journalist ...  \n",
       "59046  anthonynoel kelly born 1956 is a british artis...  \n",
       "59047  mignon l clyburn born march 22 1962 is a commi...  \n",
       "59048  charles a miller born october 27 1937 in washi...  \n",
       "59049  rodolfo parada lillo is a chilean musician com...  \n",
       "59050  giwi margwelaschwili georgian born december 14...  \n",
       "59051  geoffrey kipsang kamworor born 22 november 199...  \n",
       "59052  david wayne nilsson born 14 december 1969 is a...  \n",
       "59053  jessica anne jordan burton born 6 may 1984 in ...  \n",
       "59054  marina vladimirovna mulyayeva kazakh born apri...  \n",
       "59055  jol de rosnay born 1937 phd from the massachus...  \n",
       "59056  amy jenkins born 1966 in london is an english ...  \n",
       "59057  roy zimmerman born october 7 1957 is an americ...  \n",
       "59058  george krause born 1937 philadelphia pennsylva...  \n",
       "59059  sean slade b november 14 1957 lansing michigan...  \n",
       "59060  lynne lipton is an american film stage televis...  \n",
       "59061  rod wilt is a former republican member of the ...  \n",
       "59062  sir thomas scott gillespie baker born 10 decem...  \n",
       "59063  dragoljub ojdani serbian cyrillic born june 1 ...  \n",
       "59064  osman oz bengur born february 23 1949 is an am...  \n",
       "59065  decovan kadell dee brown born november 29 1968...  \n",
       "59066  olari elts born april 27 1971 in tallinn eston...  \n",
       "59067  scott francis crago born july 26 1963 twin bro...  \n",
       "59068  david william royce cass born 27 march 1962 in...  \n",
       "59069  keith hector elias born february 3 1972 in lac...  \n",
       "59070  fawaz mohammed damrah arabic fawwz damra was t...  \n",
       "\n",
       "[59070 rows x 3 columns]"
      ]
     },
     "execution_count": 83,
     "metadata": {},
     "output_type": "execute_result"
    }
   ],
   "source": [
    "wiki[assignment_tmp_df[0] == 0]"
   ]
  },
  {
   "cell_type": "code",
   "execution_count": 76,
   "metadata": {},
   "outputs": [
    {
     "data": {
      "text/plain": [
       "array([[0.00000000e+00, 0.00000000e+00, 0.00000000e+00, ...,\n",
       "        3.94441209e-05, 7.61118518e-05, 2.07510998e-06]])"
      ]
     },
     "execution_count": 76,
     "metadata": {},
     "output_type": "execute_result"
    }
   ],
   "source": [
    "tf_idf[assignment_tmp == 1].toarray()"
   ]
  },
  {
   "cell_type": "code",
   "execution_count": 86,
   "metadata": {},
   "outputs": [
    {
     "data": {
      "text/plain": [
       "<11510x547979 sparse matrix of type '<class 'numpy.float64'>'\n",
       "\twith 1885831 stored elements in Compressed Sparse Row format>"
      ]
     },
     "execution_count": 86,
     "metadata": {},
     "output_type": "execute_result"
    }
   ],
   "source": [
    "left_child['matrix']"
   ]
  },
  {
   "cell_type": "code",
   "execution_count": 70,
   "metadata": {},
   "outputs": [
    {
     "data": {
      "text/plain": [
       "array([[0.00000000e+00, 0.00000000e+00, 0.00000000e+00, ...,\n",
       "        1.61305464e-04, 3.83085501e-05, 3.52499352e-05]])"
      ]
     },
     "execution_count": 70,
     "metadata": {},
     "output_type": "execute_result"
    }
   ],
   "source": [
    "left_child['matrix'][0].toarray()"
   ]
  },
  {
   "cell_type": "code",
   "execution_count": 117,
   "metadata": {},
   "outputs": [],
   "source": [
    "distances = pairwise_distances(tf_idf, [left_child['centroid'], right_child['centroid']], metric='euclidean')"
   ]
  },
  {
   "cell_type": "code",
   "execution_count": 118,
   "metadata": {},
   "outputs": [],
   "source": [
    "assignment = distances.argmin(axis=1)"
   ]
  },
  {
   "cell_type": "code",
   "execution_count": 119,
   "metadata": {},
   "outputs": [
    {
     "data": {
      "text/plain": [
       "array([[0.97235187, 0.99832177],\n",
       "       [1.01011505, 0.99938693],\n",
       "       [1.00223891, 0.99429088],\n",
       "       ...,\n",
       "       [0.99121121, 0.99940234],\n",
       "       [0.9788349 , 0.99641063],\n",
       "       [1.00705551, 0.99743785]])"
      ]
     },
     "execution_count": 119,
     "metadata": {},
     "output_type": "execute_result"
    }
   ],
   "source": [
    "distances"
   ]
  },
  {
   "cell_type": "code",
   "execution_count": 120,
   "metadata": {},
   "outputs": [
    {
     "data": {
      "text/plain": [
       "array([0, 1, 1, ..., 0, 0, 1])"
      ]
     },
     "execution_count": 120,
     "metadata": {},
     "output_type": "execute_result"
    }
   ],
   "source": [
    "assignment"
   ]
  },
  {
   "cell_type": "code",
   "execution_count": 124,
   "metadata": {},
   "outputs": [
    {
     "data": {
      "text/plain": [
       "11510"
      ]
     },
     "execution_count": 124,
     "metadata": {},
     "output_type": "execute_result"
    }
   ],
   "source": [
    "(assignment == 0).sum()"
   ]
  },
  {
   "cell_type": "code",
   "execution_count": 122,
   "metadata": {},
   "outputs": [
    {
     "data": {
      "text/plain": [
       "11510"
      ]
     },
     "execution_count": 122,
     "metadata": {},
     "output_type": "execute_result"
    }
   ],
   "source": [
    "left_child['matrix'].shape[0]"
   ]
  },
  {
   "cell_type": "code",
   "execution_count": 134,
   "metadata": {
    "scrolled": true
   },
   "outputs": [
    {
     "data": {
      "text/plain": [
       "0        0\n",
       "1        1\n",
       "2        1\n",
       "3        1\n",
       "4        1\n",
       "5        1\n",
       "6        1\n",
       "7        1\n",
       "8        1\n",
       "9        1\n",
       "10       1\n",
       "11       1\n",
       "12       1\n",
       "13       1\n",
       "14       1\n",
       "15       1\n",
       "16       1\n",
       "17       0\n",
       "18       1\n",
       "19       1\n",
       "20       1\n",
       "21       0\n",
       "22       0\n",
       "23       1\n",
       "24       1\n",
       "25       0\n",
       "26       1\n",
       "27       1\n",
       "28       0\n",
       "29       1\n",
       "        ..\n",
       "59041    1\n",
       "59042    1\n",
       "59043    1\n",
       "59044    1\n",
       "59045    1\n",
       "59046    1\n",
       "59047    1\n",
       "59048    1\n",
       "59049    1\n",
       "59050    1\n",
       "59051    0\n",
       "59052    0\n",
       "59053    1\n",
       "59054    1\n",
       "59055    1\n",
       "59056    1\n",
       "59057    1\n",
       "59058    1\n",
       "59059    1\n",
       "59060    1\n",
       "59061    1\n",
       "59062    1\n",
       "59063    1\n",
       "59064    1\n",
       "59065    0\n",
       "59066    1\n",
       "59067    1\n",
       "59068    0\n",
       "59069    0\n",
       "59070    1\n",
       "Length: 59071, dtype: int64"
      ]
     },
     "execution_count": 134,
     "metadata": {},
     "output_type": "execute_result"
    }
   ],
   "source": [
    "pd.Series(assignment)"
   ]
  },
  {
   "cell_type": "code",
   "execution_count": 142,
   "metadata": {},
   "outputs": [
    {
     "data": {
      "text/plain": [
       "pandas.core.series.Series"
      ]
     },
     "execution_count": 142,
     "metadata": {},
     "output_type": "execute_result"
    }
   ],
   "source": [
    "type(wiki['name'] == 'Digby Morrell')"
   ]
  },
  {
   "cell_type": "code",
   "execution_count": 146,
   "metadata": {},
   "outputs": [],
   "source": [
    "left_child['dataframe'] = wiki[pd.Series(assignment) == 0]"
   ]
  },
  {
   "cell_type": "code",
   "execution_count": 147,
   "metadata": {},
   "outputs": [],
   "source": [
    "right_child['dataframe'] = wiki[pd.Series(assignment) == 1]"
   ]
  },
  {
   "cell_type": "markdown",
   "metadata": {},
   "source": [
    "## Visualize the bipartition"
   ]
  },
  {
   "cell_type": "code",
   "execution_count": null,
   "metadata": {},
   "outputs": [],
   "source": [
    "len(wiki)"
   ]
  },
  {
   "cell_type": "code",
   "execution_count": 173,
   "metadata": {},
   "outputs": [],
   "source": [
    "def display_single_tf_idf_cluster(cluster, map_index_to_word):\n",
    "    '''map_index_to_word: Dataframe specifying the mapping between words and column indices\n",
    "    '''\n",
    "    \n",
    "    wiki_subset = cluster['dataframe']\n",
    "    tf_idf_subset = cluster['matrix']\n",
    "    centroid = cluster['centroid']\n",
    "    \n",
    "    # Print top 5 words with largest TF-IDF weights in the cluster\n",
    "    idx = centroid.argsort()[::-1]\n",
    "    \n",
    "    for i in range(5):\n",
    "        print ('{0:s}:{1:.3f}'.format(map_index_to_word[idx[i]], centroid[idx[i]]))\n",
    "    \n",
    "    print ('')\n",
    "    \n",
    "    # Compute distances from the centroid to all data points in the cluster\n",
    "    distances = pairwise_distances(tf_idf_subset, [centroid], metric='euclidean').flatten()\n",
    "    \n",
    "    # Compute nearest neighbors of the centroid within the cluster\n",
    "    nearest_neighbors = distances.argsort()\n",
    "    \n",
    "    # For 8 nearest neighbors, print the title as well as first 180 characters of text\n",
    "    # Wrap the text at 80-character mark\n",
    "    for i in range(8):\n",
    "        text = ' '.join(wiki_subset.iloc[nearest_neighbors[i]]['text'].split(None, 25)[0:25])\n",
    "        print ('* {0:50s} {1:.5f}\\n {2:s}\\n {3:s}'.format(\n",
    "            wiki_subset.iloc[nearest_neighbors[i]]['name'],\n",
    "            distances[nearest_neighbors[i]], text[:90], text[90:180] if len(text) > 90 else ''))\n",
    "        \n",
    "    \n",
    "    print('')"
   ]
  },
  {
   "cell_type": "code",
   "execution_count": 176,
   "metadata": {},
   "outputs": [],
   "source": [
    "import string"
   ]
  },
  {
   "cell_type": "code",
   "execution_count": 178,
   "metadata": {},
   "outputs": [
    {
     "ename": "TypeError",
     "evalue": "must be str or None, not int",
     "output_type": "error",
     "traceback": [
      "\u001b[0;31m---------------------------------------------------------------------------\u001b[0m",
      "\u001b[0;31mTypeError\u001b[0m                                 Traceback (most recent call last)",
      "\u001b[0;32m<ipython-input-178-47428954b759>\u001b[0m in \u001b[0;36m<module>\u001b[0;34m\u001b[0m\n\u001b[0;32m----> 1\u001b[0;31m \u001b[0;34m'a'\u001b[0m\u001b[0;34m.\u001b[0m\u001b[0msplit\u001b[0m\u001b[0;34m(\u001b[0m\u001b[0;36m3\u001b[0m\u001b[0;34m)\u001b[0m\u001b[0;34m\u001b[0m\u001b[0;34m\u001b[0m\u001b[0m\n\u001b[0m",
      "\u001b[0;31mTypeError\u001b[0m: must be str or None, not int"
     ]
    }
   ],
   "source": [
    "'a'.split(3)"
   ]
  },
  {
   "cell_type": "code",
   "execution_count": 182,
   "metadata": {},
   "outputs": [
    {
     "name": "stdout",
     "output_type": "stream",
     "text": [
      "Object `string.split` not found.\n"
     ]
    }
   ],
   "source": [
    "string.split?"
   ]
  },
  {
   "cell_type": "code",
   "execution_count": 181,
   "metadata": {},
   "outputs": [
    {
     "data": {
      "text/plain": [
       "['adfdfdf', 'df', 'fdf df ']"
      ]
     },
     "execution_count": 181,
     "metadata": {},
     "output_type": "execute_result"
    }
   ],
   "source": [
    "'adfdfdf df fdf df '.split(None, 2)"
   ]
  },
  {
   "cell_type": "code",
   "execution_count": null,
   "metadata": {},
   "outputs": [],
   "source": [
    "'a'.split"
   ]
  },
  {
   "cell_type": "code",
   "execution_count": 162,
   "metadata": {},
   "outputs": [
    {
     "data": {
      "text/plain": [
       "0    digby morrell born 10 october 1979 is a former...\n",
       "1    alfred j lewy aka sandy lewy graduated from un...\n",
       "Name: text, dtype: object"
      ]
     },
     "execution_count": 162,
     "metadata": {},
     "output_type": "execute_result"
    }
   ],
   "source": [
    "wiki.iloc[[0,1]]['text']"
   ]
  },
  {
   "cell_type": "code",
   "execution_count": 149,
   "metadata": {
    "scrolled": true
   },
   "outputs": [
    {
     "data": {
      "text/plain": [
       "301032"
      ]
     },
     "execution_count": 149,
     "metadata": {},
     "output_type": "execute_result"
    }
   ],
   "source": [
    "map_index_to_word_series[261765]"
   ]
  },
  {
   "cell_type": "code",
   "execution_count": 150,
   "metadata": {},
   "outputs": [
    {
     "data": {
      "text/plain": [
       "{'a': 1, 'b': 2}"
      ]
     },
     "execution_count": 150,
     "metadata": {},
     "output_type": "execute_result"
    }
   ],
   "source": [
    "dict([('a', 1), ('b',2)])"
   ]
  },
  {
   "cell_type": "code",
   "execution_count": 151,
   "metadata": {},
   "outputs": [
    {
     "name": "stdout",
     "output_type": "stream",
     "text": [
      "biennials 522004\n",
      "lb915 116290\n",
      "shatzky 127647\n",
      "woode 174106\n",
      "damfunk 133206\n",
      "nualart 153444\n",
      "hatefillot 164111\n",
      "missionborn 261765\n",
      "yeardescribed 161075\n",
      "theoryhe 521685\n"
     ]
    }
   ],
   "source": [
    "for u in map_index_to_word_series[:10].keys():\n",
    "    print (u, map_index_to_word_series[u])"
   ]
  },
  {
   "cell_type": "code",
   "execution_count": 101,
   "metadata": {},
   "outputs": [
    {
     "data": {
      "text/plain": [
       "153444"
      ]
     },
     "execution_count": 101,
     "metadata": {},
     "output_type": "execute_result"
    }
   ],
   "source": [
    "map_index_to_word_series['nualart']"
   ]
  },
  {
   "cell_type": "code",
   "execution_count": 104,
   "metadata": {},
   "outputs": [],
   "source": [
    "map_index_to_word = dict([(map_index_to_word_series[word], word) for word in map_index_to_word_series.keys()])"
   ]
  },
  {
   "cell_type": "code",
   "execution_count": 107,
   "metadata": {},
   "outputs": [
    {
     "data": {
      "text/plain": [
       "'woode'"
      ]
     },
     "execution_count": 107,
     "metadata": {},
     "output_type": "execute_result"
    }
   ],
   "source": [
    "map_index_to_word[174106]"
   ]
  },
  {
   "cell_type": "code",
   "execution_count": 165,
   "metadata": {},
   "outputs": [
    {
     "name": "stdout",
     "output_type": "stream",
     "text": [
      "league:0.040\n",
      "season:0.036\n",
      "team:0.029\n",
      "football:0.029\n",
      "played:0.028\n",
      "\n",
      "* Todd Williams                                      0.95468\n",
      " todd michael williams born february 13 1971 in syracuse new york is a former major league \n",
      " baseball relief pitcher he attended east syracuseminoa high school\n",
      "* Gord Sherven                                       0.95622\n",
      " gordon r sherven born august 21 1963 in gravelbourg saskatchewan and raised in mankota sas\n",
      " katchewan is a retired canadian professional ice hockey forward who played\n",
      "* Justin Knoedler                                    0.95639\n",
      " justin joseph knoedler born july 17 1980 in springfield illinois is a former major league \n",
      " baseball catcherknoedler was originally drafted by the st louis cardinals\n",
      "* Chris Day                                          0.95648\n",
      " christopher nicholas chris day born 28 july 1975 is an english professional footballer who\n",
      "  plays as a goalkeeper for stevenageday started his career at tottenham\n",
      "* Tony Smith (footballer, born 1957)                 0.95653\n",
      " anthony tony smith born 20 february 1957 is a former footballer who played as a central de\n",
      " fender in the football league in the 1970s and\n",
      "* Ashley Prescott                                    0.95761\n",
      " ashley prescott born 11 september 1972 is a former australian rules footballer he played w\n",
      " ith the richmond and fremantle football clubs in the afl between\n",
      "* Leslie Lea                                         0.95802\n",
      " leslie lea born 5 october 1942 in manchester is an english former professional footballer \n",
      " he played as a midfielderlea began his professional career with blackpool\n",
      "* Tommy Anderson (footballer)                        0.95818\n",
      " thomas cowan tommy anderson born 24 september 1934 in haddington is a scottish former prof\n",
      " essional footballer he played as a forward and was noted for\n",
      "\n",
      "she:0.025\n",
      "her:0.017\n",
      "music:0.012\n",
      "he:0.011\n",
      "university:0.011\n",
      "\n",
      "* Anita Kunz                                         0.97401\n",
      " anita e kunz oc born 1956 is a canadianborn artist and illustratorkunz has lived in london\n",
      "  new york and toronto contributing to magazines and working\n",
      "* Janet Jackson                                      0.97472\n",
      " janet damita jo jackson born may 16 1966 is an american singer songwriter and actress know\n",
      " n for a series of sonically innovative socially conscious and\n",
      "* Madonna (entertainer)                              0.97475\n",
      " madonna louise ciccone tkoni born august 16 1958 is an american singer songwriter actress \n",
      " and businesswoman she achieved popularity by pushing the boundaries of lyrical\n",
      "* %C3%81ine Hyland                                   0.97536\n",
      " ine hyland ne donlon is emeritus professor of education and former vicepresident of univer\n",
      " sity college cork ireland she was born in 1942 in athboy co\n",
      "* Jane Fonda                                         0.97621\n",
      " jane fonda born lady jayne seymour fonda december 21 1937 is an american actress writer po\n",
      " litical activist former fashion model and fitness guru she is\n",
      "* Christine Robertson                                0.97643\n",
      " christine mary robertson born 5 october 1948 is an australian politician and former austra\n",
      " lian labor party member of the new south wales legislative council serving\n",
      "* Pat Studdy-Clift                                   0.97643\n",
      " pat studdyclift is an australian author specialising in historical fiction and nonfictionb\n",
      " orn in 1925 she lived in gunnedah until she was sent to a boarding\n",
      "* Alexandra Potter                                   0.97646\n",
      " alexandra potter born 1970 is a british author of romantic comediesborn in bradford yorksh\n",
      " ire england and educated at liverpool university gaining an honors degree in\n",
      "\n"
     ]
    }
   ],
   "source": [
    "display_single_tf_idf_cluster(left_child, map_index_to_word)\n",
    "display_single_tf_idf_cluster(right_child, map_index_to_word)"
   ]
  },
  {
   "cell_type": "markdown",
   "metadata": {},
   "source": [
    "## Perform recursive bipartitioning"
   ]
  },
  {
   "cell_type": "code",
   "execution_count": 166,
   "metadata": {},
   "outputs": [],
   "source": [
    "athletes = left_child\n",
    "non_athletes = right_child"
   ]
  },
  {
   "cell_type": "code",
   "execution_count": 167,
   "metadata": {},
   "outputs": [
    {
     "name": "stdout",
     "output_type": "stream",
     "text": [
      "(11510, 547979)\n",
      "(11510, 3)\n",
      "Done K-means\n"
     ]
    }
   ],
   "source": [
    "# Bipartition the cluster of athletes\n",
    "left_child_athletes, right_child_athletes = bipartition(athletes, maxiter=100, num_runs=6, seed=1)"
   ]
  },
  {
   "cell_type": "code",
   "execution_count": 170,
   "metadata": {},
   "outputs": [
    {
     "name": "stdout",
     "output_type": "stream",
     "text": [
      "league:0.054\n",
      "season:0.043\n",
      "football:0.038\n",
      "played:0.035\n",
      "coach:0.030\n",
      "\n"
     ]
    },
    {
     "ename": "KeyError",
     "evalue": "3439",
     "output_type": "error",
     "traceback": [
      "\u001b[0;31m---------------------------------------------------------------------------\u001b[0m",
      "\u001b[0;31mKeyError\u001b[0m                                  Traceback (most recent call last)",
      "\u001b[0;32m~/anaconda2/envs/ds-env/lib/python3.7/site-packages/pandas/core/indexes/base.py\u001b[0m in \u001b[0;36mget_loc\u001b[0;34m(self, key, method, tolerance)\u001b[0m\n\u001b[1;32m   2656\u001b[0m             \u001b[0;32mtry\u001b[0m\u001b[0;34m:\u001b[0m\u001b[0;34m\u001b[0m\u001b[0;34m\u001b[0m\u001b[0m\n\u001b[0;32m-> 2657\u001b[0;31m                 \u001b[0;32mreturn\u001b[0m \u001b[0mself\u001b[0m\u001b[0;34m.\u001b[0m\u001b[0m_engine\u001b[0m\u001b[0;34m.\u001b[0m\u001b[0mget_loc\u001b[0m\u001b[0;34m(\u001b[0m\u001b[0mkey\u001b[0m\u001b[0;34m)\u001b[0m\u001b[0;34m\u001b[0m\u001b[0;34m\u001b[0m\u001b[0m\n\u001b[0m\u001b[1;32m   2658\u001b[0m             \u001b[0;32mexcept\u001b[0m \u001b[0mKeyError\u001b[0m\u001b[0;34m:\u001b[0m\u001b[0;34m\u001b[0m\u001b[0;34m\u001b[0m\u001b[0m\n",
      "\u001b[0;32mpandas/_libs/index.pyx\u001b[0m in \u001b[0;36mpandas._libs.index.IndexEngine.get_loc\u001b[0;34m()\u001b[0m\n",
      "\u001b[0;32mpandas/_libs/index.pyx\u001b[0m in \u001b[0;36mpandas._libs.index.IndexEngine.get_loc\u001b[0;34m()\u001b[0m\n",
      "\u001b[0;32mpandas/_libs/hashtable_class_helper.pxi\u001b[0m in \u001b[0;36mpandas._libs.hashtable.Int64HashTable.get_item\u001b[0;34m()\u001b[0m\n",
      "\u001b[0;32mpandas/_libs/hashtable_class_helper.pxi\u001b[0m in \u001b[0;36mpandas._libs.hashtable.Int64HashTable.get_item\u001b[0;34m()\u001b[0m\n",
      "\u001b[0;31mKeyError\u001b[0m: 3439",
      "\nDuring handling of the above exception, another exception occurred:\n",
      "\u001b[0;31mKeyError\u001b[0m                                  Traceback (most recent call last)",
      "\u001b[0;32m<ipython-input-170-7e2364b27f39>\u001b[0m in \u001b[0;36m<module>\u001b[0;34m\u001b[0m\n\u001b[0;32m----> 1\u001b[0;31m \u001b[0mdisplay_single_tf_idf_cluster\u001b[0m\u001b[0;34m(\u001b[0m\u001b[0mleft_child_athletes\u001b[0m\u001b[0;34m,\u001b[0m \u001b[0mmap_index_to_word\u001b[0m\u001b[0;34m)\u001b[0m\u001b[0;34m\u001b[0m\u001b[0;34m\u001b[0m\u001b[0m\n\u001b[0m",
      "\u001b[0;32m<ipython-input-169-595b1dfb206c>\u001b[0m in \u001b[0;36mdisplay_single_tf_idf_cluster\u001b[0;34m(cluster, map_index_to_word)\u001b[0m\n\u001b[1;32m     24\u001b[0m     \u001b[0;31m# Wrap the text at 80-character mark\u001b[0m\u001b[0;34m\u001b[0m\u001b[0;34m\u001b[0m\u001b[0;34m\u001b[0m\u001b[0m\n\u001b[1;32m     25\u001b[0m     \u001b[0;32mfor\u001b[0m \u001b[0mi\u001b[0m \u001b[0;32min\u001b[0m \u001b[0mrange\u001b[0m\u001b[0;34m(\u001b[0m\u001b[0;36m8\u001b[0m\u001b[0;34m)\u001b[0m\u001b[0;34m:\u001b[0m\u001b[0;34m\u001b[0m\u001b[0;34m\u001b[0m\u001b[0m\n\u001b[0;32m---> 26\u001b[0;31m         \u001b[0mtext\u001b[0m \u001b[0;34m=\u001b[0m \u001b[0;34m' '\u001b[0m\u001b[0;34m.\u001b[0m\u001b[0mjoin\u001b[0m\u001b[0;34m(\u001b[0m\u001b[0mwiki_subset\u001b[0m\u001b[0;34m.\u001b[0m\u001b[0mloc\u001b[0m\u001b[0;34m[\u001b[0m\u001b[0mnearest_neighbors\u001b[0m\u001b[0;34m[\u001b[0m\u001b[0mi\u001b[0m\u001b[0;34m]\u001b[0m\u001b[0;34m]\u001b[0m\u001b[0;34m[\u001b[0m\u001b[0;34m'text'\u001b[0m\u001b[0;34m]\u001b[0m\u001b[0;34m.\u001b[0m\u001b[0msplit\u001b[0m\u001b[0;34m(\u001b[0m\u001b[0;32mNone\u001b[0m\u001b[0;34m,\u001b[0m \u001b[0;36m25\u001b[0m\u001b[0;34m)\u001b[0m\u001b[0;34m[\u001b[0m\u001b[0;36m0\u001b[0m\u001b[0;34m:\u001b[0m\u001b[0;36m25\u001b[0m\u001b[0;34m]\u001b[0m\u001b[0;34m)\u001b[0m\u001b[0;34m\u001b[0m\u001b[0;34m\u001b[0m\u001b[0m\n\u001b[0m\u001b[1;32m     27\u001b[0m         print ('* {0:50s} {1:.5f}\\n {2:s}\\n {3:s}'.format(\n\u001b[1;32m     28\u001b[0m             \u001b[0mwiki_subset\u001b[0m\u001b[0;34m.\u001b[0m\u001b[0mloc\u001b[0m\u001b[0;34m[\u001b[0m\u001b[0mnearest_neighbors\u001b[0m\u001b[0;34m[\u001b[0m\u001b[0mi\u001b[0m\u001b[0;34m]\u001b[0m\u001b[0;34m]\u001b[0m\u001b[0;34m[\u001b[0m\u001b[0;34m'name'\u001b[0m\u001b[0;34m]\u001b[0m\u001b[0;34m,\u001b[0m\u001b[0;34m\u001b[0m\u001b[0;34m\u001b[0m\u001b[0m\n",
      "\u001b[0;32m~/anaconda2/envs/ds-env/lib/python3.7/site-packages/pandas/core/indexing.py\u001b[0m in \u001b[0;36m__getitem__\u001b[0;34m(self, key)\u001b[0m\n\u001b[1;32m   1498\u001b[0m \u001b[0;34m\u001b[0m\u001b[0m\n\u001b[1;32m   1499\u001b[0m             \u001b[0mmaybe_callable\u001b[0m \u001b[0;34m=\u001b[0m \u001b[0mcom\u001b[0m\u001b[0;34m.\u001b[0m\u001b[0mapply_if_callable\u001b[0m\u001b[0;34m(\u001b[0m\u001b[0mkey\u001b[0m\u001b[0;34m,\u001b[0m \u001b[0mself\u001b[0m\u001b[0;34m.\u001b[0m\u001b[0mobj\u001b[0m\u001b[0;34m)\u001b[0m\u001b[0;34m\u001b[0m\u001b[0;34m\u001b[0m\u001b[0m\n\u001b[0;32m-> 1500\u001b[0;31m             \u001b[0;32mreturn\u001b[0m \u001b[0mself\u001b[0m\u001b[0;34m.\u001b[0m\u001b[0m_getitem_axis\u001b[0m\u001b[0;34m(\u001b[0m\u001b[0mmaybe_callable\u001b[0m\u001b[0;34m,\u001b[0m \u001b[0maxis\u001b[0m\u001b[0;34m=\u001b[0m\u001b[0maxis\u001b[0m\u001b[0;34m)\u001b[0m\u001b[0;34m\u001b[0m\u001b[0;34m\u001b[0m\u001b[0m\n\u001b[0m\u001b[1;32m   1501\u001b[0m \u001b[0;34m\u001b[0m\u001b[0m\n\u001b[1;32m   1502\u001b[0m     \u001b[0;32mdef\u001b[0m \u001b[0m_is_scalar_access\u001b[0m\u001b[0;34m(\u001b[0m\u001b[0mself\u001b[0m\u001b[0;34m,\u001b[0m \u001b[0mkey\u001b[0m\u001b[0;34m)\u001b[0m\u001b[0;34m:\u001b[0m\u001b[0;34m\u001b[0m\u001b[0;34m\u001b[0m\u001b[0m\n",
      "\u001b[0;32m~/anaconda2/envs/ds-env/lib/python3.7/site-packages/pandas/core/indexing.py\u001b[0m in \u001b[0;36m_getitem_axis\u001b[0;34m(self, key, axis)\u001b[0m\n\u001b[1;32m   1911\u001b[0m         \u001b[0;31m# fall thru to straight lookup\u001b[0m\u001b[0;34m\u001b[0m\u001b[0;34m\u001b[0m\u001b[0;34m\u001b[0m\u001b[0m\n\u001b[1;32m   1912\u001b[0m         \u001b[0mself\u001b[0m\u001b[0;34m.\u001b[0m\u001b[0m_validate_key\u001b[0m\u001b[0;34m(\u001b[0m\u001b[0mkey\u001b[0m\u001b[0;34m,\u001b[0m \u001b[0maxis\u001b[0m\u001b[0;34m)\u001b[0m\u001b[0;34m\u001b[0m\u001b[0;34m\u001b[0m\u001b[0m\n\u001b[0;32m-> 1913\u001b[0;31m         \u001b[0;32mreturn\u001b[0m \u001b[0mself\u001b[0m\u001b[0;34m.\u001b[0m\u001b[0m_get_label\u001b[0m\u001b[0;34m(\u001b[0m\u001b[0mkey\u001b[0m\u001b[0;34m,\u001b[0m \u001b[0maxis\u001b[0m\u001b[0;34m=\u001b[0m\u001b[0maxis\u001b[0m\u001b[0;34m)\u001b[0m\u001b[0;34m\u001b[0m\u001b[0;34m\u001b[0m\u001b[0m\n\u001b[0m\u001b[1;32m   1914\u001b[0m \u001b[0;34m\u001b[0m\u001b[0m\n\u001b[1;32m   1915\u001b[0m \u001b[0;34m\u001b[0m\u001b[0m\n",
      "\u001b[0;32m~/anaconda2/envs/ds-env/lib/python3.7/site-packages/pandas/core/indexing.py\u001b[0m in \u001b[0;36m_get_label\u001b[0;34m(self, label, axis)\u001b[0m\n\u001b[1;32m    139\u001b[0m             \u001b[0;32mraise\u001b[0m \u001b[0mIndexingError\u001b[0m\u001b[0;34m(\u001b[0m\u001b[0;34m'no slices here, handle elsewhere'\u001b[0m\u001b[0;34m)\u001b[0m\u001b[0;34m\u001b[0m\u001b[0;34m\u001b[0m\u001b[0m\n\u001b[1;32m    140\u001b[0m \u001b[0;34m\u001b[0m\u001b[0m\n\u001b[0;32m--> 141\u001b[0;31m         \u001b[0;32mreturn\u001b[0m \u001b[0mself\u001b[0m\u001b[0;34m.\u001b[0m\u001b[0mobj\u001b[0m\u001b[0;34m.\u001b[0m\u001b[0m_xs\u001b[0m\u001b[0;34m(\u001b[0m\u001b[0mlabel\u001b[0m\u001b[0;34m,\u001b[0m \u001b[0maxis\u001b[0m\u001b[0;34m=\u001b[0m\u001b[0maxis\u001b[0m\u001b[0;34m)\u001b[0m\u001b[0;34m\u001b[0m\u001b[0;34m\u001b[0m\u001b[0m\n\u001b[0m\u001b[1;32m    142\u001b[0m \u001b[0;34m\u001b[0m\u001b[0m\n\u001b[1;32m    143\u001b[0m     \u001b[0;32mdef\u001b[0m \u001b[0m_get_loc\u001b[0m\u001b[0;34m(\u001b[0m\u001b[0mself\u001b[0m\u001b[0;34m,\u001b[0m \u001b[0mkey\u001b[0m\u001b[0;34m,\u001b[0m \u001b[0maxis\u001b[0m\u001b[0;34m=\u001b[0m\u001b[0;32mNone\u001b[0m\u001b[0;34m)\u001b[0m\u001b[0;34m:\u001b[0m\u001b[0;34m\u001b[0m\u001b[0;34m\u001b[0m\u001b[0m\n",
      "\u001b[0;32m~/anaconda2/envs/ds-env/lib/python3.7/site-packages/pandas/core/generic.py\u001b[0m in \u001b[0;36mxs\u001b[0;34m(self, key, axis, level, drop_level)\u001b[0m\n\u001b[1;32m   3583\u001b[0m                                                       drop_level=drop_level)\n\u001b[1;32m   3584\u001b[0m         \u001b[0;32melse\u001b[0m\u001b[0;34m:\u001b[0m\u001b[0;34m\u001b[0m\u001b[0;34m\u001b[0m\u001b[0m\n\u001b[0;32m-> 3585\u001b[0;31m             \u001b[0mloc\u001b[0m \u001b[0;34m=\u001b[0m \u001b[0mself\u001b[0m\u001b[0;34m.\u001b[0m\u001b[0mindex\u001b[0m\u001b[0;34m.\u001b[0m\u001b[0mget_loc\u001b[0m\u001b[0;34m(\u001b[0m\u001b[0mkey\u001b[0m\u001b[0;34m)\u001b[0m\u001b[0;34m\u001b[0m\u001b[0;34m\u001b[0m\u001b[0m\n\u001b[0m\u001b[1;32m   3586\u001b[0m \u001b[0;34m\u001b[0m\u001b[0m\n\u001b[1;32m   3587\u001b[0m             \u001b[0;32mif\u001b[0m \u001b[0misinstance\u001b[0m\u001b[0;34m(\u001b[0m\u001b[0mloc\u001b[0m\u001b[0;34m,\u001b[0m \u001b[0mnp\u001b[0m\u001b[0;34m.\u001b[0m\u001b[0mndarray\u001b[0m\u001b[0;34m)\u001b[0m\u001b[0;34m:\u001b[0m\u001b[0;34m\u001b[0m\u001b[0;34m\u001b[0m\u001b[0m\n",
      "\u001b[0;32m~/anaconda2/envs/ds-env/lib/python3.7/site-packages/pandas/core/indexes/base.py\u001b[0m in \u001b[0;36mget_loc\u001b[0;34m(self, key, method, tolerance)\u001b[0m\n\u001b[1;32m   2657\u001b[0m                 \u001b[0;32mreturn\u001b[0m \u001b[0mself\u001b[0m\u001b[0;34m.\u001b[0m\u001b[0m_engine\u001b[0m\u001b[0;34m.\u001b[0m\u001b[0mget_loc\u001b[0m\u001b[0;34m(\u001b[0m\u001b[0mkey\u001b[0m\u001b[0;34m)\u001b[0m\u001b[0;34m\u001b[0m\u001b[0;34m\u001b[0m\u001b[0m\n\u001b[1;32m   2658\u001b[0m             \u001b[0;32mexcept\u001b[0m \u001b[0mKeyError\u001b[0m\u001b[0;34m:\u001b[0m\u001b[0;34m\u001b[0m\u001b[0;34m\u001b[0m\u001b[0m\n\u001b[0;32m-> 2659\u001b[0;31m                 \u001b[0;32mreturn\u001b[0m \u001b[0mself\u001b[0m\u001b[0;34m.\u001b[0m\u001b[0m_engine\u001b[0m\u001b[0;34m.\u001b[0m\u001b[0mget_loc\u001b[0m\u001b[0;34m(\u001b[0m\u001b[0mself\u001b[0m\u001b[0;34m.\u001b[0m\u001b[0m_maybe_cast_indexer\u001b[0m\u001b[0;34m(\u001b[0m\u001b[0mkey\u001b[0m\u001b[0;34m)\u001b[0m\u001b[0;34m)\u001b[0m\u001b[0;34m\u001b[0m\u001b[0;34m\u001b[0m\u001b[0m\n\u001b[0m\u001b[1;32m   2660\u001b[0m         \u001b[0mindexer\u001b[0m \u001b[0;34m=\u001b[0m \u001b[0mself\u001b[0m\u001b[0;34m.\u001b[0m\u001b[0mget_indexer\u001b[0m\u001b[0;34m(\u001b[0m\u001b[0;34m[\u001b[0m\u001b[0mkey\u001b[0m\u001b[0;34m]\u001b[0m\u001b[0;34m,\u001b[0m \u001b[0mmethod\u001b[0m\u001b[0;34m=\u001b[0m\u001b[0mmethod\u001b[0m\u001b[0;34m,\u001b[0m \u001b[0mtolerance\u001b[0m\u001b[0;34m=\u001b[0m\u001b[0mtolerance\u001b[0m\u001b[0;34m)\u001b[0m\u001b[0;34m\u001b[0m\u001b[0;34m\u001b[0m\u001b[0m\n\u001b[1;32m   2661\u001b[0m         \u001b[0;32mif\u001b[0m \u001b[0mindexer\u001b[0m\u001b[0;34m.\u001b[0m\u001b[0mndim\u001b[0m \u001b[0;34m>\u001b[0m \u001b[0;36m1\u001b[0m \u001b[0;32mor\u001b[0m \u001b[0mindexer\u001b[0m\u001b[0;34m.\u001b[0m\u001b[0msize\u001b[0m \u001b[0;34m>\u001b[0m \u001b[0;36m1\u001b[0m\u001b[0;34m:\u001b[0m\u001b[0;34m\u001b[0m\u001b[0;34m\u001b[0m\u001b[0m\n",
      "\u001b[0;32mpandas/_libs/index.pyx\u001b[0m in \u001b[0;36mpandas._libs.index.IndexEngine.get_loc\u001b[0;34m()\u001b[0m\n",
      "\u001b[0;32mpandas/_libs/index.pyx\u001b[0m in \u001b[0;36mpandas._libs.index.IndexEngine.get_loc\u001b[0;34m()\u001b[0m\n",
      "\u001b[0;32mpandas/_libs/hashtable_class_helper.pxi\u001b[0m in \u001b[0;36mpandas._libs.hashtable.Int64HashTable.get_item\u001b[0;34m()\u001b[0m\n",
      "\u001b[0;32mpandas/_libs/hashtable_class_helper.pxi\u001b[0m in \u001b[0;36mpandas._libs.hashtable.Int64HashTable.get_item\u001b[0;34m()\u001b[0m\n",
      "\u001b[0;31mKeyError\u001b[0m: 3439"
     ]
    }
   ],
   "source": [
    "display_single_tf_idf_cluster(left_child_athletes, map_index_to_word)"
   ]
  },
  {
   "cell_type": "code",
   "execution_count": 171,
   "metadata": {},
   "outputs": [
    {
     "name": "stdout",
     "output_type": "stream",
     "text": [
      "championships:0.045\n",
      "tour:0.043\n",
      "championship:0.035\n",
      "world:0.031\n",
      "won:0.031\n",
      "\n"
     ]
    },
    {
     "ename": "KeyError",
     "evalue": "1863",
     "output_type": "error",
     "traceback": [
      "\u001b[0;31m---------------------------------------------------------------------------\u001b[0m",
      "\u001b[0;31mKeyError\u001b[0m                                  Traceback (most recent call last)",
      "\u001b[0;32m~/anaconda2/envs/ds-env/lib/python3.7/site-packages/pandas/core/indexes/base.py\u001b[0m in \u001b[0;36mget_loc\u001b[0;34m(self, key, method, tolerance)\u001b[0m\n\u001b[1;32m   2656\u001b[0m             \u001b[0;32mtry\u001b[0m\u001b[0;34m:\u001b[0m\u001b[0;34m\u001b[0m\u001b[0;34m\u001b[0m\u001b[0m\n\u001b[0;32m-> 2657\u001b[0;31m                 \u001b[0;32mreturn\u001b[0m \u001b[0mself\u001b[0m\u001b[0;34m.\u001b[0m\u001b[0m_engine\u001b[0m\u001b[0;34m.\u001b[0m\u001b[0mget_loc\u001b[0m\u001b[0;34m(\u001b[0m\u001b[0mkey\u001b[0m\u001b[0;34m)\u001b[0m\u001b[0;34m\u001b[0m\u001b[0;34m\u001b[0m\u001b[0m\n\u001b[0m\u001b[1;32m   2658\u001b[0m             \u001b[0;32mexcept\u001b[0m \u001b[0mKeyError\u001b[0m\u001b[0;34m:\u001b[0m\u001b[0;34m\u001b[0m\u001b[0;34m\u001b[0m\u001b[0m\n",
      "\u001b[0;32mpandas/_libs/index.pyx\u001b[0m in \u001b[0;36mpandas._libs.index.IndexEngine.get_loc\u001b[0;34m()\u001b[0m\n",
      "\u001b[0;32mpandas/_libs/index.pyx\u001b[0m in \u001b[0;36mpandas._libs.index.IndexEngine.get_loc\u001b[0;34m()\u001b[0m\n",
      "\u001b[0;32mpandas/_libs/hashtable_class_helper.pxi\u001b[0m in \u001b[0;36mpandas._libs.hashtable.Int64HashTable.get_item\u001b[0;34m()\u001b[0m\n",
      "\u001b[0;32mpandas/_libs/hashtable_class_helper.pxi\u001b[0m in \u001b[0;36mpandas._libs.hashtable.Int64HashTable.get_item\u001b[0;34m()\u001b[0m\n",
      "\u001b[0;31mKeyError\u001b[0m: 1863",
      "\nDuring handling of the above exception, another exception occurred:\n",
      "\u001b[0;31mKeyError\u001b[0m                                  Traceback (most recent call last)",
      "\u001b[0;32m<ipython-input-171-4a4e5a374848>\u001b[0m in \u001b[0;36m<module>\u001b[0;34m\u001b[0m\n\u001b[0;32m----> 1\u001b[0;31m \u001b[0mdisplay_single_tf_idf_cluster\u001b[0m\u001b[0;34m(\u001b[0m\u001b[0mright_child_athletes\u001b[0m\u001b[0;34m,\u001b[0m \u001b[0mmap_index_to_word\u001b[0m\u001b[0;34m)\u001b[0m\u001b[0;34m\u001b[0m\u001b[0;34m\u001b[0m\u001b[0m\n\u001b[0m",
      "\u001b[0;32m<ipython-input-169-595b1dfb206c>\u001b[0m in \u001b[0;36mdisplay_single_tf_idf_cluster\u001b[0;34m(cluster, map_index_to_word)\u001b[0m\n\u001b[1;32m     24\u001b[0m     \u001b[0;31m# Wrap the text at 80-character mark\u001b[0m\u001b[0;34m\u001b[0m\u001b[0;34m\u001b[0m\u001b[0;34m\u001b[0m\u001b[0m\n\u001b[1;32m     25\u001b[0m     \u001b[0;32mfor\u001b[0m \u001b[0mi\u001b[0m \u001b[0;32min\u001b[0m \u001b[0mrange\u001b[0m\u001b[0;34m(\u001b[0m\u001b[0;36m8\u001b[0m\u001b[0;34m)\u001b[0m\u001b[0;34m:\u001b[0m\u001b[0;34m\u001b[0m\u001b[0;34m\u001b[0m\u001b[0m\n\u001b[0;32m---> 26\u001b[0;31m         \u001b[0mtext\u001b[0m \u001b[0;34m=\u001b[0m \u001b[0;34m' '\u001b[0m\u001b[0;34m.\u001b[0m\u001b[0mjoin\u001b[0m\u001b[0;34m(\u001b[0m\u001b[0mwiki_subset\u001b[0m\u001b[0;34m.\u001b[0m\u001b[0mloc\u001b[0m\u001b[0;34m[\u001b[0m\u001b[0mnearest_neighbors\u001b[0m\u001b[0;34m[\u001b[0m\u001b[0mi\u001b[0m\u001b[0;34m]\u001b[0m\u001b[0;34m]\u001b[0m\u001b[0;34m[\u001b[0m\u001b[0;34m'text'\u001b[0m\u001b[0;34m]\u001b[0m\u001b[0;34m.\u001b[0m\u001b[0msplit\u001b[0m\u001b[0;34m(\u001b[0m\u001b[0;32mNone\u001b[0m\u001b[0;34m,\u001b[0m \u001b[0;36m25\u001b[0m\u001b[0;34m)\u001b[0m\u001b[0;34m[\u001b[0m\u001b[0;36m0\u001b[0m\u001b[0;34m:\u001b[0m\u001b[0;36m25\u001b[0m\u001b[0;34m]\u001b[0m\u001b[0;34m)\u001b[0m\u001b[0;34m\u001b[0m\u001b[0;34m\u001b[0m\u001b[0m\n\u001b[0m\u001b[1;32m     27\u001b[0m         print ('* {0:50s} {1:.5f}\\n {2:s}\\n {3:s}'.format(\n\u001b[1;32m     28\u001b[0m             \u001b[0mwiki_subset\u001b[0m\u001b[0;34m.\u001b[0m\u001b[0mloc\u001b[0m\u001b[0;34m[\u001b[0m\u001b[0mnearest_neighbors\u001b[0m\u001b[0;34m[\u001b[0m\u001b[0mi\u001b[0m\u001b[0;34m]\u001b[0m\u001b[0;34m]\u001b[0m\u001b[0;34m[\u001b[0m\u001b[0;34m'name'\u001b[0m\u001b[0;34m]\u001b[0m\u001b[0;34m,\u001b[0m\u001b[0;34m\u001b[0m\u001b[0;34m\u001b[0m\u001b[0m\n",
      "\u001b[0;32m~/anaconda2/envs/ds-env/lib/python3.7/site-packages/pandas/core/indexing.py\u001b[0m in \u001b[0;36m__getitem__\u001b[0;34m(self, key)\u001b[0m\n\u001b[1;32m   1498\u001b[0m \u001b[0;34m\u001b[0m\u001b[0m\n\u001b[1;32m   1499\u001b[0m             \u001b[0mmaybe_callable\u001b[0m \u001b[0;34m=\u001b[0m \u001b[0mcom\u001b[0m\u001b[0;34m.\u001b[0m\u001b[0mapply_if_callable\u001b[0m\u001b[0;34m(\u001b[0m\u001b[0mkey\u001b[0m\u001b[0;34m,\u001b[0m \u001b[0mself\u001b[0m\u001b[0;34m.\u001b[0m\u001b[0mobj\u001b[0m\u001b[0;34m)\u001b[0m\u001b[0;34m\u001b[0m\u001b[0;34m\u001b[0m\u001b[0m\n\u001b[0;32m-> 1500\u001b[0;31m             \u001b[0;32mreturn\u001b[0m \u001b[0mself\u001b[0m\u001b[0;34m.\u001b[0m\u001b[0m_getitem_axis\u001b[0m\u001b[0;34m(\u001b[0m\u001b[0mmaybe_callable\u001b[0m\u001b[0;34m,\u001b[0m \u001b[0maxis\u001b[0m\u001b[0;34m=\u001b[0m\u001b[0maxis\u001b[0m\u001b[0;34m)\u001b[0m\u001b[0;34m\u001b[0m\u001b[0;34m\u001b[0m\u001b[0m\n\u001b[0m\u001b[1;32m   1501\u001b[0m \u001b[0;34m\u001b[0m\u001b[0m\n\u001b[1;32m   1502\u001b[0m     \u001b[0;32mdef\u001b[0m \u001b[0m_is_scalar_access\u001b[0m\u001b[0;34m(\u001b[0m\u001b[0mself\u001b[0m\u001b[0;34m,\u001b[0m \u001b[0mkey\u001b[0m\u001b[0;34m)\u001b[0m\u001b[0;34m:\u001b[0m\u001b[0;34m\u001b[0m\u001b[0;34m\u001b[0m\u001b[0m\n",
      "\u001b[0;32m~/anaconda2/envs/ds-env/lib/python3.7/site-packages/pandas/core/indexing.py\u001b[0m in \u001b[0;36m_getitem_axis\u001b[0;34m(self, key, axis)\u001b[0m\n\u001b[1;32m   1911\u001b[0m         \u001b[0;31m# fall thru to straight lookup\u001b[0m\u001b[0;34m\u001b[0m\u001b[0;34m\u001b[0m\u001b[0;34m\u001b[0m\u001b[0m\n\u001b[1;32m   1912\u001b[0m         \u001b[0mself\u001b[0m\u001b[0;34m.\u001b[0m\u001b[0m_validate_key\u001b[0m\u001b[0;34m(\u001b[0m\u001b[0mkey\u001b[0m\u001b[0;34m,\u001b[0m \u001b[0maxis\u001b[0m\u001b[0;34m)\u001b[0m\u001b[0;34m\u001b[0m\u001b[0;34m\u001b[0m\u001b[0m\n\u001b[0;32m-> 1913\u001b[0;31m         \u001b[0;32mreturn\u001b[0m \u001b[0mself\u001b[0m\u001b[0;34m.\u001b[0m\u001b[0m_get_label\u001b[0m\u001b[0;34m(\u001b[0m\u001b[0mkey\u001b[0m\u001b[0;34m,\u001b[0m \u001b[0maxis\u001b[0m\u001b[0;34m=\u001b[0m\u001b[0maxis\u001b[0m\u001b[0;34m)\u001b[0m\u001b[0;34m\u001b[0m\u001b[0;34m\u001b[0m\u001b[0m\n\u001b[0m\u001b[1;32m   1914\u001b[0m \u001b[0;34m\u001b[0m\u001b[0m\n\u001b[1;32m   1915\u001b[0m \u001b[0;34m\u001b[0m\u001b[0m\n",
      "\u001b[0;32m~/anaconda2/envs/ds-env/lib/python3.7/site-packages/pandas/core/indexing.py\u001b[0m in \u001b[0;36m_get_label\u001b[0;34m(self, label, axis)\u001b[0m\n\u001b[1;32m    139\u001b[0m             \u001b[0;32mraise\u001b[0m \u001b[0mIndexingError\u001b[0m\u001b[0;34m(\u001b[0m\u001b[0;34m'no slices here, handle elsewhere'\u001b[0m\u001b[0;34m)\u001b[0m\u001b[0;34m\u001b[0m\u001b[0;34m\u001b[0m\u001b[0m\n\u001b[1;32m    140\u001b[0m \u001b[0;34m\u001b[0m\u001b[0m\n\u001b[0;32m--> 141\u001b[0;31m         \u001b[0;32mreturn\u001b[0m \u001b[0mself\u001b[0m\u001b[0;34m.\u001b[0m\u001b[0mobj\u001b[0m\u001b[0;34m.\u001b[0m\u001b[0m_xs\u001b[0m\u001b[0;34m(\u001b[0m\u001b[0mlabel\u001b[0m\u001b[0;34m,\u001b[0m \u001b[0maxis\u001b[0m\u001b[0;34m=\u001b[0m\u001b[0maxis\u001b[0m\u001b[0;34m)\u001b[0m\u001b[0;34m\u001b[0m\u001b[0;34m\u001b[0m\u001b[0m\n\u001b[0m\u001b[1;32m    142\u001b[0m \u001b[0;34m\u001b[0m\u001b[0m\n\u001b[1;32m    143\u001b[0m     \u001b[0;32mdef\u001b[0m \u001b[0m_get_loc\u001b[0m\u001b[0;34m(\u001b[0m\u001b[0mself\u001b[0m\u001b[0;34m,\u001b[0m \u001b[0mkey\u001b[0m\u001b[0;34m,\u001b[0m \u001b[0maxis\u001b[0m\u001b[0;34m=\u001b[0m\u001b[0;32mNone\u001b[0m\u001b[0;34m)\u001b[0m\u001b[0;34m:\u001b[0m\u001b[0;34m\u001b[0m\u001b[0;34m\u001b[0m\u001b[0m\n",
      "\u001b[0;32m~/anaconda2/envs/ds-env/lib/python3.7/site-packages/pandas/core/generic.py\u001b[0m in \u001b[0;36mxs\u001b[0;34m(self, key, axis, level, drop_level)\u001b[0m\n\u001b[1;32m   3583\u001b[0m                                                       drop_level=drop_level)\n\u001b[1;32m   3584\u001b[0m         \u001b[0;32melse\u001b[0m\u001b[0;34m:\u001b[0m\u001b[0;34m\u001b[0m\u001b[0;34m\u001b[0m\u001b[0m\n\u001b[0;32m-> 3585\u001b[0;31m             \u001b[0mloc\u001b[0m \u001b[0;34m=\u001b[0m \u001b[0mself\u001b[0m\u001b[0;34m.\u001b[0m\u001b[0mindex\u001b[0m\u001b[0;34m.\u001b[0m\u001b[0mget_loc\u001b[0m\u001b[0;34m(\u001b[0m\u001b[0mkey\u001b[0m\u001b[0;34m)\u001b[0m\u001b[0;34m\u001b[0m\u001b[0;34m\u001b[0m\u001b[0m\n\u001b[0m\u001b[1;32m   3586\u001b[0m \u001b[0;34m\u001b[0m\u001b[0m\n\u001b[1;32m   3587\u001b[0m             \u001b[0;32mif\u001b[0m \u001b[0misinstance\u001b[0m\u001b[0;34m(\u001b[0m\u001b[0mloc\u001b[0m\u001b[0;34m,\u001b[0m \u001b[0mnp\u001b[0m\u001b[0;34m.\u001b[0m\u001b[0mndarray\u001b[0m\u001b[0;34m)\u001b[0m\u001b[0;34m:\u001b[0m\u001b[0;34m\u001b[0m\u001b[0;34m\u001b[0m\u001b[0m\n",
      "\u001b[0;32m~/anaconda2/envs/ds-env/lib/python3.7/site-packages/pandas/core/indexes/base.py\u001b[0m in \u001b[0;36mget_loc\u001b[0;34m(self, key, method, tolerance)\u001b[0m\n\u001b[1;32m   2657\u001b[0m                 \u001b[0;32mreturn\u001b[0m \u001b[0mself\u001b[0m\u001b[0;34m.\u001b[0m\u001b[0m_engine\u001b[0m\u001b[0;34m.\u001b[0m\u001b[0mget_loc\u001b[0m\u001b[0;34m(\u001b[0m\u001b[0mkey\u001b[0m\u001b[0;34m)\u001b[0m\u001b[0;34m\u001b[0m\u001b[0;34m\u001b[0m\u001b[0m\n\u001b[1;32m   2658\u001b[0m             \u001b[0;32mexcept\u001b[0m \u001b[0mKeyError\u001b[0m\u001b[0;34m:\u001b[0m\u001b[0;34m\u001b[0m\u001b[0;34m\u001b[0m\u001b[0m\n\u001b[0;32m-> 2659\u001b[0;31m                 \u001b[0;32mreturn\u001b[0m \u001b[0mself\u001b[0m\u001b[0;34m.\u001b[0m\u001b[0m_engine\u001b[0m\u001b[0;34m.\u001b[0m\u001b[0mget_loc\u001b[0m\u001b[0;34m(\u001b[0m\u001b[0mself\u001b[0m\u001b[0;34m.\u001b[0m\u001b[0m_maybe_cast_indexer\u001b[0m\u001b[0;34m(\u001b[0m\u001b[0mkey\u001b[0m\u001b[0;34m)\u001b[0m\u001b[0;34m)\u001b[0m\u001b[0;34m\u001b[0m\u001b[0;34m\u001b[0m\u001b[0m\n\u001b[0m\u001b[1;32m   2660\u001b[0m         \u001b[0mindexer\u001b[0m \u001b[0;34m=\u001b[0m \u001b[0mself\u001b[0m\u001b[0;34m.\u001b[0m\u001b[0mget_indexer\u001b[0m\u001b[0;34m(\u001b[0m\u001b[0;34m[\u001b[0m\u001b[0mkey\u001b[0m\u001b[0;34m]\u001b[0m\u001b[0;34m,\u001b[0m \u001b[0mmethod\u001b[0m\u001b[0;34m=\u001b[0m\u001b[0mmethod\u001b[0m\u001b[0;34m,\u001b[0m \u001b[0mtolerance\u001b[0m\u001b[0;34m=\u001b[0m\u001b[0mtolerance\u001b[0m\u001b[0;34m)\u001b[0m\u001b[0;34m\u001b[0m\u001b[0;34m\u001b[0m\u001b[0m\n\u001b[1;32m   2661\u001b[0m         \u001b[0;32mif\u001b[0m \u001b[0mindexer\u001b[0m\u001b[0;34m.\u001b[0m\u001b[0mndim\u001b[0m \u001b[0;34m>\u001b[0m \u001b[0;36m1\u001b[0m \u001b[0;32mor\u001b[0m \u001b[0mindexer\u001b[0m\u001b[0;34m.\u001b[0m\u001b[0msize\u001b[0m \u001b[0;34m>\u001b[0m \u001b[0;36m1\u001b[0m\u001b[0;34m:\u001b[0m\u001b[0;34m\u001b[0m\u001b[0;34m\u001b[0m\u001b[0m\n",
      "\u001b[0;32mpandas/_libs/index.pyx\u001b[0m in \u001b[0;36mpandas._libs.index.IndexEngine.get_loc\u001b[0;34m()\u001b[0m\n",
      "\u001b[0;32mpandas/_libs/index.pyx\u001b[0m in \u001b[0;36mpandas._libs.index.IndexEngine.get_loc\u001b[0;34m()\u001b[0m\n",
      "\u001b[0;32mpandas/_libs/hashtable_class_helper.pxi\u001b[0m in \u001b[0;36mpandas._libs.hashtable.Int64HashTable.get_item\u001b[0;34m()\u001b[0m\n",
      "\u001b[0;32mpandas/_libs/hashtable_class_helper.pxi\u001b[0m in \u001b[0;36mpandas._libs.hashtable.Int64HashTable.get_item\u001b[0;34m()\u001b[0m\n",
      "\u001b[0;31mKeyError\u001b[0m: 1863"
     ]
    }
   ],
   "source": [
    "display_single_tf_idf_cluster(right_child_athletes, map_index_to_word)"
   ]
  },
  {
   "cell_type": "code",
   "execution_count": null,
   "metadata": {},
   "outputs": [],
   "source": []
  }
 ],
 "metadata": {
  "kernelspec": {
   "display_name": "Python [conda env:ds-env] *",
   "language": "python",
   "name": "conda-env-ds-env-py"
  },
  "language_info": {
   "codemirror_mode": {
    "name": "ipython",
    "version": 3
   },
   "file_extension": ".py",
   "mimetype": "text/x-python",
   "name": "python",
   "nbconvert_exporter": "python",
   "pygments_lexer": "ipython3",
   "version": "3.7.3"
  }
 },
 "nbformat": 4,
 "nbformat_minor": 2
}
